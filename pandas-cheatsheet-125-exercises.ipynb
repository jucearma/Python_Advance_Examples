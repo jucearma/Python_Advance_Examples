{
 "cells": [
  {
   "cell_type": "code",
   "execution_count": 1,
   "metadata": {
    "_cell_guid": "b1076dfc-b9ad-4769-8c92-a6c4dae69d19",
    "_uuid": "8f2839f25d086af736a60e9eeb907d3b93b6e0e5",
    "execution": {
     "iopub.execute_input": "2020-10-25T04:52:36.246679Z",
     "iopub.status.busy": "2020-10-25T04:52:36.245673Z",
     "iopub.status.idle": "2020-10-25T04:52:36.279002Z",
     "shell.execute_reply": "2020-10-25T04:52:36.279733Z"
    },
    "papermill": {
     "duration": 0.228918,
     "end_time": "2020-10-25T04:52:36.279931",
     "exception": false,
     "start_time": "2020-10-25T04:52:36.051013",
     "status": "completed"
    },
    "tags": []
   },
   "outputs": [
    {
     "name": "stdout",
     "output_type": "stream",
     "text": [
      "/kaggle/input/rj-sample-datasets/sample.db\n",
      "/kaggle/input/rj-sample-datasets/sample-transaction.csv\n",
      "/kaggle/input/rj-sample-datasets/transaction-1.csv\n",
      "/kaggle/input/rj-sample-datasets/Students Score - Sheet1.csv\n",
      "/kaggle/input/rj-sample-datasets/transaction-2.csv\n",
      "/kaggle/input/datasets-for-pandas/uk-500.csv\n",
      "/kaggle/input/datasets-for-pandas/abc.csv\n",
      "/kaggle/input/datasets-for-pandas/abc2.csv\n",
      "/kaggle/input/datasets-for-pandas/data1.csv\n",
      "/kaggle/input/datasets-for-pandas/score.csv\n",
      "/kaggle/input/60k-stack-overflow-questions-with-quality-rate/train.csv\n",
      "/kaggle/input/60k-stack-overflow-questions-with-quality-rate/valid.csv\n"
     ]
    }
   ],
   "source": [
    "# This Python 3 environment comes with many helpful analytics libraries installed\n",
    "# It is defined by the kaggle/python Docker image: https://github.com/kaggle/docker-python\n",
    "# For example, here's several helpful packages to load\n",
    "\n",
    "import numpy as np # linear algebra\n",
    "import pandas as pd # data processing, CSV file I/O (e.g. pd.read_csv)\n",
    "\n",
    "# Input data files are available in the read-only \"../input/\" directory\n",
    "# For example, running this (by clicking run or pressing Shift+Enter) will list all files under the input directory\n",
    "\n",
    "import os\n",
    "for dirname, _, filenames in os.walk('/kaggle/input'):\n",
    "    for filename in filenames:\n",
    "        print(os.path.join(dirname, filename))\n",
    "\n",
    "# You can write up to 5GB to the current directory (/kaggle/working/) that gets preserved as output when you create a version using \"Save & Run All\" \n",
    "# You can also write temporary files to /kaggle/temp/, but they won't be saved outside of the current session"
   ]
  },
  {
   "cell_type": "code",
   "execution_count": 2,
   "metadata": {
    "execution": {
     "iopub.execute_input": "2020-10-25T04:52:36.659242Z",
     "iopub.status.busy": "2020-10-25T04:52:36.658432Z",
     "iopub.status.idle": "2020-10-25T04:52:36.662099Z",
     "shell.execute_reply": "2020-10-25T04:52:36.661396Z"
    },
    "papermill": {
     "duration": 0.198421,
     "end_time": "2020-10-25T04:52:36.662231",
     "exception": false,
     "start_time": "2020-10-25T04:52:36.463810",
     "status": "completed"
    },
    "tags": []
   },
   "outputs": [],
   "source": [
    "import pandas\n",
    "import pandas as pd\n",
    "import numpy\n",
    "import numpy as np\n",
    "import random as rn\n",
    "import functools\n",
    "import re\n",
    "\n",
    "import warnings\n",
    "warnings.filterwarnings('ignore')"
   ]
  },
  {
   "cell_type": "markdown",
   "metadata": {
    "_cell_guid": "79c7e3d0-c299-4dcb-8224-4455121ee9b0",
    "_uuid": "d629ff2d2480ee46fbb7e2d37f6b5fab8052498a",
    "collapsed": true,
    "papermill": {
     "duration": 0.186843,
     "end_time": "2020-10-25T04:52:37.039507",
     "exception": false,
     "start_time": "2020-10-25T04:52:36.852664",
     "status": "completed"
    },
    "tags": []
   },
   "source": [
    "\n",
    "<a id=\"top\"></a>\n",
    "\n",
    "<div class=\"list-group\" id=\"list-tab\" role=\"tablist\">\n",
    "\n",
    "<font color=\"teal\" size=+1><b>Content List</b></font>\n",
    "    \n",
    "* [1. Check Pandas Version](#1)\n",
    "* [2. Create Numpy Array: Create three columns with Zero values](#2)\n",
    "* [3. iLoc in Pandas : Print first five rows](#3)\n",
    "* [4. Create Random integer between 2 to 10 with 4 items](#4)\n",
    "* [5. Create Random integer between 0 to 100](#5)\n",
    "* [6. Create Random integer between 2 to 10 with 4 columns](#6)\n",
    "* [7. 2D array with random between 0 and 5](#7)\n",
    "* [8. Create Random integer between 0 to 100 with 10 itmes (2 rows, 5 columns)](#8)\n",
    "* [9. 3 rows, 2 columns in pandas](#9)\n",
    "* [10. Fill Random Science and Math Marks](#10)\n",
    "* [11. CSV to DatRaframe (from_csv)](#11)\n",
    "* [12. CSV to Dataframe (from_csv)](#12)\n",
    "* [13. First 4 rows and 2 columns of CSV](#13)\n",
    "* [14. Show even rows and first three columns](#14)\n",
    "* [15. New columns as sum of all](#15)\n",
    "* [16. Delete Rows of one column where the value is less than 50](#16)\n",
    "* [17. Delete with Query](#17)\n",
    "* [18. Skip single row](#18)\n",
    "* [19. Skip multiple rows](#19)\n",
    "* [20. Select Column by Index](#20)\n",
    "* [21. Skip rows](#21)\n",
    "* [22. String to Dataframe](#22)\n",
    "* [23. New columns as max of other columns](#23)\n",
    "* [24. New columns as max of other columns](#24)\n",
    "* [25. New columns as max of other columns](#25)\n",
    "* [26. Fill with average](#26)\n",
    "* [27. New columns as sum of all](#27)\n",
    "* [28. Unicode issue and fix](#28)\n",
    "* [29. Fill with average](#29)\n",
    "* [30. Last 4 rows](#30)\n",
    "* [31. Expanding Apply](#31)\n",
    "* [32. Get 3 and 4th row](#32)\n",
    "* [33. Last 4th to 1st](#33)\n",
    "* [34. iloc position slice](#34)\n",
    "* [35. Loc - iloc - ix - at - iat](#35)\n",
    "* [36. Random data](#36)\n",
    "* [37. Filter with the value comparison](#37)\n",
    "* [38. Filter between 5 and 10 on col 1](#38)\n",
    "* [39. Filter between 15 to 20](#39)\n",
    "* [40. Filter between 15 to 33](#40)\n",
    "* [41. Custom method and xrnage on dataframe](#41)\n",
    "* [42. Set index with date column](#42)\n",
    "* [43. Change columns based on other columns](#43)\n",
    "* [44. Change multiple columns based on one column values](#44)\n",
    "* [45. Pandas Mask](#45)\n",
    "* [46. Check high or low comparing the column against 5](#46)\n",
    "* [47. Student Marks (Pass or Fail)](#47)\n",
    "* [48. Get passed grades](#48)\n",
    "* [49. Students passed in Language and Math](#49)\n",
    "* [50. Students passed in Language and Science](#50)\n",
    "* [51. Loc with Label oriented slicing](#51)\n",
    "* [52. iloc with positional slicing](#52)\n",
    "* [53. Label between numbers](#53)\n",
    "* [54. Stars with names](#54)\n",
    "* [55. Row label selection Age is above 25 and movies above 25](#55)\n",
    "* [56. Stars in in certain ages](#56)\n",
    "* [57. Inverse opeartor !( above one.45 and below two.50 )](#57)\n",
    "* [58. Apply custom function](#58)\n",
    "* [59. Group by single column](#59)\n",
    "* [60. Creating new Columns using Applymap Sides & applymap](#60)\n",
    "* [61. Replacing some values with mean of the rest of a group](#61)\n",
    "* [62. Students passed in Language or Science (any one subject)](#62)\n",
    "* [63. possible errors: TypeError: 'Series' objects are mutable, thus they cannot be hashed](#63)\n",
    "* [64. argsort Select rows with data closest to certain value using argsort](#64)\n",
    "* [65. argsort with stars](#65)\n",
    "* [66. Argsort with actors - young stars (near by 17)](#66)\n",
    "* [67. Binary operators - Stars with - younger than 19 - very young](#67)\n",
    "* [68. Young, Higher Salary, and Higher Position](#68)\n",
    "* [69. Rename columns](#69)\n",
    "* [70. Add a new column](#70)\n",
    "* [71. Drop a column](#71)\n",
    "* [72. Drop multiple columns](#72)\n",
    "* [73. Drop first and last column](#73)\n",
    "* [74. Delete by pop function](#74)\n",
    "* [75. DataFrame.from_items](#75)\n",
    "* [76. Pandas to list](#76)\n",
    "* [77. Pandas rows to list](#77)\n",
    "* [78. Pandas rows to array](#78)\n",
    "* [79. Pandas rows to map](#79)\n",
    "* [80. Pandas rows to map](#80)\n",
    "* [81. Drop duplicates](#81)\n",
    "* [82. Selecting multiple columns](#82)\n",
    "* [83. Selecting multiple columns](#83)\n",
    "* [84. Row and Column Slicing](#84)\n",
    "* [85. Iterating rows](#85)\n",
    "* [86. Iterating tuples](#86)\n",
    "* [87. Iterating rows and columns](#87)\n",
    "* [88. List of Dictionary to Dataframe](#88)\n",
    "* [89. Is Null](#89)\n",
    "* [90. Sum of all nan](#90)\n",
    "* [91. Sum of all nan rowwise](#91)\n",
    "* [92. Sum of all nan as list](#92)\n",
    "* [93. Change the order of columns](#93)\n",
    "* [94. Drop multiple rows](#94)\n",
    "* [95. Drop multiple rows by row name](#95)\n",
    "* [96. Get group](#96)\n",
    "* [97. Get the the odd row](#97)\n",
    "* [98. Get the even columns](#98)\n",
    "* [99. Odd rows and even columns](#99)\n",
    "* [100. Drop duplicates](#100)\n",
    "* [101. Drop all duplicates](#101)\n",
    "* [102. Basic group by](#102)\n",
    "* [103. Missing Data: Make A'th 3rd coulmn Nan](#103)\n",
    "* [104. Reindex](#104)   \n",
    "* [105. Column reset Nan](#105)  \n",
    "* [105. XY](#105)  \n",
    "* [106. XY](#106)  \n",
    "* [107. Match with isin function](#107)  \n",
    "* [108. Finding specific items by using `isin` function](#108)  \n",
    "* [109. Exclude specific matching](#109)  \n",
    "* [110. Apply a custom function on multiple columns](#110)  \n",
    "* [111. iterrows as tuples](#111)  \n",
    "* [112. Dataframe with NaN](#112)  \n",
    "* [113. Simple Dataframe with NaN](#113)  \n",
    "* [114. Pandas and Date with Range](#114)  \n",
    "* [115. Pandas and Numpy Repeat](#115)  \n",
    "* [116. read_sql in Pandas](#116)  \n",
    "* [117. Get a single value by iat](#117)  \n",
    "* [118. Get last n elements](#118)  \n",
    "* [119. Add data one by one by using loc function](#119)  \n",
    "* [120. Convert country in Dataframe](#120)  \n",
    "* [121. Group by multiple columns](#121)  \n",
    "* [122. Compare two dataframes](#122)  \n",
    "* [123. Difference between datetime by only seconds or dates](#123)  \n",
    "* [124. Get dates and delta days in Dataframe](#124)  \n",
    "* [125. Get dates and delta days in Dataframe](#125)  \n",
    "* [126. Date addition with time delta](#126)  \n",
    "* [127. Converting Pandas innner list to numpy array without the word `list`](#127)  \n",
    "* [128. Append series to existing Dataframe](#128)  \n",
    "* [129. Cumulative sum with group by with multiple values](#129)  \n",
    "* [130. Clean URL in Pandas String (remove string after specific item)](#130)  \n",
    "* [131. Find any matching value](#131)      "
   ]
  },
  {
   "cell_type": "code",
   "execution_count": 3,
   "metadata": {
    "execution": {
     "iopub.execute_input": "2020-10-25T04:52:37.417980Z",
     "iopub.status.busy": "2020-10-25T04:52:37.416878Z",
     "iopub.status.idle": "2020-10-25T04:52:37.420082Z",
     "shell.execute_reply": "2020-10-25T04:52:37.419350Z"
    },
    "papermill": {
     "duration": 0.194631,
     "end_time": "2020-10-25T04:52:37.420211",
     "exception": false,
     "start_time": "2020-10-25T04:52:37.225580",
     "status": "completed"
    },
    "tags": []
   },
   "outputs": [],
   "source": [
    "# for i in range(105, 132):\n",
    "#     print(f'* [{i}. XY](#{i})  ')"
   ]
  },
  {
   "cell_type": "code",
   "execution_count": 4,
   "metadata": {
    "execution": {
     "iopub.execute_input": "2020-10-25T04:52:37.794613Z",
     "iopub.status.busy": "2020-10-25T04:52:37.793622Z",
     "iopub.status.idle": "2020-10-25T04:52:37.797176Z",
     "shell.execute_reply": "2020-10-25T04:52:37.796499Z"
    },
    "papermill": {
     "duration": 0.1926,
     "end_time": "2020-10-25T04:52:37.797305",
     "exception": false,
     "start_time": "2020-10-25T04:52:37.604705",
     "status": "completed"
    },
    "tags": []
   },
   "outputs": [],
   "source": [
    "import pandas\n",
    "import pandas as pd\n",
    "import numpy\n",
    "import numpy as np\n",
    "import random as rn\n",
    "import functools\n",
    "import re"
   ]
  },
  {
   "cell_type": "markdown",
   "metadata": {
    "papermill": {
     "duration": 0.183762,
     "end_time": "2020-10-25T04:52:38.171190",
     "exception": false,
     "start_time": "2020-10-25T04:52:37.987428",
     "status": "completed"
    },
    "tags": []
   },
   "source": [
    "\n",
    "\n"
   ]
  },
  {
   "cell_type": "markdown",
   "metadata": {
    "papermill": {
     "duration": 0.183554,
     "end_time": "2020-10-25T04:52:38.538622",
     "exception": false,
     "start_time": "2020-10-25T04:52:38.355068",
     "status": "completed"
    },
    "tags": []
   },
   "source": [
    "<div style=\"\">\n",
    "    <div style=\"float: left; width: 80%;\">\n",
    "        <a id=\"1\"></a>\n",
    "        <font><b>Task 1:</b></font>\n",
    "        <br><br>\n",
    "        Check Pandas Version\n",
    "    </div>\n",
    "    <div style=\"float: right;\">\n",
    "        <a href=\"#top\" class=\"btn btn-primary btn-sm\" role=\"button\" aria-pressed=\"true\" style=\"color:white\" data-toggle=\"popover\" title=\"go to Top\">Go to Top</a>\n",
    "    </div>\n",
    "    <br style=\"clear: left;\" />\n",
    "</div>"
   ]
  },
  {
   "cell_type": "code",
   "execution_count": 5,
   "metadata": {
    "execution": {
     "iopub.execute_input": "2020-10-25T04:52:39.000734Z",
     "iopub.status.busy": "2020-10-25T04:52:38.999650Z",
     "iopub.status.idle": "2020-10-25T04:52:39.005987Z",
     "shell.execute_reply": "2020-10-25T04:52:39.007546Z"
    },
    "papermill": {
     "duration": 0.253626,
     "end_time": "2020-10-25T04:52:39.007884",
     "exception": false,
     "start_time": "2020-10-25T04:52:38.754258",
     "status": "completed"
    },
    "tags": []
   },
   "outputs": [
    {
     "name": "stdout",
     "output_type": "stream",
     "text": [
      "Task 1:\n",
      "1.1.1\n"
     ]
    }
   ],
   "source": [
    "print('Task 1:')  \n",
    "print(pd.__version__)"
   ]
  },
  {
   "cell_type": "markdown",
   "metadata": {
    "papermill": {
     "duration": 0.190139,
     "end_time": "2020-10-25T04:52:39.384071",
     "exception": false,
     "start_time": "2020-10-25T04:52:39.193932",
     "status": "completed"
    },
    "tags": []
   },
   "source": [
    "<div style=\"\">\n",
    "    <div style=\"float: left; width: 80%;\">\n",
    "        <a id=\"2\"></a>\n",
    "        <font><b>Task 2:</b></font>\n",
    "        <br><br>\n",
    "        Create Numpy Array\n",
    "        <br>\n",
    "        Create three columns with Zero values\n",
    "    </div>\n",
    "    <div style=\"float: right;\">\n",
    "        <a href=\"#top\" class=\"btn btn-primary btn-sm\" role=\"button\" aria-pressed=\"true\" style=\"color:white\" data-toggle=\"popover\" title=\"go to Top\">Go to Top</a>\n",
    "    </div>\n",
    "    <br style=\"clear: left;\" />\n",
    "</div>"
   ]
  },
  {
   "cell_type": "code",
   "execution_count": 6,
   "metadata": {
    "execution": {
     "iopub.execute_input": "2020-10-25T04:52:39.779780Z",
     "iopub.status.busy": "2020-10-25T04:52:39.778964Z",
     "iopub.status.idle": "2020-10-25T04:52:39.783329Z",
     "shell.execute_reply": "2020-10-25T04:52:39.782436Z"
    },
    "papermill": {
     "duration": 0.216427,
     "end_time": "2020-10-25T04:52:39.783527",
     "exception": false,
     "start_time": "2020-10-25T04:52:39.567100",
     "status": "completed"
    },
    "tags": []
   },
   "outputs": [
    {
     "name": "stdout",
     "output_type": "stream",
     "text": [
      "Task 2:\n",
      "       Col1  Col2  Col3\n",
      "Row1      0   0.0   0.0\n",
      "Row2      0   0.0   0.0\n",
      "Row3      0   0.0   0.0\n",
      "Row4      0   0.0   0.0\n",
      "Row5      0   0.0   0.0\n",
      "Row6      0   0.0   0.0\n",
      "Row7      0   0.0   0.0\n",
      "Row8      0   0.0   0.0\n",
      "Row9      0   0.0   0.0\n",
      "Row10     0   0.0   0.0\n",
      "Row11     0   0.0   0.0\n",
      "Row12     0   0.0   0.0\n",
      "Row13     0   0.0   0.0\n",
      "Row14     0   0.0   0.0\n",
      "Row15     0   0.0   0.0\n",
      "Row16     0   0.0   0.0\n",
      "Row17     0   0.0   0.0\n",
      "Row18     0   0.0   0.0\n",
      "Row19     0   0.0   0.0\n",
      "Row20     0   0.0   0.0\n",
      "    Col1  Col2  Col3\n",
      "0      0   0.0   0.0\n",
      "1      0   0.0   0.0\n",
      "2      0   0.0   0.0\n",
      "3      0   0.0   0.0\n",
      "4      0   0.0   0.0\n",
      "5      0   0.0   0.0\n",
      "6      0   0.0   0.0\n",
      "7      0   0.0   0.0\n",
      "8      0   0.0   0.0\n",
      "9      0   0.0   0.0\n",
      "10     0   0.0   0.0\n",
      "11     0   0.0   0.0\n",
      "12     0   0.0   0.0\n",
      "13     0   0.0   0.0\n",
      "14     0   0.0   0.0\n",
      "15     0   0.0   0.0\n",
      "16     0   0.0   0.0\n",
      "17     0   0.0   0.0\n",
      "18     0   0.0   0.0\n",
      "19     0   0.0   0.0\n"
     ]
    }
   ],
   "source": [
    "print('Task 2:')\n",
    "dtype = [('Col1','int32'), ('Col2','float32'), ('Col3','float32')]\n",
    "values = numpy.zeros(20, dtype=dtype)\n",
    "index = ['Row'+str(i) for i in range(1, len(values)+1)]\n",
    "\n",
    "df = pandas.DataFrame(values, index=index)\n",
    "print(df)\n",
    "\n",
    "df = pandas.DataFrame(values)\n",
    "print(df)"
   ]
  },
  {
   "cell_type": "markdown",
   "metadata": {
    "papermill": {
     "duration": 0.192712,
     "end_time": "2020-10-25T04:52:40.162581",
     "exception": false,
     "start_time": "2020-10-25T04:52:39.969869",
     "status": "completed"
    },
    "tags": []
   },
   "source": [
    "<div style=\"\">\n",
    "    <div style=\"float: left; width: 80%;\">\n",
    "        <a id=\"3\"></a>\n",
    "        <font><b>Task 3:</b></font>\n",
    "        <br><br>\n",
    "        iLoc in Pandas\n",
    "        <br>\n",
    "        Print first five rows\n",
    "    </div>\n",
    "    <div style=\"float: right;\">\n",
    "        <a href=\"#top\" class=\"btn btn-primary btn-sm\" role=\"button\" aria-pressed=\"true\" style=\"color:white\" data-toggle=\"popover\" title=\"go to Top\">Go to Top</a>\n",
    "    </div>\n",
    "    <br style=\"clear: left;\" />\n",
    "</div>"
   ]
  },
  {
   "cell_type": "code",
   "execution_count": 7,
   "metadata": {
    "execution": {
     "iopub.execute_input": "2020-10-25T04:52:40.549298Z",
     "iopub.status.busy": "2020-10-25T04:52:40.548462Z",
     "iopub.status.idle": "2020-10-25T04:52:40.565053Z",
     "shell.execute_reply": "2020-10-25T04:52:40.563930Z"
    },
    "papermill": {
     "duration": 0.212853,
     "end_time": "2020-10-25T04:52:40.565240",
     "exception": false,
     "start_time": "2020-10-25T04:52:40.352387",
     "status": "completed"
    },
    "tags": []
   },
   "outputs": [
    {
     "name": "stdout",
     "output_type": "stream",
     "text": [
      "Task 3:\n",
      "                       0\n",
      "0  capacity,score,length\n",
      "1                1,10,30\n",
      "2                2,20,30\n",
      "3                3,30,40\n"
     ]
    }
   ],
   "source": [
    "print('Task 3:')\n",
    "df = pandas.read_csv('../input/datasets-for-pandas/data1.csv', sep=';', header=None)\n",
    "print(df.iloc[:4]) # 0 - 4 = 5 values"
   ]
  },
  {
   "cell_type": "markdown",
   "metadata": {
    "papermill": {
     "duration": 0.190099,
     "end_time": "2020-10-25T04:52:40.955097",
     "exception": false,
     "start_time": "2020-10-25T04:52:40.764998",
     "status": "completed"
    },
    "tags": []
   },
   "source": [
    "<div style=\"\">\n",
    "    <div style=\"float: left; width: 80%;\">\n",
    "        <a id=\"4\"></a>\n",
    "        <font><b>Task 4:</b></font>\n",
    "        <br><br>\n",
    "        Create Random integer between 2 to 10 with 4 items\n",
    "    </div>\n",
    "    <div style=\"float: right;\">\n",
    "        <a href=\"#top\" class=\"btn btn-primary btn-sm\" role=\"button\" aria-pressed=\"true\" style=\"color:white\" data-toggle=\"popover\" title=\"go to Top\">Go to Top</a>\n",
    "    </div>\n",
    "    <br style=\"clear: left;\" />\n",
    "</div> "
   ]
  },
  {
   "cell_type": "code",
   "execution_count": 8,
   "metadata": {
    "execution": {
     "iopub.execute_input": "2020-10-25T04:52:41.344908Z",
     "iopub.status.busy": "2020-10-25T04:52:41.343832Z",
     "iopub.status.idle": "2020-10-25T04:52:41.347906Z",
     "shell.execute_reply": "2020-10-25T04:52:41.348707Z"
    },
    "papermill": {
     "duration": 0.202112,
     "end_time": "2020-10-25T04:52:41.348871",
     "exception": false,
     "start_time": "2020-10-25T04:52:41.146759",
     "status": "completed"
    },
    "tags": []
   },
   "outputs": [
    {
     "name": "stdout",
     "output_type": "stream",
     "text": [
      "Task 4:\n",
      "[3 7 8 4]\n"
     ]
    }
   ],
   "source": [
    "print('Task 4:')\n",
    "values = np.random.randint(2, 10, size=4)\n",
    "print(values)"
   ]
  },
  {
   "cell_type": "markdown",
   "metadata": {
    "papermill": {
     "duration": 0.189903,
     "end_time": "2020-10-25T04:52:41.726624",
     "exception": false,
     "start_time": "2020-10-25T04:52:41.536721",
     "status": "completed"
    },
    "tags": []
   },
   "source": [
    "<div style=\"\">\n",
    "    <div style=\"float: left; width: 80%;\">\n",
    "        <a id=\"5\"></a>\n",
    "        <font><b>Task 5:</b></font>\n",
    "        <br><br>\n",
    "        Create Random integer between 0 to 100 \n",
    "    </div>\n",
    "    <div style=\"float: right;\">\n",
    "        <a href=\"#top\" class=\"btn btn-primary btn-sm\" role=\"button\" aria-pressed=\"true\" style=\"color:white\" data-toggle=\"popover\" title=\"go to Top\">Go to Top</a>\n",
    "    </div>\n",
    "    <br style=\"clear: left;\" />\n",
    "</div>\n"
   ]
  },
  {
   "cell_type": "code",
   "execution_count": 9,
   "metadata": {
    "execution": {
     "iopub.execute_input": "2020-10-25T04:52:42.120147Z",
     "iopub.status.busy": "2020-10-25T04:52:42.119284Z",
     "iopub.status.idle": "2020-10-25T04:52:42.124834Z",
     "shell.execute_reply": "2020-10-25T04:52:42.123795Z"
    },
    "papermill": {
     "duration": 0.209908,
     "end_time": "2020-10-25T04:52:42.124982",
     "exception": false,
     "start_time": "2020-10-25T04:52:41.915074",
     "status": "completed"
    },
    "tags": []
   },
   "outputs": [
    {
     "name": "stdout",
     "output_type": "stream",
     "text": [
      "Task 5:\n",
      "    x   y\n",
      "0  14  26\n",
      "1  76  65\n",
      "2  58  25\n"
     ]
    }
   ],
   "source": [
    "print('Task 5:')\n",
    "df = pd.DataFrame(np.random.randint(0, 100, size=(3, 2)), columns=list('xy'))\n",
    "print(df)"
   ]
  },
  {
   "cell_type": "markdown",
   "metadata": {
    "papermill": {
     "duration": 0.188335,
     "end_time": "2020-10-25T04:52:42.503215",
     "exception": false,
     "start_time": "2020-10-25T04:52:42.314880",
     "status": "completed"
    },
    "tags": []
   },
   "source": [
    "<div style=\"\">\n",
    "    <div style=\"float: left; width: 80%;\">\n",
    "        <a id=\"6\"></a>\n",
    "        <font><b>Task 6:</b></font>\n",
    "        <br><br>\n",
    "        Create Random integer between 2 to 10 with 4 columns\n",
    "    </div>\n",
    "    <div style=\"float: right;\">\n",
    "        <a href=\"#top\" class=\"btn btn-primary btn-sm\" role=\"button\" aria-pressed=\"true\" style=\"color:white\" data-toggle=\"popover\" title=\"go to Top\">Go to Top</a>\n",
    "    </div>\n",
    "    <br style=\"clear: left;\" />\n",
    "</div>"
   ]
  },
  {
   "cell_type": "code",
   "execution_count": 10,
   "metadata": {
    "execution": {
     "iopub.execute_input": "2020-10-25T04:52:42.899942Z",
     "iopub.status.busy": "2020-10-25T04:52:42.898965Z",
     "iopub.status.idle": "2020-10-25T04:52:42.903173Z",
     "shell.execute_reply": "2020-10-25T04:52:42.902393Z"
    },
    "papermill": {
     "duration": 0.198677,
     "end_time": "2020-10-25T04:52:42.903304",
     "exception": false,
     "start_time": "2020-10-25T04:52:42.704627",
     "status": "completed"
    },
    "tags": []
   },
   "outputs": [
    {
     "name": "stdout",
     "output_type": "stream",
     "text": [
      "Task 6:\n",
      "   A   B   C   D\n",
      "0  5  94  84  21\n",
      "1  3  15  10  97\n"
     ]
    }
   ],
   "source": [
    "print('Task 6:')\n",
    "df = pd.DataFrame(np.random.randint(0, 100, size=(2, 4)), columns=['A', 'B', 'C', 'D'])\n",
    "print(df)"
   ]
  },
  {
   "cell_type": "markdown",
   "metadata": {
    "papermill": {
     "duration": 0.186409,
     "end_time": "2020-10-25T04:52:43.280410",
     "exception": false,
     "start_time": "2020-10-25T04:52:43.094001",
     "status": "completed"
    },
    "tags": []
   },
   "source": [
    "<div style=\"\">\n",
    "    <div style=\"float: left; width: 80%;\">\n",
    "        <a id=\"7\"></a>\n",
    "        <font><b>Task 7:</b></font>\n",
    "        <br><br>\n",
    "        2D array with random between 0 and 5\n",
    "    </div>\n",
    "    <div style=\"float: right;\">\n",
    "        <a href=\"#top\" class=\"btn btn-primary btn-sm\" role=\"button\" aria-pressed=\"true\" style=\"color:white\" data-toggle=\"popover\" title=\"go to Top\">Go to Top</a>\n",
    "    </div>\n",
    "    <br style=\"clear: left;\" />\n",
    "</div>"
   ]
  },
  {
   "cell_type": "code",
   "execution_count": 11,
   "metadata": {
    "execution": {
     "iopub.execute_input": "2020-10-25T04:52:43.663353Z",
     "iopub.status.busy": "2020-10-25T04:52:43.662281Z",
     "iopub.status.idle": "2020-10-25T04:52:43.668190Z",
     "shell.execute_reply": "2020-10-25T04:52:43.667528Z"
    },
    "papermill": {
     "duration": 0.20243,
     "end_time": "2020-10-25T04:52:43.668366",
     "exception": false,
     "start_time": "2020-10-25T04:52:43.465936",
     "status": "completed"
    },
    "tags": []
   },
   "outputs": [
    {
     "name": "stdout",
     "output_type": "stream",
     "text": [
      "Task 7:\n",
      "[[2 0 3 1]\n",
      " [3 3 1 1]]\n",
      "<class 'numpy.ndarray'>\n"
     ]
    }
   ],
   "source": [
    "print('Task 7:')\n",
    "values = np.random.randint(5, size=(2, 4))\n",
    "print(values)\n",
    "print(type(values))"
   ]
  },
  {
   "cell_type": "markdown",
   "metadata": {
    "papermill": {
     "duration": 0.189929,
     "end_time": "2020-10-25T04:52:44.047668",
     "exception": false,
     "start_time": "2020-10-25T04:52:43.857739",
     "status": "completed"
    },
    "tags": []
   },
   "source": [
    "<div style=\"\">\n",
    "    <div style=\"float: left; width: 80%;\">\n",
    "        <a id=\"8\"></a>\n",
    "        <font><b>Task 8:</b></font>\n",
    "        <br><br>\n",
    "        Create Random integer between 0 to 100 with 10 itmes (2 rows, 5 columns)\n",
    "    </div>\n",
    "    <div style=\"float: right;\">\n",
    "        <a href=\"#top\" class=\"btn btn-primary btn-sm\" role=\"button\" aria-pressed=\"true\" style=\"color:white\" data-toggle=\"popover\" title=\"go to Top\">Go to Top</a>\n",
    "    </div>\n",
    "    <br style=\"clear: left;\" />\n",
    "</div>"
   ]
  },
  {
   "cell_type": "code",
   "execution_count": 12,
   "metadata": {
    "execution": {
     "iopub.execute_input": "2020-10-25T04:52:44.431298Z",
     "iopub.status.busy": "2020-10-25T04:52:44.430277Z",
     "iopub.status.idle": "2020-10-25T04:52:44.435362Z",
     "shell.execute_reply": "2020-10-25T04:52:44.433964Z"
    },
    "papermill": {
     "duration": 0.20076,
     "end_time": "2020-10-25T04:52:44.435562",
     "exception": false,
     "start_time": "2020-10-25T04:52:44.234802",
     "status": "completed"
    },
    "tags": []
   },
   "outputs": [
    {
     "name": "stdout",
     "output_type": "stream",
     "text": [
      "Task 8:\n",
      "   Toronto  Ottawa  Calgary  Montreal  Quebec\n",
      "0       23      84       12         8      73\n",
      "1       35       4       94        74      89\n",
      "2       14      62       57        97      72\n"
     ]
    }
   ],
   "source": [
    "print('Task 8:')\n",
    "df = pd.DataFrame(np.random.randint(0, 100, size=(3, 5)), columns=['Toronto', 'Ottawa', 'Calgary', 'Montreal', 'Quebec'])\n",
    "print(df)"
   ]
  },
  {
   "cell_type": "markdown",
   "metadata": {
    "papermill": {
     "duration": 0.209325,
     "end_time": "2020-10-25T04:52:44.833528",
     "exception": false,
     "start_time": "2020-10-25T04:52:44.624203",
     "status": "completed"
    },
    "tags": []
   },
   "source": [
    "<div style=\"\">\n",
    "    <div style=\"float: left; width: 80%;\">\n",
    "        <a id=\"9\"></a>\n",
    "        <font><b>Task 9:</b></font>\n",
    "        <br><br>\n",
    "        3 rows, 2 columns in pandas\n",
    "        <br>\n",
    "        1st column = random between 10 to 20\n",
    "        <br>\n",
    "        2nd column = random between 80 and 90\n",
    "        <br>\n",
    "        3rd column = random between 40 and 50 \n",
    "    </div>\n",
    "    <div style=\"float: right;\">\n",
    "        <a href=\"#top\" class=\"btn btn-primary btn-sm\" role=\"button\" aria-pressed=\"true\" style=\"color:white\" data-toggle=\"popover\" title=\"go to Top\">Go to Top</a>\n",
    "    </div>\n",
    "    <br style=\"clear: left;\" />\n",
    "</div>"
   ]
  },
  {
   "cell_type": "code",
   "execution_count": 13,
   "metadata": {
    "execution": {
     "iopub.execute_input": "2020-10-25T04:52:45.227935Z",
     "iopub.status.busy": "2020-10-25T04:52:45.226825Z",
     "iopub.status.idle": "2020-10-25T04:52:45.231435Z",
     "shell.execute_reply": "2020-10-25T04:52:45.232330Z"
    },
    "papermill": {
     "duration": 0.208017,
     "end_time": "2020-10-25T04:52:45.232562",
     "exception": false,
     "start_time": "2020-10-25T04:52:45.024545",
     "status": "completed"
    },
    "tags": []
   },
   "outputs": [
    {
     "name": "stdout",
     "output_type": "stream",
     "text": [
      "Task 9:\n",
      "      One  Two\n",
      "Row1    0    0\n",
      "Row2    0    0\n",
      "Row3    0    0\n"
     ]
    }
   ],
   "source": [
    "print('Task 9:')  \n",
    "dtype = [('One','int32'), ('Two','int32')]\n",
    "values = np.zeros(3, dtype=dtype)\n",
    "index = ['Row'+str(i) for i in range(1, 4)]\n",
    "\n",
    "df = pandas.DataFrame(values, index=index)\n",
    "print(df)"
   ]
  },
  {
   "cell_type": "markdown",
   "metadata": {
    "papermill": {
     "duration": 0.187085,
     "end_time": "2020-10-25T04:52:45.607767",
     "exception": false,
     "start_time": "2020-10-25T04:52:45.420682",
     "status": "completed"
    },
    "tags": []
   },
   "source": [
    "<div style=\"\">\n",
    "    <div style=\"float: left; width: 80%;\">\n",
    "        <a id=\"10\"></a>\n",
    "        <font><b>Task 10:</b></font>\n",
    "        <br><br>\n",
    "        Fill Random Science and Math Marks\n",
    "        <br><br>\n",
    "        (has some bugs in it)\n",
    "    </div>\n",
    "    <div style=\"float: right;\">\n",
    "        <a href=\"#top\" class=\"btn btn-primary btn-sm\" role=\"button\" aria-pressed=\"true\" style=\"color:white\" data-toggle=\"popover\" title=\"go to Top\">Go to Top</a>\n",
    "    </div>\n",
    "    <br style=\"clear: left;\" />\n",
    "</div>\n"
   ]
  },
  {
   "cell_type": "code",
   "execution_count": 14,
   "metadata": {
    "execution": {
     "iopub.execute_input": "2020-10-25T04:52:46.009616Z",
     "iopub.status.busy": "2020-10-25T04:52:46.008634Z",
     "iopub.status.idle": "2020-10-25T04:52:46.012189Z",
     "shell.execute_reply": "2020-10-25T04:52:46.012813Z"
    },
    "papermill": {
     "duration": 0.205255,
     "end_time": "2020-10-25T04:52:46.012976",
     "exception": false,
     "start_time": "2020-10-25T04:52:45.807721",
     "status": "completed"
    },
    "tags": []
   },
   "outputs": [
    {
     "name": "stdout",
     "output_type": "stream",
     "text": [
      "Task 10:\n",
      "      Science  Maths\n",
      "Row1        0      0\n",
      "Row2        0      0\n",
      "Row3        0      0\n"
     ]
    }
   ],
   "source": [
    "print('Task 10:')  \n",
    "dtype = [('Science','int32'), ('Maths','int32')]\n",
    "values = np.zeros(3, dtype=dtype)\n",
    "\n",
    "#print(type(dtype))\n",
    "#values = np.random.randint(5, size=(3, 2))\n",
    "#print(values)\n",
    "#index = ['Row'+str(i) for i in range(1, 4)]\n",
    "\n",
    "df = pandas.DataFrame(values, index=index)\n",
    "print(df)"
   ]
  },
  {
   "cell_type": "markdown",
   "metadata": {
    "papermill": {
     "duration": 0.189974,
     "end_time": "2020-10-25T04:52:46.393970",
     "exception": false,
     "start_time": "2020-10-25T04:52:46.203996",
     "status": "completed"
    },
    "tags": []
   },
   "source": [
    "<div style=\"\">\n",
    "    <div style=\"float: left; width: 80%;\">\n",
    "        <a id=\"11\"></a>\n",
    "        <font><b>Task 11:</b></font>\n",
    "        <br><br>\n",
    "        CSV to DatRaframe (from_csv)\n",
    "        <br>\n",
    "        Note: from_csv is Deprecated since version 0.21.0: Use pandas.read_csv() instead.\n",
    "    </div>\n",
    "    <div style=\"float: right;\">\n",
    "        <a href=\"#top\" class=\"btn btn-primary btn-sm\" role=\"button\" aria-pressed=\"true\" style=\"color:white\" data-toggle=\"popover\" title=\"go to Top\">Go to Top</a>\n",
    "    </div>\n",
    "    <br style=\"clear: left;\" />\n",
    "</div>"
   ]
  },
  {
   "cell_type": "code",
   "execution_count": 15,
   "metadata": {
    "execution": {
     "iopub.execute_input": "2020-10-25T04:52:46.783642Z",
     "iopub.status.busy": "2020-10-25T04:52:46.782838Z",
     "iopub.status.idle": "2020-10-25T04:52:46.813406Z",
     "shell.execute_reply": "2020-10-25T04:52:46.812099Z"
    },
    "papermill": {
     "duration": 0.228888,
     "end_time": "2020-10-25T04:52:46.813660",
     "exception": false,
     "start_time": "2020-10-25T04:52:46.584772",
     "status": "completed"
    },
    "tags": []
   },
   "outputs": [
    {
     "name": "stdout",
     "output_type": "stream",
     "text": [
      "Task 11:\n",
      "  first_name   last_name             company_name            address  \\\n",
      "0    Aleshia  Tomkiewicz  Alan D Rosenburg Cpa Pc       14 Taylor St   \n",
      "1       Evan   Zigomalas       Cap Gemini America        5 Binney St   \n",
      "2     France     Andrade      Elliott, John W Esq       8 Moor Place   \n",
      "3    Ulysses   Mcwalters           Mcmahan, Ben L      505 Exeter Rd   \n",
      "4     Tyisha      Veness           Champagne Room  5396 Forth Street   \n",
      "\n",
      "                             city           county    postal        phone1  \\\n",
      "0               St. Stephens Ward             Kent   CT2 7PP  01835-703597   \n",
      "1                      Abbey Ward  Buckinghamshire  HP11 2AX  01937-864715   \n",
      "2  East Southbourne and Tuckton W      Bournemouth   BH6 3BE  01347-368222   \n",
      "3              Hawerby cum Beesby     Lincolnshire  DN36 5RP  01912-771311   \n",
      "4      Greets Green and Lyng Ward    West Midlands   B70 9DT  01547-429341   \n",
      "\n",
      "         phone2                       email  \\\n",
      "0  01944-369967     atomkiewicz@hotmail.com   \n",
      "1  01714-737668    evan.zigomalas@gmail.com   \n",
      "2  01935-821636  france.andrade@hotmail.com   \n",
      "3  01302-601380         ulysses@hotmail.com   \n",
      "4  01290-367248   tyisha.veness@hotmail.com   \n",
      "\n",
      "                                    web  \n",
      "0  http://www.alandrosenburgcpapc.co.uk  \n",
      "1     http://www.capgeminiamerica.co.uk  \n",
      "2      http://www.elliottjohnwesq.co.uk  \n",
      "3          http://www.mcmahanbenl.co.uk  \n",
      "4        http://www.champagneroom.co.uk  \n"
     ]
    }
   ],
   "source": [
    "print('Task 11:')  \n",
    "\n",
    "csv = pd.read_csv('../input/datasets-for-pandas/uk-500.csv')\n",
    "print(csv.head())"
   ]
  },
  {
   "cell_type": "markdown",
   "metadata": {
    "papermill": {
     "duration": 0.192119,
     "end_time": "2020-10-25T04:52:47.202895",
     "exception": false,
     "start_time": "2020-10-25T04:52:47.010776",
     "status": "completed"
    },
    "tags": []
   },
   "source": [
    "<div style=\"\">\n",
    "    <div style=\"float: left; width: 80%;\">\n",
    "        <a id=\"12\"></a>\n",
    "        <font><b>Task 12:</b></font>\n",
    "        <br><br>\n",
    "        CSV to Dataframe (from_csv\n",
    "    </div>\n",
    "    <div style=\"float: right;\">\n",
    "        <a href=\"#top\" class=\"btn btn-primary btn-sm\" role=\"button\" aria-pressed=\"true\" style=\"color:white\" data-toggle=\"popover\" title=\"go to Top\">Go to Top</a>\n",
    "    </div>\n",
    "    <br style=\"clear: left;\" />\n",
    "</div>"
   ]
  },
  {
   "cell_type": "code",
   "execution_count": 16,
   "metadata": {
    "execution": {
     "iopub.execute_input": "2020-10-25T04:52:47.590183Z",
     "iopub.status.busy": "2020-10-25T04:52:47.589340Z",
     "iopub.status.idle": "2020-10-25T04:52:47.608506Z",
     "shell.execute_reply": "2020-10-25T04:52:47.607304Z"
    },
    "papermill": {
     "duration": 0.215402,
     "end_time": "2020-10-25T04:52:47.608711",
     "exception": false,
     "start_time": "2020-10-25T04:52:47.393309",
     "status": "completed"
    },
    "tags": []
   },
   "outputs": [
    {
     "name": "stdout",
     "output_type": "stream",
     "text": [
      "Task 12:\n",
      "  first_name   last_name             company_name            address  \\\n",
      "0    Aleshia  Tomkiewicz  Alan D Rosenburg Cpa Pc       14 Taylor St   \n",
      "1       Evan   Zigomalas       Cap Gemini America        5 Binney St   \n",
      "2     France     Andrade      Elliott, John W Esq       8 Moor Place   \n",
      "3    Ulysses   Mcwalters           Mcmahan, Ben L      505 Exeter Rd   \n",
      "4     Tyisha      Veness           Champagne Room  5396 Forth Street   \n",
      "\n",
      "                             city           county    postal        phone1  \\\n",
      "0               St. Stephens Ward             Kent   CT2 7PP  01835-703597   \n",
      "1                      Abbey Ward  Buckinghamshire  HP11 2AX  01937-864715   \n",
      "2  East Southbourne and Tuckton W      Bournemouth   BH6 3BE  01347-368222   \n",
      "3              Hawerby cum Beesby     Lincolnshire  DN36 5RP  01912-771311   \n",
      "4      Greets Green and Lyng Ward    West Midlands   B70 9DT  01547-429341   \n",
      "\n",
      "         phone2                       email  \\\n",
      "0  01944-369967     atomkiewicz@hotmail.com   \n",
      "1  01714-737668    evan.zigomalas@gmail.com   \n",
      "2  01935-821636  france.andrade@hotmail.com   \n",
      "3  01302-601380         ulysses@hotmail.com   \n",
      "4  01290-367248   tyisha.veness@hotmail.com   \n",
      "\n",
      "                                    web  \n",
      "0  http://www.alandrosenburgcpapc.co.uk  \n",
      "1     http://www.capgeminiamerica.co.uk  \n",
      "2      http://www.elliottjohnwesq.co.uk  \n",
      "3          http://www.mcmahanbenl.co.uk  \n",
      "4        http://www.champagneroom.co.uk  \n"
     ]
    }
   ],
   "source": [
    "print('Task 12:')  \n",
    "#df = df.from_csv(path, header, sep, index_col, parse_dates, encoding, tupleize_cols, infer_datetime_format)\n",
    "df = pd.read_csv('../input/datasets-for-pandas/uk-500.csv')\n",
    "print(df.head())"
   ]
  },
  {
   "cell_type": "markdown",
   "metadata": {
    "papermill": {
     "duration": 0.189499,
     "end_time": "2020-10-25T04:52:47.990368",
     "exception": false,
     "start_time": "2020-10-25T04:52:47.800869",
     "status": "completed"
    },
    "tags": []
   },
   "source": [
    "<div style=\"\">\n",
    "    <div style=\"float: left; width: 80%;\">\n",
    "        <a id=\"13\"></a>\n",
    "        <font><b>Task 13:</b></font>\n",
    "        <br><br>\n",
    "        First 4 rows and 2 columns of CSV\n",
    "    </div>\n",
    "    <div style=\"float: right;\">\n",
    "        <a href=\"#top\" class=\"btn btn-primary btn-sm\" role=\"button\" aria-pressed=\"true\" style=\"color:white\" data-toggle=\"popover\" title=\"go to Top\">Go to Top</a>\n",
    "    </div>\n",
    "    <br style=\"clear: left;\" />\n",
    "</div>"
   ]
  },
  {
   "cell_type": "code",
   "execution_count": 17,
   "metadata": {
    "execution": {
     "iopub.execute_input": "2020-10-25T04:52:48.421213Z",
     "iopub.status.busy": "2020-10-25T04:52:48.420174Z",
     "iopub.status.idle": "2020-10-25T04:52:48.425065Z",
     "shell.execute_reply": "2020-10-25T04:52:48.423873Z"
    },
    "papermill": {
     "duration": 0.221821,
     "end_time": "2020-10-25T04:52:48.425242",
     "exception": false,
     "start_time": "2020-10-25T04:52:48.203421",
     "status": "completed"
    },
    "tags": []
   },
   "outputs": [
    {
     "name": "stdout",
     "output_type": "stream",
     "text": [
      "Task 13:\n",
      "(9, 3)\n",
      "   capacity  score\n",
      "0         1     10\n",
      "1         2     20\n",
      "2         3     30\n",
      "3         3     40\n"
     ]
    }
   ],
   "source": [
    "print('Task 13:') \n",
    "df = pandas.read_csv('../input/datasets-for-pandas/data1.csv', sep=',')\n",
    "print(df.shape) \n",
    "#print(df[2:14])\n",
    "print(df.iloc[0:4,0:2])\n",
    "#print(df[df.columns[0]])"
   ]
  },
  {
   "cell_type": "markdown",
   "metadata": {
    "papermill": {
     "duration": 0.229466,
     "end_time": "2020-10-25T04:52:48.849551",
     "exception": false,
     "start_time": "2020-10-25T04:52:48.620085",
     "status": "completed"
    },
    "tags": []
   },
   "source": [
    "<div style=\"\">\n",
    "    <div style=\"float: left; width: 80%;\">\n",
    "        <a id=\"14\"></a>\n",
    "        <font><b>Task 14:</b></font>\n",
    "        <br><br>\n",
    "        Show even rows and first three columns\n",
    "    </div>\n",
    "    <div style=\"float: right;\">\n",
    "        <a href=\"#top\" class=\"btn btn-primary btn-sm\" role=\"button\" aria-pressed=\"true\" style=\"color:white\" data-toggle=\"popover\" title=\"go to Top\">Go to Top</a>\n",
    "    </div>\n",
    "    <br style=\"clear: left;\" />\n",
    "</div>"
   ]
  },
  {
   "cell_type": "code",
   "execution_count": 18,
   "metadata": {
    "execution": {
     "iopub.execute_input": "2020-10-25T04:52:49.251347Z",
     "iopub.status.busy": "2020-10-25T04:52:49.250520Z",
     "iopub.status.idle": "2020-10-25T04:52:49.269145Z",
     "shell.execute_reply": "2020-10-25T04:52:49.268165Z"
    },
    "papermill": {
     "duration": 0.223061,
     "end_time": "2020-10-25T04:52:49.269304",
     "exception": false,
     "start_time": "2020-10-25T04:52:49.046243",
     "status": "completed"
    },
    "tags": []
   },
   "outputs": [
    {
     "name": "stdout",
     "output_type": "stream",
     "text": [
      "Task 14:\n",
      "(7, 5)\n",
      "  student  language  science\n",
      "0   kumar        90       56\n",
      "2   sammy        90       23\n",
      "4   peter        30       56\n",
      "6  carrol        50       90\n"
     ]
    }
   ],
   "source": [
    "print('Task 14:') \n",
    "df = pandas.read_csv('/kaggle/input/datasets-for-pandas/abc.csv', sep=',', encoding = \"utf-8\")\n",
    "print(df.shape)\n",
    "\n",
    "print(df.iloc[::2, 0:3])    "
   ]
  },
  {
   "cell_type": "markdown",
   "metadata": {
    "papermill": {
     "duration": 0.194414,
     "end_time": "2020-10-25T04:52:49.655235",
     "exception": false,
     "start_time": "2020-10-25T04:52:49.460821",
     "status": "completed"
    },
    "tags": []
   },
   "source": [
    "<div style=\"\">\n",
    "    <div style=\"float: left; width: 80%;\">\n",
    "        <a id=\"15\"></a>\n",
    "        <font><b>Task 15:</b></font>\n",
    "        <br><br>\n",
    "        New columns as sum of all\n",
    "    </div>\n",
    "    <div style=\"float: right;\">\n",
    "        <a href=\"#top\" class=\"btn btn-primary btn-sm\" role=\"button\" aria-pressed=\"true\" style=\"color:white\" data-toggle=\"popover\" title=\"go to Top\">Go to Top</a>\n",
    "    </div>\n",
    "    <br style=\"clear: left;\" />\n",
    "</div>"
   ]
  },
  {
   "cell_type": "code",
   "execution_count": 19,
   "metadata": {
    "execution": {
     "iopub.execute_input": "2020-10-25T04:52:50.047308Z",
     "iopub.status.busy": "2020-10-25T04:52:50.046487Z",
     "iopub.status.idle": "2020-10-25T04:52:50.067530Z",
     "shell.execute_reply": "2020-10-25T04:52:50.066422Z"
    },
    "papermill": {
     "duration": 0.221299,
     "end_time": "2020-10-25T04:52:50.067698",
     "exception": false,
     "start_time": "2020-10-25T04:52:49.846399",
     "status": "completed"
    },
    "tags": []
   },
   "outputs": [
    {
     "name": "stdout",
     "output_type": "stream",
     "text": [
      "Task 15:\n",
      "(7, 5)\n",
      "  student  language  science  maths  history\n",
      "0   kumar        90       56     34       34\n",
      "1   kevin        10       34     32       67\n",
      "2   sammy        90       23     12       32\n",
      "3  janice        20       67     90       45\n",
      "4   peter        30       56     45       65\n",
      "5    prem        90       45     45       34\n",
      "6  carrol        50       90     45       23\n",
      "  student  language  science  maths  history  total\n",
      "0   kumar        90       56     34       34    214\n",
      "1   kevin        10       34     32       67    143\n",
      "2   sammy        90       23     12       32    157\n",
      "3  janice        20       67     90       45    222\n",
      "4   peter        30       56     45       65    196\n",
      "5    prem        90       45     45       34    214\n",
      "6  carrol        50       90     45       23    208\n"
     ]
    }
   ],
   "source": [
    "print('Task 15:') \n",
    "df = pandas.read_csv('/kaggle/input/datasets-for-pandas/abc.csv', sep=',', encoding = \"utf-8\")\n",
    "print(df.shape)\n",
    "print(df) \n",
    "df['total'] = df.sum(axis=1)\n",
    "\n",
    "print(df)"
   ]
  },
  {
   "cell_type": "markdown",
   "metadata": {
    "papermill": {
     "duration": 0.190195,
     "end_time": "2020-10-25T04:52:50.493889",
     "exception": false,
     "start_time": "2020-10-25T04:52:50.303694",
     "status": "completed"
    },
    "tags": []
   },
   "source": [
    "<div style=\"\">\n",
    "    <div style=\"float: left; width: 80%;\">\n",
    "        <a id=\"16\"></a>\n",
    "        <font><b>Task 16:</b></font>\n",
    "        <br><br>\n",
    "        Delete Rows of one column where the value is less than 50\n",
    "    </div>\n",
    "    <div style=\"float: right;\">\n",
    "        <a href=\"#top\" class=\"btn btn-primary btn-sm\" role=\"button\" aria-pressed=\"true\" style=\"color:white\" data-toggle=\"popover\" title=\"go to Top\">Go to Top</a>\n",
    "    </div>\n",
    "    <br style=\"clear: left;\" />\n",
    "</div>"
   ]
  },
  {
   "cell_type": "code",
   "execution_count": 20,
   "metadata": {
    "execution": {
     "iopub.execute_input": "2020-10-25T04:52:50.882382Z",
     "iopub.status.busy": "2020-10-25T04:52:50.881256Z",
     "iopub.status.idle": "2020-10-25T04:52:50.921040Z",
     "shell.execute_reply": "2020-10-25T04:52:50.922018Z"
    },
    "papermill": {
     "duration": 0.23787,
     "end_time": "2020-10-25T04:52:50.922270",
     "exception": false,
     "start_time": "2020-10-25T04:52:50.684400",
     "status": "completed"
    },
    "tags": []
   },
   "outputs": [
    {
     "name": "stdout",
     "output_type": "stream",
     "text": [
      "Task 16:\n",
      "(7, 5)\n",
      "  student  language  science  maths  history\n",
      "0   kumar        90       56     34       34\n",
      "1   kevin        10       34     32       67\n",
      "2   sammy        90       23     12       32\n",
      "3  janice        20       67     90       45\n",
      "4   peter        30       56     45       65\n",
      "5    prem        90       45     45       34\n",
      "6  carrol        50       90     45       23\n",
      "  student  language  science  maths  history\n",
      "0   kumar        90       56     34       34\n",
      "3  janice        20       67     90       45\n",
      "4   peter        30       56     45       65\n",
      "6  carrol        50       90     45       23\n"
     ]
    }
   ],
   "source": [
    "print('Task 16:') \n",
    "df = pandas.read_csv('/kaggle/input/datasets-for-pandas/abc.csv', sep=',', encoding = \"utf-8\")\n",
    "print(df.shape)\n",
    "print(df) \n",
    "\n",
    "df = df[df.science > 50]\n",
    "print(df)"
   ]
  },
  {
   "cell_type": "markdown",
   "metadata": {
    "papermill": {
     "duration": 0.1953,
     "end_time": "2020-10-25T04:52:51.314045",
     "exception": false,
     "start_time": "2020-10-25T04:52:51.118745",
     "status": "completed"
    },
    "tags": []
   },
   "source": [
    "<div style=\"\">\n",
    "    <div style=\"float: left; width: 80%;\">\n",
    "        <a id=\"17\"></a>\n",
    "        <font><b>Task 17:</b></font>\n",
    "        <br><br>\n",
    "        Delete with Query\n",
    "        <br>Note: Query doesn't work if your column has space in it\n",
    "    </div>\n",
    "    <div style=\"float: right;\">\n",
    "        <a href=\"#top\" class=\"btn btn-primary btn-sm\" role=\"button\" aria-pressed=\"true\" style=\"color:white\" data-toggle=\"popover\" title=\"go to Top\">Go to Top</a>\n",
    "    </div>\n",
    "    <br style=\"clear: left;\" />\n",
    "</div>"
   ]
  },
  {
   "cell_type": "code",
   "execution_count": 21,
   "metadata": {
    "execution": {
     "iopub.execute_input": "2020-10-25T04:52:51.708831Z",
     "iopub.status.busy": "2020-10-25T04:52:51.707616Z",
     "iopub.status.idle": "2020-10-25T04:52:51.726038Z",
     "shell.execute_reply": "2020-10-25T04:52:51.726956Z"
    },
    "papermill": {
     "duration": 0.21895,
     "end_time": "2020-10-25T04:52:51.727178",
     "exception": false,
     "start_time": "2020-10-25T04:52:51.508228",
     "status": "completed"
    },
    "tags": []
   },
   "outputs": [
    {
     "name": "stdout",
     "output_type": "stream",
     "text": [
      "Task 17:\n",
      "(7, 5)\n",
      "  student  language  science  maths  history\n",
      "0   kumar        90       56     34       34\n",
      "1   kevin        10       34     32       67\n",
      "2   sammy        90       23     12       32\n",
      "3  janice        20       67     90       45\n",
      "4   peter        30       56     45       65\n",
      "5    prem        90       45     45       34\n",
      "6  carrol        50       90     45       23\n",
      "  student  language  science  maths  history\n",
      "0   kumar        90       56     34       34\n",
      "3  janice        20       67     90       45\n",
      "4   peter        30       56     45       65\n",
      "6  carrol        50       90     45       23\n"
     ]
    }
   ],
   "source": [
    "print('Task 17:') \n",
    "df = pandas.read_csv('/kaggle/input/datasets-for-pandas/abc.csv', sep=',', encoding = \"utf-8\")\n",
    "print(df.shape)\n",
    "print(df) \n",
    "\n",
    "df = df.query('science > 45')\n",
    "print(df)"
   ]
  },
  {
   "cell_type": "markdown",
   "metadata": {
    "papermill": {
     "duration": 0.195495,
     "end_time": "2020-10-25T04:52:52.119159",
     "exception": false,
     "start_time": "2020-10-25T04:52:51.923664",
     "status": "completed"
    },
    "tags": []
   },
   "source": [
    "<div style=\"\">\n",
    "    <div style=\"float: left; width: 80%;\">\n",
    "        <a id=\"18\"></a>\n",
    "        <font><b>Task 18:</b></font>\n",
    "        <br><br>\n",
    "        Skip single row\n",
    "    </div>\n",
    "    <div style=\"float: right;\">\n",
    "        <a href=\"#top\" class=\"btn btn-primary btn-sm\" role=\"button\" aria-pressed=\"true\" style=\"color:white\" data-toggle=\"popover\" title=\"go to Top\">Go to Top</a>\n",
    "    </div>\n",
    "    <br style=\"clear: left;\" />\n",
    "</div>"
   ]
  },
  {
   "cell_type": "code",
   "execution_count": 22,
   "metadata": {
    "execution": {
     "iopub.execute_input": "2020-10-25T04:52:52.520752Z",
     "iopub.status.busy": "2020-10-25T04:52:52.519945Z",
     "iopub.status.idle": "2020-10-25T04:52:52.532013Z",
     "shell.execute_reply": "2020-10-25T04:52:52.530781Z"
    },
    "papermill": {
     "duration": 0.218634,
     "end_time": "2020-10-25T04:52:52.532216",
     "exception": false,
     "start_time": "2020-10-25T04:52:52.313582",
     "status": "completed"
    },
    "tags": []
   },
   "outputs": [
    {
     "name": "stdout",
     "output_type": "stream",
     "text": [
      "Task 18:\n",
      "(6, 5)\n",
      "  student  language  science  maths  history\n",
      "0   kumar        90       56     34       34\n",
      "1   kevin        10       34     32       67\n",
      "2   sammy        90       23     12       32\n",
      "3  janice        20       67     90       45\n",
      "4    prem        90       45     45       34\n",
      "5  carrol        50       90     45       23\n"
     ]
    }
   ],
   "source": [
    "print('Task 18:') \n",
    "df = pandas.read_csv('/kaggle/input/datasets-for-pandas/abc.csv', sep=',', encoding = \"utf-8\", skiprows=[5])\n",
    "print(df.shape)\n",
    "print(df)"
   ]
  },
  {
   "cell_type": "markdown",
   "metadata": {
    "papermill": {
     "duration": 0.193589,
     "end_time": "2020-10-25T04:52:52.922272",
     "exception": false,
     "start_time": "2020-10-25T04:52:52.728683",
     "status": "completed"
    },
    "tags": []
   },
   "source": [
    "<div style=\"\">\n",
    "    <div style=\"float: left; width: 80%;\">\n",
    "        <a id=\"19\"></a>\n",
    "        <font><b>Task 19:</b></font>\n",
    "        <br><br>\n",
    "        Skip multiple rows\n",
    "    </div>\n",
    "    <div style=\"float: right;\">\n",
    "        <a href=\"#top\" class=\"btn btn-primary btn-sm\" role=\"button\" aria-pressed=\"true\" style=\"color:white\" data-toggle=\"popover\" title=\"go to Top\">Go to Top</a>\n",
    "    </div>\n",
    "    <br style=\"clear: left;\" />\n",
    "</div>"
   ]
  },
  {
   "cell_type": "code",
   "execution_count": 23,
   "metadata": {
    "execution": {
     "iopub.execute_input": "2020-10-25T04:52:53.324628Z",
     "iopub.status.busy": "2020-10-25T04:52:53.323492Z",
     "iopub.status.idle": "2020-10-25T04:52:53.335148Z",
     "shell.execute_reply": "2020-10-25T04:52:53.334098Z"
    },
    "papermill": {
     "duration": 0.213065,
     "end_time": "2020-10-25T04:52:53.335319",
     "exception": false,
     "start_time": "2020-10-25T04:52:53.122254",
     "status": "completed"
    },
    "tags": []
   },
   "outputs": [
    {
     "name": "stdout",
     "output_type": "stream",
     "text": [
      "Task 19:\n",
      "(4, 5)\n",
      "  student  language  science  maths  history\n",
      "0   kevin        10       34     32       67\n",
      "1   sammy        90       23     12       32\n",
      "2  janice        20       67     90       45\n",
      "3    prem        90       45     45       34\n"
     ]
    }
   ],
   "source": [
    "print('Task 19:') \n",
    "df = pandas.read_csv('/kaggle/input/datasets-for-pandas/abc.csv', sep=',', encoding = \"utf-8\", skiprows=[1, 5, 7])\n",
    "print(df.shape)\n",
    "#print(df) \n",
    "\n",
    "#df = df[df[[1]] > 45]\n",
    "print(df)"
   ]
  },
  {
   "cell_type": "markdown",
   "metadata": {
    "papermill": {
     "duration": 0.195874,
     "end_time": "2020-10-25T04:52:53.727849",
     "exception": false,
     "start_time": "2020-10-25T04:52:53.531975",
     "status": "completed"
    },
    "tags": []
   },
   "source": [
    "<div style=\"\">\n",
    "    <div style=\"float: left; width: 80%;\">\n",
    "        <a id=\"20\"></a>\n",
    "        <font><b>Task 20:</b></font>\n",
    "        <br><br>\n",
    "        Select Column by Index\n",
    "        <br>\n",
    "        <br>Note:\n",
    "        <br>df[[1]] doesn't work in Pandas updated version (need to double check)\n",
    "        <br>\n",
    "        New columns as sum of all\n",
    "    </div>\n",
    "    <div style=\"float: right;\">\n",
    "        <a href=\"#top\" class=\"btn btn-primary btn-sm\" role=\"button\" aria-pressed=\"true\" style=\"color:white\" data-toggle=\"popover\" title=\"go to Top\">Go to Top</a>\n",
    "    </div>\n",
    "    <br style=\"clear: left;\" />\n",
    "</div>"
   ]
  },
  {
   "cell_type": "code",
   "execution_count": 24,
   "metadata": {
    "execution": {
     "iopub.execute_input": "2020-10-25T04:52:54.126334Z",
     "iopub.status.busy": "2020-10-25T04:52:54.125207Z",
     "iopub.status.idle": "2020-10-25T04:52:54.140429Z",
     "shell.execute_reply": "2020-10-25T04:52:54.139746Z"
    },
    "papermill": {
     "duration": 0.219083,
     "end_time": "2020-10-25T04:52:54.140590",
     "exception": false,
     "start_time": "2020-10-25T04:52:53.921507",
     "status": "completed"
    },
    "tags": []
   },
   "outputs": [
    {
     "name": "stdout",
     "output_type": "stream",
     "text": [
      "Task 20:\n",
      "(7, 5)\n",
      "  student  language  science  maths  history\n",
      "0   kumar        90       56     34       34\n",
      "1   kevin        10       34     32       67\n",
      "2   sammy        90       23     12       32\n",
      "3  janice        20       67     90       45\n",
      "4   peter        30       56     45       65\n",
      "5    prem        90       45     45       34\n",
      "6  carrol        50       90     45       23\n",
      "  student  language  science  maths  history\n",
      "0   kumar        90       56     34       34\n",
      "1   kevin        10       34     32       67\n",
      "2   sammy        90       23     12       32\n",
      "3  janice        20       67     90       45\n",
      "4   peter        30       56     45       65\n",
      "5    prem        90       45     45       34\n",
      "6  carrol        50       90     45       23\n",
      "<class 'str'>\n"
     ]
    }
   ],
   "source": [
    "print('Task 20:') \n",
    "df = pandas.read_csv('/kaggle/input/datasets-for-pandas/abc.csv', sep=',', encoding = \"utf-8\")\n",
    "print(df.shape)\n",
    "print(df) \n",
    "\n",
    "#df = df[int(df.columns[2]) > 45]\n",
    "print(df)\n",
    "print(type(df.columns[2]))"
   ]
  },
  {
   "cell_type": "markdown",
   "metadata": {
    "papermill": {
     "duration": 0.196751,
     "end_time": "2020-10-25T04:52:54.534394",
     "exception": false,
     "start_time": "2020-10-25T04:52:54.337643",
     "status": "completed"
    },
    "tags": []
   },
   "source": [
    "<div style=\"\">\n",
    "    <div style=\"float: left; width: 80%;\">\n",
    "        <a id=\"21\"></a>\n",
    "        <font><b>Task 21:</b></font>\n",
    "        <br><br>\n",
    "        Skip rows\n",
    "        <br>Note:\n",
    "        <br>df[[1]] doesn't work in Pandas updated version (need to double check)\n",
    "    </div>\n",
    "    <div style=\"float: right;\">\n",
    "        <a href=\"#top\" class=\"btn btn-primary btn-sm\" role=\"button\" aria-pressed=\"true\" style=\"color:white\" data-toggle=\"popover\" title=\"go to Top\">Go to Top</a>\n",
    "    </div>\n",
    "    <br style=\"clear: left;\" />\n",
    "</div>"
   ]
  },
  {
   "cell_type": "code",
   "execution_count": 25,
   "metadata": {
    "execution": {
     "iopub.execute_input": "2020-10-25T04:52:54.930178Z",
     "iopub.status.busy": "2020-10-25T04:52:54.929358Z",
     "iopub.status.idle": "2020-10-25T04:52:54.941053Z",
     "shell.execute_reply": "2020-10-25T04:52:54.940324Z"
    },
    "papermill": {
     "duration": 0.213291,
     "end_time": "2020-10-25T04:52:54.941189",
     "exception": false,
     "start_time": "2020-10-25T04:52:54.727898",
     "status": "completed"
    },
    "tags": []
   },
   "outputs": [
    {
     "name": "stdout",
     "output_type": "stream",
     "text": [
      "Task 21:\n",
      "(6, 5)\n",
      "    kumar  90  56  34  34.1\n",
      "0   kevin  10  34  32    67\n",
      "1   sammy  90  23  12    32\n",
      "2  janice  20  67  90    45\n",
      "3   peter  30  56  45    65\n",
      "4    prem  90  45  45    34\n",
      "5  carrol  50  90  45    23\n",
      "56\n"
     ]
    }
   ],
   "source": [
    "print('Task 21:') \n",
    "df = pandas.read_csv('/kaggle/input/datasets-for-pandas/abc.csv', sep=',', encoding = \"utf-8\", skiprows=[0])\n",
    "print(df.shape)\n",
    "print(df) \n",
    "\n",
    "#df = df[int(df.columns[2]) > 45]\n",
    "#print(df)\n",
    "print(df.columns[2])"
   ]
  },
  {
   "cell_type": "markdown",
   "metadata": {
    "papermill": {
     "duration": 0.201726,
     "end_time": "2020-10-25T04:52:55.347116",
     "exception": false,
     "start_time": "2020-10-25T04:52:55.145390",
     "status": "completed"
    },
    "tags": []
   },
   "source": [
    "<div style=\"\">\n",
    "    <div style=\"float: left; width: 80%;\">\n",
    "        <a id=\"22\"></a>\n",
    "        <font><b>Task 22:</b></font>\n",
    "        <br><br>\n",
    "        String to Dataframe\n",
    "        <br>Note:\n",
    "        <br>df[[1]] doesn't work in Pandas updated version (need to double check)\n",
    "    </div>\n",
    "    <div style=\"float: right;\">\n",
    "        <a href=\"#top\" class=\"btn btn-primary btn-sm\" role=\"button\" aria-pressed=\"true\" style=\"color:white\" data-toggle=\"popover\" title=\"go to Top\">Go to Top</a>\n",
    "    </div>\n",
    "    <br style=\"clear: left;\" />\n",
    "</div>"
   ]
  },
  {
   "cell_type": "code",
   "execution_count": 26,
   "metadata": {
    "execution": {
     "iopub.execute_input": "2020-10-25T04:52:55.756837Z",
     "iopub.status.busy": "2020-10-25T04:52:55.755989Z",
     "iopub.status.idle": "2020-10-25T04:52:55.759237Z",
     "shell.execute_reply": "2020-10-25T04:52:55.759972Z"
    },
    "papermill": {
     "duration": 0.215183,
     "end_time": "2020-10-25T04:52:55.760143",
     "exception": false,
     "start_time": "2020-10-25T04:52:55.544960",
     "status": "completed"
    },
    "tags": []
   },
   "outputs": [
    {
     "name": "stdout",
     "output_type": "stream",
     "text": [
      "Task 22:\n",
      "(3, 2)\n",
      "   0  1\n",
      "0  1  2\n",
      "1  3  4\n",
      "2  5  6\n"
     ]
    }
   ],
   "source": [
    "print('Task 22:')\n",
    "from io import StringIO\n",
    "\n",
    "s = \"\"\"\n",
    "        1, 2\n",
    "        3, 4\n",
    "        5, 6\n",
    "    \"\"\"\n",
    "\n",
    "df = pd.read_csv(StringIO(s), header=None)\n",
    "\n",
    "print(df.shape)\n",
    "print(df)"
   ]
  },
  {
   "cell_type": "markdown",
   "metadata": {
    "papermill": {
     "duration": 0.200746,
     "end_time": "2020-10-25T04:52:56.157023",
     "exception": false,
     "start_time": "2020-10-25T04:52:55.956277",
     "status": "completed"
    },
    "tags": []
   },
   "source": [
    "<div style=\"\">\n",
    "    <div style=\"float: left; width: 80%;\">\n",
    "        <a id=\"23\"></a>\n",
    "        <font><b>Task 23:</b></font>\n",
    "        <br><br>\n",
    "        New columns as max of other columns\n",
    "        <br>float to int used\n",
    "    </div>\n",
    "    <div style=\"float: right;\">\n",
    "        <a href=\"#top\" class=\"btn btn-primary btn-sm\" role=\"button\" aria-pressed=\"true\" style=\"color:white\" data-toggle=\"popover\" title=\"go to Top\">Go to Top</a>\n",
    "    </div>\n",
    "    <br style=\"clear: left;\" />\n",
    "</div>"
   ]
  },
  {
   "cell_type": "code",
   "execution_count": 27,
   "metadata": {
    "execution": {
     "iopub.execute_input": "2020-10-25T04:52:56.561083Z",
     "iopub.status.busy": "2020-10-25T04:52:56.560067Z",
     "iopub.status.idle": "2020-10-25T04:52:56.582264Z",
     "shell.execute_reply": "2020-10-25T04:52:56.581443Z"
    },
    "papermill": {
     "duration": 0.228729,
     "end_time": "2020-10-25T04:52:56.582408",
     "exception": false,
     "start_time": "2020-10-25T04:52:56.353679",
     "status": "completed"
    },
    "tags": []
   },
   "outputs": [
    {
     "name": "stdout",
     "output_type": "stream",
     "text": [
      "Task 23:\n",
      "(7, 5)\n",
      "  student  language  science  maths  history  sum  max  min  average\n",
      "0   kumar        90       56     34       34  214  214   34       96\n",
      "1   kevin        10       34     32       67  143  143   10       62\n",
      "2   sammy        90       23     12       32  157  157   12       69\n",
      "3  janice        20       67     90       45  222  222   20       98\n",
      "4   peter        30       56     45       65  196  196   30       88\n",
      "5    prem        90       45     45       34  214  214   34       96\n",
      "6  carrol        50       90     45       23  208  208   23       92\n"
     ]
    }
   ],
   "source": [
    "print('Task 23:') \n",
    "df = pandas.read_csv('/kaggle/input/datasets-for-pandas/abc.csv', sep=',', encoding = \"utf-8\")\n",
    "print(df.shape)\n",
    "df['sum'] = df.sum(axis=1)\n",
    "df['max'] = df.max(axis=1)\n",
    "df['min'] = df.min(axis=1)\n",
    "df['average'] = df.mean(axis=1).astype(int)\n",
    "print(df)"
   ]
  },
  {
   "cell_type": "markdown",
   "metadata": {
    "papermill": {
     "duration": 0.197042,
     "end_time": "2020-10-25T04:52:56.977636",
     "exception": false,
     "start_time": "2020-10-25T04:52:56.780594",
     "status": "completed"
    },
    "tags": []
   },
   "source": [
    "<div style=\"\">\n",
    "    <div style=\"float: left; width: 80%;\">\n",
    "        <a id=\"24\"></a>\n",
    "        <font><b>Task 24:</b></font>\n",
    "        <br><br>\n",
    "        New columns as max of other columns\n",
    "<br>float to int used\n",
    "<br>Math is considered more, so double the marks for maths\n",
    "    </div>\n",
    "    <div style=\"float: right;\">\n",
    "        <a href=\"#top\" class=\"btn btn-primary btn-sm\" role=\"button\" aria-pressed=\"true\" style=\"color:white\" data-toggle=\"popover\" title=\"go to Top\">Go to Top</a>\n",
    "    </div>\n",
    "    <br style=\"clear: left;\" />\n",
    "</div>"
   ]
  },
  {
   "cell_type": "code",
   "execution_count": 28,
   "metadata": {
    "execution": {
     "iopub.execute_input": "2020-10-25T04:52:57.392786Z",
     "iopub.status.busy": "2020-10-25T04:52:57.391573Z",
     "iopub.status.idle": "2020-10-25T04:52:57.416437Z",
     "shell.execute_reply": "2020-10-25T04:52:57.415536Z"
    },
    "papermill": {
     "duration": 0.236549,
     "end_time": "2020-10-25T04:52:57.416664",
     "exception": false,
     "start_time": "2020-10-25T04:52:57.180115",
     "status": "completed"
    },
    "tags": []
   },
   "outputs": [
    {
     "name": "stdout",
     "output_type": "stream",
     "text": [
      "Task 24:\n",
      "(7, 5)\n",
      "  student  language  science  maths  history  sum  max  min  average  \\\n",
      "0   kumar        90       56     34       34  214  214   34       96   \n",
      "1   kevin        10       34     32       67  143  143   10       62   \n",
      "2   sammy        90       23     12       32  157  157   12       69   \n",
      "3  janice        20       67     90       45  222  222   20       98   \n",
      "4   peter        30       56     45       65  196  196   30       88   \n",
      "5    prem        90       45     45       34  214  214   34       96   \n",
      "6  carrol        50       90     45       23  208  208   23       92   \n",
      "\n",
      "   math_special  \n",
      "0            45  \n",
      "1            31  \n",
      "2            25  \n",
      "3            68  \n",
      "4            45  \n",
      "5            47  \n",
      "6            53  \n"
     ]
    }
   ],
   "source": [
    "def apply_math_special(row):\n",
    "    return (row.maths * 2 + row.language / 2 + row.history / 3 + row.science) / 4                \n",
    "\n",
    "print('Task 24:') \n",
    "df = pandas.read_csv('/kaggle/input/datasets-for-pandas/abc.csv', sep=',', encoding = \"utf-8\")\n",
    "print(df.shape)\n",
    "df['sum'] = df.sum(axis=1)\n",
    "df['max'] = df.max(axis=1)\n",
    "df['min'] = df.min(axis=1)\n",
    "df['average'] = df.mean(axis=1).astype(int)\n",
    "df['math_special'] = df.apply(apply_math_special, axis=1).astype(int)\n",
    "print(df)"
   ]
  },
  {
   "cell_type": "markdown",
   "metadata": {
    "papermill": {
     "duration": 0.196348,
     "end_time": "2020-10-25T04:52:57.811195",
     "exception": false,
     "start_time": "2020-10-25T04:52:57.614847",
     "status": "completed"
    },
    "tags": []
   },
   "source": [
    "<div style=\"\">\n",
    "    <div style=\"float: left; width: 80%;\">\n",
    "        <a id=\"25\"></a>\n",
    "        <font><b>Task 25:</b></font>\n",
    "        <br><br>\n",
    "        New columns as max of other columns\n",
    "<br>35 marks considered as pass \n",
    "<br>If the student fails in math, consider fail\n",
    "<br>If the student passes in language and science, consider as pass\n",
    "    </div>\n",
    "    <div style=\"float: right;\">\n",
    "        <a href=\"#top\" class=\"btn btn-primary btn-sm\" role=\"button\" aria-pressed=\"true\" style=\"color:white\" data-toggle=\"popover\" title=\"go to Top\">Go to Top</a>\n",
    "    </div>\n",
    "    <br style=\"clear: left;\" />\n",
    "</div>"
   ]
  },
  {
   "cell_type": "code",
   "execution_count": 29,
   "metadata": {
    "execution": {
     "iopub.execute_input": "2020-10-25T04:52:58.216928Z",
     "iopub.status.busy": "2020-10-25T04:52:58.215749Z",
     "iopub.status.idle": "2020-10-25T04:52:58.231680Z",
     "shell.execute_reply": "2020-10-25T04:52:58.230797Z"
    },
    "papermill": {
     "duration": 0.223418,
     "end_time": "2020-10-25T04:52:58.231831",
     "exception": false,
     "start_time": "2020-10-25T04:52:58.008413",
     "status": "completed"
    },
    "tags": []
   },
   "outputs": [
    {
     "name": "stdout",
     "output_type": "stream",
     "text": [
      "Task 25:\n",
      "(7, 5)\n",
      "  student  language  science  maths  history pass_one\n",
      "0   kumar        90       56     34       34     Pass\n",
      "1   kevin        10       34     32       67     Fail\n",
      "2   sammy        90       23     12       32     Fail\n",
      "3  janice        20       67     90       45     Pass\n",
      "4   peter        30       56     45       65     Pass\n",
      "5    prem        90       45     45       34     Pass\n",
      "6  carrol        50       90     45       23     Pass\n"
     ]
    }
   ],
   "source": [
    "def pass_one_subject(row):\n",
    "    if(row.maths > 34):\n",
    "        return 'Pass'\n",
    "    if(row.language > 34 and row.science > 34):\n",
    "        return 'Pass'\n",
    "    \n",
    "    return 'Fail'                \n",
    "\n",
    "print('Task 25:') \n",
    "df = pandas.read_csv('/kaggle/input/datasets-for-pandas/abc.csv', sep=',', encoding = \"utf-8\")\n",
    "print(df.shape)   \n",
    "\n",
    "df['pass_one'] = df.apply(pass_one_subject, axis=1)\n",
    "print(df)"
   ]
  },
  {
   "cell_type": "markdown",
   "metadata": {
    "papermill": {
     "duration": 0.196246,
     "end_time": "2020-10-25T04:52:58.625689",
     "exception": false,
     "start_time": "2020-10-25T04:52:58.429443",
     "status": "completed"
    },
    "tags": []
   },
   "source": [
    "<div style=\"\">\n",
    "    <div style=\"float: left; width: 80%;\">\n",
    "        <a id=\"26\"></a>\n",
    "        <font><b>Task 26:</b></font>\n",
    "        <br><br>\n",
    "        Fill with average\n",
    "    </div>\n",
    "    <div style=\"float: right;\">\n",
    "        <a href=\"#top\" class=\"btn btn-primary btn-sm\" role=\"button\" aria-pressed=\"true\" style=\"color:white\" data-toggle=\"popover\" title=\"go to Top\">Go to Top</a>\n",
    "    </div>\n",
    "    <br style=\"clear: left;\" />\n",
    "</div> "
   ]
  },
  {
   "cell_type": "code",
   "execution_count": 30,
   "metadata": {
    "execution": {
     "iopub.execute_input": "2020-10-25T04:52:59.033746Z",
     "iopub.status.busy": "2020-10-25T04:52:59.032905Z",
     "iopub.status.idle": "2020-10-25T04:52:59.057895Z",
     "shell.execute_reply": "2020-10-25T04:52:59.057030Z"
    },
    "papermill": {
     "duration": 0.233898,
     "end_time": "2020-10-25T04:52:59.058036",
     "exception": false,
     "start_time": "2020-10-25T04:52:58.824138",
     "status": "completed"
    },
    "tags": []
   },
   "outputs": [
    {
     "name": "stdout",
     "output_type": "stream",
     "text": [
      "Task 26:\n",
      "(7, 5)\n",
      "  student  language  science  maths  history\n",
      "0   kumar        90     56.0   34.0       34\n",
      "1   kevin        10      NaN   32.0       67\n",
      "2   sammy        90     23.0   12.0       32\n",
      "3  janice        20      NaN   90.0       45\n",
      "4   peter        30     56.0   45.0       65\n",
      "5    prem        90     45.0    NaN       34\n",
      "6  carrol        50     90.0   45.0       23\n",
      "  student  language  science  maths  history\n",
      "0   kumar        90     56.0   34.0       34\n",
      "1   kevin        10     54.0   32.0       67\n",
      "2   sammy        90     23.0   12.0       32\n",
      "3  janice        20     54.0   90.0       45\n",
      "4   peter        30     56.0   45.0       65\n",
      "5    prem        90     45.0   43.0       34\n",
      "6  carrol        50     90.0   45.0       23\n"
     ]
    }
   ],
   "source": [
    "print('Task 26:') \n",
    "df = pandas.read_csv('/kaggle/input/datasets-for-pandas/abc2.csv', sep=',', encoding = \"utf-8\")\n",
    "print(df.shape)   \n",
    "print(df)\n",
    "df.fillna(df.mean(), inplace=True)\n",
    "\n",
    "#df['pass_one'] = df.apply(pass_one_subject, axis=1)\n",
    "print(df)"
   ]
  },
  {
   "cell_type": "markdown",
   "metadata": {
    "papermill": {
     "duration": 0.197941,
     "end_time": "2020-10-25T04:52:59.456661",
     "exception": false,
     "start_time": "2020-10-25T04:52:59.258720",
     "status": "completed"
    },
    "tags": []
   },
   "source": [
    "<div style=\"\">\n",
    "    <div style=\"float: left; width: 80%;\">\n",
    "        <a id=\"27\"></a>\n",
    "        <font><b>Task 27:</b></font>\n",
    "        <br><br>\n",
    "        New columns as sum of all\n",
    "    </div>\n",
    "    <div style=\"float: right;\">\n",
    "        <a href=\"#top\" class=\"btn btn-primary btn-sm\" role=\"button\" aria-pressed=\"true\" style=\"color:white\" data-toggle=\"popover\" title=\"go to Top\">Go to Top</a>\n",
    "    </div>\n",
    "    <br style=\"clear: left;\" />\n",
    "</div> "
   ]
  },
  {
   "cell_type": "code",
   "execution_count": 31,
   "metadata": {
    "execution": {
     "iopub.execute_input": "2020-10-25T04:52:59.909059Z",
     "iopub.status.busy": "2020-10-25T04:52:59.903705Z",
     "iopub.status.idle": "2020-10-25T04:52:59.914100Z",
     "shell.execute_reply": "2020-10-25T04:52:59.913424Z"
    },
    "papermill": {
     "duration": 0.254472,
     "end_time": "2020-10-25T04:52:59.914239",
     "exception": false,
     "start_time": "2020-10-25T04:52:59.659767",
     "status": "completed"
    },
    "tags": []
   },
   "outputs": [
    {
     "name": "stdout",
     "output_type": "stream",
     "text": [
      "Task 27:\n",
      "          0         1         2         3         4\n",
      "0       NaN       NaN       NaN       NaN  0.572887\n",
      "1       NaN       NaN       NaN       NaN  0.726606\n",
      "2       NaN       NaN       NaN       NaN  0.898058\n",
      "3  0.820883  0.281087  0.061915  0.251880  0.690323\n",
      "4  0.827387  0.366752  0.472221  0.344950  0.760725\n",
      "5  0.826558  0.940475  0.564082  0.638462  0.313050\n",
      "6  0.082206  0.610940  0.716961  0.895827  0.446285\n",
      "7  0.235996  0.154126  0.869530  0.586864  0.915977\n",
      "8  0.403853  0.771666  0.408973  0.085731  0.588707\n",
      "9  0.001154  0.417254  0.155335  0.893756  0.825199\n",
      "          0         1         2         3         4      test\n",
      "0       NaN       NaN       NaN       NaN  0.572887  0.572887\n",
      "1       NaN       NaN       NaN       NaN  0.726606  0.726606\n",
      "2       NaN       NaN       NaN       NaN  0.898058  0.898058\n",
      "3  0.820883  0.281087  0.061915  0.251880  0.690323  1.004118\n",
      "4  0.827387  0.366752  0.472221  0.344950  0.760725  1.577897\n",
      "5  0.826558  0.940475  0.564082  0.638462  0.313050  1.515594\n",
      "6  0.082206  0.610940  0.716961  0.895827  0.446285  2.059073\n",
      "7  0.235996  0.154126  0.869530  0.586864  0.915977  2.372371\n",
      "8  0.403853  0.771666  0.408973  0.085731  0.588707  1.083410\n",
      "9  0.001154  0.417254  0.155335  0.893756  0.825199  1.874290\n"
     ]
    }
   ],
   "source": [
    "print('Task 27:')\n",
    "df = pd.DataFrame(np.random.rand(10, 5))\n",
    "df.iloc[0:3, 0:4] = np.nan # throw in some na values\n",
    "print(df)\n",
    "df.loc[:, 'test'] = df.iloc[:, 2:].sum(axis=1)\n",
    "print(df)"
   ]
  },
  {
   "cell_type": "markdown",
   "metadata": {
    "papermill": {
     "duration": 0.201731,
     "end_time": "2020-10-25T04:53:00.317248",
     "exception": false,
     "start_time": "2020-10-25T04:53:00.115517",
     "status": "completed"
    },
    "tags": []
   },
   "source": [
    "<div style=\"\">\n",
    "    <div style=\"float: left; width: 80%;\">\n",
    "        <a id=\"28\"></a>\n",
    "        <font><b>Task 28:</b></font>\n",
    "        <br><br>\n",
    "        Unicode issue and fix\n",
    "    </div>\n",
    "    <div style=\"float: right;\">\n",
    "        <a href=\"#top\" class=\"btn btn-primary btn-sm\" role=\"button\" aria-pressed=\"true\" style=\"color:white\" data-toggle=\"popover\" title=\"go to Top\">Go to Top</a>\n",
    "    </div>\n",
    "    <br style=\"clear: left;\" />\n",
    "</div> "
   ]
  },
  {
   "cell_type": "code",
   "execution_count": 32,
   "metadata": {
    "execution": {
     "iopub.execute_input": "2020-10-25T04:53:00.719548Z",
     "iopub.status.busy": "2020-10-25T04:53:00.718575Z",
     "iopub.status.idle": "2020-10-25T04:53:00.732451Z",
     "shell.execute_reply": "2020-10-25T04:53:00.733054Z"
    },
    "papermill": {
     "duration": 0.21808,
     "end_time": "2020-10-25T04:53:00.733221",
     "exception": false,
     "start_time": "2020-10-25T04:53:00.515141",
     "status": "completed"
    },
    "tags": []
   },
   "outputs": [
    {
     "name": "stdout",
     "output_type": "stream",
     "text": [
      "Task 28:\n",
      "(16, 5)\n"
     ]
    }
   ],
   "source": [
    "print('Task 28:') \n",
    "df = pandas.read_csv('/kaggle/input/datasets-for-pandas/score.csv', sep=',', encoding = \"ISO-8859-1\")\n",
    "print(df.shape) "
   ]
  },
  {
   "cell_type": "markdown",
   "metadata": {
    "papermill": {
     "duration": 0.202238,
     "end_time": "2020-10-25T04:53:01.133958",
     "exception": false,
     "start_time": "2020-10-25T04:53:00.931720",
     "status": "completed"
    },
    "tags": []
   },
   "source": [
    "<div style=\"\">\n",
    "    <div style=\"float: left; width: 80%;\">\n",
    "        <a id=\"29\"></a>\n",
    "        <font><b>Task 29:</b></font>\n",
    "        <br><br>\n",
    "        Fill with average\n",
    "    </div>\n",
    "    <div style=\"float: right;\">\n",
    "        <a href=\"#top\" class=\"btn btn-primary btn-sm\" role=\"button\" aria-pressed=\"true\" style=\"color:white\" data-toggle=\"popover\" title=\"go to Top\">Go to Top</a>\n",
    "    </div>\n",
    "    <br style=\"clear: left;\" />\n",
    "</div> "
   ]
  },
  {
   "cell_type": "code",
   "execution_count": 33,
   "metadata": {
    "execution": {
     "iopub.execute_input": "2020-10-25T04:53:01.548395Z",
     "iopub.status.busy": "2020-10-25T04:53:01.547608Z",
     "iopub.status.idle": "2020-10-25T04:53:01.552423Z",
     "shell.execute_reply": "2020-10-25T04:53:01.551363Z"
    },
    "papermill": {
     "duration": 0.218034,
     "end_time": "2020-10-25T04:53:01.552603",
     "exception": false,
     "start_time": "2020-10-25T04:53:01.334569",
     "status": "completed"
    },
    "tags": []
   },
   "outputs": [
    {
     "name": "stdout",
     "output_type": "stream",
     "text": [
      "Task 29:\n",
      "(3, 4)\n",
      "          A         B         C         D\n",
      "0  0.530069  0.327372  0.535214  0.532122\n",
      "1  0.530380  0.795693  0.533263  0.174414\n",
      "2  0.655037  0.247654  0.377571  0.344309\n",
      "          A         B         C         D\n",
      "0  0.530069  0.327372  0.535214  0.532122\n",
      "1  0.530380  0.795693  0.533263  0.174414\n",
      "2  0.655037  0.247654  0.377571  0.344309\n"
     ]
    }
   ],
   "source": [
    "print('Task 29:') \n",
    "df = pd.DataFrame(np.random.rand(3,4), columns=list(\"ABCD\"))\n",
    "print(df.shape)   \n",
    "print(df)\n",
    "df.fillna(df.mean(), inplace=True)\n",
    "\n",
    "print(df)"
   ]
  },
  {
   "cell_type": "markdown",
   "metadata": {
    "papermill": {
     "duration": 0.201147,
     "end_time": "2020-10-25T04:53:01.959089",
     "exception": false,
     "start_time": "2020-10-25T04:53:01.757942",
     "status": "completed"
    },
    "tags": []
   },
   "source": [
    "<div style=\"\">\n",
    "    <div style=\"float: left; width: 80%;\">\n",
    "        <a id=\"30\"></a>\n",
    "        <font><b>Task 30:</b></font>\n",
    "        <br><br>\n",
    "        Last 4 rows\n",
    "    </div>\n",
    "    <div style=\"float: right;\">\n",
    "        <a href=\"#top\" class=\"btn btn-primary btn-sm\" role=\"button\" aria-pressed=\"true\" style=\"color:white\" data-toggle=\"popover\" title=\"go to Top\">Go to Top</a>\n",
    "    </div>\n",
    "    <br style=\"clear: left;\" />\n",
    "</div>"
   ]
  },
  {
   "cell_type": "code",
   "execution_count": 34,
   "metadata": {
    "execution": {
     "iopub.execute_input": "2020-10-25T04:53:02.377905Z",
     "iopub.status.busy": "2020-10-25T04:53:02.376740Z",
     "iopub.status.idle": "2020-10-25T04:53:02.381326Z",
     "shell.execute_reply": "2020-10-25T04:53:02.380652Z"
    },
    "papermill": {
     "duration": 0.217217,
     "end_time": "2020-10-25T04:53:02.381458",
     "exception": false,
     "start_time": "2020-10-25T04:53:02.164241",
     "status": "completed"
    },
    "tags": []
   },
   "outputs": [
    {
     "name": "stdout",
     "output_type": "stream",
     "text": [
      "Task 30:\n",
      "  capacity,score,length\n",
      "5               7,10,23\n",
      "6               3,20,22\n",
      "7               8,20,11\n",
      "8                2,30,2\n"
     ]
    }
   ],
   "source": [
    "print('Task 30:')  \n",
    "df = pandas.read_csv('/kaggle/input/datasets-for-pandas/data1.csv', sep=';') \n",
    "print(df[-4:])"
   ]
  },
  {
   "cell_type": "markdown",
   "metadata": {
    "papermill": {
     "duration": 0.200102,
     "end_time": "2020-10-25T04:53:02.781780",
     "exception": false,
     "start_time": "2020-10-25T04:53:02.581678",
     "status": "completed"
    },
    "tags": []
   },
   "source": [
    "<div style=\"\">\n",
    "    <div style=\"float: left; width: 80%;\">\n",
    "        <a id=\"31\"></a>\n",
    "        <font><b>Task 31:</b></font>\n",
    "        <br><br>\n",
    "        Expanding Apply\n",
    "    </div>\n",
    "    <div style=\"float: right;\">\n",
    "        <a href=\"#top\" class=\"btn btn-primary btn-sm\" role=\"button\" aria-pressed=\"true\" style=\"color:white\" data-toggle=\"popover\" title=\"go to Top\">Go to Top</a>\n",
    "    </div>\n",
    "    <br style=\"clear: left;\" />\n",
    "</div> "
   ]
  },
  {
   "cell_type": "code",
   "execution_count": 35,
   "metadata": {
    "execution": {
     "iopub.execute_input": "2020-10-25T04:53:03.209230Z",
     "iopub.status.busy": "2020-10-25T04:53:03.208430Z",
     "iopub.status.idle": "2020-10-25T04:53:03.212611Z",
     "shell.execute_reply": "2020-10-25T04:53:03.211658Z"
    },
    "papermill": {
     "duration": 0.227844,
     "end_time": "2020-10-25T04:53:03.212785",
     "exception": false,
     "start_time": "2020-10-25T04:53:02.984941",
     "status": "completed"
    },
    "tags": []
   },
   "outputs": [
    {
     "name": "stdout",
     "output_type": "stream",
     "text": [
      "Task 31:\n",
      "0    0.01\n",
      "1    0.02\n",
      "2    0.03\n",
      "3    0.04\n",
      "4    0.05\n",
      "dtype: float64\n",
      "0    1.010000\n",
      "1    1.030200\n",
      "2    1.061106\n",
      "3    1.103550\n",
      "4    1.158728\n",
      "dtype: float64\n"
     ]
    }
   ],
   "source": [
    "print('Task 31:')\n",
    "series1 = pd.Series([i / 100.0 for i in range(1,6)])\n",
    "print(series1)\n",
    "def CumRet(x,y):\n",
    "    return x * (1 + y)\n",
    "def Red(x):\n",
    "    return functools.reduce(CumRet,x,1.0)\n",
    "s2 = series1.expanding().apply(Red)\n",
    "# s2 = series1.expanding().apply(Red, raw=True) # is not working\n",
    "print(s2)"
   ]
  },
  {
   "cell_type": "markdown",
   "metadata": {
    "papermill": {
     "duration": 0.200618,
     "end_time": "2020-10-25T04:53:03.615981",
     "exception": false,
     "start_time": "2020-10-25T04:53:03.415363",
     "status": "completed"
    },
    "tags": []
   },
   "source": [
    "<div style=\"\">\n",
    "    <div style=\"float: left; width: 80%;\">\n",
    "        <a id=\"32\"></a>\n",
    "        <font><b>Task 32:</b></font>\n",
    "        <br><br>\n",
    "        Get 3 and 4th row\n",
    "    </div>\n",
    "    <div style=\"float: right;\">\n",
    "        <a href=\"#top\" class=\"btn btn-primary btn-sm\" role=\"button\" aria-pressed=\"true\" style=\"color:white\" data-toggle=\"popover\" title=\"go to Top\">Go to Top</a>\n",
    "    </div>\n",
    "    <br style=\"clear: left;\" />\n",
    "</div> "
   ]
  },
  {
   "cell_type": "code",
   "execution_count": 36,
   "metadata": {
    "execution": {
     "iopub.execute_input": "2020-10-25T04:53:04.033101Z",
     "iopub.status.busy": "2020-10-25T04:53:04.028562Z",
     "iopub.status.idle": "2020-10-25T04:53:04.038029Z",
     "shell.execute_reply": "2020-10-25T04:53:04.038846Z"
    },
    "papermill": {
     "duration": 0.220941,
     "end_time": "2020-10-25T04:53:04.039080",
     "exception": false,
     "start_time": "2020-10-25T04:53:03.818139",
     "status": "completed"
    },
    "tags": []
   },
   "outputs": [
    {
     "name": "stdout",
     "output_type": "stream",
     "text": [
      "Task 32:\n",
      "  capacity,score,length\n",
      "2               3,30,40\n",
      "3               3,40,30\n"
     ]
    }
   ],
   "source": [
    "print('Task 32:')  \n",
    "df = pandas.read_csv('/kaggle/input/datasets-for-pandas/data1.csv', sep=';') \n",
    "print(df[2:4])"
   ]
  },
  {
   "cell_type": "markdown",
   "metadata": {
    "papermill": {
     "duration": 0.201726,
     "end_time": "2020-10-25T04:53:04.446899",
     "exception": false,
     "start_time": "2020-10-25T04:53:04.245173",
     "status": "completed"
    },
    "tags": []
   },
   "source": [
    "<div style=\"\">\n",
    "    <div style=\"float: left; width: 80%;\">\n",
    "        <a id=\"33\"></a>\n",
    "        <font><b>Task 33:</b></font>\n",
    "        <br><br>\n",
    "        Last 4th to 1st\n",
    "    </div>\n",
    "    <div style=\"float: right;\">\n",
    "        <a href=\"#top\" class=\"btn btn-primary btn-sm\" role=\"button\" aria-pressed=\"true\" style=\"color:white\" data-toggle=\"popover\" title=\"go to Top\">Go to Top</a>\n",
    "    </div>\n",
    "    <br style=\"clear: left;\" />\n",
    "</div> "
   ]
  },
  {
   "cell_type": "code",
   "execution_count": 37,
   "metadata": {
    "execution": {
     "iopub.execute_input": "2020-10-25T04:53:04.869044Z",
     "iopub.status.busy": "2020-10-25T04:53:04.864538Z",
     "iopub.status.idle": "2020-10-25T04:53:04.874593Z",
     "shell.execute_reply": "2020-10-25T04:53:04.873938Z"
    },
    "papermill": {
     "duration": 0.221511,
     "end_time": "2020-10-25T04:53:04.874733",
     "exception": false,
     "start_time": "2020-10-25T04:53:04.653222",
     "status": "completed"
    },
    "tags": []
   },
   "outputs": [
    {
     "name": "stdout",
     "output_type": "stream",
     "text": [
      "Task 33:\n",
      "  capacity,score,length\n",
      "5               7,10,23\n",
      "6               3,20,22\n",
      "7               8,20,11\n"
     ]
    }
   ],
   "source": [
    "print('Task 33:')  \n",
    "df = pandas.read_csv('/kaggle/input/datasets-for-pandas/data1.csv', sep=';') \n",
    "print(df[-4:-1])"
   ]
  },
  {
   "cell_type": "markdown",
   "metadata": {
    "papermill": {
     "duration": 0.204996,
     "end_time": "2020-10-25T04:53:05.285773",
     "exception": false,
     "start_time": "2020-10-25T04:53:05.080777",
     "status": "completed"
    },
    "tags": []
   },
   "source": [
    "<div style=\"\">\n",
    "    <div style=\"float: left; width: 80%;\">\n",
    "        <a id=\"34\"></a>\n",
    "        <font><b>Task 34:</b></font>\n",
    "        <br><br>\n",
    "        iloc position slice\n",
    "    </div>\n",
    "    <div style=\"float: right;\">\n",
    "        <a href=\"#top\" class=\"btn btn-primary btn-sm\" role=\"button\" aria-pressed=\"true\" style=\"color:white\" data-toggle=\"popover\" title=\"go to Top\">Go to Top</a>\n",
    "    </div>\n",
    "    <br style=\"clear: left;\" />\n",
    "</div> "
   ]
  },
  {
   "cell_type": "code",
   "execution_count": 38,
   "metadata": {
    "execution": {
     "iopub.execute_input": "2020-10-25T04:53:05.748381Z",
     "iopub.status.busy": "2020-10-25T04:53:05.747321Z",
     "iopub.status.idle": "2020-10-25T04:53:05.751135Z",
     "shell.execute_reply": "2020-10-25T04:53:05.751939Z"
    },
    "papermill": {
     "duration": 0.22042,
     "end_time": "2020-10-25T04:53:05.752115",
     "exception": false,
     "start_time": "2020-10-25T04:53:05.531695",
     "status": "completed"
    },
    "tags": []
   },
   "outputs": [
    {
     "name": "stdout",
     "output_type": "stream",
     "text": [
      "Task 34:\n",
      "  capacity,score,length\n",
      "1               2,20,30\n",
      "2               3,30,40\n",
      "3               3,40,30\n",
      "4               2,30,40\n",
      "5               7,10,23\n",
      "6               3,20,22\n",
      "7               8,20,11\n",
      "8                2,30,2\n"
     ]
    }
   ],
   "source": [
    "print('Task 34:')  \n",
    "df = pandas.read_csv('/kaggle/input/datasets-for-pandas/data1.csv', sep=';') \n",
    "print(df.iloc[1:9])"
   ]
  },
  {
   "cell_type": "markdown",
   "metadata": {
    "papermill": {
     "duration": 0.207728,
     "end_time": "2020-10-25T04:53:06.162914",
     "exception": false,
     "start_time": "2020-10-25T04:53:05.955186",
     "status": "completed"
    },
    "tags": []
   },
   "source": [
    "<div style=\"\">\n",
    "    <div style=\"float: left; width: 80%;\">\n",
    "        <a id=\"35\"></a>\n",
    "        <font><b>Task 35:</b></font>\n",
    "        <br><br>\n",
    "        Loc - iloc - ix - at - iat\n",
    "    </div>\n",
    "    <div style=\"float: right;\">\n",
    "        <a href=\"#top\" class=\"btn btn-primary btn-sm\" role=\"button\" aria-pressed=\"true\" style=\"color:white\" data-toggle=\"popover\" title=\"go to Top\">Go to Top</a>\n",
    "    </div>\n",
    "    <br style=\"clear: left;\" />\n",
    "</div>"
   ]
  },
  {
   "cell_type": "code",
   "execution_count": 39,
   "metadata": {
    "execution": {
     "iopub.execute_input": "2020-10-25T04:53:06.582112Z",
     "iopub.status.busy": "2020-10-25T04:53:06.580963Z",
     "iopub.status.idle": "2020-10-25T04:53:06.584874Z",
     "shell.execute_reply": "2020-10-25T04:53:06.585579Z"
    },
    "papermill": {
     "duration": 0.215992,
     "end_time": "2020-10-25T04:53:06.585782",
     "exception": false,
     "start_time": "2020-10-25T04:53:06.369790",
     "status": "completed"
    },
    "tags": []
   },
   "outputs": [
    {
     "name": "stdout",
     "output_type": "stream",
     "text": [
      "Task 35:\n"
     ]
    }
   ],
   "source": [
    "print('Task 35:')  \n",
    "df = pandas.read_csv('/kaggle/input/datasets-for-pandas/data1.csv', sep=';')"
   ]
  },
  {
   "cell_type": "markdown",
   "metadata": {
    "papermill": {
     "duration": 0.207108,
     "end_time": "2020-10-25T04:53:06.997223",
     "exception": false,
     "start_time": "2020-10-25T04:53:06.790115",
     "status": "completed"
    },
    "tags": []
   },
   "source": [
    "<div style=\"\">\n",
    "    <div style=\"float: left; width: 80%;\">\n",
    "        <a id=\"36\"></a>\n",
    "        <font><b>Task 36:</b></font>\n",
    "        <br><br>\n",
    "        Random data\n",
    "    </div>\n",
    "    <div style=\"float: right;\">\n",
    "        <a href=\"#top\" class=\"btn btn-primary btn-sm\" role=\"button\" aria-pressed=\"true\" style=\"color:white\" data-toggle=\"popover\" title=\"go to Top\">Go to Top</a>\n",
    "    </div>\n",
    "    <br style=\"clear: left;\" />\n",
    "</div> "
   ]
  },
  {
   "cell_type": "code",
   "execution_count": 40,
   "metadata": {
    "execution": {
     "iopub.execute_input": "2020-10-25T04:53:07.444463Z",
     "iopub.status.busy": "2020-10-25T04:53:07.434042Z",
     "iopub.status.idle": "2020-10-25T04:53:07.455936Z",
     "shell.execute_reply": "2020-10-25T04:53:07.455317Z"
    },
    "papermill": {
     "duration": 0.248812,
     "end_time": "2020-10-25T04:53:07.456066",
     "exception": false,
     "start_time": "2020-10-25T04:53:07.207254",
     "status": "completed"
    },
    "tags": []
   },
   "outputs": [
    {
     "name": "stdout",
     "output_type": "stream",
     "text": [
      "Task 36:\n",
      "1000\n"
     ]
    },
    {
     "data": {
      "text/html": [
       "<div>\n",
       "<style scoped>\n",
       "    .dataframe tbody tr th:only-of-type {\n",
       "        vertical-align: middle;\n",
       "    }\n",
       "\n",
       "    .dataframe tbody tr th {\n",
       "        vertical-align: top;\n",
       "    }\n",
       "\n",
       "    .dataframe thead th {\n",
       "        text-align: right;\n",
       "    }\n",
       "</style>\n",
       "<table border=\"1\" class=\"dataframe\">\n",
       "  <thead>\n",
       "    <tr style=\"text-align: right;\">\n",
       "      <th></th>\n",
       "      <th>date</th>\n",
       "      <th>rnd_1</th>\n",
       "      <th>rnd_2</th>\n",
       "      <th>rnd_3</th>\n",
       "    </tr>\n",
       "  </thead>\n",
       "  <tbody>\n",
       "    <tr>\n",
       "      <th>0</th>\n",
       "      <td>2012-04-10</td>\n",
       "      <td>19</td>\n",
       "      <td>2</td>\n",
       "      <td>17</td>\n",
       "    </tr>\n",
       "    <tr>\n",
       "      <th>1</th>\n",
       "      <td>2012-04-11</td>\n",
       "      <td>19</td>\n",
       "      <td>13</td>\n",
       "      <td>2</td>\n",
       "    </tr>\n",
       "    <tr>\n",
       "      <th>2</th>\n",
       "      <td>2012-04-12</td>\n",
       "      <td>16</td>\n",
       "      <td>9</td>\n",
       "      <td>3</td>\n",
       "    </tr>\n",
       "    <tr>\n",
       "      <th>3</th>\n",
       "      <td>2012-04-13</td>\n",
       "      <td>1</td>\n",
       "      <td>19</td>\n",
       "      <td>19</td>\n",
       "    </tr>\n",
       "    <tr>\n",
       "      <th>4</th>\n",
       "      <td>2012-04-14</td>\n",
       "      <td>7</td>\n",
       "      <td>15</td>\n",
       "      <td>16</td>\n",
       "    </tr>\n",
       "  </tbody>\n",
       "</table>\n",
       "</div>"
      ],
      "text/plain": [
       "        date  rnd_1  rnd_2  rnd_3\n",
       "0 2012-04-10     19      2     17\n",
       "1 2012-04-11     19     13      2\n",
       "2 2012-04-12     16      9      3\n",
       "3 2012-04-13      1     19     19\n",
       "4 2012-04-14      7     15     16"
      ]
     },
     "execution_count": 40,
     "metadata": {},
     "output_type": "execute_result"
    }
   ],
   "source": [
    "print('Task 36:')  \n",
    "def xrange(x):\n",
    "    return iter(range(x))\n",
    "\n",
    "rnd_1  =  [ rn.randrange ( 1 , 20 )  for  x  in  xrange ( 1000 )] \n",
    "rnd_2  =  [ rn.randrange ( 1 , 20 )  for  x  in  xrange ( 1000 )] \n",
    "rnd_3  =  [ rn.randrange ( 1 , 20 )  for  x in  xrange ( 1000 )] \n",
    "date  =  pd . date_range ( '2012-4-10' ,  '2015-1-4' )\n",
    "print(len(date))\n",
    "data  =  pd . DataFrame ({ 'date' : date ,  'rnd_1' :  rnd_1 ,  'rnd_2' :  rnd_2 ,  'rnd_3' :  rnd_3 })\n",
    "\n",
    "data.head()"
   ]
  },
  {
   "cell_type": "markdown",
   "metadata": {
    "papermill": {
     "duration": 0.204404,
     "end_time": "2020-10-25T04:53:07.869102",
     "exception": false,
     "start_time": "2020-10-25T04:53:07.664698",
     "status": "completed"
    },
    "tags": []
   },
   "source": [
    "<div style=\"\">\n",
    "    <div style=\"float: left; width: 80%;\">\n",
    "        <a id=\"37\"></a>\n",
    "        <font><b>Task 37:</b></font>\n",
    "        <br><br>\n",
    "        Filter with the value comparison\n",
    "    </div>\n",
    "    <div style=\"float: right;\">\n",
    "        <a href=\"#top\" class=\"btn btn-primary btn-sm\" role=\"button\" aria-pressed=\"true\" style=\"color:white\" data-toggle=\"popover\" title=\"go to Top\">Go to Top</a>\n",
    "    </div>\n",
    "    <br style=\"clear: left;\" />\n",
    "</div> "
   ]
  },
  {
   "cell_type": "code",
   "execution_count": 41,
   "metadata": {
    "execution": {
     "iopub.execute_input": "2020-10-25T04:53:08.299463Z",
     "iopub.status.busy": "2020-10-25T04:53:08.292795Z",
     "iopub.status.idle": "2020-10-25T04:53:08.303288Z",
     "shell.execute_reply": "2020-10-25T04:53:08.304282Z"
    },
    "papermill": {
     "duration": 0.224417,
     "end_time": "2020-10-25T04:53:08.304524",
     "exception": false,
     "start_time": "2020-10-25T04:53:08.080107",
     "status": "completed"
    },
    "tags": []
   },
   "outputs": [
    {
     "name": "stdout",
     "output_type": "stream",
     "text": [
      "Task 37:\n",
      "          date  rnd_1  rnd_2  rnd_3\n",
      "0   2012-04-10     19      2     17\n",
      "1   2012-04-11     19     13      2\n",
      "2   2012-04-12     16      9      3\n",
      "3   2012-04-13      1     19     19\n",
      "4   2012-04-14      7     15     16\n",
      "..         ...    ...    ...    ...\n",
      "995 2014-12-31     10     18     13\n",
      "996 2015-01-01     19      9      7\n",
      "997 2015-01-02      6      6     13\n",
      "998 2015-01-03      4      9      1\n",
      "999 2015-01-04      1     16     15\n",
      "\n",
      "[1000 rows x 4 columns]\n"
     ]
    }
   ],
   "source": [
    "print('Task 37:')\n",
    "below_20 = data[data['rnd_1'] < 20]    \n",
    "print(below_20)"
   ]
  },
  {
   "cell_type": "markdown",
   "metadata": {
    "papermill": {
     "duration": 0.208815,
     "end_time": "2020-10-25T04:53:08.725823",
     "exception": false,
     "start_time": "2020-10-25T04:53:08.517008",
     "status": "completed"
    },
    "tags": []
   },
   "source": [
    "<div style=\"\">\n",
    "    <div style=\"float: left; width: 80%;\">\n",
    "        <a id=\"38\"></a>\n",
    "        <font><b>Task 38:</b></font>\n",
    "        <br><br>\n",
    "        Filter between 5 and 10 on col 1\n",
    "    </div>\n",
    "    <div style=\"float: right;\">\n",
    "        <a href=\"#top\" class=\"btn btn-primary btn-sm\" role=\"button\" aria-pressed=\"true\" style=\"color:white\" data-toggle=\"popover\" title=\"go to Top\">Go to Top</a>\n",
    "    </div>\n",
    "    <br style=\"clear: left;\" />\n",
    "</div> "
   ]
  },
  {
   "cell_type": "code",
   "execution_count": 42,
   "metadata": {
    "execution": {
     "iopub.execute_input": "2020-10-25T04:53:09.165184Z",
     "iopub.status.busy": "2020-10-25T04:53:09.157521Z",
     "iopub.status.idle": "2020-10-25T04:53:09.169680Z",
     "shell.execute_reply": "2020-10-25T04:53:09.170218Z"
    },
    "papermill": {
     "duration": 0.238147,
     "end_time": "2020-10-25T04:53:09.170388",
     "exception": false,
     "start_time": "2020-10-25T04:53:08.932241",
     "status": "completed"
    },
    "tags": []
   },
   "outputs": [
    {
     "name": "stdout",
     "output_type": "stream",
     "text": [
      "Task 38:\n",
      "1000\n"
     ]
    }
   ],
   "source": [
    "print('Task 38:') \n",
    "def xrange(x):\n",
    "    return iter(range(x))\n",
    "rnd_1  =  [ rn.randrange ( 1 , 20 )  for  x  in  xrange ( 1000 )] \n",
    "rnd_2  =  [ rn.randrange ( 1 , 20 )  for  x  in  xrange ( 1000 )] \n",
    "rnd_3  =  [ rn.randrange ( 1 , 20 )  for  x in  xrange ( 1000 )] \n",
    "date  =  pd . date_range ( '2012-4-10' ,  '2015-1-4' )\n",
    "print(len(date))\n",
    "data  =  pd . DataFrame ({ 'date' : date ,  'rnd_1' :  rnd_1 ,  'rnd_2' :  rnd_2 ,  'rnd_3' :  rnd_3 })\n",
    "below_20 = data[data['rnd_1'] < 20]\n",
    "ten_to_20 = data[(data['rnd_1'] >= 5) & (data['rnd_1'] < 10)]\n",
    "#print(ten_to_20)"
   ]
  },
  {
   "cell_type": "markdown",
   "metadata": {
    "papermill": {
     "duration": 0.204515,
     "end_time": "2020-10-25T04:53:09.584657",
     "exception": false,
     "start_time": "2020-10-25T04:53:09.380142",
     "status": "completed"
    },
    "tags": []
   },
   "source": [
    "<div style=\"\">\n",
    "    <div style=\"float: left; width: 80%;\">\n",
    "        <a id=\"39\"></a>\n",
    "        <font><b>Task 39:</b></font>\n",
    "        <br><br>\n",
    "        Filter between 15 to 20\n",
    "    </div>\n",
    "    <div style=\"float: right;\">\n",
    "        <a href=\"#top\" class=\"btn btn-primary btn-sm\" role=\"button\" aria-pressed=\"true\" style=\"color:white\" data-toggle=\"popover\" title=\"go to Top\">Go to Top</a>\n",
    "    </div>\n",
    "    <br style=\"clear: left;\" />\n",
    "</div> "
   ]
  },
  {
   "cell_type": "code",
   "execution_count": 43,
   "metadata": {
    "execution": {
     "iopub.execute_input": "2020-10-25T04:53:10.015536Z",
     "iopub.status.busy": "2020-10-25T04:53:10.006540Z",
     "iopub.status.idle": "2020-10-25T04:53:10.019012Z",
     "shell.execute_reply": "2020-10-25T04:53:10.019635Z"
    },
    "papermill": {
     "duration": 0.228488,
     "end_time": "2020-10-25T04:53:10.019795",
     "exception": false,
     "start_time": "2020-10-25T04:53:09.791307",
     "status": "completed"
    },
    "tags": []
   },
   "outputs": [
    {
     "name": "stdout",
     "output_type": "stream",
     "text": [
      "Task 39:\n",
      "         date  rnd_1  rnd_2  rnd_3\n",
      "0  2018-08-01     15     15     11\n",
      "1  2018-08-02     15     14     16\n",
      "2  2018-08-03     18      2     15\n",
      "5  2018-08-06     19     18      9\n",
      "10 2018-08-11     18      4      7\n"
     ]
    }
   ],
   "source": [
    "print('Task 39:')      \n",
    "date  =  pd . date_range ( '2018-08-01' ,  '2018-08-15' )\n",
    "date_count = len(date)\n",
    "\n",
    "def fill_rand(start, end, count):\n",
    "    return [rn.randrange(1, 20 ) for x in xrange( count )]\n",
    "\n",
    "rnd_1 = fill_rand(1, 20, date_count) \n",
    "rnd_2 = fill_rand(1, 20, date_count) \n",
    "rnd_3 = fill_rand(1, 20, date_count)\n",
    "#print(len(date))\n",
    "data  =  pd . DataFrame ({ 'date' : date ,  'rnd_1' :  rnd_1 ,  'rnd_2' :  rnd_2 ,  'rnd_3' :  rnd_3 })\n",
    "#print(len(date))\n",
    "ten_to_20 = data[(data['rnd_1'] >= 15) & (data['rnd_1'] < 20)]\n",
    "print(ten_to_20)"
   ]
  },
  {
   "cell_type": "markdown",
   "metadata": {
    "papermill": {
     "duration": 0.205198,
     "end_time": "2020-10-25T04:53:10.432752",
     "exception": false,
     "start_time": "2020-10-25T04:53:10.227554",
     "status": "completed"
    },
    "tags": []
   },
   "source": [
    "<div style=\"\">\n",
    "    <div style=\"float: left; width: 80%;\">\n",
    "        <a id=\"40\"></a>\n",
    "        <font><b>Task 40:</b></font>\n",
    "        <br><br>\n",
    "        15 to 33\n",
    "    </div>\n",
    "    <div style=\"float: right;\">\n",
    "        <a href=\"#top\" class=\"btn btn-primary btn-sm\" role=\"button\" aria-pressed=\"true\" style=\"color:white\" data-toggle=\"popover\" title=\"go to Top\">Go to Top</a>\n",
    "    </div>\n",
    "    <br style=\"clear: left;\" />\n",
    "</div>"
   ]
  },
  {
   "cell_type": "code",
   "execution_count": 44,
   "metadata": {
    "execution": {
     "iopub.execute_input": "2020-10-25T04:53:10.904521Z",
     "iopub.status.busy": "2020-10-25T04:53:10.903584Z",
     "iopub.status.idle": "2020-10-25T04:53:10.908676Z",
     "shell.execute_reply": "2020-10-25T04:53:10.907697Z"
    },
    "papermill": {
     "duration": 0.265334,
     "end_time": "2020-10-25T04:53:10.908846",
     "exception": false,
     "start_time": "2020-10-25T04:53:10.643512",
     "status": "completed"
    },
    "tags": []
   },
   "outputs": [
    {
     "name": "stdout",
     "output_type": "stream",
     "text": [
      "Task 40:\n",
      "         date  rnd_1  rnd_2  rnd_3\n",
      "3  2018-08-04     18      7     14\n",
      "4  2018-08-05     19     10     13\n",
      "6  2018-08-07     15      5     15\n",
      "8  2018-08-09     16     13     15\n",
      "12 2018-08-13     17      3     15\n"
     ]
    }
   ],
   "source": [
    "print('Task 40:')      \n",
    "date  =  pd . date_range ( '2018-08-01' ,  '2018-08-15' )\n",
    "date_count = len(date)\n",
    "\n",
    "def fill_rand(start, end, count):\n",
    "    return [rn.randrange(1, 20 ) for x in xrange( count )]\n",
    "\n",
    "rnd_1 = fill_rand(1, 20, date_count) \n",
    "rnd_2 = fill_rand(1, 20, date_count) \n",
    "rnd_3 = fill_rand(1, 20, date_count)\n",
    "\n",
    "data  =  pd . DataFrame ({ 'date' : date ,  'rnd_1' :  rnd_1 ,  'rnd_2' :  rnd_2 ,  'rnd_3' :  rnd_3 })\n",
    "\n",
    "ten_to_20 = data[(data['rnd_1'] >= 15) & (data['rnd_1'] < 33)]\n",
    "print(ten_to_20)"
   ]
  },
  {
   "cell_type": "markdown",
   "metadata": {
    "papermill": {
     "duration": 0.211999,
     "end_time": "2020-10-25T04:53:11.331330",
     "exception": false,
     "start_time": "2020-10-25T04:53:11.119331",
     "status": "completed"
    },
    "tags": []
   },
   "source": [
    "<div style=\"\">\n",
    "    <div style=\"float: left; width: 80%;\">\n",
    "        <a id=\"41\"></a>\n",
    "        <font><b>Task 41:</b></font>\n",
    "        <br><br>\n",
    "        Custom method and xrnage on dataframe\n",
    "    </div>\n",
    "    <div style=\"float: right;\">\n",
    "        <a href=\"#top\" class=\"btn btn-primary btn-sm\" role=\"button\" aria-pressed=\"true\" style=\"color:white\" data-toggle=\"popover\" title=\"go to Top\">Go to Top</a>\n",
    "    </div>\n",
    "    <br style=\"clear: left;\" />\n",
    "</div> "
   ]
  },
  {
   "cell_type": "code",
   "execution_count": 45,
   "metadata": {
    "execution": {
     "iopub.execute_input": "2020-10-25T04:53:11.776912Z",
     "iopub.status.busy": "2020-10-25T04:53:11.775884Z",
     "iopub.status.idle": "2020-10-25T04:53:11.780406Z",
     "shell.execute_reply": "2020-10-25T04:53:11.779606Z"
    },
    "papermill": {
     "duration": 0.239884,
     "end_time": "2020-10-25T04:53:11.780578",
     "exception": false,
     "start_time": "2020-10-25T04:53:11.540694",
     "status": "completed"
    },
    "tags": []
   },
   "outputs": [
    {
     "name": "stdout",
     "output_type": "stream",
     "text": [
      "Task 41:\n",
      "   rnd_2       date\n",
      "2     17 2018-08-03\n",
      "3      3 2018-08-04\n",
      "4     15 2018-08-05\n"
     ]
    }
   ],
   "source": [
    "print('Task 41:')  \n",
    "date  =  pd . date_range ( '2018-08-01' ,  '2018-08-15' )\n",
    "date_count = len(date)\n",
    "\n",
    "def xrange(x):\n",
    "    return iter(range(x))\n",
    "\n",
    "def fill_rand(start, end, count):\n",
    "    return [rn.randrange(1, 20 ) for x in xrange( count )]\n",
    "\n",
    "rnd_1 = fill_rand(1, 20, date_count) \n",
    "rnd_2 = fill_rand(1, 20, date_count) \n",
    "rnd_3 = fill_rand(1, 20, date_count)\n",
    "\n",
    "data  =  pd . DataFrame ({ 'date' : date ,  'rnd_1' :  rnd_1 ,  'rnd_2' :  rnd_2 ,  'rnd_3' :  rnd_3 })\n",
    "filter_loc = data.loc[ 2 : 4 ,  [ 'rnd_2' ,  'date' ]]\n",
    "print(filter_loc)"
   ]
  },
  {
   "cell_type": "markdown",
   "metadata": {
    "papermill": {
     "duration": 0.212789,
     "end_time": "2020-10-25T04:53:12.202210",
     "exception": false,
     "start_time": "2020-10-25T04:53:11.989421",
     "status": "completed"
    },
    "tags": []
   },
   "source": [
    "<div style=\"\">\n",
    "    <div style=\"float: left; width: 80%;\">\n",
    "        <a id=\"42\"></a>\n",
    "        <font><b>Task 42:</b></font>\n",
    "        <br><br>\n",
    "        Set index with date column\n",
    "    </div>\n",
    "    <div style=\"float: right;\">\n",
    "        <a href=\"#top\" class=\"btn btn-primary btn-sm\" role=\"button\" aria-pressed=\"true\" style=\"color:white\" data-toggle=\"popover\" title=\"go to Top\">Go to Top</a>\n",
    "    </div>\n",
    "    <br style=\"clear: left;\" />\n",
    "</div> "
   ]
  },
  {
   "cell_type": "code",
   "execution_count": 46,
   "metadata": {
    "execution": {
     "iopub.execute_input": "2020-10-25T04:53:12.628199Z",
     "iopub.status.busy": "2020-10-25T04:53:12.627205Z",
     "iopub.status.idle": "2020-10-25T04:53:12.631222Z",
     "shell.execute_reply": "2020-10-25T04:53:12.632085Z"
    },
    "papermill": {
     "duration": 0.22063,
     "end_time": "2020-10-25T04:53:12.632315",
     "exception": false,
     "start_time": "2020-10-25T04:53:12.411685",
     "status": "completed"
    },
    "tags": []
   },
   "outputs": [
    {
     "name": "stdout",
     "output_type": "stream",
     "text": [
      "Task 42:\n",
      "            rnd_1  rnd_2  rnd_3\n",
      "date                           \n",
      "2018-08-01      7     11     16\n",
      "2018-08-02      7      5      3\n",
      "2018-08-03     11     17      7\n",
      "2018-08-04      9      3      8\n",
      "2018-08-05      9     15      1\n"
     ]
    }
   ],
   "source": [
    "print('Task 42:')\n",
    "date_date = data.set_index( 'date' ) \n",
    "print(date_date.head())"
   ]
  },
  {
   "cell_type": "markdown",
   "metadata": {
    "papermill": {
     "duration": 0.211345,
     "end_time": "2020-10-25T04:53:13.051877",
     "exception": false,
     "start_time": "2020-10-25T04:53:12.840532",
     "status": "completed"
    },
    "tags": []
   },
   "source": [
    "<div style=\"\">\n",
    "    <div style=\"float: left; width: 80%;\">\n",
    "        <a id=\"43\"></a>\n",
    "        <font><b>Task 43:</b></font>\n",
    "        <br><br>\n",
    "        Change columns based on other columns\n",
    "    </div>\n",
    "    <div style=\"float: right;\">\n",
    "        <a href=\"#top\" class=\"btn btn-primary btn-sm\" role=\"button\" aria-pressed=\"true\" style=\"color:white\" data-toggle=\"popover\" title=\"go to Top\">Go to Top</a>\n",
    "    </div>\n",
    "    <br style=\"clear: left;\" />\n",
    "</div> "
   ]
  },
  {
   "cell_type": "code",
   "execution_count": 47,
   "metadata": {
    "execution": {
     "iopub.execute_input": "2020-10-25T04:53:13.485778Z",
     "iopub.status.busy": "2020-10-25T04:53:13.484742Z",
     "iopub.status.idle": "2020-10-25T04:53:13.488454Z",
     "shell.execute_reply": "2020-10-25T04:53:13.489261Z"
    },
    "papermill": {
     "duration": 0.226545,
     "end_time": "2020-10-25T04:53:13.489465",
     "exception": false,
     "start_time": "2020-10-25T04:53:13.262920",
     "status": "completed"
    },
    "tags": []
   },
   "outputs": [
    {
     "name": "stdout",
     "output_type": "stream",
     "text": [
      "Task 43:\n",
      "   a  b   c\n",
      "0  1  9  11\n",
      "1  2  8  12\n",
      "2  3  7  13\n",
      "3  4  6  14\n",
      "changing on one column\n",
      "   a  b   c\n",
      "0  1  9  11\n",
      "1  2  9  12\n",
      "2  3  9  13\n",
      "3  4  9  14\n"
     ]
    }
   ],
   "source": [
    "print('Task 43:') \n",
    "df = pd.DataFrame({\n",
    "    'a' : [1,2,3,4], \n",
    "    'b' : [9,8,7,6],\n",
    "    'c' : [11,12,13,14]\n",
    "})\n",
    "print(df) \n",
    "\n",
    "print('changing on one column')\n",
    "# Change columns\n",
    "df.loc[df.a >= 2,'b'] = 9\n",
    "print(df)"
   ]
  },
  {
   "cell_type": "markdown",
   "metadata": {
    "papermill": {
     "duration": 0.207638,
     "end_time": "2020-10-25T04:53:13.909132",
     "exception": false,
     "start_time": "2020-10-25T04:53:13.701494",
     "status": "completed"
    },
    "tags": []
   },
   "source": [
    "<div style=\"\">\n",
    "    <div style=\"float: left; width: 80%;\">\n",
    "        <a id=\"44\"></a>\n",
    "        <font><b>Task 44:</b></font>\n",
    "        <br><br>\n",
    "        Change multiple columns based on one column values\n",
    "    </div>\n",
    "    <div style=\"float: right;\">\n",
    "        <a href=\"#top\" class=\"btn btn-primary btn-sm\" role=\"button\" aria-pressed=\"true\" style=\"color:white\" data-toggle=\"popover\" title=\"go to Top\">Go to Top</a>\n",
    "    </div>\n",
    "    <br style=\"clear: left;\" />\n",
    "</div> "
   ]
  },
  {
   "cell_type": "code",
   "execution_count": 48,
   "metadata": {
    "execution": {
     "iopub.execute_input": "2020-10-25T04:53:14.340262Z",
     "iopub.status.busy": "2020-10-25T04:53:14.339396Z",
     "iopub.status.idle": "2020-10-25T04:53:14.343172Z",
     "shell.execute_reply": "2020-10-25T04:53:14.342564Z"
    },
    "papermill": {
     "duration": 0.2236,
     "end_time": "2020-10-25T04:53:14.343291",
     "exception": false,
     "start_time": "2020-10-25T04:53:14.119691",
     "status": "completed"
    },
    "tags": []
   },
   "outputs": [
    {
     "name": "stdout",
     "output_type": "stream",
     "text": [
      "Task 44:\n",
      "changing on multipe columns\n",
      "   a   b   c\n",
      "0  1   9  11\n",
      "1  2   9  12\n",
      "2  3  45  45\n",
      "3  4  45  45\n"
     ]
    }
   ],
   "source": [
    "print('Task 44:')  \n",
    "print('changing on multipe columns')\n",
    "df.loc[df.a > 2,['b', 'c']] = 45\n",
    "print(df)"
   ]
  },
  {
   "cell_type": "markdown",
   "metadata": {
    "papermill": {
     "duration": 0.211576,
     "end_time": "2020-10-25T04:53:14.764629",
     "exception": false,
     "start_time": "2020-10-25T04:53:14.553053",
     "status": "completed"
    },
    "tags": []
   },
   "source": [
    "<div style=\"\">\n",
    "    <div style=\"float: left; width: 80%;\">\n",
    "        <a id=\"45\"></a>\n",
    "        <font><b>Task 45:</b></font>\n",
    "        <br><br>\n",
    "        Pandas Mask\n",
    "    </div>\n",
    "    <div style=\"float: right;\">\n",
    "        <a href=\"#top\" class=\"btn btn-primary btn-sm\" role=\"button\" aria-pressed=\"true\" style=\"color:white\" data-toggle=\"popover\" title=\"go to Top\">Go to Top</a>\n",
    "    </div>\n",
    "    <br style=\"clear: left;\" />\n",
    "</div>"
   ]
  },
  {
   "cell_type": "code",
   "execution_count": 49,
   "metadata": {
    "execution": {
     "iopub.execute_input": "2020-10-25T04:53:15.198196Z",
     "iopub.status.busy": "2020-10-25T04:53:15.197108Z",
     "iopub.status.idle": "2020-10-25T04:53:15.201853Z",
     "shell.execute_reply": "2020-10-25T04:53:15.201145Z"
    },
    "papermill": {
     "duration": 0.228169,
     "end_time": "2020-10-25T04:53:15.201991",
     "exception": false,
     "start_time": "2020-10-25T04:53:14.973822",
     "status": "completed"
    },
    "tags": []
   },
   "outputs": [
    {
     "name": "stdout",
     "output_type": "stream",
     "text": [
      "Task 45:\n",
      "   a   b   c\n",
      "0  1   9  11\n",
      "1  2   9  12\n",
      "2  3  45  45\n",
      "3  4  45  45\n",
      "   a     b     c\n",
      "0  1 -1000    11\n",
      "1  2 -1000 -1000\n",
      "2  3 -1000    45\n",
      "3  4 -1000 -1000\n"
     ]
    }
   ],
   "source": [
    "print('Task 45:')  \n",
    "print(df)\n",
    "df_mask = pd.DataFrame({\n",
    "    'a' : [True] * 4, \n",
    "    'b' : [False] * 4,\n",
    "    'c' : [True, False] * 2\n",
    "})\n",
    "print(df.where(df_mask,-1000))"
   ]
  },
  {
   "cell_type": "markdown",
   "metadata": {
    "papermill": {
     "duration": 0.209442,
     "end_time": "2020-10-25T04:53:15.622845",
     "exception": false,
     "start_time": "2020-10-25T04:53:15.413403",
     "status": "completed"
    },
    "tags": []
   },
   "source": [
    "<div style=\"\">\n",
    "    <div style=\"float: left; width: 80%;\">\n",
    "        <a id=\"46\"></a>\n",
    "        <font><b>Task 46:</b></font>\n",
    "        <br><br>\n",
    "        Check high or low comparing the column against 5\n",
    "    </div>\n",
    "    <div style=\"float: right;\">\n",
    "        <a href=\"#top\" class=\"btn btn-primary btn-sm\" role=\"button\" aria-pressed=\"true\" style=\"color:white\" data-toggle=\"popover\" title=\"go to Top\">Go to Top</a>\n",
    "    </div>\n",
    "    <br style=\"clear: left;\" />\n",
    "</div>"
   ]
  },
  {
   "cell_type": "code",
   "execution_count": 50,
   "metadata": {
    "execution": {
     "iopub.execute_input": "2020-10-25T04:53:16.064448Z",
     "iopub.status.busy": "2020-10-25T04:53:16.063491Z",
     "iopub.status.idle": "2020-10-25T04:53:16.070304Z",
     "shell.execute_reply": "2020-10-25T04:53:16.069252Z"
    },
    "papermill": {
     "duration": 0.233259,
     "end_time": "2020-10-25T04:53:16.070444",
     "exception": false,
     "start_time": "2020-10-25T04:53:15.837185",
     "status": "completed"
    },
    "tags": []
   },
   "outputs": [
    {
     "name": "stdout",
     "output_type": "stream",
     "text": [
      "Task 46:\n",
      "   a   b   c\n",
      "0  1   9  11\n",
      "1  2   9  12\n",
      "2  3  45  45\n",
      "3  4  45  45\n",
      "   a   b   c logic\n",
      "0  1   9  11   low\n",
      "1  2   9  12   low\n",
      "2  3  45  45   low\n",
      "3  4  45  45   low\n"
     ]
    }
   ],
   "source": [
    "print('Task 46:')\n",
    "print(df)  \n",
    "df['logic'] = np.where(df['a'] > 5, 'high', 'low')\n",
    "print(df)"
   ]
  },
  {
   "cell_type": "markdown",
   "metadata": {
    "papermill": {
     "duration": 0.21059,
     "end_time": "2020-10-25T04:53:16.500338",
     "exception": false,
     "start_time": "2020-10-25T04:53:16.289748",
     "status": "completed"
    },
    "tags": []
   },
   "source": [
    "<div style=\"\">\n",
    "    <div style=\"float: left; width: 80%;\">\n",
    "        <a id=\"47\"></a>\n",
    "        <font><b>Task 47:</b></font>\n",
    "        <br><br>\n",
    "        Student Marks (Pass or Fail)\n",
    "    </div>\n",
    "    <div style=\"float: right;\">\n",
    "        <a href=\"#top\" class=\"btn btn-primary btn-sm\" role=\"button\" aria-pressed=\"true\" style=\"color:white\" data-toggle=\"popover\" title=\"go to Top\">Go to Top</a>\n",
    "    </div>\n",
    "    <br style=\"clear: left;\" />\n",
    "</div>"
   ]
  },
  {
   "cell_type": "code",
   "execution_count": 51,
   "metadata": {
    "execution": {
     "iopub.execute_input": "2020-10-25T04:53:16.946103Z",
     "iopub.status.busy": "2020-10-25T04:53:16.945308Z",
     "iopub.status.idle": "2020-10-25T04:53:16.950445Z",
     "shell.execute_reply": "2020-10-25T04:53:16.949422Z"
    },
    "papermill": {
     "duration": 0.233759,
     "end_time": "2020-10-25T04:53:16.950657",
     "exception": false,
     "start_time": "2020-10-25T04:53:16.716898",
     "status": "completed"
    },
    "tags": []
   },
   "outputs": [
    {
     "name": "stdout",
     "output_type": "stream",
     "text": [
      "Task 47:\n",
      "   Language  Math  Science\n",
      "0        60    90       45\n",
      "1        45    80       90\n",
      "2        78    23       95\n",
      "3         4    60       20\n",
      "   Language  Math  Science language_grade math_grade science_grade\n",
      "0        60    90       45           Pass       Pass          Fail\n",
      "1        45    80       90           Fail       Pass          Pass\n",
      "2        78    23       95           Pass       Fail          Pass\n",
      "3         4    60       20           Fail       Pass          Fail\n"
     ]
    }
   ],
   "source": [
    "print('Task 47:')\n",
    "marks_df = pd.DataFrame({\n",
    "    'Language' : [60, 45, 78, 4], \n",
    "    'Math' : [90, 80, 23, 60],\n",
    "    'Science' : [45, 90, 95, 20]\n",
    "});\n",
    "print(marks_df)\n",
    "marks_df['language_grade'] = np.where(marks_df['Language'] >= 50, 'Pass', 'Fail')\n",
    "marks_df['math_grade'] = np.where(marks_df['Math'] >= 50, 'Pass', 'Fail')\n",
    "marks_df['science_grade'] = np.where(marks_df['Science'] >= 50, 'Pass', 'Fail')\n",
    "print(marks_df)"
   ]
  },
  {
   "cell_type": "markdown",
   "metadata": {
    "papermill": {
     "duration": 0.213234,
     "end_time": "2020-10-25T04:53:17.379493",
     "exception": false,
     "start_time": "2020-10-25T04:53:17.166259",
     "status": "completed"
    },
    "tags": []
   },
   "source": [
    "<div style=\"\">\n",
    "    <div style=\"float: left; width: 80%;\">\n",
    "        <a id=\"48\"></a>\n",
    "        <font><b>Task 48:</b></font>\n",
    "        <br><br>\n",
    "        Get passed grades\n",
    "    </div>\n",
    "    <div style=\"float: right;\">\n",
    "        <a href=\"#top\" class=\"btn btn-primary btn-sm\" role=\"button\" aria-pressed=\"true\" style=\"color:white\" data-toggle=\"popover\" title=\"go to Top\">Go to Top</a>\n",
    "    </div>\n",
    "    <br style=\"clear: left;\" />\n",
    "</div>"
   ]
  },
  {
   "cell_type": "code",
   "execution_count": 52,
   "metadata": {
    "execution": {
     "iopub.execute_input": "2020-10-25T04:53:17.816288Z",
     "iopub.status.busy": "2020-10-25T04:53:17.815436Z",
     "iopub.status.idle": "2020-10-25T04:53:17.818850Z",
     "shell.execute_reply": "2020-10-25T04:53:17.819646Z"
    },
    "papermill": {
     "duration": 0.228693,
     "end_time": "2020-10-25T04:53:17.819853",
     "exception": false,
     "start_time": "2020-10-25T04:53:17.591160",
     "status": "completed"
    },
    "tags": []
   },
   "outputs": [
    {
     "name": "stdout",
     "output_type": "stream",
     "text": [
      "Task 48:\n",
      "   Language  Math  Science\n",
      "0        60    90       45\n",
      "1        45    80       90\n",
      "2        78    23       95\n",
      "3         4    60       20\n",
      "   Language  Math  Science\n",
      "0        60    90       45\n",
      "2        78    23       95\n"
     ]
    }
   ],
   "source": [
    "print('Task 48:')  \n",
    "marks_df = pd.DataFrame({\n",
    "    'Language' : [60, 45, 78, 4], \n",
    "    'Math' : [90, 80, 23, 60],\n",
    "    'Science' : [45, 90, 95, 20]\n",
    "});\n",
    "print(marks_df)\n",
    "marks_df_passed_in_language = marks_df[marks_df.Language >=50 ]\n",
    "print(marks_df_passed_in_language)"
   ]
  },
  {
   "cell_type": "markdown",
   "metadata": {
    "papermill": {
     "duration": 0.212561,
     "end_time": "2020-10-25T04:53:18.247842",
     "exception": false,
     "start_time": "2020-10-25T04:53:18.035281",
     "status": "completed"
    },
    "tags": []
   },
   "source": [
    "<div style=\"\">\n",
    "    <div style=\"float: left; width: 80%;\">\n",
    "        <a id=\"49\"></a>\n",
    "        <font><b>Task 49:</b></font>\n",
    "        <br><br>\n",
    "        Students passed in Language and Math\n",
    "    </div>\n",
    "    <div style=\"float: right;\">\n",
    "        <a href=\"#top\" class=\"btn btn-primary btn-sm\" role=\"button\" aria-pressed=\"true\" style=\"color:white\" data-toggle=\"popover\" title=\"go to Top\">Go to Top</a>\n",
    "    </div>\n",
    "    <br style=\"clear: left;\" />\n",
    "</div> "
   ]
  },
  {
   "cell_type": "code",
   "execution_count": 53,
   "metadata": {
    "execution": {
     "iopub.execute_input": "2020-10-25T04:53:18.681991Z",
     "iopub.status.busy": "2020-10-25T04:53:18.681187Z",
     "iopub.status.idle": "2020-10-25T04:53:18.684951Z",
     "shell.execute_reply": "2020-10-25T04:53:18.685952Z"
    },
    "papermill": {
     "duration": 0.224831,
     "end_time": "2020-10-25T04:53:18.686170",
     "exception": false,
     "start_time": "2020-10-25T04:53:18.461339",
     "status": "completed"
    },
    "tags": []
   },
   "outputs": [
    {
     "name": "stdout",
     "output_type": "stream",
     "text": [
      "Task 49:\n",
      "   Language  Math  Science\n",
      "0        60    90       45\n"
     ]
    }
   ],
   "source": [
    "print('Task 49:')  \n",
    "marks_df_passed_in_lang_math = marks_df[(marks_df.Language >=50) & (marks_df.Math >= 50)]\n",
    "print(marks_df_passed_in_lang_math)"
   ]
  },
  {
   "cell_type": "markdown",
   "metadata": {
    "papermill": {
     "duration": 0.215099,
     "end_time": "2020-10-25T04:53:19.117619",
     "exception": false,
     "start_time": "2020-10-25T04:53:18.902520",
     "status": "completed"
    },
    "tags": []
   },
   "source": [
    "<div style=\"\">\n",
    "    <div style=\"float: left; width: 80%;\">\n",
    "        <a id=\"50\"></a>\n",
    "        <font><b>Task 50:</b></font>\n",
    "        <br><br>\n",
    "        Students passed in Language and Science\n",
    "    </div>\n",
    "    <div style=\"float: right;\">\n",
    "        <a href=\"#top\" class=\"btn btn-primary btn-sm\" role=\"button\" aria-pressed=\"true\" style=\"color:white\" data-toggle=\"popover\" title=\"go to Top\">Go to Top</a>\n",
    "    </div>\n",
    "    <br style=\"clear: left;\" />\n",
    "</div>"
   ]
  },
  {
   "cell_type": "code",
   "execution_count": 54,
   "metadata": {
    "execution": {
     "iopub.execute_input": "2020-10-25T04:53:19.580608Z",
     "iopub.status.busy": "2020-10-25T04:53:19.579586Z",
     "iopub.status.idle": "2020-10-25T04:53:19.584001Z",
     "shell.execute_reply": "2020-10-25T04:53:19.584645Z"
    },
    "papermill": {
     "duration": 0.248443,
     "end_time": "2020-10-25T04:53:19.584817",
     "exception": false,
     "start_time": "2020-10-25T04:53:19.336374",
     "status": "completed"
    },
    "tags": []
   },
   "outputs": [
    {
     "name": "stdout",
     "output_type": "stream",
     "text": [
      "Task 50:\n",
      "   Language  Math  Science\n",
      "2        78    23       95\n"
     ]
    }
   ],
   "source": [
    "print('Task 50:')  \n",
    "marks_df_passed_in_lang_and_sc = marks_df.loc[(marks_df.Language >=50) & (marks_df.Science >= 50)]\n",
    "print(marks_df_passed_in_lang_and_sc)"
   ]
  },
  {
   "cell_type": "markdown",
   "metadata": {
    "papermill": {
     "duration": 0.222511,
     "end_time": "2020-10-25T04:53:20.050975",
     "exception": false,
     "start_time": "2020-10-25T04:53:19.828464",
     "status": "completed"
    },
    "tags": []
   },
   "source": [
    "<div style=\"\">\n",
    "    <div style=\"float: left; width: 80%;\">\n",
    "        <a id=\"51\"></a>\n",
    "        <font><b>Task 51:</b></font>\n",
    "        <br><br>\n",
    "        Loc with Label oriented slicing\n",
    "<br>possible error:\n",
    "<br>pandas.errors.UnsortedIndexError\n",
    "    </div>\n",
    "    <div style=\"float: right;\">\n",
    "        <a href=\"#top\" class=\"btn btn-primary btn-sm\" role=\"button\" aria-pressed=\"true\" style=\"color:white\" data-toggle=\"popover\" title=\"go to Top\">Go to Top</a>\n",
    "    </div>\n",
    "    <br style=\"clear: left;\" />\n",
    "</div> "
   ]
  },
  {
   "cell_type": "code",
   "execution_count": 55,
   "metadata": {
    "execution": {
     "iopub.execute_input": "2020-10-25T04:53:20.507586Z",
     "iopub.status.busy": "2020-10-25T04:53:20.506627Z",
     "iopub.status.idle": "2020-10-25T04:53:20.511446Z",
     "shell.execute_reply": "2020-10-25T04:53:20.510276Z"
    },
    "papermill": {
     "duration": 0.236047,
     "end_time": "2020-10-25T04:53:20.511649",
     "exception": false,
     "start_time": "2020-10-25T04:53:20.275602",
     "status": "completed"
    },
    "tags": []
   },
   "outputs": [
    {
     "name": "stdout",
     "output_type": "stream",
     "text": [
      "Task 51:\n",
      "         age  movies  awards\n",
      "dhanush   31      51      42\n",
      "simbu     23      23      12\n",
      "kamal     65      87       4\n",
      "vikram    50     200      78\n"
     ]
    }
   ],
   "source": [
    "print('Task 51:')\n",
    "stars = {\n",
    "    'age' : [31, 23, 65, 50],\n",
    "    'movies' : [51, 23, 87, 200],\n",
    "    'awards' : [42, 12, 4, 78]\n",
    "    }\n",
    "star_names = ['dhanush', 'simbu', 'kamal', 'vikram']\n",
    "stars_df = pd.DataFrame(data=stars, index=[star_names])\n",
    "print(stars_df)"
   ]
  },
  {
   "cell_type": "markdown",
   "metadata": {
    "papermill": {
     "duration": 0.213984,
     "end_time": "2020-10-25T04:53:20.943089",
     "exception": false,
     "start_time": "2020-10-25T04:53:20.729105",
     "status": "completed"
    },
    "tags": []
   },
   "source": [
    "<div style=\"\">\n",
    "    <div style=\"float: left; width: 80%;\">\n",
    "        <a id=\"52\"></a>\n",
    "        <font><b>Task 52:</b></font>\n",
    "        <br><br>\n",
    "        iloc with positional slicing\n",
    "    </div>\n",
    "    <div style=\"float: right;\">\n",
    "        <a href=\"#top\" class=\"btn btn-primary btn-sm\" role=\"button\" aria-pressed=\"true\" style=\"color:white\" data-toggle=\"popover\" title=\"go to Top\">Go to Top</a>\n",
    "    </div>\n",
    "    <br style=\"clear: left;\" />\n",
    "</div> "
   ]
  },
  {
   "cell_type": "code",
   "execution_count": 56,
   "metadata": {
    "execution": {
     "iopub.execute_input": "2020-10-25T04:53:21.384234Z",
     "iopub.status.busy": "2020-10-25T04:53:21.383187Z",
     "iopub.status.idle": "2020-10-25T04:53:21.388045Z",
     "shell.execute_reply": "2020-10-25T04:53:21.387008Z"
    },
    "papermill": {
     "duration": 0.227523,
     "end_time": "2020-10-25T04:53:21.388178",
     "exception": false,
     "start_time": "2020-10-25T04:53:21.160655",
     "status": "completed"
    },
    "tags": []
   },
   "outputs": [
    {
     "name": "stdout",
     "output_type": "stream",
     "text": [
      "Task 52:\n",
      "       age  movies  awards\n",
      "simbu   23      23      12\n",
      "kamal   65      87       4\n"
     ]
    }
   ],
   "source": [
    "print('Task 52:')  \n",
    "print(stars_df.iloc[1:3])"
   ]
  },
  {
   "cell_type": "markdown",
   "metadata": {
    "papermill": {
     "duration": 0.261759,
     "end_time": "2020-10-25T04:53:21.869902",
     "exception": false,
     "start_time": "2020-10-25T04:53:21.608143",
     "status": "completed"
    },
    "tags": []
   },
   "source": [
    "<div style=\"\">\n",
    "    <div style=\"float: left; width: 80%;\">\n",
    "        <a id=\"53\"></a>\n",
    "        <font><b>Task 53:</b></font>\n",
    "        <br><br>\n",
    "        Label between numbers\n",
    "    </div>\n",
    "    <div style=\"float: right;\">\n",
    "        <a href=\"#top\" class=\"btn btn-primary btn-sm\" role=\"button\" aria-pressed=\"true\" style=\"color:white\" data-toggle=\"popover\" title=\"go to Top\">Go to Top</a>\n",
    "    </div>\n",
    "    <br style=\"clear: left;\" />\n",
    "</div>"
   ]
  },
  {
   "cell_type": "code",
   "execution_count": 57,
   "metadata": {
    "execution": {
     "iopub.execute_input": "2020-10-25T04:53:22.328048Z",
     "iopub.status.busy": "2020-10-25T04:53:22.323614Z",
     "iopub.status.idle": "2020-10-25T04:53:22.334260Z",
     "shell.execute_reply": "2020-10-25T04:53:22.335064Z"
    },
    "papermill": {
     "duration": 0.247592,
     "end_time": "2020-10-25T04:53:22.335259",
     "exception": false,
     "start_time": "2020-10-25T04:53:22.087667",
     "status": "completed"
    },
    "tags": []
   },
   "outputs": [
    {
     "name": "stdout",
     "output_type": "stream",
     "text": [
      "Task 53:\n",
      "    one  two\n",
      "12   10    2\n",
      "14   50    6\n",
      "16   80   56\n",
      "18   40   45\n",
      "label between 12 and 16\n",
      "    one  two\n",
      "12   10    2\n",
      "14   50    6\n",
      "16   80   56\n",
      "index between 1 and 3\n",
      "    one  two\n",
      "14   50    6\n",
      "16   80   56\n"
     ]
    }
   ],
   "source": [
    "print('Task 53:')  \n",
    "numbers = pd.DataFrame({\n",
    "        'one' : [10, 50, 80, 40],\n",
    "        'two' : [2, 6, 56, 45]\n",
    "    },\n",
    "    index = [12, 14, 16, 18])\n",
    "print(numbers)\n",
    "\n",
    "print('label between 12 and 16')\n",
    "print(numbers.loc[12:16])\n",
    "\n",
    "print('index between 1 and 3')\n",
    "print(numbers.iloc[1:3])"
   ]
  },
  {
   "cell_type": "markdown",
   "metadata": {
    "papermill": {
     "duration": 0.212859,
     "end_time": "2020-10-25T04:53:22.762443",
     "exception": false,
     "start_time": "2020-10-25T04:53:22.549584",
     "status": "completed"
    },
    "tags": []
   },
   "source": [
    "<div style=\"\">\n",
    "    <div style=\"float: left; width: 80%;\">\n",
    "        <a id=\"54\"></a>\n",
    "        <font><b>Task 54:</b></font>\n",
    "        <br><br>\n",
    "        Stars with names\n",
    "    </div>\n",
    "    <div style=\"float: right;\">\n",
    "        <a href=\"#top\" class=\"btn btn-primary btn-sm\" role=\"button\" aria-pressed=\"true\" style=\"color:white\" data-toggle=\"popover\" title=\"go to Top\">Go to Top</a>\n",
    "    </div>\n",
    "    <br style=\"clear: left;\" />\n",
    "</div> "
   ]
  },
  {
   "cell_type": "code",
   "execution_count": 58,
   "metadata": {
    "execution": {
     "iopub.execute_input": "2020-10-25T04:53:23.212146Z",
     "iopub.status.busy": "2020-10-25T04:53:23.211201Z",
     "iopub.status.idle": "2020-10-25T04:53:23.214728Z",
     "shell.execute_reply": "2020-10-25T04:53:23.215560Z"
    },
    "papermill": {
     "duration": 0.238479,
     "end_time": "2020-10-25T04:53:23.215770",
     "exception": false,
     "start_time": "2020-10-25T04:53:22.977291",
     "status": "completed"
    },
    "tags": []
   },
   "outputs": [
    {
     "name": "stdout",
     "output_type": "stream",
     "text": [
      "Task 54:\n",
      "    one  two\n",
      "12   10    2\n",
      "14   50    6\n",
      "16   80   56\n",
      "18   40   45\n"
     ]
    }
   ],
   "source": [
    "print('Task 54:') \n",
    "stars = {\n",
    "    'age' : [31, 23, 65, 50],\n",
    "    'movies' : [51, 23, 87, 200],\n",
    "    'awards' : [42, 12, 4, 78]\n",
    "    }\n",
    "star_names = ['dhanush', 'simbu', 'kamal', 'vikram']\n",
    "stars_df = pd.DataFrame(data=stars, index=[star_names])\n",
    "numbers = pd.DataFrame({\n",
    "        'one' : [10, 50, 80, 40],\n",
    "        'two' : [2, 6, 56, 45]\n",
    "    },\n",
    "    index = [12, 14, 16, 18])\n",
    "print(numbers)"
   ]
  },
  {
   "cell_type": "markdown",
   "metadata": {
    "papermill": {
     "duration": 0.213133,
     "end_time": "2020-10-25T04:53:23.647313",
     "exception": false,
     "start_time": "2020-10-25T04:53:23.434180",
     "status": "completed"
    },
    "tags": []
   },
   "source": [
    "<div style=\"\">\n",
    "    <div style=\"float: left; width: 80%;\">\n",
    "        <a id=\"55\"></a>\n",
    "        <font><b>Task 55:</b></font>\n",
    "        <br><br>\n",
    "        Row label selection\n",
    "        <br>Age is above 25 and movies above 25\n",
    "    </div>\n",
    "    <div style=\"float: right;\">\n",
    "        <a href=\"#top\" class=\"btn btn-primary btn-sm\" role=\"button\" aria-pressed=\"true\" style=\"color:white\" data-toggle=\"popover\" title=\"go to Top\">Go to Top</a>\n",
    "    </div>\n",
    "    <br style=\"clear: left;\" />\n",
    "</div>"
   ]
  },
  {
   "cell_type": "code",
   "execution_count": 59,
   "metadata": {
    "execution": {
     "iopub.execute_input": "2020-10-25T04:53:24.090563Z",
     "iopub.status.busy": "2020-10-25T04:53:24.086150Z",
     "iopub.status.idle": "2020-10-25T04:53:24.095434Z",
     "shell.execute_reply": "2020-10-25T04:53:24.094805Z"
    },
    "papermill": {
     "duration": 0.232821,
     "end_time": "2020-10-25T04:53:24.095594",
     "exception": false,
     "start_time": "2020-10-25T04:53:23.862773",
     "status": "completed"
    },
    "tags": []
   },
   "outputs": [
    {
     "name": "stdout",
     "output_type": "stream",
     "text": [
      "Task 55:\n",
      "         age  movies  awards\n",
      "dhanush   31      51      42\n",
      "kamal     65      87       4\n",
      "vikram    50     200      78\n"
     ]
    }
   ],
   "source": [
    "print('Task 55:')\n",
    "\n",
    "age_movies_25 = stars_df[(stars_df.movies > 25 ) & (stars_df.age > 25)]  \n",
    "print(age_movies_25)"
   ]
  },
  {
   "cell_type": "markdown",
   "metadata": {
    "papermill": {
     "duration": 0.23943,
     "end_time": "2020-10-25T04:53:24.566883",
     "exception": false,
     "start_time": "2020-10-25T04:53:24.327453",
     "status": "completed"
    },
    "tags": []
   },
   "source": [
    "<div style=\"\">\n",
    "    <div style=\"float: left; width: 80%;\">\n",
    "        <a id=\"56\"></a>\n",
    "        <font><b>Task 56:</b></font>\n",
    "        <br><br>\n",
    "        Stars in in certain ages\n",
    "    </div>\n",
    "    <div style=\"float: right;\">\n",
    "        <a href=\"#top\" class=\"btn btn-primary btn-sm\" role=\"button\" aria-pressed=\"true\" style=\"color:white\" data-toggle=\"popover\" title=\"go to Top\">Go to Top</a>\n",
    "    </div>\n",
    "    <br style=\"clear: left;\" />\n",
    "</div> "
   ]
  },
  {
   "cell_type": "code",
   "execution_count": 60,
   "metadata": {
    "execution": {
     "iopub.execute_input": "2020-10-25T04:53:25.011516Z",
     "iopub.status.busy": "2020-10-25T04:53:25.010447Z",
     "iopub.status.idle": "2020-10-25T04:53:25.014200Z",
     "shell.execute_reply": "2020-10-25T04:53:25.014859Z"
    },
    "papermill": {
     "duration": 0.232432,
     "end_time": "2020-10-25T04:53:25.015025",
     "exception": false,
     "start_time": "2020-10-25T04:53:24.782593",
     "status": "completed"
    },
    "tags": []
   },
   "outputs": [
    {
     "name": "stdout",
     "output_type": "stream",
     "text": [
      "Task 56:\n",
      "         age  movies  awards\n",
      "dhanush   31      51      42\n",
      "kamal     65      87       4\n"
     ]
    }
   ],
   "source": [
    "print('Task 56:')  \n",
    "custom_stars = stars_df[stars_df.age.isin([31, 65])]\n",
    "print(custom_stars)"
   ]
  },
  {
   "cell_type": "markdown",
   "metadata": {
    "papermill": {
     "duration": 0.215437,
     "end_time": "2020-10-25T04:53:25.446373",
     "exception": false,
     "start_time": "2020-10-25T04:53:25.230936",
     "status": "completed"
    },
    "tags": []
   },
   "source": [
    "<div style=\"\">\n",
    "    <div style=\"float: left; width: 80%;\">\n",
    "        <a id=\"57\"></a>\n",
    "        <font><b>Task 57:</b></font>\n",
    "        <br><br>\n",
    "        inverse opeartor\n",
    "         <br>!( above one.45 and below two.50 )\n",
    "    </div>\n",
    "    <div style=\"float: right;\">\n",
    "        <a href=\"#top\" class=\"btn btn-primary btn-sm\" role=\"button\" aria-pressed=\"true\" style=\"color:white\" data-toggle=\"popover\" title=\"go to Top\">Go to Top</a>\n",
    "    </div>\n",
    "    <br style=\"clear: left;\" />\n",
    "</div> "
   ]
  },
  {
   "cell_type": "code",
   "execution_count": 61,
   "metadata": {
    "execution": {
     "iopub.execute_input": "2020-10-25T04:53:25.893821Z",
     "iopub.status.busy": "2020-10-25T04:53:25.892716Z",
     "iopub.status.idle": "2020-10-25T04:53:25.896329Z",
     "shell.execute_reply": "2020-10-25T04:53:25.897008Z"
    },
    "papermill": {
     "duration": 0.231436,
     "end_time": "2020-10-25T04:53:25.897187",
     "exception": false,
     "start_time": "2020-10-25T04:53:25.665751",
     "status": "completed"
    },
    "tags": []
   },
   "outputs": [
    {
     "name": "stdout",
     "output_type": "stream",
     "text": [
      "Task 57:\n",
      "    one  two\n",
      "12   10    2\n",
      "14   50    6\n",
      "16   80   56\n",
      "18   40   45\n",
      "    one  two\n",
      "12   10    2\n",
      "16   80   56\n",
      "18   40   45\n"
     ]
    }
   ],
   "source": [
    "print('Task 57:')  \n",
    "print(numbers)\n",
    "print(numbers[~( (numbers.one > 45) & (numbers.two < 50) )])"
   ]
  },
  {
   "cell_type": "markdown",
   "metadata": {
    "papermill": {
     "duration": 0.21844,
     "end_time": "2020-10-25T04:53:26.336338",
     "exception": false,
     "start_time": "2020-10-25T04:53:26.117898",
     "status": "completed"
    },
    "tags": []
   },
   "source": [
    "<div style=\"\">\n",
    "    <div style=\"float: left; width: 80%;\">\n",
    "        <a id=\"58\"></a>\n",
    "        <font><b>Task 58:</b></font>\n",
    "        <br><br>\n",
    "        Apply custom function\n",
    "    </div>\n",
    "    <div style=\"float: right;\">\n",
    "        <a href=\"#top\" class=\"btn btn-primary btn-sm\" role=\"button\" aria-pressed=\"true\" style=\"color:white\" data-toggle=\"popover\" title=\"go to Top\">Go to Top</a>\n",
    "    </div>\n",
    "    <br style=\"clear: left;\" />\n",
    "</div> "
   ]
  },
  {
   "cell_type": "code",
   "execution_count": 62,
   "metadata": {
    "execution": {
     "iopub.execute_input": "2020-10-25T04:53:26.798692Z",
     "iopub.status.busy": "2020-10-25T04:53:26.784280Z",
     "iopub.status.idle": "2020-10-25T04:53:26.809322Z",
     "shell.execute_reply": "2020-10-25T04:53:26.808691Z"
    },
    "papermill": {
     "duration": 0.255132,
     "end_time": "2020-10-25T04:53:26.809449",
     "exception": false,
     "start_time": "2020-10-25T04:53:26.554317",
     "status": "completed"
    },
    "tags": []
   },
   "outputs": [
    {
     "name": "stdout",
     "output_type": "stream",
     "text": [
      "Task 58:\n",
      "       size   weight  adult\n",
      "animal                     \n",
      "cat       L   9.4375   True\n",
      "dog       L  12.5000   True\n",
      "fish      L   1.2500   True\n"
     ]
    }
   ],
   "source": [
    "print('Task 58:')\n",
    "def GrowUp(x):\n",
    "    avg_weight =  sum(x[x['size'] == 'series1'].weight * 1.5)\n",
    "    avg_weight += sum(x[x['size'] == 'M'].weight * 1.25)\n",
    "    avg_weight += sum(x[x['size'] == 'L'].weight)\n",
    "    avg_weight /= len(x)\n",
    "    return pd.Series(['L',avg_weight,True], index=['size', 'weight', 'adult'])\n",
    "\n",
    "animals_df = pd.DataFrame({'animal': 'cat dog cat fish dog cat cat'.split(),\n",
    "                   'size': list('SSMMMLL'),\n",
    "                   'weight': [8, 10, 11, 1, 20, 12, 12],\n",
    "                   'adult' : [False] * 5 + [True] * 2})\n",
    "\n",
    "gb = animals_df.groupby(['animal'])\n",
    "\n",
    "expected_df = gb.apply(GrowUp)\n",
    "print(expected_df)"
   ]
  },
  {
   "cell_type": "markdown",
   "metadata": {
    "papermill": {
     "duration": 0.220897,
     "end_time": "2020-10-25T04:53:27.253600",
     "exception": false,
     "start_time": "2020-10-25T04:53:27.032703",
     "status": "completed"
    },
    "tags": []
   },
   "source": [
    "<div style=\"\">\n",
    "    <div style=\"float: left; width: 80%;\">\n",
    "        <a id=\"59\"></a>\n",
    "        <font><b>Task 59:</b></font>\n",
    "        <br><br>\n",
    "        Group by single column\n",
    "    </div>\n",
    "    <div style=\"float: right;\">\n",
    "        <a href=\"#top\" class=\"btn btn-primary btn-sm\" role=\"button\" aria-pressed=\"true\" style=\"color:white\" data-toggle=\"popover\" title=\"go to Top\">Go to Top</a>\n",
    "    </div>\n",
    "    <br style=\"clear: left;\" />\n",
    "</div> "
   ]
  },
  {
   "cell_type": "code",
   "execution_count": 63,
   "metadata": {
    "execution": {
     "iopub.execute_input": "2020-10-25T04:53:27.704668Z",
     "iopub.status.busy": "2020-10-25T04:53:27.703260Z",
     "iopub.status.idle": "2020-10-25T04:53:27.707764Z",
     "shell.execute_reply": "2020-10-25T04:53:27.708832Z"
    },
    "papermill": {
     "duration": 0.235111,
     "end_time": "2020-10-25T04:53:27.709063",
     "exception": false,
     "start_time": "2020-10-25T04:53:27.473952",
     "status": "completed"
    },
    "tags": []
   },
   "outputs": [
    {
     "name": "stdout",
     "output_type": "stream",
     "text": [
      "Task 59:\n",
      "  animal size  weight  adult\n",
      "4    dog    M      20  False\n"
     ]
    }
   ],
   "source": [
    "print('Task 59:')\n",
    "weights = animals_df.groupby(['weight']).get_group(20)  \n",
    "print(weights)"
   ]
  },
  {
   "cell_type": "markdown",
   "metadata": {
    "papermill": {
     "duration": 0.228809,
     "end_time": "2020-10-25T04:53:28.165963",
     "exception": false,
     "start_time": "2020-10-25T04:53:27.937154",
     "status": "completed"
    },
    "tags": []
   },
   "source": [
    "<div style=\"\">\n",
    "    <div style=\"float: left; width: 80%;\">\n",
    "        <a id=\"60\"></a>\n",
    "        <font><b>Task 60:</b></font>\n",
    "        <br><br>\n",
    "        Creating new Columns using Applymap\n",
    "        <br>Sides & applymap\n",
    "    </div>\n",
    "    <div style=\"float: right;\">\n",
    "        <a href=\"#top\" class=\"btn btn-primary btn-sm\" role=\"button\" aria-pressed=\"true\" style=\"color:white\" data-toggle=\"popover\" title=\"go to Top\">Go to Top</a>\n",
    "    </div>\n",
    "    <br style=\"clear: left;\" />\n",
    "</div>"
   ]
  },
  {
   "cell_type": "code",
   "execution_count": 64,
   "metadata": {
    "execution": {
     "iopub.execute_input": "2020-10-25T04:53:28.625352Z",
     "iopub.status.busy": "2020-10-25T04:53:28.624585Z",
     "iopub.status.idle": "2020-10-25T04:53:28.629017Z",
     "shell.execute_reply": "2020-10-25T04:53:28.628364Z"
    },
    "papermill": {
     "duration": 0.240465,
     "end_time": "2020-10-25T04:53:28.629141",
     "exception": false,
     "start_time": "2020-10-25T04:53:28.388676",
     "status": "completed"
    },
    "tags": []
   },
   "outputs": [
    {
     "name": "stdout",
     "output_type": "stream",
     "text": [
      "Task 60:\n",
      "   a  b\n",
      "0  1  2\n",
      "1  1  1\n",
      "2  2  3\n",
      "3  4  4\n",
      "Index(['a', 'b'], dtype='object')\n",
      "   a  b a_side b_side\n",
      "0  1  2  North   East\n",
      "1  1  1  North  North\n",
      "2  2  3   East  South\n",
      "3  4  4   West   West\n"
     ]
    }
   ],
   "source": [
    "print('Task 60:')\n",
    "sides_df = pd.DataFrame({\n",
    "    'a' : [1, 1, 2, 4],\n",
    "    'b' : [2, 1, 3, 4]\n",
    "    })  \n",
    "print(sides_df)\n",
    "source_cols = sides_df.columns\n",
    "print(source_cols)\n",
    "new_cols = [str(x)+\"_side\" for x in source_cols]\n",
    "side_category = {\n",
    "    1 : 'North',\n",
    "    2 : 'East',\n",
    "    3 : 'South', \n",
    "    4 : 'West'\n",
    "    }\n",
    "sides_df[new_cols] = sides_df[source_cols].applymap(side_category.get)\n",
    "print(sides_df)"
   ]
  },
  {
   "cell_type": "markdown",
   "metadata": {
    "papermill": {
     "duration": 0.218889,
     "end_time": "2020-10-25T04:53:29.064841",
     "exception": false,
     "start_time": "2020-10-25T04:53:28.845952",
     "status": "completed"
    },
    "tags": []
   },
   "source": [
    "<div style=\"\">\n",
    "    <div style=\"float: left; width: 80%;\">\n",
    "        <a id=\"61\"></a>\n",
    "        <font><b>Task 61:</b></font>\n",
    "        <br><br>\n",
    "        Replacing some values with mean of the rest of a group\n",
    "    </div>\n",
    "    <div style=\"float: right;\">\n",
    "        <a href=\"#top\" class=\"btn btn-primary btn-sm\" role=\"button\" aria-pressed=\"true\" style=\"color:white\" data-toggle=\"popover\" title=\"go to Top\">Go to Top</a>\n",
    "    </div>\n",
    "    <br style=\"clear: left;\" />\n",
    "</div> "
   ]
  },
  {
   "cell_type": "code",
   "execution_count": 65,
   "metadata": {
    "execution": {
     "iopub.execute_input": "2020-10-25T04:53:29.577295Z",
     "iopub.status.busy": "2020-10-25T04:53:29.568095Z",
     "iopub.status.idle": "2020-10-25T04:53:29.583667Z",
     "shell.execute_reply": "2020-10-25T04:53:29.582087Z"
    },
    "papermill": {
     "duration": 0.25513,
     "end_time": "2020-10-25T04:53:29.583880",
     "exception": false,
     "start_time": "2020-10-25T04:53:29.328750",
     "status": "completed"
    },
    "tags": []
   },
   "outputs": [
    {
     "name": "stdout",
     "output_type": "stream",
     "text": [
      "Task 61:\n",
      "   A  B\n",
      "0  1  1\n",
      "1  1 -1\n",
      "2  2  1\n",
      "3  2  2\n",
      "     B\n",
      "0  1.0\n",
      "1  1.0\n",
      "2  1.0\n",
      "3  2.0\n"
     ]
    }
   ],
   "source": [
    "print('Task 61:')  \n",
    "df = pd.DataFrame({'A' : [1, 1, 2, 2], 'B' : [1, -1, 1, 2]})\n",
    "print(df)\n",
    "\n",
    "gb = df.groupby('A')\n",
    "\n",
    "def replace(g):\n",
    "    mask = g < 0\n",
    "    g.loc[mask] = g[~mask].mean()\n",
    "    return g\n",
    "\n",
    "gbt = gb.transform(replace)\n",
    "\n",
    "print(gbt)"
   ]
  },
  {
   "cell_type": "markdown",
   "metadata": {
    "papermill": {
     "duration": 0.220641,
     "end_time": "2020-10-25T04:53:30.026090",
     "exception": false,
     "start_time": "2020-10-25T04:53:29.805449",
     "status": "completed"
    },
    "tags": []
   },
   "source": [
    "<div style=\"\">\n",
    "    <div style=\"float: left; width: 80%;\">\n",
    "        <a id=\"62\"></a>\n",
    "        <font><b>Task 62:</b></font>\n",
    "        <br><br>\n",
    "        Students passed in Language or Science (any one subject)\n",
    "    </div>\n",
    "    <div style=\"float: right;\">\n",
    "        <a href=\"#top\" class=\"btn btn-primary btn-sm\" role=\"button\" aria-pressed=\"true\" style=\"color:white\" data-toggle=\"popover\" title=\"go to Top\">Go to Top</a>\n",
    "    </div>\n",
    "    <br style=\"clear: left;\" />\n",
    "</div> "
   ]
  },
  {
   "cell_type": "code",
   "execution_count": 66,
   "metadata": {
    "execution": {
     "iopub.execute_input": "2020-10-25T04:53:30.490638Z",
     "iopub.status.busy": "2020-10-25T04:53:30.489858Z",
     "iopub.status.idle": "2020-10-25T04:53:30.494857Z",
     "shell.execute_reply": "2020-10-25T04:53:30.493995Z"
    },
    "papermill": {
     "duration": 0.239616,
     "end_time": "2020-10-25T04:53:30.495021",
     "exception": false,
     "start_time": "2020-10-25T04:53:30.255405",
     "status": "completed"
    },
    "tags": []
   },
   "outputs": [
    {
     "name": "stdout",
     "output_type": "stream",
     "text": [
      "Task 62:\n",
      "   Language  Math  Science\n",
      "0        60    90       45\n",
      "1        45    80       90\n",
      "2        78    23       95\n",
      "3         4    60       20\n",
      "   Language  Math  Science\n",
      "0        60    90       45\n",
      "1        45    80       90\n",
      "2        78    23       95\n"
     ]
    }
   ],
   "source": [
    "print('Task 62:') \n",
    "marks_df = pd.DataFrame({\n",
    "    'Language' : [60, 45, 78, 4], \n",
    "    'Math' : [90, 80, 23, 60],\n",
    "    'Science' : [45, 90, 95, 20]\n",
    "});\n",
    "print(marks_df)\n",
    "marks_df_passed_in_lang_or_sc = marks_df.loc[(marks_df.Language >=50) | (marks_df.Science >= 50)]\n",
    "print(marks_df_passed_in_lang_or_sc)"
   ]
  },
  {
   "cell_type": "markdown",
   "metadata": {
    "papermill": {
     "duration": 0.217336,
     "end_time": "2020-10-25T04:53:30.931544",
     "exception": false,
     "start_time": "2020-10-25T04:53:30.714208",
     "status": "completed"
    },
    "tags": []
   },
   "source": [
    "<div style=\"\">\n",
    "    <div style=\"float: left; width: 80%;\">\n",
    "        <a id=\"\"></a>\n",
    "        <font><b>Task 63:</b></font>\n",
    "        <br><br>\n",
    "        possible errors:\n",
    "        <br>TypeError: 'Series' objects are mutable, thus they cannot be hashed\n",
    "    </div>\n",
    "    <div style=\"float: right;\">\n",
    "        <a href=\"#top\" class=\"btn btn-primary btn-sm\" role=\"button\" aria-pressed=\"true\" style=\"color:white\" data-toggle=\"popover\" title=\"go to Top\">Go to Top</a>\n",
    "    </div>\n",
    "    <br style=\"clear: left;\" />\n",
    "</div> "
   ]
  },
  {
   "cell_type": "code",
   "execution_count": 67,
   "metadata": {
    "execution": {
     "iopub.execute_input": "2020-10-25T04:53:31.386548Z",
     "iopub.status.busy": "2020-10-25T04:53:31.385626Z",
     "iopub.status.idle": "2020-10-25T04:53:31.390640Z",
     "shell.execute_reply": "2020-10-25T04:53:31.389799Z"
    },
    "papermill": {
     "duration": 0.237379,
     "end_time": "2020-10-25T04:53:31.390820",
     "exception": false,
     "start_time": "2020-10-25T04:53:31.153441",
     "status": "completed"
    },
    "tags": []
   },
   "outputs": [
    {
     "name": "stdout",
     "output_type": "stream",
     "text": [
      "Task 63:\n",
      "   Language  Math  Science passed_one_subject\n",
      "0        60    90       45               Pass\n",
      "1        45    80       90               Fail\n",
      "2        78    23       95               Pass\n",
      "3         4    60       20               Fail\n"
     ]
    }
   ],
   "source": [
    "print('Task 63:')  \n",
    "marks_df['passed_one_subject'] = 'Fail' \n",
    "marks_df.loc[(marks_df.Language >=50) , 'passed_one_subject'] = 'Pass'\n",
    "print(marks_df)"
   ]
  },
  {
   "cell_type": "markdown",
   "metadata": {
    "papermill": {
     "duration": 0.221508,
     "end_time": "2020-10-25T04:53:31.837569",
     "exception": false,
     "start_time": "2020-10-25T04:53:31.616061",
     "status": "completed"
    },
    "tags": []
   },
   "source": [
    "<div style=\"\">\n",
    "    <div style=\"float: left; width: 80%;\">\n",
    "        <a id=\"64\"></a>\n",
    "        <font><b>Task 64:</b></font>\n",
    "        <br><br>\n",
    "        argsort\n",
    "        <br>Select rows with data closest to certain value using argsort\n",
    "    </div>\n",
    "    <div style=\"float: right;\">\n",
    "        <a href=\"#top\" class=\"btn btn-primary btn-sm\" role=\"button\" aria-pressed=\"true\" style=\"color:white\" data-toggle=\"popover\" title=\"go to Top\">Go to Top</a>\n",
    "    </div>\n",
    "    <br style=\"clear: left;\" />\n",
    "</div> "
   ]
  },
  {
   "cell_type": "code",
   "execution_count": 68,
   "metadata": {
    "execution": {
     "iopub.execute_input": "2020-10-25T04:53:32.303901Z",
     "iopub.status.busy": "2020-10-25T04:53:32.293853Z",
     "iopub.status.idle": "2020-10-25T04:53:32.308463Z",
     "shell.execute_reply": "2020-10-25T04:53:32.307458Z"
    },
    "papermill": {
     "duration": 0.245669,
     "end_time": "2020-10-25T04:53:32.308660",
     "exception": false,
     "start_time": "2020-10-25T04:53:32.062991",
     "status": "completed"
    },
    "tags": []
   },
   "outputs": [
    {
     "name": "stdout",
     "output_type": "stream",
     "text": [
      "Task 64:\n",
      "    a   b\n",
      "0  44   5\n",
      "1  77  53\n",
      "2  43  48\n",
      "3  49   7\n",
      "4  24  60\n",
      "with argsort\n",
      "    a   b\n",
      "1  77  53\n",
      "3  49   7\n",
      "0  44   5\n",
      "2  43  48\n",
      "4  24  60\n",
      "    a   b\n",
      "0  44   5\n",
      "3  49   7\n",
      "2  43  48\n",
      "1  77  53\n",
      "4  24  60\n"
     ]
    }
   ],
   "source": [
    "print('Task 64:')  \n",
    "df = pd.DataFrame({\n",
    "    \"a\": np.random.randint(0, 100, size=(5,)), \n",
    "    \"b\": np.random.randint(0, 70, size=(5,))\n",
    "})\n",
    "print(df)\n",
    "par = 65\n",
    "print('with argsort')\n",
    "df1 = df.loc[(df.a-par).abs().argsort()]\n",
    "print(df1)\n",
    "\n",
    "print(df.loc[(df.b-2).abs().argsort()])"
   ]
  },
  {
   "cell_type": "markdown",
   "metadata": {
    "papermill": {
     "duration": 0.244313,
     "end_time": "2020-10-25T04:53:32.776513",
     "exception": false,
     "start_time": "2020-10-25T04:53:32.532200",
     "status": "completed"
    },
    "tags": []
   },
   "source": [
    "<div style=\"\">\n",
    "    <div style=\"float: left; width: 80%;\">\n",
    "        <a id=\"65\"></a>\n",
    "        <font><b>Task 65:</b></font>\n",
    "        <br><br>\n",
    "        argsort with stars        \n",
    "        <br>old stars (near by 50 age) argsort\n",
    "    </div>\n",
    "    <div style=\"float: right;\">\n",
    "        <a href=\"#top\" class=\"btn btn-primary btn-sm\" role=\"button\" aria-pressed=\"true\" style=\"color:white\" data-toggle=\"popover\" title=\"go to Top\">Go to Top</a>\n",
    "    </div>\n",
    "    <br style=\"clear: left;\" />\n",
    "</div>"
   ]
  },
  {
   "cell_type": "code",
   "execution_count": 69,
   "metadata": {
    "execution": {
     "iopub.execute_input": "2020-10-25T04:53:33.243000Z",
     "iopub.status.busy": "2020-10-25T04:53:33.241432Z",
     "iopub.status.idle": "2020-10-25T04:53:33.247605Z",
     "shell.execute_reply": "2020-10-25T04:53:33.246755Z"
    },
    "papermill": {
     "duration": 0.248219,
     "end_time": "2020-10-25T04:53:33.247752",
     "exception": false,
     "start_time": "2020-10-25T04:53:32.999533",
     "status": "completed"
    },
    "tags": []
   },
   "outputs": [
    {
     "name": "stdout",
     "output_type": "stream",
     "text": [
      "Task 65:\n",
      "   age  movies\n",
      "1   50       3\n",
      "3   45      45\n",
      "4   65      34\n",
      "2   24      90\n",
      "5   18       2\n",
      "0   17       2\n"
     ]
    }
   ],
   "source": [
    "print('Task 65:')  \n",
    "stars = pd.DataFrame({\n",
    "    \"age\": [17, 50, 24, 45, 65, 18], \n",
    "    \"movies\": [2, 3, 90, 45, 34, 2] \n",
    "})\n",
    "print(stars.loc[(stars.age - 50).abs().argsort()])"
   ]
  },
  {
   "cell_type": "markdown",
   "metadata": {
    "papermill": {
     "duration": 0.224195,
     "end_time": "2020-10-25T04:53:33.704234",
     "exception": false,
     "start_time": "2020-10-25T04:53:33.480039",
     "status": "completed"
    },
    "tags": []
   },
   "source": [
    "<div style=\"\">\n",
    "    <div style=\"float: left; width: 80%;\">\n",
    "        <a id=\"66\"></a>\n",
    "        <font><b>Task 66:</b></font>\n",
    "        <br><br>\n",
    "        Argsort with actors\n",
    "\n",
    "        <br>young stars (near by 17)\n",
    "    </div>\n",
    "    <div style=\"float: right;\">\n",
    "        <a href=\"#top\" class=\"btn btn-primary btn-sm\" role=\"button\" aria-pressed=\"true\" style=\"color:white\" data-toggle=\"popover\" title=\"go to Top\">Go to Top</a>\n",
    "    </div>\n",
    "    <br style=\"clear: left;\" />\n",
    "</div> "
   ]
  },
  {
   "cell_type": "code",
   "execution_count": 70,
   "metadata": {
    "execution": {
     "iopub.execute_input": "2020-10-25T04:53:34.160935Z",
     "iopub.status.busy": "2020-10-25T04:53:34.159899Z",
     "iopub.status.idle": "2020-10-25T04:53:34.163459Z",
     "shell.execute_reply": "2020-10-25T04:53:34.164123Z"
    },
    "papermill": {
     "duration": 0.237882,
     "end_time": "2020-10-25T04:53:34.164288",
     "exception": false,
     "start_time": "2020-10-25T04:53:33.926406",
     "status": "completed"
    },
    "tags": []
   },
   "outputs": [
    {
     "name": "stdout",
     "output_type": "stream",
     "text": [
      "Task 66:\n",
      "   age  movies\n",
      "0   17       2\n",
      "5   18       2\n",
      "2   24      90\n",
      "3   45      45\n",
      "1   50       3\n",
      "4   65      34\n"
     ]
    }
   ],
   "source": [
    "print('Task 66:')  \n",
    "print(stars.loc[(stars.age - 17).abs().argsort()])"
   ]
  },
  {
   "cell_type": "markdown",
   "metadata": {
    "papermill": {
     "duration": 0.223258,
     "end_time": "2020-10-25T04:53:34.609711",
     "exception": false,
     "start_time": "2020-10-25T04:53:34.386453",
     "status": "completed"
    },
    "tags": []
   },
   "source": [
    "<div style=\"\">\n",
    "    <div style=\"float: left; width: 80%;\">\n",
    "        <a id=\"67\"></a>\n",
    "        <font><b>Task 67:</b></font>\n",
    "        <br><br>\n",
    "        Binary operators\n",
    "\n",
    "        <br>Stars with\n",
    "\n",
    "        <br>younger than 19 - very young\n",
    "\n",
    "        <br>more movies acted**\n",
    "    </div>\n",
    "    <div style=\"float: right;\">\n",
    "        <a href=\"#top\" class=\"btn btn-primary btn-sm\" role=\"button\" aria-pressed=\"true\" style=\"color:white\" data-toggle=\"popover\" title=\"go to Top\">Go to Top</a>\n",
    "    </div>\n",
    "    <br style=\"clear: left;\" />\n",
    "</div> "
   ]
  },
  {
   "cell_type": "code",
   "execution_count": 71,
   "metadata": {
    "execution": {
     "iopub.execute_input": "2020-10-25T04:53:35.080150Z",
     "iopub.status.busy": "2020-10-25T04:53:35.076628Z",
     "iopub.status.idle": "2020-10-25T04:53:35.087241Z",
     "shell.execute_reply": "2020-10-25T04:53:35.086153Z"
    },
    "papermill": {
     "duration": 0.255868,
     "end_time": "2020-10-25T04:53:35.087385",
     "exception": false,
     "start_time": "2020-10-25T04:53:34.831517",
     "status": "completed"
    },
    "tags": []
   },
   "outputs": [
    {
     "name": "stdout",
     "output_type": "stream",
     "text": [
      "Task 67:\n",
      "   age  movies\n",
      "0   17      22\n",
      "1   50      33\n",
      "2   24      90\n",
      "3   45      75\n",
      "4   65      34\n",
      "5   18       2\n",
      "Young and more movies acted\n",
      "   age  movies\n",
      "2   24      90\n"
     ]
    }
   ],
   "source": [
    "print('Task 67:')\n",
    "stars = pd.DataFrame({\n",
    "    \"age\": [17, 50, 24, 45, 65, 18], \n",
    "    \"movies\": [22, 33, 90, 75, 34, 2] \n",
    "})  \n",
    "print(stars)\n",
    "print('Young and more movies acted')\n",
    "young = stars.age < 30    \n",
    "more_movies = stars.movies > 30\n",
    "young_more = [young, more_movies]\n",
    "young_more_Criteria = functools.reduce(lambda x, y : x & y, young_more)\n",
    "print(stars[young_more_Criteria])"
   ]
  },
  {
   "cell_type": "markdown",
   "metadata": {
    "papermill": {
     "duration": 0.225907,
     "end_time": "2020-10-25T04:53:35.542220",
     "exception": false,
     "start_time": "2020-10-25T04:53:35.316313",
     "status": "completed"
    },
    "tags": []
   },
   "source": [
    "<div style=\"\">\n",
    "    <div style=\"float: left; width: 80%;\">\n",
    "        <a id=\"68\"></a>\n",
    "        <font><b>Task 68:</b></font>\n",
    "        <br><br>\n",
    "        Young, Higher Salary, and Higher Position\n",
    "    </div>\n",
    "    <div style=\"float: right;\">\n",
    "        <a href=\"#top\" class=\"btn btn-primary btn-sm\" role=\"button\" aria-pressed=\"true\" style=\"color:white\" data-toggle=\"popover\" title=\"go to Top\">Go to Top</a>\n",
    "    </div>\n",
    "    <br style=\"clear: left;\" />\n",
    "</div> "
   ]
  },
  {
   "cell_type": "code",
   "execution_count": 72,
   "metadata": {
    "execution": {
     "iopub.execute_input": "2020-10-25T04:53:36.068908Z",
     "iopub.status.busy": "2020-10-25T04:53:36.059263Z",
     "iopub.status.idle": "2020-10-25T04:53:36.074296Z",
     "shell.execute_reply": "2020-10-25T04:53:36.073691Z"
    },
    "papermill": {
     "duration": 0.260862,
     "end_time": "2020-10-25T04:53:36.074431",
     "exception": false,
     "start_time": "2020-10-25T04:53:35.813569",
     "status": "completed"
    },
    "tags": []
   },
   "outputs": [
    {
     "name": "stdout",
     "output_type": "stream",
     "text": [
      "Task 68:\n",
      "   age  salary  grade\n",
      "0   17      75      7\n",
      "1   50      33      8\n",
      "2   24      90      9\n",
      "3   45     175      2\n",
      "4   65     134      7\n",
      "5   18      78      8\n",
      "Young, Higher Salary, and Higher Position\n",
      "   age  salary  grade\n",
      "0   17      75      7\n",
      "2   24      90      9\n",
      "5   18      78      8\n"
     ]
    }
   ],
   "source": [
    "print('Task 68:')  \n",
    "employees = pd.DataFrame({\n",
    "    \"age\": [17, 50, 24, 45, 65, 18], \n",
    "    \"salary\": [75, 33, 90, 175, 134, 78],\n",
    "    \"grade\" : [7, 8, 9, 2, 7, 8] \n",
    "})  \n",
    "print(employees)\n",
    "print('Young, Higher Salary, and Higher Position')\n",
    "young = employees.age < 30\n",
    "high_salary = employees.salary > 60\n",
    "high_position = employees.grade > 6\n",
    "young_salary_position = [young, high_salary, high_position]\n",
    "young_salary_position_Criteria = functools.reduce(lambda x, y : x & y, young_salary_position)\n",
    "print(employees[young_salary_position_Criteria])"
   ]
  },
  {
   "cell_type": "markdown",
   "metadata": {
    "papermill": {
     "duration": 0.224429,
     "end_time": "2020-10-25T04:53:36.525879",
     "exception": false,
     "start_time": "2020-10-25T04:53:36.301450",
     "status": "completed"
    },
    "tags": []
   },
   "source": [
    "<div style=\"\">\n",
    "    <div style=\"float: left; width: 80%;\">\n",
    "        <a id=\"69\"></a>\n",
    "        <font><b>Task 69:</b></font>\n",
    "        <br><br>\n",
    "        Rename columns\n",
    "    </div>\n",
    "    <div style=\"float: right;\">\n",
    "        <a href=\"#top\" class=\"btn btn-primary btn-sm\" role=\"button\" aria-pressed=\"true\" style=\"color:white\" data-toggle=\"popover\" title=\"go to Top\">Go to Top</a>\n",
    "    </div>\n",
    "    <br style=\"clear: left;\" />\n",
    "</div>"
   ]
  },
  {
   "cell_type": "code",
   "execution_count": 73,
   "metadata": {
    "execution": {
     "iopub.execute_input": "2020-10-25T04:53:37.028565Z",
     "iopub.status.busy": "2020-10-25T04:53:37.027452Z",
     "iopub.status.idle": "2020-10-25T04:53:37.032339Z",
     "shell.execute_reply": "2020-10-25T04:53:37.031401Z"
    },
    "papermill": {
     "duration": 0.269364,
     "end_time": "2020-10-25T04:53:37.032519",
     "exception": false,
     "start_time": "2020-10-25T04:53:36.763155",
     "status": "completed"
    },
    "tags": []
   },
   "outputs": [
    {
     "name": "stdout",
     "output_type": "stream",
     "text": [
      "Task 69:\n",
      "   age  salary  grade\n",
      "0   17      75      7\n",
      "1   50      33      8\n",
      "2   24      90      9\n",
      "3   45     175      2\n",
      "4   65     134      7\n",
      "5   18      78      8\n",
      "   User Age  Salary 2018  grade\n",
      "0        17           75      7\n",
      "1        50           33      8\n",
      "2        24           90      9\n",
      "3        45          175      2\n",
      "4        65          134      7\n",
      "5        18           78      8\n"
     ]
    }
   ],
   "source": [
    "print('Task 69:')  \n",
    "employees = pd.DataFrame({\n",
    "    \"age\": [17, 50, 24, 45, 65, 18], \n",
    "    \"salary\": [75, 33, 90, 175, 134, 78],\n",
    "    \"grade\" : [7, 8, 9, 2, 7, 8] \n",
    "})  \n",
    "print(employees)\n",
    "employees.rename(columns={'age': 'User Age', 'salary': 'Salary 2018'}, inplace=True)\n",
    "print(employees)"
   ]
  },
  {
   "cell_type": "markdown",
   "metadata": {
    "papermill": {
     "duration": 0.229678,
     "end_time": "2020-10-25T04:53:37.500176",
     "exception": false,
     "start_time": "2020-10-25T04:53:37.270498",
     "status": "completed"
    },
    "tags": []
   },
   "source": [
    "<div style=\"\">\n",
    "    <div style=\"float: left; width: 80%;\">\n",
    "        <a id=\"70\"></a>\n",
    "        <font><b>Task 70:</b></font>\n",
    "        <br><br>\n",
    "        Add a new column\n",
    "    </div>\n",
    "    <div style=\"float: right;\">\n",
    "        <a href=\"#top\" class=\"btn btn-primary btn-sm\" role=\"button\" aria-pressed=\"true\" style=\"color:white\" data-toggle=\"popover\" title=\"go to Top\">Go to Top</a>\n",
    "    </div>\n",
    "    <br style=\"clear: left;\" />\n",
    "</div>"
   ]
  },
  {
   "cell_type": "code",
   "execution_count": 74,
   "metadata": {
    "execution": {
     "iopub.execute_input": "2020-10-25T04:53:37.970800Z",
     "iopub.status.busy": "2020-10-25T04:53:37.968015Z",
     "iopub.status.idle": "2020-10-25T04:53:37.978055Z",
     "shell.execute_reply": "2020-10-25T04:53:37.977417Z"
    },
    "papermill": {
     "duration": 0.252069,
     "end_time": "2020-10-25T04:53:37.978192",
     "exception": false,
     "start_time": "2020-10-25T04:53:37.726123",
     "status": "completed"
    },
    "tags": []
   },
   "outputs": [
    {
     "name": "stdout",
     "output_type": "stream",
     "text": [
      "Task 70:\n",
      "   age  salary  grade\n",
      "0   17      75      7\n",
      "1   50      33      8\n",
      "2   24      90      9\n",
      "3   45     175      2\n",
      "4   65     134      7\n",
      "5   18      78      8\n",
      "   age  salary  grade     group\n",
      "0   17      75      7  0.090702\n",
      "1   50      33      8 -1.199785\n",
      "2   24      90      9 -1.363444\n",
      "3   45     175      2 -0.083164\n",
      "4   65     134      7  0.169881\n",
      "5   18      78      8  1.006376\n"
     ]
    }
   ],
   "source": [
    "print('Task 70:')  \n",
    "employees = pd.DataFrame({\n",
    "    \"age\": [17, 50, 24, 45, 65, 18], \n",
    "    \"salary\": [75, 33, 90, 175, 134, 78],\n",
    "    \"grade\" : [7, 8, 9, 2, 7, 8] \n",
    "})  \n",
    "print(employees)\n",
    "employees['group'] = pd.Series(np.random.randn(len(employees)))\n",
    "print(employees)"
   ]
  },
  {
   "cell_type": "markdown",
   "metadata": {
    "papermill": {
     "duration": 0.227451,
     "end_time": "2020-10-25T04:53:38.438029",
     "exception": false,
     "start_time": "2020-10-25T04:53:38.210578",
     "status": "completed"
    },
    "tags": []
   },
   "source": [
    "<div style=\"\">\n",
    "    <div style=\"float: left; width: 80%;\">\n",
    "        <a id=\"71\"></a>\n",
    "        <font><b>Task 71:</b></font>\n",
    "        <br><br>\n",
    "        Drop a column\n",
    "    </div>\n",
    "    <div style=\"float: right;\">\n",
    "        <a href=\"#top\" class=\"btn btn-primary btn-sm\" role=\"button\" aria-pressed=\"true\" style=\"color:white\" data-toggle=\"popover\" title=\"go to Top\">Go to Top</a>\n",
    "    </div>\n",
    "    <br style=\"clear: left;\" />\n",
    "</div> "
   ]
  },
  {
   "cell_type": "code",
   "execution_count": 75,
   "metadata": {
    "execution": {
     "iopub.execute_input": "2020-10-25T04:53:38.933071Z",
     "iopub.status.busy": "2020-10-25T04:53:38.932105Z",
     "iopub.status.idle": "2020-10-25T04:53:38.940190Z",
     "shell.execute_reply": "2020-10-25T04:53:38.940844Z"
    },
    "papermill": {
     "duration": 0.25646,
     "end_time": "2020-10-25T04:53:38.941008",
     "exception": false,
     "start_time": "2020-10-25T04:53:38.684548",
     "status": "completed"
    },
    "tags": []
   },
   "outputs": [
    {
     "name": "stdout",
     "output_type": "stream",
     "text": [
      "Task 71:\n",
      "   age  salary  grade\n",
      "0   17      75      7\n",
      "1   50      33      8\n",
      "2   24      90      9\n",
      "3   45     175      2\n",
      "4   65     134      7\n",
      "5   18      78      8\n",
      "   age  salary  grade     group\n",
      "0   17      75      7 -0.954404\n",
      "1   50      33      8  0.588388\n",
      "2   24      90      9 -0.439521\n",
      "3   45     175      2 -2.856544\n",
      "4   65     134      7  0.174647\n",
      "5   18      78      8 -0.500666\n",
      "   salary  grade     group\n",
      "0      75      7 -0.954404\n",
      "1      33      8  0.588388\n",
      "2      90      9 -0.439521\n",
      "3     175      2 -2.856544\n",
      "4     134      7  0.174647\n",
      "5      78      8 -0.500666\n"
     ]
    }
   ],
   "source": [
    "print('Task 71:')  \n",
    "employees = pd.DataFrame({\n",
    "    \"age\": [17, 50, 24, 45, 65, 18], \n",
    "    \"salary\": [75, 33, 90, 175, 134, 78],\n",
    "    \"grade\" : [7, 8, 9, 2, 7, 8] \n",
    "})  \n",
    "print(employees)\n",
    "employees['group'] = pd.Series(np.random.randn(len(employees)))\n",
    "print(employees)\n",
    "employees.drop(employees.columns[[0]], axis=1, inplace = True)\n",
    "print(employees)"
   ]
  },
  {
   "cell_type": "markdown",
   "metadata": {
    "papermill": {
     "duration": 0.24011,
     "end_time": "2020-10-25T04:53:39.413639",
     "exception": false,
     "start_time": "2020-10-25T04:53:39.173529",
     "status": "completed"
    },
    "tags": []
   },
   "source": [
    "<div style=\"\">\n",
    "    <div style=\"float: left; width: 80%;\">\n",
    "        <a id=\"72\"></a>\n",
    "        <font><b>Task 72:</b></font>\n",
    "        <br><br>\n",
    "        Drop multiple columns\n",
    "    </div>\n",
    "    <div style=\"float: right;\">\n",
    "        <a href=\"#top\" class=\"btn btn-primary btn-sm\" role=\"button\" aria-pressed=\"true\" style=\"color:white\" data-toggle=\"popover\" title=\"go to Top\">Go to Top</a>\n",
    "    </div>\n",
    "    <br style=\"clear: left;\" />\n",
    "</div> "
   ]
  },
  {
   "cell_type": "code",
   "execution_count": 76,
   "metadata": {
    "execution": {
     "iopub.execute_input": "2020-10-25T04:53:39.903392Z",
     "iopub.status.busy": "2020-10-25T04:53:39.902310Z",
     "iopub.status.idle": "2020-10-25T04:53:39.911169Z",
     "shell.execute_reply": "2020-10-25T04:53:39.910459Z"
    },
    "papermill": {
     "duration": 0.253284,
     "end_time": "2020-10-25T04:53:39.911312",
     "exception": false,
     "start_time": "2020-10-25T04:53:39.658028",
     "status": "completed"
    },
    "tags": []
   },
   "outputs": [
    {
     "name": "stdout",
     "output_type": "stream",
     "text": [
      "Task 72:\n",
      "   age  salary  grade\n",
      "0   17      75      7\n",
      "1   50      33      8\n",
      "2   24      90      9\n",
      "3   45     175      2\n",
      "4   65     134      7\n",
      "5   18      78      8\n",
      "   age  salary  grade     group\n",
      "0   17      75      7 -0.043871\n",
      "1   50      33      8 -0.228043\n",
      "2   24      90      9  0.084870\n",
      "3   45     175      2  1.221017\n",
      "4   65     134      7  1.226256\n",
      "5   18      78      8 -1.456445\n",
      "   age     group\n",
      "0   17 -0.043871\n",
      "1   50 -0.228043\n",
      "2   24  0.084870\n",
      "3   45  1.221017\n",
      "4   65  1.226256\n",
      "5   18 -1.456445\n"
     ]
    }
   ],
   "source": [
    "print('Task 72:')  \n",
    "employees = pd.DataFrame({\n",
    "    \"age\": [17, 50, 24, 45, 65, 18], \n",
    "    \"salary\": [75, 33, 90, 175, 134, 78],\n",
    "    \"grade\" : [7, 8, 9, 2, 7, 8] \n",
    "})  \n",
    "print(employees)\n",
    "employees['group'] = pd.Series(np.random.randn(len(employees)))\n",
    "print(employees)\n",
    "employees.drop(employees.columns[[1, 2]], axis=1, inplace = True)\n",
    "print(employees)"
   ]
  },
  {
   "cell_type": "markdown",
   "metadata": {
    "papermill": {
     "duration": 0.227447,
     "end_time": "2020-10-25T04:53:40.373797",
     "exception": false,
     "start_time": "2020-10-25T04:53:40.146350",
     "status": "completed"
    },
    "tags": []
   },
   "source": [
    "<div style=\"\">\n",
    "    <div style=\"float: left; width: 80%;\">\n",
    "        <a id=\"73\"></a>\n",
    "        <font><b>Task 73:</b></font>\n",
    "        <br><br>\n",
    "        Drop first and last column\n",
    "    </div>\n",
    "    <div style=\"float: right;\">\n",
    "        <a href=\"#top\" class=\"btn btn-primary btn-sm\" role=\"button\" aria-pressed=\"true\" style=\"color:white\" data-toggle=\"popover\" title=\"go to Top\">Go to Top</a>\n",
    "    </div>\n",
    "    <br style=\"clear: left;\" />\n",
    "</div> "
   ]
  },
  {
   "cell_type": "code",
   "execution_count": 77,
   "metadata": {
    "execution": {
     "iopub.execute_input": "2020-10-25T04:53:40.855850Z",
     "iopub.status.busy": "2020-10-25T04:53:40.854856Z",
     "iopub.status.idle": "2020-10-25T04:53:40.859424Z",
     "shell.execute_reply": "2020-10-25T04:53:40.858531Z"
    },
    "papermill": {
     "duration": 0.255451,
     "end_time": "2020-10-25T04:53:40.859585",
     "exception": false,
     "start_time": "2020-10-25T04:53:40.604134",
     "status": "completed"
    },
    "tags": []
   },
   "outputs": [
    {
     "name": "stdout",
     "output_type": "stream",
     "text": [
      "Task 73:\n",
      "   age  salary  grade  group\n",
      "0   17      75      7      1\n",
      "1   50      33      8      1\n",
      "2   24      90      9      2\n",
      "3   45     175      2      2\n",
      "4   65     134      7      2\n",
      "5   18      78      8      1\n",
      "   salary  grade\n",
      "0      75      7\n",
      "1      33      8\n",
      "2      90      9\n",
      "3     175      2\n",
      "4     134      7\n",
      "5      78      8\n"
     ]
    }
   ],
   "source": [
    "print('Task 73:')  \n",
    "employees = pd.DataFrame({\n",
    "    \"age\": [17, 50, 24, 45, 65, 18], \n",
    "    \"salary\": [75, 33, 90, 175, 134, 78],\n",
    "    \"grade\" : [7, 8, 9, 2, 7, 8],\n",
    "    \"group\" : [1, 1, 2, 2, 2, 1] \n",
    "    \n",
    "})  \n",
    "print(employees)\n",
    "employees.drop(employees.columns[[0, len(employees.columns)-1]], axis=1, inplace = True)\n",
    "print(employees)"
   ]
  },
  {
   "cell_type": "markdown",
   "metadata": {
    "papermill": {
     "duration": 0.230325,
     "end_time": "2020-10-25T04:53:41.318514",
     "exception": false,
     "start_time": "2020-10-25T04:53:41.088189",
     "status": "completed"
    },
    "tags": []
   },
   "source": [
    "<div style=\"\">\n",
    "    <div style=\"float: left; width: 80%;\">\n",
    "        <a id=\"74\"></a>\n",
    "        <font><b>Task 74:</b></font>\n",
    "        <br><br>\n",
    "        Delete by pop function\n",
    "    </div>\n",
    "    <div style=\"float: right;\">\n",
    "        <a href=\"#top\" class=\"btn btn-primary btn-sm\" role=\"button\" aria-pressed=\"true\" style=\"color:white\" data-toggle=\"popover\" title=\"go to Top\">Go to Top</a>\n",
    "    </div>\n",
    "    <br style=\"clear: left;\" />\n",
    "</div>"
   ]
  },
  {
   "cell_type": "code",
   "execution_count": 78,
   "metadata": {
    "execution": {
     "iopub.execute_input": "2020-10-25T04:53:41.802301Z",
     "iopub.status.busy": "2020-10-25T04:53:41.798235Z",
     "iopub.status.idle": "2020-10-25T04:53:41.806982Z",
     "shell.execute_reply": "2020-10-25T04:53:41.806337Z"
    },
    "papermill": {
     "duration": 0.25146,
     "end_time": "2020-10-25T04:53:41.807129",
     "exception": false,
     "start_time": "2020-10-25T04:53:41.555669",
     "status": "completed"
    },
    "tags": []
   },
   "outputs": [
    {
     "name": "stdout",
     "output_type": "stream",
     "text": [
      "Task 74:\n",
      "   age  salary  grade  group\n",
      "0   17      75      7      1\n",
      "1   50      33      8      1\n",
      "2   24      90      9      2\n",
      "3   45     175      2      2\n",
      "4   65     134      7      2\n",
      "5   18      78      8      1\n",
      "   age  salary  grade\n",
      "0   17      75      7\n",
      "1   50      33      8\n",
      "2   24      90      9\n",
      "3   45     175      2\n",
      "4   65     134      7\n",
      "5   18      78      8\n",
      "0    1\n",
      "1    1\n",
      "2    2\n",
      "3    2\n",
      "4    2\n",
      "5    1\n",
      "Name: group, dtype: int64\n"
     ]
    }
   ],
   "source": [
    "print('Task 74:')  \n",
    "employees = pd.DataFrame({\n",
    "    \"age\": [17, 50, 24, 45, 65, 18], \n",
    "    \"salary\": [75, 33, 90, 175, 134, 78],\n",
    "    \"grade\" : [7, 8, 9, 2, 7, 8],\n",
    "    \"group\" : [1, 1, 2, 2, 2, 1] \n",
    "    \n",
    "})  \n",
    "print(employees)\n",
    "group = employees.pop('group')\n",
    "print(employees)\n",
    "print(group)"
   ]
  },
  {
   "cell_type": "markdown",
   "metadata": {
    "papermill": {
     "duration": 0.238956,
     "end_time": "2020-10-25T04:53:42.277072",
     "exception": false,
     "start_time": "2020-10-25T04:53:42.038116",
     "status": "completed"
    },
    "tags": []
   },
   "source": [
    "<div style=\"\">\n",
    "    <div style=\"float: left; width: 80%;\">\n",
    "        <a id=\"75\"></a>\n",
    "        <font><b>Task 75:</b></font>\n",
    "        <br><br>\n",
    "        DataFrame.from_items\n",
    "    </div>\n",
    "    <div style=\"float: right;\">\n",
    "        <a href=\"#top\" class=\"btn btn-primary btn-sm\" role=\"button\" aria-pressed=\"true\" style=\"color:white\" data-toggle=\"popover\" title=\"go to Top\">Go to Top</a>\n",
    "    </div>\n",
    "    <br style=\"clear: left;\" />\n",
    "</div>"
   ]
  },
  {
   "cell_type": "code",
   "execution_count": 79,
   "metadata": {
    "execution": {
     "iopub.execute_input": "2020-10-25T04:53:42.763591Z",
     "iopub.status.busy": "2020-10-25T04:53:42.762417Z",
     "iopub.status.idle": "2020-10-25T04:53:42.766225Z",
     "shell.execute_reply": "2020-10-25T04:53:42.766876Z"
    },
    "papermill": {
     "duration": 0.256186,
     "end_time": "2020-10-25T04:53:42.767044",
     "exception": false,
     "start_time": "2020-10-25T04:53:42.510858",
     "status": "completed"
    },
    "tags": []
   },
   "outputs": [
    {
     "name": "stdout",
     "output_type": "stream",
     "text": [
      "Task 75:\n"
     ]
    }
   ],
   "source": [
    "print('Task 75:')  \n",
    "# df = pd.DataFrame.from_items([('A', [1, 2, 3]), ('B', [4, 5, 6]), ('C', [7,8, 9])], orient='index', columns=['one', 'two', 'three'])\n",
    "# print(df) # throwing error"
   ]
  },
  {
   "cell_type": "markdown",
   "metadata": {
    "papermill": {
     "duration": 0.23328,
     "end_time": "2020-10-25T04:53:43.230781",
     "exception": false,
     "start_time": "2020-10-25T04:53:42.997501",
     "status": "completed"
    },
    "tags": []
   },
   "source": [
    "<div style=\"\">\n",
    "    <div style=\"float: left; width: 80%;\">\n",
    "        <a id=\"76\"></a>\n",
    "        <font><b>Task 76:</b></font>\n",
    "        <br><br>\n",
    "        Pandas to list\n",
    "    </div>\n",
    "    <div style=\"float: right;\">\n",
    "        <a href=\"#top\" class=\"btn btn-primary btn-sm\" role=\"button\" aria-pressed=\"true\" style=\"color:white\" data-toggle=\"popover\" title=\"go to Top\">Go to Top</a>\n",
    "    </div>\n",
    "    <br style=\"clear: left;\" />\n",
    "</div> "
   ]
  },
  {
   "cell_type": "code",
   "execution_count": 80,
   "metadata": {
    "execution": {
     "iopub.execute_input": "2020-10-25T04:53:43.706084Z",
     "iopub.status.busy": "2020-10-25T04:53:43.704928Z",
     "iopub.status.idle": "2020-10-25T04:53:43.710520Z",
     "shell.execute_reply": "2020-10-25T04:53:43.709358Z"
    },
    "papermill": {
     "duration": 0.252461,
     "end_time": "2020-10-25T04:53:43.710698",
     "exception": false,
     "start_time": "2020-10-25T04:53:43.458237",
     "status": "completed"
    },
    "tags": []
   },
   "outputs": [
    {
     "name": "stdout",
     "output_type": "stream",
     "text": [
      "Task 76:\n",
      "   age  salary  grade  group\n",
      "0   17      75      7      1\n",
      "1   50      33      8      1\n",
      "2   24      90      9      2\n",
      "3   45     175      2      2\n",
      "4   65     134      7      2\n",
      "5   18      78      8      1\n",
      "['age', 'salary', 'grade', 'group']\n",
      "[[17, 75, 7, 1], [50, 33, 8, 1], [24, 90, 9, 2], [45, 175, 2, 2], [65, 134, 7, 2], [18, 78, 8, 1]]\n"
     ]
    }
   ],
   "source": [
    "print('Task 76:')\n",
    "employees = pd.DataFrame({\n",
    "    \"age\": [17, 50, 24, 45, 65, 18], \n",
    "    \"salary\": [75, 33, 90, 175, 134, 78],\n",
    "    \"grade\" : [7, 8, 9, 2, 7, 8],\n",
    "    \"group\" : [1, 1, 2, 2, 2, 1] \n",
    "    \n",
    "})  \n",
    "print(employees)  \n",
    "employees_list1 = list(employees.columns.values) \n",
    "employees_list2 = employees.values.tolist()\n",
    "#employees_list = list(employees)\n",
    "print(employees_list1)\n",
    "print(employees_list2)"
   ]
  },
  {
   "cell_type": "markdown",
   "metadata": {
    "papermill": {
     "duration": 0.230608,
     "end_time": "2020-10-25T04:53:44.172344",
     "exception": false,
     "start_time": "2020-10-25T04:53:43.941736",
     "status": "completed"
    },
    "tags": []
   },
   "source": [
    "<div style=\"\">\n",
    "    <div style=\"float: left; width: 80%;\">\n",
    "        <a id=\"77\"></a>\n",
    "        <font><b>Task 77:</b></font>\n",
    "        <br><br>\n",
    "        Pandas rows to list\n",
    "    </div>\n",
    "    <div style=\"float: right;\">\n",
    "        <a href=\"#top\" class=\"btn btn-primary btn-sm\" role=\"button\" aria-pressed=\"true\" style=\"color:white\" data-toggle=\"popover\" title=\"go to Top\">Go to Top</a>\n",
    "    </div>\n",
    "    <br style=\"clear: left;\" />\n",
    "</div> "
   ]
  },
  {
   "cell_type": "code",
   "execution_count": 81,
   "metadata": {
    "execution": {
     "iopub.execute_input": "2020-10-25T04:53:44.646545Z",
     "iopub.status.busy": "2020-10-25T04:53:44.645294Z",
     "iopub.status.idle": "2020-10-25T04:53:44.665383Z",
     "shell.execute_reply": "2020-10-25T04:53:44.664568Z"
    },
    "papermill": {
     "duration": 0.263697,
     "end_time": "2020-10-25T04:53:44.665676",
     "exception": false,
     "start_time": "2020-10-25T04:53:44.401979",
     "status": "completed"
    },
    "tags": []
   },
   "outputs": [
    {
     "name": "stdout",
     "output_type": "stream",
     "text": [
      "Task 77:\n",
      "   age  salary  grade  group\n",
      "0   17      75      7      1\n",
      "1   50      33      8      1\n",
      "2   24      90      9      2\n",
      "3   45     175      2      2\n",
      "4   65     134      7      2\n",
      "5   18      78      8      1\n",
      "[[17, 75, 7, 1], [50, 33, 8, 1], [24, 90, 9, 2], [45, 175, 2, 2], [65, 134, 7, 2], [18, 78, 8, 1]]\n",
      "<class 'list'>\n",
      "6\n"
     ]
    }
   ],
   "source": [
    "print('Task 77:')\n",
    "employees = pd.DataFrame({\n",
    "    \"age\": [17, 50, 24, 45, 65, 18], \n",
    "    \"salary\": [75, 33, 90, 175, 134, 78],\n",
    "    \"grade\" : [7, 8, 9, 2, 7, 8],\n",
    "    \"group\" : [1, 1, 2, 2, 2, 1] \n",
    "    \n",
    "})  \n",
    "print(employees)  \n",
    "employees_list2 = employees.values.tolist()\n",
    "print(employees_list2)\n",
    "print(type(employees_list2))\n",
    "print(len(employees_list2))"
   ]
  },
  {
   "cell_type": "markdown",
   "metadata": {
    "papermill": {
     "duration": 0.239145,
     "end_time": "2020-10-25T04:53:45.173301",
     "exception": false,
     "start_time": "2020-10-25T04:53:44.934156",
     "status": "completed"
    },
    "tags": []
   },
   "source": [
    "<div style=\"\">\n",
    "    <div style=\"float: left; width: 80%;\">\n",
    "        <a id=\"78\"></a>\n",
    "        <font><b>Task 78:</b></font>\n",
    "        <br><br>\n",
    "        XPandas rows to array \n",
    "\n",
    "        <br>Note: as_matrix is deprecatedYZ\n",
    "    </div>\n",
    "    <div style=\"float: right;\">\n",
    "        <a href=\"#top\" class=\"btn btn-primary btn-sm\" role=\"button\" aria-pressed=\"true\" style=\"color:white\" data-toggle=\"popover\" title=\"go to Top\">Go to Top</a>\n",
    "    </div>\n",
    "    <br style=\"clear: left;\" />\n",
    "</div> "
   ]
  },
  {
   "cell_type": "code",
   "execution_count": 82,
   "metadata": {
    "execution": {
     "iopub.execute_input": "2020-10-25T04:53:45.663578Z",
     "iopub.status.busy": "2020-10-25T04:53:45.662733Z",
     "iopub.status.idle": "2020-10-25T04:53:45.668432Z",
     "shell.execute_reply": "2020-10-25T04:53:45.666798Z"
    },
    "papermill": {
     "duration": 0.258402,
     "end_time": "2020-10-25T04:53:45.668657",
     "exception": false,
     "start_time": "2020-10-25T04:53:45.410255",
     "status": "completed"
    },
    "tags": []
   },
   "outputs": [
    {
     "name": "stdout",
     "output_type": "stream",
     "text": [
      "Task 78:\n",
      "   age  salary  grade  group\n",
      "0   17      75      7      1\n",
      "1   50      33      8      1\n",
      "2   24      90      9      2\n",
      "3   45     175      2      2\n",
      "4   65     134      7      2\n",
      "5   18      78      8      1\n",
      "[[ 17  75   7   1]\n",
      " [ 50  33   8   1]\n",
      " [ 24  90   9   2]\n",
      " [ 45 175   2   2]\n",
      " [ 65 134   7   2]\n",
      " [ 18  78   8   1]]\n",
      "<class 'numpy.ndarray'>\n",
      "(6, 4)\n"
     ]
    }
   ],
   "source": [
    "print('Task 78:')\n",
    "employees = pd.DataFrame({\n",
    "    \"age\": [17, 50, 24, 45, 65, 18], \n",
    "    \"salary\": [75, 33, 90, 175, 134, 78],\n",
    "    \"grade\" : [7, 8, 9, 2, 7, 8],\n",
    "    \"group\" : [1, 1, 2, 2, 2, 1] \n",
    "    \n",
    "})  \n",
    "print(employees)  \n",
    "employees_list2 = employees.values\n",
    "print(employees_list2)\n",
    "print(type(employees_list2))\n",
    "print(employees_list2.shape)"
   ]
  },
  {
   "cell_type": "markdown",
   "metadata": {
    "papermill": {
     "duration": 0.240588,
     "end_time": "2020-10-25T04:53:46.145033",
     "exception": false,
     "start_time": "2020-10-25T04:53:45.904445",
     "status": "completed"
    },
    "tags": []
   },
   "source": [
    "<div style=\"\">\n",
    "    <div style=\"float: left; width: 80%;\">\n",
    "        <a id=\"79\"></a>\n",
    "        <font><b>Task 79:</b></font>\n",
    "        <br><br>\n",
    "        Pandas rows to map\n",
    "    </div>\n",
    "    <div style=\"float: right;\">\n",
    "        <a href=\"#top\" class=\"btn btn-primary btn-sm\" role=\"button\" aria-pressed=\"true\" style=\"color:white\" data-toggle=\"popover\" title=\"go to Top\">Go to Top</a>\n",
    "    </div>\n",
    "    <br style=\"clear: left;\" />\n",
    "</div> "
   ]
  },
  {
   "cell_type": "code",
   "execution_count": 83,
   "metadata": {
    "execution": {
     "iopub.execute_input": "2020-10-25T04:53:46.660089Z",
     "iopub.status.busy": "2020-10-25T04:53:46.655916Z",
     "iopub.status.idle": "2020-10-25T04:53:46.666561Z",
     "shell.execute_reply": "2020-10-25T04:53:46.667166Z"
    },
    "papermill": {
     "duration": 0.277774,
     "end_time": "2020-10-25T04:53:46.667350",
     "exception": false,
     "start_time": "2020-10-25T04:53:46.389576",
     "status": "completed"
    },
    "tags": []
   },
   "outputs": [
    {
     "name": "stdout",
     "output_type": "stream",
     "text": [
      "Task 79:\n",
      "   age  salary  grade  group\n",
      "0   17      75      7      1\n",
      "1   50      33      8      1\n",
      "2   24      90      9      2\n",
      "3   45     175      2      2\n",
      "4   65     134      7      2\n",
      "5   18      78      8      1\n",
      "<map object at 0x7f94aaa24d50>\n",
      "<class 'map'>\n"
     ]
    }
   ],
   "source": [
    "print('Task 79:')\n",
    "employees = pd.DataFrame({\n",
    "    \"age\": [17, 50, 24, 45, 65, 18], \n",
    "    \"salary\": [75, 33, 90, 175, 134, 78],\n",
    "    \"grade\" : [7, 8, 9, 2, 7, 8],\n",
    "    \"group\" : [1, 1, 2, 2, 2, 1] \n",
    "    \n",
    "})  \n",
    "print(employees)  \n",
    "employees_list2 = map(list, employees.values)\n",
    "print(employees_list2)\n",
    "print(type(employees_list2))"
   ]
  },
  {
   "cell_type": "markdown",
   "metadata": {
    "papermill": {
     "duration": 0.250356,
     "end_time": "2020-10-25T04:53:47.165863",
     "exception": false,
     "start_time": "2020-10-25T04:53:46.915507",
     "status": "completed"
    },
    "tags": []
   },
   "source": [
    "<div style=\"\">\n",
    "    <div style=\"float: left; width: 80%;\">\n",
    "        <a id=\"80\"></a>\n",
    "        <font><b>Task 80:</b></font>\n",
    "        <br><br>\n",
    "        Pandas rows to map\n",
    "    </div>\n",
    "    <div style=\"float: right;\">\n",
    "        <a href=\"#top\" class=\"btn btn-primary btn-sm\" role=\"button\" aria-pressed=\"true\" style=\"color:white\" data-toggle=\"popover\" title=\"go to Top\">Go to Top</a>\n",
    "    </div>\n",
    "    <br style=\"clear: left;\" />\n",
    "</div>"
   ]
  },
  {
   "cell_type": "code",
   "execution_count": 84,
   "metadata": {
    "execution": {
     "iopub.execute_input": "2020-10-25T04:53:47.724103Z",
     "iopub.status.busy": "2020-10-25T04:53:47.723084Z",
     "iopub.status.idle": "2020-10-25T04:53:47.731207Z",
     "shell.execute_reply": "2020-10-25T04:53:47.730296Z"
    },
    "papermill": {
     "duration": 0.310615,
     "end_time": "2020-10-25T04:53:47.731373",
     "exception": false,
     "start_time": "2020-10-25T04:53:47.420758",
     "status": "completed"
    },
    "tags": []
   },
   "outputs": [
    {
     "name": "stdout",
     "output_type": "stream",
     "text": [
      "Task 80:\n",
      "   age  salary  grade  group\n",
      "0   17      75      7      1\n",
      "1   50      33      8      1\n",
      "2   24      90      9      2\n",
      "3   45     175      2      2\n",
      "4   65     134      7      2\n",
      "5   18      78      8      1\n",
      "[[17, 75, 7, 1], [50, 33, 8, 1], [24, 90, 9, 2], [45, 175, 2, 2], [65, 134, 7, 2], [18, 78, 8, 1]]\n",
      "<class 'list'>\n"
     ]
    }
   ],
   "source": [
    "print('Task 80:')\n",
    "employees = pd.DataFrame({\n",
    "    \"age\": [17, 50, 24, 45, 65, 18], \n",
    "    \"salary\": [75, 33, 90, 175, 134, 78],\n",
    "    \"grade\" : [7, 8, 9, 2, 7, 8],\n",
    "    \"group\" : [1, 1, 2, 2, 2, 1] \n",
    "    \n",
    "})  \n",
    "print(employees)  \n",
    "employees_list2 = list(map(list, employees.values))\n",
    "print(employees_list2)\n",
    "print(type(employees_list2))"
   ]
  },
  {
   "cell_type": "markdown",
   "metadata": {
    "papermill": {
     "duration": 0.24474,
     "end_time": "2020-10-25T04:53:48.217424",
     "exception": false,
     "start_time": "2020-10-25T04:53:47.972684",
     "status": "completed"
    },
    "tags": []
   },
   "source": [
    "<div style=\"\">\n",
    "    <div style=\"float: left; width: 80%;\">\n",
    "        <a id=\"81\"></a>\n",
    "        <font><b>Task 81:</b></font>\n",
    "        <br><br>\n",
    "        Drop duplicates\n",
    "    </div>\n",
    "    <div style=\"float: right;\">\n",
    "        <a href=\"#top\" class=\"btn btn-primary btn-sm\" role=\"button\" aria-pressed=\"true\" style=\"color:white\" data-toggle=\"popover\" title=\"go to Top\">Go to Top</a>\n",
    "    </div>\n",
    "    <br style=\"clear: left;\" />\n",
    "</div> "
   ]
  },
  {
   "cell_type": "code",
   "execution_count": 85,
   "metadata": {
    "execution": {
     "iopub.execute_input": "2020-10-25T04:53:48.727334Z",
     "iopub.status.busy": "2020-10-25T04:53:48.726546Z",
     "iopub.status.idle": "2020-10-25T04:53:48.731966Z",
     "shell.execute_reply": "2020-10-25T04:53:48.731019Z"
    },
    "papermill": {
     "duration": 0.261043,
     "end_time": "2020-10-25T04:53:48.732160",
     "exception": false,
     "start_time": "2020-10-25T04:53:48.471117",
     "status": "completed"
    },
    "tags": []
   },
   "outputs": [
    {
     "name": "stdout",
     "output_type": "stream",
     "text": [
      "Task 81:\n",
      "   id      city  count\n",
      "0   1   Toronto      7\n",
      "1   1  Montreal      8\n",
      "2   2   Calgary      9\n",
      "3   2  Montreal      2\n",
      "4   3  Montreal      7\n",
      "5   3    Ottawa      8\n",
      "   id      city  count\n",
      "1   1  Montreal      8\n",
      "3   2  Montreal      2\n",
      "5   3    Ottawa      8\n"
     ]
    }
   ],
   "source": [
    "print('Task 81:')  \n",
    "users = pd.DataFrame({\n",
    "    \"id\": [1, 1, 2, 2, 3, 3], \n",
    "    \"city\": ['Toronto', 'Montreal', 'Calgary', 'Montreal', 'Montreal', 'Ottawa'],\n",
    "    \"count\" : [7, 8, 9, 2, 7, 8] \n",
    "    \n",
    "}) \n",
    "print(users)\n",
    "users.drop_duplicates('id', inplace=True, keep='last')\n",
    "print(users)"
   ]
  },
  {
   "cell_type": "markdown",
   "metadata": {
    "papermill": {
     "duration": 0.239186,
     "end_time": "2020-10-25T04:53:49.210358",
     "exception": false,
     "start_time": "2020-10-25T04:53:48.971172",
     "status": "completed"
    },
    "tags": []
   },
   "source": [
    "<div style=\"\">\n",
    "    <div style=\"float: left; width: 80%;\">\n",
    "        <a id=\"82\"></a>\n",
    "        <font><b>Task 82:</b></font>\n",
    "        <br><br>\n",
    "        Selecting multiple columns\n",
    "    </div>\n",
    "    <div style=\"float: right;\">\n",
    "        <a href=\"#top\" class=\"btn btn-primary btn-sm\" role=\"button\" aria-pressed=\"true\" style=\"color:white\" data-toggle=\"popover\" title=\"go to Top\">Go to Top</a>\n",
    "    </div>\n",
    "    <br style=\"clear: left;\" />\n",
    "</div> "
   ]
  },
  {
   "cell_type": "code",
   "execution_count": 86,
   "metadata": {
    "execution": {
     "iopub.execute_input": "2020-10-25T04:53:49.709295Z",
     "iopub.status.busy": "2020-10-25T04:53:49.708316Z",
     "iopub.status.idle": "2020-10-25T04:53:49.712033Z",
     "shell.execute_reply": "2020-10-25T04:53:49.712956Z"
    },
    "papermill": {
     "duration": 0.261031,
     "end_time": "2020-10-25T04:53:49.713177",
     "exception": false,
     "start_time": "2020-10-25T04:53:49.452146",
     "status": "completed"
    },
    "tags": []
   },
   "outputs": [
    {
     "name": "stdout",
     "output_type": "stream",
     "text": [
      "Task 82:\n",
      "   id      city  count\n",
      "0   1   Toronto      7\n",
      "1   1  Montreal      8\n",
      "2   2   Calgary      9\n",
      "3   2  Montreal      2\n",
      "4   3  Montreal      7\n",
      "5   3    Ottawa      8\n",
      "   id      city\n",
      "0   1   Toronto\n",
      "1   1  Montreal\n",
      "2   2   Calgary\n",
      "3   2  Montreal\n",
      "4   3  Montreal\n",
      "5   3    Ottawa\n"
     ]
    }
   ],
   "source": [
    "print('Task 82:')  \n",
    "users = pd.DataFrame({\n",
    "    \"id\": [1, 1, 2, 2, 3, 3], \n",
    "    \"city\": ['Toronto', 'Montreal', 'Calgary', 'Montreal', 'Montreal', 'Ottawa'],\n",
    "    \"count\" : [7, 8, 9, 2, 7, 8] \n",
    "    \n",
    "}) \n",
    "print(users)\n",
    "users1 = users[['id', 'city']]\n",
    "print(users1)"
   ]
  },
  {
   "cell_type": "markdown",
   "metadata": {
    "papermill": {
     "duration": 0.242216,
     "end_time": "2020-10-25T04:53:50.194164",
     "exception": false,
     "start_time": "2020-10-25T04:53:49.951948",
     "status": "completed"
    },
    "tags": []
   },
   "source": [
    "<div style=\"\">\n",
    "    <div style=\"float: left; width: 80%;\">\n",
    "        <a id=\"83\"></a>\n",
    "        <font><b>Task 83:</b></font>\n",
    "        <br><br>\n",
    "        Selecting multiple columns\n",
    "    </div>\n",
    "    <div style=\"float: right;\">\n",
    "        <a href=\"#top\" class=\"btn btn-primary btn-sm\" role=\"button\" aria-pressed=\"true\" style=\"color:white\" data-toggle=\"popover\" title=\"go to Top\">Go to Top</a>\n",
    "    </div>\n",
    "    <br style=\"clear: left;\" />\n",
    "</div>"
   ]
  },
  {
   "cell_type": "code",
   "execution_count": 87,
   "metadata": {
    "execution": {
     "iopub.execute_input": "2020-10-25T04:53:50.687421Z",
     "iopub.status.busy": "2020-10-25T04:53:50.686360Z",
     "iopub.status.idle": "2020-10-25T04:53:50.691580Z",
     "shell.execute_reply": "2020-10-25T04:53:50.690457Z"
    },
    "papermill": {
     "duration": 0.256737,
     "end_time": "2020-10-25T04:53:50.691746",
     "exception": false,
     "start_time": "2020-10-25T04:53:50.435009",
     "status": "completed"
    },
    "tags": []
   },
   "outputs": [
    {
     "name": "stdout",
     "output_type": "stream",
     "text": [
      "Task 83:\n",
      "   id      city  count\n",
      "0   1   Toronto      7\n",
      "1   1  Montreal      8\n",
      "2   2   Calgary      9\n",
      "3   2  Montreal      2\n",
      "4   3  Montreal      7\n",
      "5   3    Ottawa      8\n",
      "   id  count\n",
      "0   1      7\n",
      "1   1      8\n",
      "2   2      9\n",
      "3   2      2\n",
      "4   3      7\n",
      "5   3      8\n"
     ]
    }
   ],
   "source": [
    "print('Task 83:')  \n",
    "users = pd.DataFrame({\n",
    "    \"id\": [1, 1, 2, 2, 3, 3], \n",
    "    \"city\": ['Toronto', 'Montreal', 'Calgary', 'Montreal', 'Montreal', 'Ottawa'],\n",
    "    \"count\" : [7, 8, 9, 2, 7, 8] \n",
    "}) \n",
    "print(users)\n",
    "columns = ['id', 'count']\n",
    "users1 = pd.DataFrame(users, columns=columns)\n",
    "print(users1)"
   ]
  },
  {
   "cell_type": "markdown",
   "metadata": {
    "papermill": {
     "duration": 0.250402,
     "end_time": "2020-10-25T04:53:51.181952",
     "exception": false,
     "start_time": "2020-10-25T04:53:50.931550",
     "status": "completed"
    },
    "tags": []
   },
   "source": [
    "<div style=\"\">\n",
    "    <div style=\"float: left; width: 80%;\">\n",
    "        <a id=\"84\"></a>\n",
    "        <font><b>Task 84:</b></font>\n",
    "        <br><br>\n",
    "        Row and Column Slicing\n",
    "    </div>\n",
    "    <div style=\"float: right;\">\n",
    "        <a href=\"#top\" class=\"btn btn-primary btn-sm\" role=\"button\" aria-pressed=\"true\" style=\"color:white\" data-toggle=\"popover\" title=\"go to Top\">Go to Top</a>\n",
    "    </div>\n",
    "    <br style=\"clear: left;\" />\n",
    "</div> "
   ]
  },
  {
   "cell_type": "code",
   "execution_count": 88,
   "metadata": {
    "execution": {
     "iopub.execute_input": "2020-10-25T04:53:51.683586Z",
     "iopub.status.busy": "2020-10-25T04:53:51.682403Z",
     "iopub.status.idle": "2020-10-25T04:53:51.688514Z",
     "shell.execute_reply": "2020-10-25T04:53:51.687439Z"
    },
    "papermill": {
     "duration": 0.257044,
     "end_time": "2020-10-25T04:53:51.688694",
     "exception": false,
     "start_time": "2020-10-25T04:53:51.431650",
     "status": "completed"
    },
    "tags": []
   },
   "outputs": [
    {
     "name": "stdout",
     "output_type": "stream",
     "text": [
      "Task 84:\n",
      "   id      city  count\n",
      "0   1   Toronto      7\n",
      "1   1  Montreal      8\n",
      "2   2   Calgary      9\n",
      "3   2  Montreal      2\n",
      "4   3  Montreal      7\n",
      "5   3    Ottawa      8\n",
      "       city  count\n",
      "0   Toronto      7\n",
      "1  Montreal      8\n"
     ]
    }
   ],
   "source": [
    "print('Task 84:')  \n",
    "users = pd.DataFrame({\n",
    "    \"id\": [1, 1, 2, 2, 3, 3], \n",
    "    \"city\": ['Toronto', 'Montreal', 'Calgary', 'Montreal', 'Montreal', 'Ottawa'],\n",
    "    \"count\" : [7, 8, 9, 2, 7, 8] \n",
    "    \n",
    "}) \n",
    "print(users)    \n",
    "users1 = users.iloc[0:2, 1:3]\n",
    "print(users1)"
   ]
  },
  {
   "cell_type": "markdown",
   "metadata": {
    "papermill": {
     "duration": 0.234984,
     "end_time": "2020-10-25T04:53:52.166432",
     "exception": false,
     "start_time": "2020-10-25T04:53:51.931448",
     "status": "completed"
    },
    "tags": []
   },
   "source": [
    "<div style=\"\">\n",
    "    <div style=\"float: left; width: 80%;\">\n",
    "        <a id=\"85\"></a>\n",
    "        <font><b>Task 85:</b></font>\n",
    "        <br><br>\n",
    "        Iterating rows\n",
    "    </div>\n",
    "    <div style=\"float: right;\">\n",
    "        <a href=\"#top\" class=\"btn btn-primary btn-sm\" role=\"button\" aria-pressed=\"true\" style=\"color:white\" data-toggle=\"popover\" title=\"go to Top\">Go to Top</a>\n",
    "    </div>\n",
    "    <br style=\"clear: left;\" />\n",
    "</div>"
   ]
  },
  {
   "cell_type": "code",
   "execution_count": 89,
   "metadata": {
    "execution": {
     "iopub.execute_input": "2020-10-25T04:53:52.652004Z",
     "iopub.status.busy": "2020-10-25T04:53:52.651010Z",
     "iopub.status.idle": "2020-10-25T04:53:52.655958Z",
     "shell.execute_reply": "2020-10-25T04:53:52.655015Z"
    },
    "papermill": {
     "duration": 0.254537,
     "end_time": "2020-10-25T04:53:52.656147",
     "exception": false,
     "start_time": "2020-10-25T04:53:52.401610",
     "status": "completed"
    },
    "tags": []
   },
   "outputs": [
    {
     "name": "stdout",
     "output_type": "stream",
     "text": [
      "Task 85:\n",
      "   id      city  count\n",
      "0   1   Toronto      7\n",
      "1   1  Montreal      8\n",
      "2   2   Calgary      9\n",
      "3   2  Montreal      2\n",
      "4   3  Montreal      7\n",
      "5   3    Ottawa      8\n",
      "Toronto ==> 7\n",
      "Montreal ==> 8\n",
      "Calgary ==> 9\n",
      "Montreal ==> 2\n",
      "Montreal ==> 7\n",
      "Ottawa ==> 8\n"
     ]
    }
   ],
   "source": [
    "print('Task 85:')  \n",
    "users = pd.DataFrame({\n",
    "    \"id\": [1, 1, 2, 2, 3, 3], \n",
    "    \"city\": ['Toronto', 'Montreal', 'Calgary', 'Montreal', 'Montreal', 'Ottawa'],\n",
    "    \"count\" : [7, 8, 9, 2, 7, 8] \n",
    "    \n",
    "}) \n",
    "print(users)    \n",
    "for index, row in users.iterrows():\n",
    "    print(row['city'], \"==>\", row['count'])"
   ]
  },
  {
   "cell_type": "markdown",
   "metadata": {
    "papermill": {
     "duration": 0.241468,
     "end_time": "2020-10-25T04:53:53.132153",
     "exception": false,
     "start_time": "2020-10-25T04:53:52.890685",
     "status": "completed"
    },
    "tags": []
   },
   "source": [
    "<div style=\"\">\n",
    "    <div style=\"float: left; width: 80%;\">\n",
    "        <a id=\"86\"></a>\n",
    "        <font><b>Task 86:</b></font>\n",
    "        <br><br>\n",
    "        Iterating tuples\n",
    "    </div>\n",
    "    <div style=\"float: right;\">\n",
    "        <a href=\"#top\" class=\"btn btn-primary btn-sm\" role=\"button\" aria-pressed=\"true\" style=\"color:white\" data-toggle=\"popover\" title=\"go to Top\">Go to Top</a>\n",
    "    </div>\n",
    "    <br style=\"clear: left;\" />\n",
    "</div> "
   ]
  },
  {
   "cell_type": "code",
   "execution_count": 90,
   "metadata": {
    "execution": {
     "iopub.execute_input": "2020-10-25T04:53:53.620779Z",
     "iopub.status.busy": "2020-10-25T04:53:53.619938Z",
     "iopub.status.idle": "2020-10-25T04:53:53.626849Z",
     "shell.execute_reply": "2020-10-25T04:53:53.625878Z"
    },
    "papermill": {
     "duration": 0.254882,
     "end_time": "2020-10-25T04:53:53.627032",
     "exception": false,
     "start_time": "2020-10-25T04:53:53.372150",
     "status": "completed"
    },
    "tags": []
   },
   "outputs": [
    {
     "name": "stdout",
     "output_type": "stream",
     "text": [
      "Task 86:\n",
      "   id      city  count\n",
      "0   1   Toronto      7\n",
      "1   1  Montreal      8\n",
      "2   2   Calgary      9\n",
      "3   2  Montreal      2\n",
      "4   3  Montreal      7\n",
      "5   3    Ottawa      8\n",
      "Toronto\n",
      "Montreal\n",
      "Calgary\n",
      "Montreal\n",
      "Montreal\n",
      "Ottawa\n",
      "7\n",
      "8\n",
      "9\n",
      "2\n",
      "7\n",
      "8\n"
     ]
    }
   ],
   "source": [
    "print('Task 86:')  \n",
    "users = pd.DataFrame({\n",
    "    \"id\": [1, 1, 2, 2, 3, 3], \n",
    "    \"city\": ['Toronto', 'Montreal', 'Calgary', 'Montreal', 'Montreal', 'Ottawa'],\n",
    "    \"count\" : [7, 8, 9, 2, 7, 8] \n",
    "    \n",
    "}) \n",
    "print(users)    \n",
    "for row in users.itertuples(index=True, name='Pandas'):\n",
    "    print(getattr(row, 'city'))\n",
    "    \n",
    "for row in users.itertuples(index=True, name='Pandas'):\n",
    "    print(row.count)"
   ]
  },
  {
   "cell_type": "markdown",
   "metadata": {
    "papermill": {
     "duration": 0.239388,
     "end_time": "2020-10-25T04:53:54.106916",
     "exception": false,
     "start_time": "2020-10-25T04:53:53.867528",
     "status": "completed"
    },
    "tags": []
   },
   "source": [
    "<div style=\"\">\n",
    "    <div style=\"float: left; width: 80%;\">\n",
    "        <a id=\"87\"></a>\n",
    "        <font><b>Task 87:</b></font>\n",
    "        <br><br>\n",
    "        Iterating rows and columns\n",
    "    </div>\n",
    "    <div style=\"float: right;\">\n",
    "        <a href=\"#top\" class=\"btn btn-primary btn-sm\" role=\"button\" aria-pressed=\"true\" style=\"color:white\" data-toggle=\"popover\" title=\"go to Top\">Go to Top</a>\n",
    "    </div>\n",
    "    <br style=\"clear: left;\" />\n",
    "</div> "
   ]
  },
  {
   "cell_type": "code",
   "execution_count": 91,
   "metadata": {
    "execution": {
     "iopub.execute_input": "2020-10-25T04:53:54.589226Z",
     "iopub.status.busy": "2020-10-25T04:53:54.588390Z",
     "iopub.status.idle": "2020-10-25T04:53:54.594605Z",
     "shell.execute_reply": "2020-10-25T04:53:54.593670Z"
    },
    "papermill": {
     "duration": 0.252562,
     "end_time": "2020-10-25T04:53:54.594780",
     "exception": false,
     "start_time": "2020-10-25T04:53:54.342218",
     "status": "completed"
    },
    "tags": []
   },
   "outputs": [
    {
     "name": "stdout",
     "output_type": "stream",
     "text": [
      "Task 87:\n",
      "   id      city  count\n",
      "0   1   Toronto      7\n",
      "1   1  Montreal      8\n",
      "2   2   Calgary      9\n",
      "3   2  Montreal      2\n",
      "4   3  Montreal      7\n",
      "5   3    Ottawa      8\n",
      "1\n",
      "Toronto\n",
      "7\n",
      "1\n",
      "Montreal\n",
      "8\n",
      "2\n",
      "Calgary\n",
      "9\n",
      "2\n",
      "Montreal\n",
      "2\n",
      "3\n",
      "Montreal\n",
      "7\n",
      "3\n",
      "Ottawa\n",
      "8\n"
     ]
    }
   ],
   "source": [
    "print('Task 87:')  \n",
    "users = pd.DataFrame({\n",
    "    \"id\": [1, 1, 2, 2, 3, 3], \n",
    "    \"city\": ['Toronto', 'Montreal', 'Calgary', 'Montreal', 'Montreal', 'Ottawa'],\n",
    "    \"count\" : [7, 8, 9, 2, 7, 8] \n",
    "    \n",
    "}) \n",
    "print(users)    \n",
    "for i, row in users.iterrows():\n",
    "    for j, col in row.iteritems():    \n",
    "        print(col)"
   ]
  },
  {
   "cell_type": "markdown",
   "metadata": {
    "papermill": {
     "duration": 0.234618,
     "end_time": "2020-10-25T04:53:55.100649",
     "exception": false,
     "start_time": "2020-10-25T04:53:54.866031",
     "status": "completed"
    },
    "tags": []
   },
   "source": [
    "<div style=\"\">\n",
    "    <div style=\"float: left; width: 80%;\">\n",
    "        <a id=\"88\"></a>\n",
    "        <font><b>Task 88:</b></font>\n",
    "        <br><br>\n",
    "        List of Dictionary to Dataframe\n",
    "    </div>\n",
    "    <div style=\"float: right;\">\n",
    "        <a href=\"#top\" class=\"btn btn-primary btn-sm\" role=\"button\" aria-pressed=\"true\" style=\"color:white\" data-toggle=\"popover\" title=\"go to Top\">Go to Top</a>\n",
    "    </div>\n",
    "    <br style=\"clear: left;\" />\n",
    "</div> "
   ]
  },
  {
   "cell_type": "code",
   "execution_count": 92,
   "metadata": {
    "execution": {
     "iopub.execute_input": "2020-10-25T04:53:55.589369Z",
     "iopub.status.busy": "2020-10-25T04:53:55.588561Z",
     "iopub.status.idle": "2020-10-25T04:53:55.607206Z",
     "shell.execute_reply": "2020-10-25T04:53:55.605961Z"
    },
    "papermill": {
     "duration": 0.266743,
     "end_time": "2020-10-25T04:53:55.607390",
     "exception": false,
     "start_time": "2020-10-25T04:53:55.340647",
     "status": "completed"
    },
    "tags": []
   },
   "outputs": [
    {
     "name": "stdout",
     "output_type": "stream",
     "text": [
      "Task 88:\n",
      "[{'points': 50, 'time': '5:00', 'year': 2010}, {'points': 25, 'time': '6:00', 'month': 'february'}, {'points': 90, 'time': '9:00', 'month': 'january'}, {'points_h1': 20, 'month': 'june'}]\n",
      "   points  time    year     month  points_h1\n",
      "0    50.0  5:00  2010.0       NaN        NaN\n",
      "1    25.0  6:00     NaN  february        NaN\n",
      "2    90.0  9:00     NaN   january        NaN\n",
      "3     NaN   NaN     NaN      june       20.0\n",
      "   points  time    year     month  points_h1\n",
      "0    50.0  5:00  2010.0       NaN        NaN\n",
      "1    25.0  6:00     NaN  february        NaN\n",
      "2    90.0  9:00     NaN   january        NaN\n",
      "3     NaN   NaN     NaN      june       20.0\n"
     ]
    }
   ],
   "source": [
    "print('Task 88:')  \n",
    "pointlist = [\n",
    "                {'points': 50, 'time': '5:00', 'year': 2010}, \n",
    "                {'points': 25, 'time': '6:00', 'month': \"february\"}, \n",
    "                {'points':90, 'time': '9:00', 'month': 'january'}, \n",
    "                {'points_h1':20, 'month': 'june'}\n",
    "            ]\n",
    "print(pointlist)\n",
    "pointDf = pd.DataFrame(pointlist)\n",
    "print(pointDf)\n",
    "\n",
    "pointDf1 = pd.DataFrame.from_dict(pointlist)\n",
    "print(pointDf1)"
   ]
  },
  {
   "cell_type": "markdown",
   "metadata": {
    "papermill": {
     "duration": 0.248317,
     "end_time": "2020-10-25T04:53:56.114045",
     "exception": false,
     "start_time": "2020-10-25T04:53:55.865728",
     "status": "completed"
    },
    "tags": []
   },
   "source": [
    "<div style=\"\">\n",
    "    <div style=\"float: left; width: 80%;\">\n",
    "        <a id=\"89\"></a>\n",
    "        <font><b>Task 89:</b></font>\n",
    "        <br><br>\n",
    "        NaN values\n",
    "    </div>\n",
    "    <div style=\"float: right;\">\n",
    "        <a href=\"#top\" class=\"btn btn-primary btn-sm\" role=\"button\" aria-pressed=\"true\" style=\"color:white\" data-toggle=\"popover\" title=\"go to Top\">Go to Top</a>\n",
    "    </div>\n",
    "    <br style=\"clear: left;\" />\n",
    "</div> "
   ]
  },
  {
   "cell_type": "code",
   "execution_count": 93,
   "metadata": {
    "execution": {
     "iopub.execute_input": "2020-10-25T04:53:56.616708Z",
     "iopub.status.busy": "2020-10-25T04:53:56.615587Z",
     "iopub.status.idle": "2020-10-25T04:53:56.620153Z",
     "shell.execute_reply": "2020-10-25T04:53:56.620782Z"
    },
    "papermill": {
     "duration": 0.263569,
     "end_time": "2020-10-25T04:53:56.620988",
     "exception": false,
     "start_time": "2020-10-25T04:53:56.357419",
     "status": "completed"
    },
    "tags": []
   },
   "outputs": [
    {
     "name": "stdout",
     "output_type": "stream",
     "text": [
      "Task 89:\n",
      "          0         1         2         3         4         5\n",
      "0  0.540913 -0.553456  0.453133 -1.511952  0.577551  0.055984\n",
      "1  0.407596       NaN -1.208357  0.570245 -1.023995 -1.219163\n",
      "2 -0.233536       NaN  0.091172 -1.342335  0.739268 -0.366752\n",
      "3  0.060941  0.469757  1.298251 -1.141865 -0.815346  0.022657\n",
      "4 -0.199977 -0.214600 -1.271661 -1.015698 -0.441930  0.427154\n",
      "5 -0.288945 -1.905407  0.478499       NaN  1.023978  1.139541\n",
      "6  0.388830 -0.223013 -0.019079 -0.260426  0.653921  0.535028\n",
      "7  0.297773 -1.145989  0.864355  0.784948 -0.385051       NaN\n",
      "8 -0.542621  0.708869 -0.962973 -0.652508 -1.173369       NaN\n",
      "9  1.336793 -0.725214  0.826753  0.789312 -0.129610  0.523339\n",
      "       0      1      2      3      4      5\n",
      "0  False  False  False  False  False  False\n",
      "1  False   True  False  False  False  False\n",
      "2  False   True  False  False  False  False\n",
      "3  False  False  False  False  False  False\n",
      "4  False  False  False  False  False  False\n",
      "5  False  False  False   True  False  False\n",
      "6  False  False  False  False  False  False\n",
      "7  False  False  False  False  False   True\n",
      "8  False  False  False  False  False   True\n",
      "9  False  False  False  False  False  False\n"
     ]
    }
   ],
   "source": [
    "print('Task 89:')\n",
    "df = pd.DataFrame(np.random.randn(10,6))\n",
    "# Make a few areas have NaN values\n",
    "df.iloc[1:3,1] = np.nan\n",
    "df.iloc[5,3] = np.nan\n",
    "df.iloc[7:9,5] = np.nan\n",
    "print(df)\n",
    "df1 = df.isnull()\n",
    "print(df1)"
   ]
  },
  {
   "cell_type": "markdown",
   "metadata": {
    "papermill": {
     "duration": 0.244879,
     "end_time": "2020-10-25T04:53:57.118212",
     "exception": false,
     "start_time": "2020-10-25T04:53:56.873333",
     "status": "completed"
    },
    "tags": []
   },
   "source": [
    "<div style=\"\">\n",
    "    <div style=\"float: left; width: 80%;\">\n",
    "        <a id=\"90\"></a>\n",
    "        <font><b>Task 90:</b></font>\n",
    "        <br><br>\n",
    "        Sum of all nan\n",
    "    </div>\n",
    "    <div style=\"float: right;\">\n",
    "        <a href=\"#top\" class=\"btn btn-primary btn-sm\" role=\"button\" aria-pressed=\"true\" style=\"color:white\" data-toggle=\"popover\" title=\"go to Top\">Go to Top</a>\n",
    "    </div>\n",
    "    <br style=\"clear: left;\" />\n",
    "</div>"
   ]
  },
  {
   "cell_type": "code",
   "execution_count": 94,
   "metadata": {
    "execution": {
     "iopub.execute_input": "2020-10-25T04:53:57.640130Z",
     "iopub.status.busy": "2020-10-25T04:53:57.638973Z",
     "iopub.status.idle": "2020-10-25T04:53:57.644248Z",
     "shell.execute_reply": "2020-10-25T04:53:57.643037Z"
    },
    "papermill": {
     "duration": 0.27926,
     "end_time": "2020-10-25T04:53:57.644381",
     "exception": false,
     "start_time": "2020-10-25T04:53:57.365121",
     "status": "completed"
    },
    "tags": []
   },
   "outputs": [
    {
     "name": "stdout",
     "output_type": "stream",
     "text": [
      "Task 90:\n",
      "          0         1         2         3         4         5\n",
      "0  1.141499 -0.291840 -0.062988 -1.108261 -0.482589 -0.272195\n",
      "1 -0.122856       NaN -0.710558  0.335315  2.170243  0.533203\n",
      "2 -0.276681       NaN -0.557979 -1.362011  0.256766  0.516673\n",
      "3 -0.752554  0.033607  0.796717 -0.500306 -0.757649 -1.794851\n",
      "4  0.680711 -0.826902 -1.076855 -0.454343 -0.954347 -2.478088\n",
      "5 -1.539196 -2.027720  1.223407       NaN -0.955970 -0.658511\n",
      "6  0.116921 -0.819247  1.342155  1.520891  1.898623  1.038872\n",
      "7  0.145614  0.557035  2.574063  2.220653  1.612106       NaN\n",
      "8 -0.334625  0.193173 -1.215978 -0.991431  1.074652       NaN\n",
      "9 -0.257326 -0.206077  0.082228 -1.216702 -0.991528 -2.072902\n",
      "0    0\n",
      "1    2\n",
      "2    0\n",
      "3    1\n",
      "4    0\n",
      "5    2\n",
      "dtype: int64\n",
      "0    0\n",
      "1    1\n",
      "2    1\n",
      "3    0\n",
      "4    0\n",
      "5    1\n",
      "6    0\n",
      "7    1\n",
      "8    1\n",
      "9    0\n",
      "dtype: int64\n",
      "[0, 2, 0, 1, 0, 2]\n"
     ]
    }
   ],
   "source": [
    "print('Task 90:')  \n",
    "df = pd.DataFrame(np.random.randn(10,6))\n",
    "# Make a few areas have NaN values\n",
    "df.iloc[1:3,1] = np.nan\n",
    "df.iloc[5,3] = np.nan\n",
    "df.iloc[7:9,5] = np.nan\n",
    "print(df)\n",
    "print(df.isnull().sum())\n",
    "print(df.isnull().sum(axis=1))\n",
    "print(df.isnull().sum().tolist())"
   ]
  },
  {
   "cell_type": "markdown",
   "metadata": {
    "papermill": {
     "duration": 0.257869,
     "end_time": "2020-10-25T04:53:58.165819",
     "exception": false,
     "start_time": "2020-10-25T04:53:57.907950",
     "status": "completed"
    },
    "tags": []
   },
   "source": [
    "<div style=\"\">\n",
    "    <div style=\"float: left; width: 80%;\">\n",
    "        <a id=\"91\"></a>\n",
    "        <font><b>Task 91:</b></font>\n",
    "        <br><br>\n",
    "        Sum of all nan rowwise\n",
    "    </div>\n",
    "    <div style=\"float: right;\">\n",
    "        <a href=\"#top\" class=\"btn btn-primary btn-sm\" role=\"button\" aria-pressed=\"true\" style=\"color:white\" data-toggle=\"popover\" title=\"go to Top\">Go to Top</a>\n",
    "    </div>\n",
    "    <br style=\"clear: left;\" />\n",
    "</div> "
   ]
  },
  {
   "cell_type": "code",
   "execution_count": 95,
   "metadata": {
    "execution": {
     "iopub.execute_input": "2020-10-25T04:53:58.700368Z",
     "iopub.status.busy": "2020-10-25T04:53:58.699277Z",
     "iopub.status.idle": "2020-10-25T04:53:58.703850Z",
     "shell.execute_reply": "2020-10-25T04:53:58.704757Z"
    },
    "papermill": {
     "duration": 0.281847,
     "end_time": "2020-10-25T04:53:58.705198",
     "exception": false,
     "start_time": "2020-10-25T04:53:58.423351",
     "status": "completed"
    },
    "tags": []
   },
   "outputs": [
    {
     "name": "stdout",
     "output_type": "stream",
     "text": [
      "Task 91:\n",
      "          0         1         2         3         4         5\n",
      "0  0.855893  0.001594 -0.658182  0.469672 -0.345445  0.085155\n",
      "1 -0.358459       NaN -0.448836  1.241837 -1.387113 -0.755060\n",
      "2 -0.022478       NaN  1.222022 -0.986843 -1.234605  1.329473\n",
      "3  0.797484 -0.668570  0.362744 -0.518738 -1.082427  0.154328\n",
      "4  2.405966 -1.305672 -0.216044 -0.522908 -0.934953  0.604987\n",
      "5  1.431157  0.052408  0.187788       NaN  0.799391  1.499596\n",
      "6  0.004238  0.872001 -0.715903 -0.665963 -1.551638  0.513720\n",
      "7  0.198346  1.553118  1.323276  1.235759  1.548998       NaN\n",
      "8  1.068935  1.106076 -0.013700  0.081799  0.409688       NaN\n",
      "9  0.404310  0.066820  0.017141  0.358042 -0.298570  1.061888\n",
      "0    0\n",
      "1    1\n",
      "2    1\n",
      "3    0\n",
      "4    0\n",
      "5    1\n",
      "6    0\n",
      "7    1\n",
      "8    1\n",
      "9    0\n",
      "dtype: int64\n"
     ]
    }
   ],
   "source": [
    "print('Task 91:')  \n",
    "df = pd.DataFrame(np.random.randn(10,6))\n",
    "# Make a few areas have NaN values\n",
    "df.iloc[1:3,1] = np.nan\n",
    "df.iloc[5,3] = np.nan\n",
    "df.iloc[7:9,5] = np.nan\n",
    "print(df)\n",
    "print(df.isnull().sum(axis=1))"
   ]
  },
  {
   "cell_type": "markdown",
   "metadata": {
    "papermill": {
     "duration": 0.262519,
     "end_time": "2020-10-25T04:53:59.227173",
     "exception": false,
     "start_time": "2020-10-25T04:53:58.964654",
     "status": "completed"
    },
    "tags": []
   },
   "source": [
    "<div style=\"\">\n",
    "    <div style=\"float: left; width: 80%;\">\n",
    "        <a id=\"92\"></a>\n",
    "        <font><b>Task 92:</b></font>\n",
    "        <br><br>\n",
    "        Sum of all nan as list\n",
    "    </div>\n",
    "    <div style=\"float: right;\">\n",
    "        <a href=\"#top\" class=\"btn btn-primary btn-sm\" role=\"button\" aria-pressed=\"true\" style=\"color:white\" data-toggle=\"popover\" title=\"go to Top\">Go to Top</a>\n",
    "    </div>\n",
    "    <br style=\"clear: left;\" />\n",
    "</div> "
   ]
  },
  {
   "cell_type": "code",
   "execution_count": 96,
   "metadata": {
    "execution": {
     "iopub.execute_input": "2020-10-25T04:53:59.742157Z",
     "iopub.status.busy": "2020-10-25T04:53:59.741369Z",
     "iopub.status.idle": "2020-10-25T04:53:59.745738Z",
     "shell.execute_reply": "2020-10-25T04:53:59.746713Z"
    },
    "papermill": {
     "duration": 0.272869,
     "end_time": "2020-10-25T04:53:59.746954",
     "exception": false,
     "start_time": "2020-10-25T04:53:59.474085",
     "status": "completed"
    },
    "tags": []
   },
   "outputs": [
    {
     "name": "stdout",
     "output_type": "stream",
     "text": [
      "Task 92:\n",
      "          0         1         2         3         4         5\n",
      "0 -1.297375  0.697703  0.421182 -1.030176 -0.013431  0.159176\n",
      "1  0.968752       NaN -0.470342  0.550176 -0.588441 -0.563879\n",
      "2  0.558115       NaN -1.393654 -0.213277  0.906528  0.697442\n",
      "3  0.533468 -0.252609 -0.426854  1.814782 -0.086337 -0.484522\n",
      "4  0.894330 -0.829854  2.034939  1.671108  1.059560  0.307216\n",
      "5 -0.783491 -0.669807  0.226527       NaN -1.978117 -0.177288\n",
      "6 -0.673208  0.299807 -1.546269 -0.145253  0.218424 -0.823518\n",
      "7  0.613591 -1.438878 -0.821973 -1.059776 -0.399523       NaN\n",
      "8  2.141051  0.428400 -0.634827 -0.445698 -2.118319       NaN\n",
      "9 -0.709473 -1.331460  0.350693 -0.878138 -0.759564 -1.946125\n",
      "[0, 2, 0, 1, 0, 2]\n"
     ]
    }
   ],
   "source": [
    "print('Task 92:')  \n",
    "df = pd.DataFrame(np.random.randn(10,6))\n",
    "# Make a few areas have NaN values\n",
    "df.iloc[1:3,1] = np.nan\n",
    "df.iloc[5,3] = np.nan\n",
    "df.iloc[7:9,5] = np.nan\n",
    "print(df)\n",
    "print(df.isnull().sum().tolist())"
   ]
  },
  {
   "cell_type": "markdown",
   "metadata": {
    "papermill": {
     "duration": 0.285644,
     "end_time": "2020-10-25T04:54:00.302459",
     "exception": false,
     "start_time": "2020-10-25T04:54:00.016815",
     "status": "completed"
    },
    "tags": []
   },
   "source": [
    "<div style=\"\">\n",
    "    <div style=\"float: left; width: 80%;\">\n",
    "        <a id=\"93\"></a>\n",
    "        <font><b>Task 93:</b></font>\n",
    "        <br><br>\n",
    "        Change the order of columns\n",
    "\n",
    "        Note:\n",
    "            FutureWarning: '.reindex_axis' is deprecated and will be removed in a future version \n",
    "    </div>\n",
    "    <div style=\"float: right;\">\n",
    "        <a href=\"#top\" class=\"btn btn-primary btn-sm\" role=\"button\" aria-pressed=\"true\" style=\"color:white\" data-toggle=\"popover\" title=\"go to Top\">Go to Top</a>\n",
    "    </div>\n",
    "    <br style=\"clear: left;\" />\n",
    "</div>"
   ]
  },
  {
   "cell_type": "code",
   "execution_count": 97,
   "metadata": {
    "execution": {
     "iopub.execute_input": "2020-10-25T04:54:00.869078Z",
     "iopub.status.busy": "2020-10-25T04:54:00.867966Z",
     "iopub.status.idle": "2020-10-25T04:54:00.872077Z",
     "shell.execute_reply": "2020-10-25T04:54:00.872821Z"
    },
    "papermill": {
     "duration": 0.285473,
     "end_time": "2020-10-25T04:54:00.872996",
     "exception": false,
     "start_time": "2020-10-25T04:54:00.587523",
     "status": "completed"
    },
    "tags": []
   },
   "outputs": [
    {
     "name": "stdout",
     "output_type": "stream",
     "text": [
      "Task 93:\n",
      "   id      city  count\n",
      "0   1   Toronto      7\n",
      "1   1  Montreal      8\n",
      "2   2   Calgary      9\n",
      "3   2  Montreal      2\n",
      "4   3  Montreal      7\n",
      "5   3    Ottawa      8\n",
      "       city  id  count\n",
      "0   Toronto   1      7\n",
      "1  Montreal   1      8\n",
      "2   Calgary   2      9\n",
      "3  Montreal   2      2\n",
      "4  Montreal   3      7\n",
      "5    Ottawa   3      8\n"
     ]
    }
   ],
   "source": [
    "print('Task 93:')  \n",
    "users = pd.DataFrame({\n",
    "    \"id\": [1, 1, 2, 2, 3, 3], \n",
    "    \"city\": ['Toronto', 'Montreal', 'Calgary', 'Montreal', 'Montreal', 'Ottawa'],\n",
    "    \"count\" : [7, 8, 9, 2, 7, 8] \n",
    "    \n",
    "}) \n",
    "print(users)\n",
    "\n",
    "# below line throws error\n",
    "# users1 = users.reindex_axis(['city', 'count', 'id'], axis=1)\n",
    "# print(users1)\n",
    "\n",
    "users2 = users.reindex(columns=['city', 'id', 'count'])\n",
    "print(users2)"
   ]
  },
  {
   "cell_type": "markdown",
   "metadata": {
    "papermill": {
     "duration": 0.268489,
     "end_time": "2020-10-25T04:54:01.397067",
     "exception": false,
     "start_time": "2020-10-25T04:54:01.128578",
     "status": "completed"
    },
    "tags": []
   },
   "source": [
    "<div style=\"\">\n",
    "    <div style=\"float: left; width: 80%;\">\n",
    "        <a id=\"94\"></a>\n",
    "        <font><b>Task 94:</b></font>\n",
    "        <br><br>\n",
    "        Drop multiple rows\n",
    "    </div>\n",
    "    <div style=\"float: right;\">\n",
    "        <a href=\"#top\" class=\"btn btn-primary btn-sm\" role=\"button\" aria-pressed=\"true\" style=\"color:white\" data-toggle=\"popover\" title=\"go to Top\">Go to Top</a>\n",
    "    </div>\n",
    "    <br style=\"clear: left;\" />\n",
    "</div> "
   ]
  },
  {
   "cell_type": "code",
   "execution_count": 98,
   "metadata": {
    "execution": {
     "iopub.execute_input": "2020-10-25T04:54:01.921996Z",
     "iopub.status.busy": "2020-10-25T04:54:01.920948Z",
     "iopub.status.idle": "2020-10-25T04:54:01.925798Z",
     "shell.execute_reply": "2020-10-25T04:54:01.924945Z"
    },
    "papermill": {
     "duration": 0.268002,
     "end_time": "2020-10-25T04:54:01.925948",
     "exception": false,
     "start_time": "2020-10-25T04:54:01.657946",
     "status": "completed"
    },
    "tags": []
   },
   "outputs": [
    {
     "name": "stdout",
     "output_type": "stream",
     "text": [
      "Task 94:\n",
      "   id  number\n",
      "0   1      10\n",
      "1   2      20\n",
      "2   3      30\n",
      "3   4      30\n",
      "4   5      23\n",
      "5   6      12\n",
      "   id  number\n",
      "1   2      20\n",
      "2   3      30\n",
      "4   5      23\n"
     ]
    }
   ],
   "source": [
    "print('Task 94:')\n",
    "numbers = pd.DataFrame({\n",
    "    \"id\": [1, 2, 3, 4, 5, 6], \n",
    "    \"number\": [10, 20, 30, 30, 23, 12]\n",
    "    \n",
    "})  \n",
    "print(numbers)\n",
    "numbers.drop(numbers.index[[0, 3, 5]], inplace=True)\n",
    "print(numbers)"
   ]
  },
  {
   "cell_type": "markdown",
   "metadata": {
    "papermill": {
     "duration": 0.265297,
     "end_time": "2020-10-25T04:54:02.446201",
     "exception": false,
     "start_time": "2020-10-25T04:54:02.180904",
     "status": "completed"
    },
    "tags": []
   },
   "source": [
    "<div style=\"\">\n",
    "    <div style=\"float: left; width: 80%;\">\n",
    "        <a id=\"95\"></a>\n",
    "        <font><b>Task 95:</b></font>\n",
    "        <br><br>\n",
    "        Drop multiple rows by row name\n",
    "    </div>\n",
    "    <div style=\"float: right;\">\n",
    "        <a href=\"#top\" class=\"btn btn-primary btn-sm\" role=\"button\" aria-pressed=\"true\" style=\"color:white\" data-toggle=\"popover\" title=\"go to Top\">Go to Top</a>\n",
    "    </div>\n",
    "    <br style=\"clear: left;\" />\n",
    "</div>"
   ]
  },
  {
   "cell_type": "code",
   "execution_count": 99,
   "metadata": {
    "execution": {
     "iopub.execute_input": "2020-10-25T04:54:02.943536Z",
     "iopub.status.busy": "2020-10-25T04:54:02.942737Z",
     "iopub.status.idle": "2020-10-25T04:54:02.950822Z",
     "shell.execute_reply": "2020-10-25T04:54:02.950101Z"
    },
    "papermill": {
     "duration": 0.263808,
     "end_time": "2020-10-25T04:54:02.950956",
     "exception": false,
     "start_time": "2020-10-25T04:54:02.687148",
     "status": "completed"
    },
    "tags": []
   },
   "outputs": [
    {
     "name": "stdout",
     "output_type": "stream",
     "text": [
      "Task 95:\n",
      "       id  number\n",
      "one     1      10\n",
      "two     2      20\n",
      "three   3      30\n",
      "four    4      30\n",
      "five    5      23\n",
      "six     6      12\n",
      "       id  number\n",
      "one     1      10\n",
      "three   3      30\n",
      "four    4      30\n",
      "five    5      23\n",
      "       id  number\n",
      "one     1      10\n",
      "three   3      30\n",
      "four    4      30\n",
      "five    5      23\n",
      "six     6      12\n"
     ]
    }
   ],
   "source": [
    "print('Task 95:')  \n",
    "numbers = pd.DataFrame({\n",
    "    \"id\": [1, 2, 3, 4, 5, 6], \n",
    "    \"number\": [10, 20, 30, 30, 23, 12]\n",
    "    \n",
    "}, index=['one', 'two', 'three', 'four', 'five', 'six'])  \n",
    "print(numbers)\n",
    "numbers1 = numbers.drop(['two','six'])\n",
    "print(numbers1)\n",
    "numbers2 = numbers.drop('two')\n",
    "print(numbers2)"
   ]
  },
  {
   "cell_type": "markdown",
   "metadata": {
    "papermill": {
     "duration": 0.243681,
     "end_time": "2020-10-25T04:54:03.438194",
     "exception": false,
     "start_time": "2020-10-25T04:54:03.194513",
     "status": "completed"
    },
    "tags": []
   },
   "source": [
    "<div style=\"\">\n",
    "    <div style=\"float: left; width: 80%;\">\n",
    "        <a id=\"96\"></a>\n",
    "        <font><b>Task :</b></font>\n",
    "        <br><br>\n",
    "        Get group\n",
    "    </div>\n",
    "    <div style=\"float: right;\">\n",
    "        <a href=\"#top\" class=\"btn btn-primary btn-sm\" role=\"button\" aria-pressed=\"true\" style=\"color:white\" data-toggle=\"popover\" title=\"go to Top\">Go to Top</a>\n",
    "    </div>\n",
    "    <br style=\"clear: left;\" />\n",
    "</div> "
   ]
  },
  {
   "cell_type": "code",
   "execution_count": 100,
   "metadata": {
    "execution": {
     "iopub.execute_input": "2020-10-25T04:54:03.929712Z",
     "iopub.status.busy": "2020-10-25T04:54:03.928620Z",
     "iopub.status.idle": "2020-10-25T04:54:03.932414Z",
     "shell.execute_reply": "2020-10-25T04:54:03.933149Z"
    },
    "papermill": {
     "duration": 0.254656,
     "end_time": "2020-10-25T04:54:03.933312",
     "exception": false,
     "start_time": "2020-10-25T04:54:03.678656",
     "status": "completed"
    },
    "tags": []
   },
   "outputs": [
    {
     "name": "stdout",
     "output_type": "stream",
     "text": [
      "Task 96:\n",
      "  animal size  weight  adult\n",
      "0    cat    S       8  False\n",
      "2    cat    M      11  False\n",
      "5    cat    L      12   True\n",
      "6    cat    L      12   True\n"
     ]
    }
   ],
   "source": [
    "print('Task 96:')\n",
    "cats = animals_df.groupby(['animal']).get_group('cat')\n",
    "print(cats)"
   ]
  },
  {
   "cell_type": "markdown",
   "metadata": {
    "papermill": {
     "duration": 0.243201,
     "end_time": "2020-10-25T04:54:04.420640",
     "exception": false,
     "start_time": "2020-10-25T04:54:04.177439",
     "status": "completed"
    },
    "tags": []
   },
   "source": []
  },
  {
   "cell_type": "markdown",
   "metadata": {
    "papermill": {
     "duration": 0.28696,
     "end_time": "2020-10-25T04:54:04.956555",
     "exception": false,
     "start_time": "2020-10-25T04:54:04.669595",
     "status": "completed"
    },
    "tags": []
   },
   "source": [
    "<div style=\"\">\n",
    "    <div style=\"float: left; width: 80%;\">\n",
    "        <a id=\"97\"></a>\n",
    "        <font><b>Task 97:</b></font>\n",
    "        <br><br>\n",
    "        Get the the odd row\n",
    "    </div>\n",
    "    <div style=\"float: right;\">\n",
    "        <a href=\"#top\" class=\"btn btn-primary btn-sm\" role=\"button\" aria-pressed=\"true\" style=\"color:white\" data-toggle=\"popover\" title=\"go to Top\">Go to Top</a>\n",
    "    </div>\n",
    "    <br style=\"clear: left;\" />\n",
    "</div>"
   ]
  },
  {
   "cell_type": "code",
   "execution_count": 101,
   "metadata": {
    "execution": {
     "iopub.execute_input": "2020-10-25T04:54:05.456952Z",
     "iopub.status.busy": "2020-10-25T04:54:05.456172Z",
     "iopub.status.idle": "2020-10-25T04:54:05.459935Z",
     "shell.execute_reply": "2020-10-25T04:54:05.460745Z"
    },
    "papermill": {
     "duration": 0.25831,
     "end_time": "2020-10-25T04:54:05.460941",
     "exception": false,
     "start_time": "2020-10-25T04:54:05.202631",
     "status": "completed"
    },
    "tags": []
   },
   "outputs": [
    {
     "name": "stdout",
     "output_type": "stream",
     "text": [
      "Task 97:\n",
      "[[ 1  2  3  4  5]\n",
      " [ 6  7  8  9 10]\n",
      " [11 12 13 14 15]\n",
      " [16 17 18 19 20]]\n",
      "[[ 1  2  3  4  5]\n",
      " [11 12 13 14 15]]\n"
     ]
    }
   ],
   "source": [
    "print('Task 97:')  \n",
    "x = numpy.array([\n",
    "                    [ 1,  2,  3,  4,  5],\n",
    "                    [ 6,  7,  8,  9, 10],\n",
    "                    [11, 12, 13, 14, 15],\n",
    "                    [16, 17, 18, 19, 20]\n",
    "                ]\n",
    "    )\n",
    "print(x)\n",
    "print(x[::2])"
   ]
  },
  {
   "cell_type": "markdown",
   "metadata": {
    "papermill": {
     "duration": 0.259593,
     "end_time": "2020-10-25T04:54:05.985959",
     "exception": false,
     "start_time": "2020-10-25T04:54:05.726366",
     "status": "completed"
    },
    "tags": []
   },
   "source": [
    "<div style=\"\">\n",
    "    <div style=\"float: left; width: 80%;\">\n",
    "        <a id=\"98\"></a>\n",
    "        <font><b>Task 98:</b></font>\n",
    "        <br><br>\n",
    "        Get the even columns\n",
    "    </div>\n",
    "    <div style=\"float: right;\">\n",
    "        <a href=\"#top\" class=\"btn btn-primary btn-sm\" role=\"button\" aria-pressed=\"true\" style=\"color:white\" data-toggle=\"popover\" title=\"go to Top\">Go to Top</a>\n",
    "    </div>\n",
    "    <br style=\"clear: left;\" />\n",
    "</div> "
   ]
  },
  {
   "cell_type": "code",
   "execution_count": 102,
   "metadata": {
    "execution": {
     "iopub.execute_input": "2020-10-25T04:54:06.485398Z",
     "iopub.status.busy": "2020-10-25T04:54:06.484443Z",
     "iopub.status.idle": "2020-10-25T04:54:06.489029Z",
     "shell.execute_reply": "2020-10-25T04:54:06.488219Z"
    },
    "papermill": {
     "duration": 0.256911,
     "end_time": "2020-10-25T04:54:06.489161",
     "exception": false,
     "start_time": "2020-10-25T04:54:06.232250",
     "status": "completed"
    },
    "tags": []
   },
   "outputs": [
    {
     "name": "stdout",
     "output_type": "stream",
     "text": [
      "Task 98:\n",
      "[[ 1  2  3  4  5]\n",
      " [ 6  7  8  9 10]\n",
      " [11 12 13 14 15]\n",
      " [16 17 18 19 20]]\n",
      "[[ 2  4]\n",
      " [ 7  9]\n",
      " [12 14]\n",
      " [17 19]]\n"
     ]
    }
   ],
   "source": [
    "print('Task 98:')  \n",
    "x = numpy.array([\n",
    "                    [ 1,  2,  3,  4,  5],\n",
    "                    [ 6,  7,  8,  9, 10],\n",
    "                    [11, 12, 13, 14, 15],\n",
    "                    [16, 17, 18, 19, 20]\n",
    "                ]\n",
    "    )\n",
    "print(x)\n",
    "print(x[:, 1::2])"
   ]
  },
  {
   "cell_type": "markdown",
   "metadata": {
    "papermill": {
     "duration": 0.242053,
     "end_time": "2020-10-25T04:54:06.975429",
     "exception": false,
     "start_time": "2020-10-25T04:54:06.733376",
     "status": "completed"
    },
    "tags": []
   },
   "source": [
    "<div style=\"\">\n",
    "    <div style=\"float: left; width: 80%;\">\n",
    "        <a id=\"99\"></a>\n",
    "        <font><b>Task 99:</b></font>\n",
    "        <br><br>\n",
    "        Odd rows and even columns\n",
    "    </div>\n",
    "    <div style=\"float: right;\">\n",
    "        <a href=\"#top\" class=\"btn btn-primary btn-sm\" role=\"button\" aria-pressed=\"true\" style=\"color:white\" data-toggle=\"popover\" title=\"go to Top\">Go to Top</a>\n",
    "    </div>\n",
    "    <br style=\"clear: left;\" />\n",
    "</div> "
   ]
  },
  {
   "cell_type": "code",
   "execution_count": 103,
   "metadata": {
    "execution": {
     "iopub.execute_input": "2020-10-25T04:54:07.472617Z",
     "iopub.status.busy": "2020-10-25T04:54:07.471646Z",
     "iopub.status.idle": "2020-10-25T04:54:07.475281Z",
     "shell.execute_reply": "2020-10-25T04:54:07.476176Z"
    },
    "papermill": {
     "duration": 0.254896,
     "end_time": "2020-10-25T04:54:07.476404",
     "exception": false,
     "start_time": "2020-10-25T04:54:07.221508",
     "status": "completed"
    },
    "tags": []
   },
   "outputs": [
    {
     "name": "stdout",
     "output_type": "stream",
     "text": [
      "Task 99:\n",
      "[[ 1  2  3  4  5]\n",
      " [ 6  7  8  9 10]\n",
      " [11 12 13 14 15]\n",
      " [16 17 18 19 20]]\n",
      "[[ 2  4]\n",
      " [12 14]]\n"
     ]
    }
   ],
   "source": [
    "print('Task 99:')  \n",
    "\n",
    "x = numpy.array([\n",
    "                    [ 1,  2,  3,  4,  5],\n",
    "                    [ 6,  7,  8,  9, 10],\n",
    "                    [11, 12, 13, 14, 15],\n",
    "                    [16, 17, 18, 19, 20]\n",
    "                ]\n",
    "    )\n",
    "print(x)\n",
    "print(x[::2, 1::2])"
   ]
  },
  {
   "cell_type": "markdown",
   "metadata": {
    "papermill": {
     "duration": 0.241506,
     "end_time": "2020-10-25T04:54:07.962096",
     "exception": false,
     "start_time": "2020-10-25T04:54:07.720590",
     "status": "completed"
    },
    "tags": []
   },
   "source": [
    "<div style=\"\">\n",
    "    <div style=\"float: left; width: 80%;\">\n",
    "        <a id=\"100\"></a>\n",
    "        <font><b>Task 100:</b></font>\n",
    "        <br><br>\n",
    "        Drop duplicates\n",
    "    </div>\n",
    "    <div style=\"float: right;\">\n",
    "        <a href=\"#top\" class=\"btn btn-primary btn-sm\" role=\"button\" aria-pressed=\"true\" style=\"color:white\" data-toggle=\"popover\" title=\"go to Top\">Go to Top</a>\n",
    "    </div>\n",
    "    <br style=\"clear: left;\" />\n",
    "</div>"
   ]
  },
  {
   "cell_type": "code",
   "execution_count": 104,
   "metadata": {
    "execution": {
     "iopub.execute_input": "2020-10-25T04:54:08.465283Z",
     "iopub.status.busy": "2020-10-25T04:54:08.464436Z",
     "iopub.status.idle": "2020-10-25T04:54:08.469428Z",
     "shell.execute_reply": "2020-10-25T04:54:08.468335Z"
    },
    "papermill": {
     "duration": 0.262634,
     "end_time": "2020-10-25T04:54:08.469633",
     "exception": false,
     "start_time": "2020-10-25T04:54:08.206999",
     "status": "completed"
    },
    "tags": []
   },
   "outputs": [
    {
     "name": "stdout",
     "output_type": "stream",
     "text": [
      "Task 100:\n",
      "   id      city  count\n",
      "0   1   Toronto      7\n",
      "1   1  Montreal      8\n",
      "2   2   Calgary      9\n",
      "3   2  Montreal      2\n",
      "4   3  Montreal      7\n",
      "5   3    Ottawa      8\n",
      "   id      city  count\n",
      "0   1   Toronto      7\n",
      "2   2   Calgary      9\n",
      "4   3  Montreal      7\n"
     ]
    }
   ],
   "source": [
    "print('Task 100:')  \n",
    "users = pd.DataFrame({\n",
    "    \"id\": [1, 1, 2, 2, 3, 3], \n",
    "    \"city\": ['Toronto', 'Montreal', 'Calgary', 'Montreal', 'Montreal', 'Ottawa'],\n",
    "    \"count\" : [7, 8, 9, 2, 7, 8] \n",
    "    \n",
    "}) \n",
    "print(users)\n",
    "users.drop_duplicates('id', inplace=True)\n",
    "print(users)"
   ]
  },
  {
   "cell_type": "markdown",
   "metadata": {
    "papermill": {
     "duration": 0.245298,
     "end_time": "2020-10-25T04:54:08.957091",
     "exception": false,
     "start_time": "2020-10-25T04:54:08.711793",
     "status": "completed"
    },
    "tags": []
   },
   "source": [
    "<div style=\"\">\n",
    "    <div style=\"float: left; width: 80%;\">\n",
    "        <a id=\"101\"></a>\n",
    "        <font><b>Task 101:</b></font>\n",
    "        <br><br>\n",
    "        Drop all duplicates\n",
    "    </div>\n",
    "    <div style=\"float: right;\">\n",
    "        <a href=\"#top\" class=\"btn btn-primary btn-sm\" role=\"button\" aria-pressed=\"true\" style=\"color:white\" data-toggle=\"popover\" title=\"go to Top\">Go to Top</a>\n",
    "    </div>\n",
    "    <br style=\"clear: left;\" />\n",
    "</div>"
   ]
  },
  {
   "cell_type": "code",
   "execution_count": 105,
   "metadata": {
    "execution": {
     "iopub.execute_input": "2020-10-25T04:54:09.469195Z",
     "iopub.status.busy": "2020-10-25T04:54:09.468402Z",
     "iopub.status.idle": "2020-10-25T04:54:09.472054Z",
     "shell.execute_reply": "2020-10-25T04:54:09.472785Z"
    },
    "papermill": {
     "duration": 0.268204,
     "end_time": "2020-10-25T04:54:09.473002",
     "exception": false,
     "start_time": "2020-10-25T04:54:09.204798",
     "status": "completed"
    },
    "tags": []
   },
   "outputs": [
    {
     "name": "stdout",
     "output_type": "stream",
     "text": [
      "Task 101:\n",
      "    name      city  count\n",
      "0  kevin   Toronto      7\n",
      "1  james  Montreal      8\n",
      "2  kumar   Calgary      9\n",
      "3  kevin  Montreal      2\n",
      "4  kevin  Montreal      7\n",
      "5  james    Ottawa      8\n",
      "    name      city  count\n",
      "2  kumar   Calgary      9\n",
      "4  kevin  Montreal      7\n",
      "5  james    Ottawa      8\n",
      "    name      city  count\n",
      "2  kumar   Calgary      9\n",
      "4  kevin  Montreal      7\n",
      "5  james    Ottawa      8\n"
     ]
    }
   ],
   "source": [
    "print('Task 101:')  \n",
    "users = pd.DataFrame({\n",
    "    \"name\": ['kevin', 'james', 'kumar', 'kevin', 'kevin', 'james'], \n",
    "    \"city\": ['Toronto', 'Montreal', 'Calgary', 'Montreal', 'Montreal', 'Ottawa'],\n",
    "    \"count\" : [7, 8, 9, 2, 7, 8] \n",
    "    \n",
    "}) \n",
    "print(users)\n",
    "users.drop_duplicates('name', inplace=True, keep='last')\n",
    "print(users)\n",
    "users1 = users.drop_duplicates('name', keep=False)\n",
    "print(users1)"
   ]
  },
  {
   "cell_type": "markdown",
   "metadata": {
    "papermill": {
     "duration": 0.241657,
     "end_time": "2020-10-25T04:54:09.957427",
     "exception": false,
     "start_time": "2020-10-25T04:54:09.715770",
     "status": "completed"
    },
    "tags": []
   },
   "source": [
    "<div style=\"\">\n",
    "    <div style=\"float: left; width: 80%;\">\n",
    "        <a id=\"102\"></a>\n",
    "        <font><b>Task 102:</b></font>\n",
    "        <br><br>\n",
    "        Basic group by\n",
    "    </div>\n",
    "    <div style=\"float: right;\">\n",
    "        <a href=\"#top\" class=\"btn btn-primary btn-sm\" role=\"button\" aria-pressed=\"true\" style=\"color:white\" data-toggle=\"popover\" title=\"go to Top\">Go to Top</a>\n",
    "    </div>\n",
    "    <br style=\"clear: left;\" />\n",
    "</div> "
   ]
  },
  {
   "cell_type": "code",
   "execution_count": 106,
   "metadata": {
    "execution": {
     "iopub.execute_input": "2020-10-25T04:54:10.457463Z",
     "iopub.status.busy": "2020-10-25T04:54:10.456430Z",
     "iopub.status.idle": "2020-10-25T04:54:10.461158Z",
     "shell.execute_reply": "2020-10-25T04:54:10.460061Z"
    },
    "papermill": {
     "duration": 0.258062,
     "end_time": "2020-10-25T04:54:10.461286",
     "exception": false,
     "start_time": "2020-10-25T04:54:10.203224",
     "status": "completed"
    },
    "tags": []
   },
   "outputs": [
    {
     "name": "stdout",
     "output_type": "stream",
     "text": [
      "Task 102:\n",
      "animal\n",
      "cat     L\n",
      "dog     M\n",
      "fish    M\n",
      "dtype: object\n"
     ]
    }
   ],
   "source": [
    "print('Task 102:')\n",
    "animals_df1 = animals_df.groupby('animal').apply(lambda x: x['size'][x['weight'].idxmax()])\n",
    "print(animals_df1)"
   ]
  },
  {
   "cell_type": "markdown",
   "metadata": {
    "papermill": {
     "duration": 0.246132,
     "end_time": "2020-10-25T04:54:10.951684",
     "exception": false,
     "start_time": "2020-10-25T04:54:10.705552",
     "status": "completed"
    },
    "tags": []
   },
   "source": [
    "<div style=\"\">\n",
    "    <div style=\"float: left; width: 80%;\">\n",
    "        <a id=\"102\"></a>\n",
    "        <font><b>Task 103:</b></font>\n",
    "        <br><br>\n",
    "        Missing Data:\n",
    "        Make A'th 3rd coulmn Nan\n",
    "    </div>\n",
    "    <div style=\"float: right;\">\n",
    "        <a href=\"#top\" class=\"btn btn-primary btn-sm\" role=\"button\" aria-pressed=\"true\" style=\"color:white\" data-toggle=\"popover\" title=\"go to Top\">Go to Top</a>\n",
    "    </div>\n",
    "    <br style=\"clear: left;\" />\n",
    "</div> "
   ]
  },
  {
   "cell_type": "code",
   "execution_count": 107,
   "metadata": {
    "execution": {
     "iopub.execute_input": "2020-10-25T04:54:11.460649Z",
     "iopub.status.busy": "2020-10-25T04:54:11.459816Z",
     "iopub.status.idle": "2020-10-25T04:54:11.464391Z",
     "shell.execute_reply": "2020-10-25T04:54:11.464990Z"
    },
    "papermill": {
     "duration": 0.265908,
     "end_time": "2020-10-25T04:54:11.465173",
     "exception": false,
     "start_time": "2020-10-25T04:54:11.199265",
     "status": "completed"
    },
    "tags": []
   },
   "outputs": [
    {
     "name": "stdout",
     "output_type": "stream",
     "text": [
      "Task 103:\n",
      "                   A\n",
      "2013-08-01  0.204227\n",
      "2013-08-02  0.414079\n",
      "2013-08-05 -0.715691\n",
      "2013-08-06  0.845370\n",
      "2013-08-07  1.029887\n",
      "2013-08-08 -0.057697\n",
      "                   A\n",
      "2013-08-01  0.204227\n",
      "2013-08-02  0.414079\n",
      "2013-08-05 -0.715691\n",
      "2013-08-06       NaN\n",
      "2013-08-07  1.029887\n",
      "2013-08-08 -0.057697\n"
     ]
    }
   ],
   "source": [
    "print('Task 103:')  \n",
    "df = pd.DataFrame(np.random.randn(6,1), index=pd.date_range('2013-08-01', periods=6, freq='B'), columns=list('A'))\n",
    "print(df)\n",
    "df.loc[df.index[3], 'A'] = np.nan\n",
    "print(df)"
   ]
  },
  {
   "cell_type": "markdown",
   "metadata": {
    "papermill": {
     "duration": 0.246079,
     "end_time": "2020-10-25T04:54:11.961411",
     "exception": false,
     "start_time": "2020-10-25T04:54:11.715332",
     "status": "completed"
    },
    "tags": []
   },
   "source": [
    "<div style=\"\">\n",
    "    <div style=\"float: left; width: 80%;\">\n",
    "        <a id=\"104\"></a>\n",
    "        <font><b>Task 104:</b></font>\n",
    "        <br><br>\n",
    "        reindex\n",
    "    </div>\n",
    "    <div style=\"float: right;\">\n",
    "        <a href=\"#top\" class=\"btn btn-primary btn-sm\" role=\"button\" aria-pressed=\"true\" style=\"color:white\" data-toggle=\"popover\" title=\"go to Top\">Go to Top</a>\n",
    "    </div>\n",
    "    <br style=\"clear: left;\" />\n",
    "</div> "
   ]
  },
  {
   "cell_type": "code",
   "execution_count": 108,
   "metadata": {
    "execution": {
     "iopub.execute_input": "2020-10-25T04:54:12.473769Z",
     "iopub.status.busy": "2020-10-25T04:54:12.472948Z",
     "iopub.status.idle": "2020-10-25T04:54:12.477833Z",
     "shell.execute_reply": "2020-10-25T04:54:12.476706Z"
    },
    "papermill": {
     "duration": 0.267325,
     "end_time": "2020-10-25T04:54:12.478025",
     "exception": false,
     "start_time": "2020-10-25T04:54:12.210700",
     "status": "completed"
    },
    "tags": []
   },
   "outputs": [
    {
     "name": "stdout",
     "output_type": "stream",
     "text": [
      "Task 104:\n",
      "                   A\n",
      "2013-08-08 -0.057697\n",
      "2013-08-07  1.029887\n",
      "2013-08-06  1.029887\n",
      "2013-08-05 -0.715691\n",
      "2013-08-02  0.414079\n",
      "2013-08-01  0.204227\n"
     ]
    }
   ],
   "source": [
    "print('Task 104:')\n",
    "df1 = df.reindex(df.index[::-1]).ffill()\n",
    "print(df1)"
   ]
  },
  {
   "cell_type": "markdown",
   "metadata": {
    "papermill": {
     "duration": 0.249,
     "end_time": "2020-10-25T04:54:12.979216",
     "exception": false,
     "start_time": "2020-10-25T04:54:12.730216",
     "status": "completed"
    },
    "tags": []
   },
   "source": [
    "<div style=\"\">\n",
    "    <div style=\"float: left; width: 80%;\">\n",
    "        <a id=\"105\"></a>\n",
    "        <font><b>Task 105:</b></font>\n",
    "        <br><br>\n",
    "        Column reset Nan\n",
    "    </div>\n",
    "    <div style=\"float: right;\">\n",
    "        <a href=\"#top\" class=\"btn btn-primary btn-sm\" role=\"button\" aria-pressed=\"true\" style=\"color:white\" data-toggle=\"popover\" title=\"go to Top\">Go to Top</a>\n",
    "    </div>\n",
    "    <br style=\"clear: left;\" />\n",
    "</div>"
   ]
  },
  {
   "cell_type": "code",
   "execution_count": 109,
   "metadata": {
    "execution": {
     "iopub.execute_input": "2020-10-25T04:54:13.497619Z",
     "iopub.status.busy": "2020-10-25T04:54:13.496566Z",
     "iopub.status.idle": "2020-10-25T04:54:13.500590Z",
     "shell.execute_reply": "2020-10-25T04:54:13.501540Z"
    },
    "papermill": {
     "duration": 0.269185,
     "end_time": "2020-10-25T04:54:13.501776",
     "exception": false,
     "start_time": "2020-10-25T04:54:13.232591",
     "status": "completed"
    },
    "tags": []
   },
   "outputs": [
    {
     "name": "stdout",
     "output_type": "stream",
     "text": [
      "Task 105:\n",
      "  animal size  weight  adult\n",
      "0    cat    S       8  False\n",
      "1    dog    S      10  False\n",
      "2    cat    M      11  False\n",
      "3   fish    M       1  False\n",
      "4    dog    M      20  False\n",
      "5    cat    L      12   True\n",
      "6    cat    L      12   True\n"
     ]
    }
   ],
   "source": [
    "print('Task 105:')\n",
    "animals_df = pd.DataFrame({'animal': 'cat dog cat fish dog cat cat'.split(),\n",
    "                   'size': list('SSMMMLL'),\n",
    "                   'weight': [8, 10, 11, 1, 20, 12, 12],\n",
    "                   'adult' : [False] * 5 + [True] * 2})\n",
    "print(animals_df)"
   ]
  },
  {
   "cell_type": "markdown",
   "metadata": {
    "papermill": {
     "duration": 0.255869,
     "end_time": "2020-10-25T04:54:14.005921",
     "exception": false,
     "start_time": "2020-10-25T04:54:13.750052",
     "status": "completed"
    },
    "tags": []
   },
   "source": [
    "### Extras"
   ]
  },
  {
   "cell_type": "markdown",
   "metadata": {
    "papermill": {
     "duration": 0.246784,
     "end_time": "2020-10-25T04:54:14.498185",
     "exception": false,
     "start_time": "2020-10-25T04:54:14.251401",
     "status": "completed"
    },
    "tags": []
   },
   "source": [
    "<div style=\"\">\n",
    "    <div style=\"float: left; width: 80%;\">\n",
    "        <a id=\"106\"></a>\n",
    "        <font><b>Task 106:</b></font>\n",
    "        <br><br>\n",
    "        Change columns\n",
    "    </div>\n",
    "    <div style=\"float: right;\">\n",
    "        <a href=\"#top\" class=\"btn btn-primary btn-sm\" role=\"button\" aria-pressed=\"true\" style=\"color:white\" data-toggle=\"popover\" title=\"go to Top\">Go to Top</a>\n",
    "    </div>\n",
    "    <br style=\"clear: left;\" />\n",
    "</div>"
   ]
  },
  {
   "cell_type": "code",
   "execution_count": 110,
   "metadata": {
    "execution": {
     "iopub.execute_input": "2020-10-25T04:54:15.008994Z",
     "iopub.status.busy": "2020-10-25T04:54:15.007746Z",
     "iopub.status.idle": "2020-10-25T04:54:15.015336Z",
     "shell.execute_reply": "2020-10-25T04:54:15.016193Z"
    },
    "papermill": {
     "duration": 0.271658,
     "end_time": "2020-10-25T04:54:15.016401",
     "exception": false,
     "start_time": "2020-10-25T04:54:14.744743",
     "status": "completed"
    },
    "tags": []
   },
   "outputs": [
    {
     "name": "stdout",
     "output_type": "stream",
     "text": [
      "Task 106:\n",
      "Before changing columns : \n",
      "    name      city\n",
      "0  kevin   Toronto\n",
      "1  james  Montreal\n",
      "2  kumar   Calgary\n",
      "3  kevin  Montreal\n",
      "4  kevin  Montreal\n",
      "5  james    Ottawa\n",
      "\n",
      "After changing columns : \n",
      "  first_name current_city\n",
      "0      kevin      Toronto\n",
      "1      james     Montreal\n",
      "2      kumar      Calgary\n",
      "3      kevin     Montreal\n",
      "4      kevin     Montreal\n",
      "5      james       Ottawa\n"
     ]
    }
   ],
   "source": [
    "# 106. Change columns\n",
    "print('Task 106:')\n",
    "\n",
    "users = pd.DataFrame({\n",
    "    \"name\": ['kevin', 'james', 'kumar', 'kevin', 'kevin', 'james'], \n",
    "    \"city\": ['Toronto', 'Montreal', 'Calgary', 'Montreal', 'Montreal', 'Ottawa']\n",
    "}) \n",
    "\n",
    "print('Before changing columns : ')\n",
    "print(users)\n",
    "\n",
    "# change columns\n",
    "users_new = users.rename({'name': 'first_name', 'city': 'current_city'}, axis = 1)\n",
    "\n",
    "print('\\nAfter changing columns : ')\n",
    "print(users_new)"
   ]
  },
  {
   "cell_type": "markdown",
   "metadata": {
    "papermill": {
     "duration": 0.246813,
     "end_time": "2020-10-25T04:54:15.514016",
     "exception": false,
     "start_time": "2020-10-25T04:54:15.267203",
     "status": "completed"
    },
    "tags": []
   },
   "source": [
    "<div style=\"\">\n",
    "    <div style=\"float: left; width: 80%;\">\n",
    "        <a id=\"107\"></a>\n",
    "        <font><b>Task 107:</b></font>\n",
    "        <br><br>\n",
    "        Match with isin function\n",
    "    </div>\n",
    "    <div style=\"float: right;\">\n",
    "        <a href=\"#top\" class=\"btn btn-primary btn-sm\" role=\"button\" aria-pressed=\"true\" style=\"color:white\" data-toggle=\"popover\" title=\"go to Top\">Go to Top</a>\n",
    "    </div>\n",
    "    <br style=\"clear: left;\" />\n",
    "</div>"
   ]
  },
  {
   "cell_type": "code",
   "execution_count": 111,
   "metadata": {
    "execution": {
     "iopub.execute_input": "2020-10-25T04:54:16.100973Z",
     "iopub.status.busy": "2020-10-25T04:54:16.100082Z",
     "iopub.status.idle": "2020-10-25T04:54:16.105425Z",
     "shell.execute_reply": "2020-10-25T04:54:16.106405Z"
    },
    "papermill": {
     "duration": 0.336643,
     "end_time": "2020-10-25T04:54:16.106674",
     "exception": false,
     "start_time": "2020-10-25T04:54:15.770031",
     "status": "completed"
    },
    "tags": []
   },
   "outputs": [
    {
     "name": "stdout",
     "output_type": "stream",
     "text": [
      "Task 107:\n",
      "Original Dataframe:\n",
      "    name      city\n",
      "0  kevin   Toronto\n",
      "1  james  Montreal\n",
      "2  kumar   Calgary\n",
      "3  kevin  Montreal\n",
      "4  kevin  Montreal\n",
      "5  james    Ottawa\n",
      "\n",
      "Finding `Montreal` in by using isin function :\n"
     ]
    },
    {
     "data": {
      "text/plain": [
       "name    False\n",
       "city     True\n",
       "dtype: bool"
      ]
     },
     "execution_count": 111,
     "metadata": {},
     "output_type": "execute_result"
    }
   ],
   "source": [
    "# 107. Match with isin function\n",
    "\n",
    "print('Task 107:')\n",
    "\n",
    "users = pd.DataFrame({\n",
    "    \"name\": ['kevin', 'james', 'kumar', 'kevin', 'kevin', 'james'], \n",
    "    \"city\": ['Toronto', 'Montreal', 'Calgary', 'Montreal', 'Montreal', 'Ottawa']\n",
    "}) \n",
    "\n",
    "print('Original Dataframe:')\n",
    "print(users)\n",
    "\n",
    "print('\\nFinding `Montreal` in by using isin function :')\n",
    "\n",
    "users.isin(['Montreal']).any()"
   ]
  },
  {
   "cell_type": "markdown",
   "metadata": {
    "papermill": {
     "duration": 0.248242,
     "end_time": "2020-10-25T04:54:16.613694",
     "exception": false,
     "start_time": "2020-10-25T04:54:16.365452",
     "status": "completed"
    },
    "tags": []
   },
   "source": [
    "<div style=\"\">\n",
    "    <div style=\"float: left; width: 80%;\">\n",
    "        <a id=\"108\"></a>\n",
    "        <font><b>Task 108:</b></font>\n",
    "        <br><br>\n",
    "        Finding specific items by using `isin` function\n",
    "    </div>\n",
    "    <div style=\"float: right;\">\n",
    "        <a href=\"#top\" class=\"btn btn-primary btn-sm\" role=\"button\" aria-pressed=\"true\" style=\"color:white\" data-toggle=\"popover\" title=\"go to Top\">Go to Top</a>\n",
    "    </div>\n",
    "    <br style=\"clear: left;\" />\n",
    "</div>"
   ]
  },
  {
   "cell_type": "code",
   "execution_count": 112,
   "metadata": {
    "execution": {
     "iopub.execute_input": "2020-10-25T04:54:17.156547Z",
     "iopub.status.busy": "2020-10-25T04:54:17.155585Z",
     "iopub.status.idle": "2020-10-25T04:54:17.159226Z",
     "shell.execute_reply": "2020-10-25T04:54:17.159899Z"
    },
    "papermill": {
     "duration": 0.271186,
     "end_time": "2020-10-25T04:54:17.160065",
     "exception": false,
     "start_time": "2020-10-25T04:54:16.888879",
     "status": "completed"
    },
    "tags": []
   },
   "outputs": [
    {
     "name": "stdout",
     "output_type": "stream",
     "text": [
      "Task 108:\n",
      "Original Dataframe: \n",
      "    name      city\n",
      "0  kevin   Toronto\n",
      "1  james  Montreal\n",
      "2  kumar   Calgary\n",
      "3  kevin  Montreal\n",
      "4  kevin  Montreal\n",
      "5  james    Ottawa\n",
      "\n",
      "Finding `Montreal` in using isin and stack them: \n",
      "1  city    Montreal\n",
      "3  city    Montreal\n",
      "4  city    Montreal\n",
      "dtype: object\n"
     ]
    }
   ],
   "source": [
    "# 108. Finding specific items by using `isin` function\n",
    "\n",
    "print('Task 108:')\n",
    "\n",
    "users = pd.DataFrame({\n",
    "    \"name\": ['kevin', 'james', 'kumar', 'kevin', 'kevin', 'james'], \n",
    "    \"city\": ['Toronto', 'Montreal', 'Calgary', 'Montreal', 'Montreal', 'Ottawa']\n",
    "}) \n",
    "\n",
    "print('Original Dataframe: ')\n",
    "print(users)\n",
    "\n",
    "print('\\nFinding `Montreal` in using isin and stack them: ')\n",
    "print(users[users.isin(['Montreal'])].stack())"
   ]
  },
  {
   "cell_type": "markdown",
   "metadata": {
    "papermill": {
     "duration": 0.249573,
     "end_time": "2020-10-25T04:54:17.661368",
     "exception": false,
     "start_time": "2020-10-25T04:54:17.411795",
     "status": "completed"
    },
    "tags": []
   },
   "source": [
    "<div style=\"\">\n",
    "    <div style=\"float: left; width: 80%;\">\n",
    "        <a id=\"109\"></a>\n",
    "        <font><b>Task 109:</b></font>\n",
    "        <br><br>\n",
    "        Exclude specific matching\n",
    "    </div>\n",
    "    <div style=\"float: right;\">\n",
    "        <a href=\"#top\" class=\"btn btn-primary btn-sm\" role=\"button\" aria-pressed=\"true\" style=\"color:white\" data-toggle=\"popover\" title=\"go to Top\">Go to Top</a>\n",
    "    </div>\n",
    "    <br style=\"clear: left;\" />\n",
    "</div>"
   ]
  },
  {
   "cell_type": "code",
   "execution_count": 113,
   "metadata": {
    "execution": {
     "iopub.execute_input": "2020-10-25T04:54:18.177364Z",
     "iopub.status.busy": "2020-10-25T04:54:18.176417Z",
     "iopub.status.idle": "2020-10-25T04:54:18.181096Z",
     "shell.execute_reply": "2020-10-25T04:54:18.180369Z"
    },
    "papermill": {
     "duration": 0.270096,
     "end_time": "2020-10-25T04:54:18.181273",
     "exception": false,
     "start_time": "2020-10-25T04:54:17.911177",
     "status": "completed"
    },
    "tags": []
   },
   "outputs": [
    {
     "name": "stdout",
     "output_type": "stream",
     "text": [
      "Task 109:\n",
      "Original Dataframe: \n",
      "    name      city\n",
      "0  kevin   Toronto\n",
      "1  james  Montreal\n",
      "2  kumar   Calgary\n",
      "3  kevin  Montreal\n",
      "4  kevin  Montreal\n",
      "5  james    Ottawa\n",
      "\n",
      "Excluding `Montreal` in using isin and stack them: \n",
      "0  name      kevin\n",
      "   city    Toronto\n",
      "1  name      james\n",
      "2  name      kumar\n",
      "   city    Calgary\n",
      "3  name      kevin\n",
      "4  name      kevin\n",
      "5  name      james\n",
      "   city     Ottawa\n",
      "dtype: object\n"
     ]
    }
   ],
   "source": [
    "# 109. Exclude specific matching\n",
    "\n",
    "print('Task 109:')\n",
    "\n",
    "users = pd.DataFrame({\n",
    "    \"name\": ['kevin', 'james', 'kumar', 'kevin', 'kevin', 'james'], \n",
    "    \"city\": ['Toronto', 'Montreal', 'Calgary', 'Montreal', 'Montreal', 'Ottawa']\n",
    "}) \n",
    "\n",
    "print('Original Dataframe: ')\n",
    "print(users)\n",
    "\n",
    "print('\\nExcluding `Montreal` in using isin and stack them: ')\n",
    "print(users[~users.isin(['Montreal'])].stack())"
   ]
  },
  {
   "cell_type": "markdown",
   "metadata": {
    "papermill": {
     "duration": 0.249253,
     "end_time": "2020-10-25T04:54:18.681973",
     "exception": false,
     "start_time": "2020-10-25T04:54:18.432720",
     "status": "completed"
    },
    "tags": []
   },
   "source": [
    "<div style=\"\">\n",
    "    <div style=\"float: left; width: 80%;\">\n",
    "        <a id=\"110\"></a>\n",
    "        <font><b>Task 110:</b></font>\n",
    "        <br><br>\n",
    "        Apply a custom function on multiple columns\n",
    "    </div>\n",
    "    <div style=\"float: right;\">\n",
    "        <a href=\"#top\" class=\"btn btn-primary btn-sm\" role=\"button\" aria-pressed=\"true\" style=\"color:white\" data-toggle=\"popover\" title=\"go to Top\">Go to Top</a>\n",
    "    </div>\n",
    "    <br style=\"clear: left;\" />\n",
    "</div>"
   ]
  },
  {
   "cell_type": "code",
   "execution_count": 114,
   "metadata": {
    "execution": {
     "iopub.execute_input": "2020-10-25T04:54:19.200637Z",
     "iopub.status.busy": "2020-10-25T04:54:19.195254Z",
     "iopub.status.idle": "2020-10-25T04:54:19.207252Z",
     "shell.execute_reply": "2020-10-25T04:54:19.208031Z"
    },
    "papermill": {
     "duration": 0.27602,
     "end_time": "2020-10-25T04:54:19.208246",
     "exception": false,
     "start_time": "2020-10-25T04:54:18.932226",
     "status": "completed"
    },
    "tags": []
   },
   "outputs": [
    {
     "name": "stdout",
     "output_type": "stream",
     "text": [
      "Task 110:\n",
      "Original Dataframe: \n",
      "   CIBC    TD\n",
      "0   200  1200\n",
      "1  4200   800\n",
      "2   300  4000\n",
      "3   300  2000\n",
      "Dataframe after applying the custom function: \n",
      "   CIBC    TD  Total\n",
      "0   200  1200   1200\n",
      "1  4200   800   5000\n",
      "2   300  4000   4000\n",
      "3   300  2000   2000\n"
     ]
    }
   ],
   "source": [
    "# 110. Apply a custom function on multiple columns\n",
    "\n",
    "print('Task 110:')\n",
    "\n",
    "amounts = pd.DataFrame({\n",
    "    \"CIBC\": [200, 4200, 300, 300], \n",
    "    \"TD\": [1200, 800, 4000, 2000]\n",
    "})\n",
    "\n",
    "print('Original Dataframe: ')\n",
    "print(amounts)\n",
    "\n",
    "def get_total_amount(x):\n",
    "    \n",
    "    # if the amount is less than 500, skip it\n",
    "    total_amount = 0\n",
    "    \n",
    "    if(x['CIBC'] > 499):\n",
    "        total_amount += x['CIBC']\n",
    "        \n",
    "    if(x['TD'] > 499):\n",
    "        total_amount += x['TD']\n",
    "    \n",
    "    return total_amount\n",
    "\n",
    "amounts['Total'] = amounts.apply(get_total_amount, axis = 1)\n",
    "\n",
    "print('Dataframe after applying the custom function: ')\n",
    "print(amounts)"
   ]
  },
  {
   "cell_type": "markdown",
   "metadata": {
    "papermill": {
     "duration": 0.248491,
     "end_time": "2020-10-25T04:54:19.706316",
     "exception": false,
     "start_time": "2020-10-25T04:54:19.457825",
     "status": "completed"
    },
    "tags": []
   },
   "source": [
    "<div style=\"\">\n",
    "    <div style=\"float: left; width: 80%;\">\n",
    "        <a id=\"111\"></a>\n",
    "        <font><b>Task 111:</b></font>\n",
    "        <br><br>\n",
    "        iterrows as tuples\n",
    "    </div>\n",
    "    <div style=\"float: right;\">\n",
    "        <a href=\"#top\" class=\"btn btn-primary btn-sm\" role=\"button\" aria-pressed=\"true\" style=\"color:white\" data-toggle=\"popover\" title=\"go to Top\">Go to Top</a>\n",
    "    </div>\n",
    "    <br style=\"clear: left;\" />\n",
    "</div>"
   ]
  },
  {
   "cell_type": "code",
   "execution_count": 115,
   "metadata": {
    "execution": {
     "iopub.execute_input": "2020-10-25T04:54:20.225619Z",
     "iopub.status.busy": "2020-10-25T04:54:20.224695Z",
     "iopub.status.idle": "2020-10-25T04:54:20.230645Z",
     "shell.execute_reply": "2020-10-25T04:54:20.229649Z"
    },
    "papermill": {
     "duration": 0.27314,
     "end_time": "2020-10-25T04:54:20.230825",
     "exception": false,
     "start_time": "2020-10-25T04:54:19.957685",
     "status": "completed"
    },
    "tags": []
   },
   "outputs": [
    {
     "name": "stdout",
     "output_type": "stream",
     "text": [
      "Task 111:\n",
      "   id      city  count\n",
      "0   1   Toronto      7\n",
      "1   1  Montreal      8\n",
      "2   2   Calgary      9\n",
      "3   2  Montreal      2\n",
      "4   3  Montreal      7\n",
      "5   3    Ottawa      8\n",
      "\n",
      "Iterate rows as tuples:\n",
      "Pandas(Index=0, id=1, city='Toronto', count=7)\n",
      "Pandas(Index=1, id=1, city='Montreal', count=8)\n",
      "Pandas(Index=2, id=2, city='Calgary', count=9)\n",
      "Pandas(Index=3, id=2, city='Montreal', count=2)\n",
      "Pandas(Index=4, id=3, city='Montreal', count=7)\n",
      "Pandas(Index=5, id=3, city='Ottawa', count=8)\n"
     ]
    }
   ],
   "source": [
    "# 111. iterrows as tuples\n",
    "\n",
    "print('Task 111:')\n",
    "\n",
    "users = pd.DataFrame({\n",
    "    \"id\": [1, 1, 2, 2, 3, 3], \n",
    "    \"city\": ['Toronto', 'Montreal', 'Calgary', 'Montreal', 'Montreal', 'Ottawa'],\n",
    "    \"count\" : [7, 8, 9, 2, 7, 8] \n",
    "    \n",
    "}) \n",
    "\n",
    "print(users)  \n",
    "\n",
    "print('\\nIterate rows as tuples:')\n",
    "for row in users.itertuples():\n",
    "    print(row)"
   ]
  },
  {
   "cell_type": "markdown",
   "metadata": {
    "papermill": {
     "duration": 0.293169,
     "end_time": "2020-10-25T04:54:20.775225",
     "exception": false,
     "start_time": "2020-10-25T04:54:20.482056",
     "status": "completed"
    },
    "tags": []
   },
   "source": [
    "<div style=\"\">\n",
    "    <div style=\"float: left; width: 80%;\">\n",
    "        <a id=\"112\"></a>\n",
    "        <font><b>Task 112:</b></font>\n",
    "        <br><br>\n",
    "        Dataframe with NaN\n",
    "    </div>\n",
    "    <div style=\"float: right;\">\n",
    "        <a href=\"#top\" class=\"btn btn-primary btn-sm\" role=\"button\" aria-pressed=\"true\" style=\"color:white\" data-toggle=\"popover\" title=\"go to Top\">Go to Top</a>\n",
    "    </div>\n",
    "    <br style=\"clear: left;\" />\n",
    "</div>"
   ]
  },
  {
   "cell_type": "code",
   "execution_count": 116,
   "metadata": {
    "execution": {
     "iopub.execute_input": "2020-10-25T04:54:21.297427Z",
     "iopub.status.busy": "2020-10-25T04:54:21.296661Z",
     "iopub.status.idle": "2020-10-25T04:54:21.299865Z",
     "shell.execute_reply": "2020-10-25T04:54:21.300897Z"
    },
    "papermill": {
     "duration": 0.267303,
     "end_time": "2020-10-25T04:54:21.301094",
     "exception": false,
     "start_time": "2020-10-25T04:54:21.033791",
     "status": "completed"
    },
    "tags": []
   },
   "outputs": [
    {
     "name": "stdout",
     "output_type": "stream",
     "text": [
      "Task 112:\n",
      "    A   B   C\n",
      "0 NaN NaN NaN\n",
      "1 NaN NaN NaN\n",
      "2 NaN NaN NaN\n"
     ]
    }
   ],
   "source": [
    "# 112. Dataframe with NaN\n",
    "\n",
    "print('Task 112:')\n",
    "\n",
    "df = pd.DataFrame(np.nan, index = [0, 1, 2], columns = ['A', 'B', 'C'])\n",
    "\n",
    "print(df)"
   ]
  },
  {
   "cell_type": "markdown",
   "metadata": {
    "papermill": {
     "duration": 0.255266,
     "end_time": "2020-10-25T04:54:21.810321",
     "exception": false,
     "start_time": "2020-10-25T04:54:21.555055",
     "status": "completed"
    },
    "tags": []
   },
   "source": [
    "<div style=\"\">\n",
    "    <div style=\"float: left; width: 80%;\">\n",
    "        <a id=\"113\"></a>\n",
    "        <font><b>Task 113:</b></font>\n",
    "        <br><br>\n",
    "        Simple Dataframe with NaN\n",
    "    </div>\n",
    "    <div style=\"float: right;\">\n",
    "        <a href=\"#top\" class=\"btn btn-primary btn-sm\" role=\"button\" aria-pressed=\"true\" style=\"color:white\" data-toggle=\"popover\" title=\"go to Top\">Go to Top</a>\n",
    "    </div>\n",
    "    <br style=\"clear: left;\" />\n",
    "</div>"
   ]
  },
  {
   "cell_type": "code",
   "execution_count": 117,
   "metadata": {
    "execution": {
     "iopub.execute_input": "2020-10-25T04:54:22.324635Z",
     "iopub.status.busy": "2020-10-25T04:54:22.323642Z",
     "iopub.status.idle": "2020-10-25T04:54:22.327556Z",
     "shell.execute_reply": "2020-10-25T04:54:22.328153Z"
    },
    "papermill": {
     "duration": 0.26505,
     "end_time": "2020-10-25T04:54:22.328333",
     "exception": false,
     "start_time": "2020-10-25T04:54:22.063283",
     "status": "completed"
    },
    "tags": []
   },
   "outputs": [
    {
     "name": "stdout",
     "output_type": "stream",
     "text": [
      "Task 113:\n",
      "    0\n",
      "0 NaN\n",
      "1 NaN\n",
      "2 NaN\n",
      "3 NaN\n",
      "4 NaN\n"
     ]
    }
   ],
   "source": [
    "# 113. Simple Dataframe with NaN\n",
    "\n",
    "print('Task 113:')\n",
    "\n",
    "df = pd.DataFrame([np.nan] * 5)\n",
    "\n",
    "print(df)"
   ]
  },
  {
   "cell_type": "markdown",
   "metadata": {
    "papermill": {
     "duration": 0.269139,
     "end_time": "2020-10-25T04:54:22.867171",
     "exception": false,
     "start_time": "2020-10-25T04:54:22.598032",
     "status": "completed"
    },
    "tags": []
   },
   "source": [
    "<div style=\"\">\n",
    "    <div style=\"float: left; width: 80%;\">\n",
    "        <a id=\"114\"></a>\n",
    "        <font><b>Task 114:</b></font>\n",
    "        <br><br>\n",
    "        Pandas and Date with Range\n",
    "    </div>\n",
    "    <div style=\"float: right;\">\n",
    "        <a href=\"#top\" class=\"btn btn-primary btn-sm\" role=\"button\" aria-pressed=\"true\" style=\"color:white\" data-toggle=\"popover\" title=\"go to Top\">Go to Top</a>\n",
    "    </div>\n",
    "    <br style=\"clear: left;\" />\n",
    "</div>"
   ]
  },
  {
   "cell_type": "code",
   "execution_count": 118,
   "metadata": {
    "execution": {
     "iopub.execute_input": "2020-10-25T04:54:23.398229Z",
     "iopub.status.busy": "2020-10-25T04:54:23.397402Z",
     "iopub.status.idle": "2020-10-25T04:54:23.400391Z",
     "shell.execute_reply": "2020-10-25T04:54:23.402710Z"
    },
    "papermill": {
     "duration": 0.273594,
     "end_time": "2020-10-25T04:54:23.402875",
     "exception": false,
     "start_time": "2020-10-25T04:54:23.129281",
     "status": "completed"
    },
    "tags": []
   },
   "outputs": [
    {
     "name": "stdout",
     "output_type": "stream",
     "text": [
      "Task 114:\n",
      "         date\n",
      "0  2012-01-01\n",
      "1  2012-02-01\n",
      "2  2012-03-01\n",
      "3  2012-04-01\n",
      "4  2012-05-01\n",
      "5  2012-06-01\n",
      "6  2012-07-01\n",
      "7  2012-08-01\n",
      "8  2012-09-01\n",
      "9  2012-10-01\n"
     ]
    }
   ],
   "source": [
    "# 114. Pandas and Date with Range\n",
    "\n",
    "print('Task 114:')\n",
    "\n",
    "import datetime as dt\n",
    "\n",
    "pd.np.random.seed(0)\n",
    "\n",
    "df = pd.DataFrame({\n",
    "     \"date\" : [dt.date(2012, x, 1) for x in range(1, 11)]\n",
    "})\n",
    "\n",
    "print(df)"
   ]
  },
  {
   "cell_type": "markdown",
   "metadata": {
    "papermill": {
     "duration": 0.253705,
     "end_time": "2020-10-25T04:54:23.909759",
     "exception": false,
     "start_time": "2020-10-25T04:54:23.656054",
     "status": "completed"
    },
    "tags": []
   },
   "source": [
    "<div style=\"\">\n",
    "    <div style=\"float: left; width: 80%;\">\n",
    "        <a id=\"115\"></a>\n",
    "        <font><b>Task 115:</b></font>\n",
    "        <br><br>\n",
    "        Pandas and Numpy Repeat\n",
    "    </div>\n",
    "    <div style=\"float: right;\">\n",
    "        <a href=\"#top\" class=\"btn btn-primary btn-sm\" role=\"button\" aria-pressed=\"true\" style=\"color:white\" data-toggle=\"popover\" title=\"go to Top\">Go to Top</a>\n",
    "    </div>\n",
    "    <br style=\"clear: left;\" />\n",
    "</div>"
   ]
  },
  {
   "cell_type": "code",
   "execution_count": 119,
   "metadata": {
    "execution": {
     "iopub.execute_input": "2020-10-25T04:54:24.424320Z",
     "iopub.status.busy": "2020-10-25T04:54:24.423253Z",
     "iopub.status.idle": "2020-10-25T04:54:24.429039Z",
     "shell.execute_reply": "2020-10-25T04:54:24.427887Z"
    },
    "papermill": {
     "duration": 0.26695,
     "end_time": "2020-10-25T04:54:24.429228",
     "exception": false,
     "start_time": "2020-10-25T04:54:24.162278",
     "status": "completed"
    },
    "tags": []
   },
   "outputs": [
    {
     "name": "stdout",
     "output_type": "stream",
     "text": [
      "Task 115:\n",
      "   entry\n",
      "0      3\n",
      "1      3\n",
      "2      3\n",
      "3      3\n",
      "4      3\n",
      "5      3\n",
      "6      3\n"
     ]
    }
   ],
   "source": [
    "# 115. Pandas and Numpy Repeat\n",
    "\n",
    "print('Task 115:')\n",
    "\n",
    "df = pd.DataFrame({\n",
    "     \"entry\" : np.repeat(3, 7) # Repeat the number for 7 times\n",
    "})\n",
    "\n",
    "print(df)"
   ]
  },
  {
   "cell_type": "markdown",
   "metadata": {
    "papermill": {
     "duration": 0.254389,
     "end_time": "2020-10-25T04:54:24.936519",
     "exception": false,
     "start_time": "2020-10-25T04:54:24.682130",
     "status": "completed"
    },
    "tags": []
   },
   "source": [
    "<div style=\"\">\n",
    "    <div style=\"float: left; width: 80%;\">\n",
    "        <a id=\"116\"></a>\n",
    "        <font><b>Task 116:</b></font>\n",
    "        <br><br>\n",
    "        read_sql in Pandas\n",
    "    </div>\n",
    "    <div style=\"float: right;\">\n",
    "        <a href=\"#top\" class=\"btn btn-primary btn-sm\" role=\"button\" aria-pressed=\"true\" style=\"color:white\" data-toggle=\"popover\" title=\"go to Top\">Go to Top</a>\n",
    "    </div>\n",
    "    <br style=\"clear: left;\" />\n",
    "</div>"
   ]
  },
  {
   "cell_type": "code",
   "execution_count": 120,
   "metadata": {
    "execution": {
     "iopub.execute_input": "2020-10-25T04:54:25.449971Z",
     "iopub.status.busy": "2020-10-25T04:54:25.449179Z",
     "iopub.status.idle": "2020-10-25T04:54:25.522210Z",
     "shell.execute_reply": "2020-10-25T04:54:25.522892Z"
    },
    "papermill": {
     "duration": 0.331058,
     "end_time": "2020-10-25T04:54:25.523065",
     "exception": false,
     "start_time": "2020-10-25T04:54:25.192007",
     "status": "completed"
    },
    "tags": []
   },
   "outputs": [
    {
     "name": "stdout",
     "output_type": "stream",
     "text": [
      "Task 116:\n",
      "    ID                Name\n",
      "0    1          SQL Online\n",
      "1    2               Chart\n",
      "2    3          Short CODE\n",
      "3    4       SqLite 3.33.0\n",
      "4    5        MultiVersion\n",
      "5    6  [RightClick] mouse\n",
      "6    7   Left-Panel, Table\n",
      "7    8                Tabs\n",
      "8    9          SQL Editor\n",
      "9   10          Size table\n",
      "10  11               Share\n",
      "11  12              ai.Url\n",
      "12  13            ai.Color\n",
      "13  14            ai.Image\n",
      "14  15                 SQL\n",
      "15  16              CREATE\n",
      "16  17              SELECT\n",
      "17  18              INSERT\n",
      "18  19              UPDATE\n",
      "19  20              DELETE\n"
     ]
    }
   ],
   "source": [
    "# 116. read_sql in Pandas\n",
    "\n",
    "print('Task 116:')\n",
    "\n",
    "import sqlite3 as sql\n",
    "\n",
    "conn = sql.connect('/kaggle/input/rj-sample-datasets/sample.db')\n",
    "\n",
    "demo_df = pd.read_sql('SELECT ID, NAME FROM DEMO', conn)\n",
    "\n",
    "print(demo_df)\n",
    "\n",
    "# Note: online sqlite https://sqliteonline.com/"
   ]
  },
  {
   "cell_type": "markdown",
   "metadata": {
    "papermill": {
     "duration": 0.256109,
     "end_time": "2020-10-25T04:54:26.035311",
     "exception": false,
     "start_time": "2020-10-25T04:54:25.779202",
     "status": "completed"
    },
    "tags": []
   },
   "source": [
    "<div style=\"\">\n",
    "    <div style=\"float: left; width: 80%;\">\n",
    "        <a id=\"117\"></a>\n",
    "        <font><b>Task 117:</b></font>\n",
    "        <br><br>\n",
    "        Get a single value by iat\n",
    "    </div>\n",
    "    <div style=\"float: right;\">\n",
    "        <a href=\"#top\" class=\"btn btn-primary btn-sm\" role=\"button\" aria-pressed=\"true\" style=\"color:white\" data-toggle=\"popover\" title=\"go to Top\">Go to Top</a>\n",
    "    </div>\n",
    "    <br style=\"clear: left;\" />\n",
    "</div>"
   ]
  },
  {
   "cell_type": "code",
   "execution_count": 121,
   "metadata": {
    "execution": {
     "iopub.execute_input": "2020-10-25T04:54:26.562399Z",
     "iopub.status.busy": "2020-10-25T04:54:26.561408Z",
     "iopub.status.idle": "2020-10-25T04:54:26.565182Z",
     "shell.execute_reply": "2020-10-25T04:54:26.565820Z"
    },
    "papermill": {
     "duration": 0.273158,
     "end_time": "2020-10-25T04:54:26.565980",
     "exception": false,
     "start_time": "2020-10-25T04:54:26.292822",
     "status": "completed"
    },
    "tags": []
   },
   "outputs": [
    {
     "name": "stdout",
     "output_type": "stream",
     "text": [
      "Task 117:\n",
      "\n",
      "Original Dataframe:\n",
      "    a   b\n",
      "0  44  47\n",
      "1  64  67\n",
      "2  67   9\n",
      "3  83  21\n",
      "4  36  87\n",
      "5  70  88\n",
      "6  88  12\n",
      "\n",
      "Getting value at 3rd row and first col:\n",
      "21\n"
     ]
    }
   ],
   "source": [
    "# 117. Get a single value by iat\n",
    "\n",
    "print('Task 117:')\n",
    "\n",
    "df = pd.DataFrame(np.random.randint(0, 100, size = (7, 2)), columns = list('ab'))\n",
    "\n",
    "print('\\nOriginal Dataframe:')\n",
    "print(df)\n",
    "\n",
    "val = df.iat[3, 1]\n",
    "\n",
    "print('\\nGetting value at 3rd row and first col:')\n",
    "print(val)"
   ]
  },
  {
   "cell_type": "markdown",
   "metadata": {
    "papermill": {
     "duration": 0.271294,
     "end_time": "2020-10-25T04:54:27.093406",
     "exception": false,
     "start_time": "2020-10-25T04:54:26.822112",
     "status": "completed"
    },
    "tags": []
   },
   "source": [
    "<div style=\"\">\n",
    "    <div style=\"float: left; width: 80%;\">\n",
    "        <a id=\"118\"></a>\n",
    "        <font><b>Task 118:</b></font>\n",
    "        <br><br>\n",
    "        Get last n elements\n",
    "    </div>\n",
    "    <div style=\"float: right;\">\n",
    "        <a href=\"#top\" class=\"btn btn-primary btn-sm\" role=\"button\" aria-pressed=\"true\" style=\"color:white\" data-toggle=\"popover\" title=\"go to Top\">Go to Top</a>\n",
    "    </div>\n",
    "    <br style=\"clear: left;\" />\n",
    "</div>"
   ]
  },
  {
   "cell_type": "code",
   "execution_count": 122,
   "metadata": {
    "execution": {
     "iopub.execute_input": "2020-10-25T04:54:27.622383Z",
     "iopub.status.busy": "2020-10-25T04:54:27.621532Z",
     "iopub.status.idle": "2020-10-25T04:54:27.624940Z",
     "shell.execute_reply": "2020-10-25T04:54:27.625643Z"
    },
    "papermill": {
     "duration": 0.271715,
     "end_time": "2020-10-25T04:54:27.625808",
     "exception": false,
     "start_time": "2020-10-25T04:54:27.354093",
     "status": "completed"
    },
    "tags": []
   },
   "outputs": [
    {
     "name": "stdout",
     "output_type": "stream",
     "text": [
      "Task 118:\n",
      "\n",
      "Original Dataframe:\n",
      "    a   b\n",
      "0  58  65\n",
      "1  39  87\n",
      "2  46  88\n",
      "3  81  37\n",
      "4  25  77\n",
      "5  72   9\n",
      "6  20  80\n",
      "\n",
      "Last 3 rows:\n",
      "    a   b\n",
      "4  25  77\n",
      "5  72   9\n",
      "6  20  80\n"
     ]
    }
   ],
   "source": [
    "# 118. Get last n elements\n",
    "\n",
    "print('Task 118:')\n",
    "\n",
    "df = pd.DataFrame(np.random.randint(0, 100, size = (7, 2)), columns = list('ab'))\n",
    "\n",
    "print('\\nOriginal Dataframe:')\n",
    "print(df)\n",
    "\n",
    "tail_df = df.tail(3)\n",
    "\n",
    "print('\\nLast 3 rows:')\n",
    "print(tail_df)"
   ]
  },
  {
   "cell_type": "markdown",
   "metadata": {
    "papermill": {
     "duration": 0.261154,
     "end_time": "2020-10-25T04:54:28.176192",
     "exception": false,
     "start_time": "2020-10-25T04:54:27.915038",
     "status": "completed"
    },
    "tags": []
   },
   "source": [
    "<div style=\"\">\n",
    "    <div style=\"float: left; width: 80%;\">\n",
    "        <a id=\"119\"></a>\n",
    "        <font><b>Task 119:</b></font>\n",
    "        <br><br>\n",
    "        Add data one by one by using loc function\n",
    "    </div>\n",
    "    <div style=\"float: right;\">\n",
    "        <a href=\"#top\" class=\"btn btn-primary btn-sm\" role=\"button\" aria-pressed=\"true\" style=\"color:white\" data-toggle=\"popover\" title=\"go to Top\">Go to Top</a>\n",
    "    </div>\n",
    "    <br style=\"clear: left;\" />\n",
    "</div>"
   ]
  },
  {
   "cell_type": "code",
   "execution_count": 123,
   "metadata": {
    "execution": {
     "iopub.execute_input": "2020-10-25T04:54:28.725829Z",
     "iopub.status.busy": "2020-10-25T04:54:28.724769Z",
     "iopub.status.idle": "2020-10-25T04:54:28.730915Z",
     "shell.execute_reply": "2020-10-25T04:54:28.730248Z"
    },
    "papermill": {
     "duration": 0.287982,
     "end_time": "2020-10-25T04:54:28.731050",
     "exception": false,
     "start_time": "2020-10-25T04:54:28.443068",
     "status": "completed"
    },
    "tags": []
   },
   "outputs": [
    {
     "data": {
      "text/html": [
       "<div>\n",
       "<style scoped>\n",
       "    .dataframe tbody tr th:only-of-type {\n",
       "        vertical-align: middle;\n",
       "    }\n",
       "\n",
       "    .dataframe tbody tr th {\n",
       "        vertical-align: top;\n",
       "    }\n",
       "\n",
       "    .dataframe thead th {\n",
       "        text-align: right;\n",
       "    }\n",
       "</style>\n",
       "<table border=\"1\" class=\"dataframe\">\n",
       "  <thead>\n",
       "    <tr style=\"text-align: right;\">\n",
       "      <th></th>\n",
       "      <th>rows</th>\n",
       "      <th>cols</th>\n",
       "      <th>time taken</th>\n",
       "    </tr>\n",
       "  </thead>\n",
       "  <tbody>\n",
       "    <tr>\n",
       "      <th>Dataset1 - Dask</th>\n",
       "      <td>1000</td>\n",
       "      <td>20</td>\n",
       "      <td>10</td>\n",
       "    </tr>\n",
       "    <tr>\n",
       "      <th>Dataset1 - Pandas</th>\n",
       "      <td>1000</td>\n",
       "      <td>20</td>\n",
       "      <td>15</td>\n",
       "    </tr>\n",
       "  </tbody>\n",
       "</table>\n",
       "</div>"
      ],
      "text/plain": [
       "                   rows cols time taken\n",
       "Dataset1 - Dask    1000   20         10\n",
       "Dataset1 - Pandas  1000   20         15"
      ]
     },
     "execution_count": 123,
     "metadata": {},
     "output_type": "execute_result"
    }
   ],
   "source": [
    "# 119. Add data one by one by using loc function\n",
    "\n",
    "df = pd.DataFrame(columns = ['rows', 'cols', 'time taken'])\n",
    "\n",
    "df.loc['Dataset1 - Dask'] = (1000, 20, 10)\n",
    "df.loc['Dataset1 - Pandas'] = (1000, 20, 15)\n",
    "\n",
    "df"
   ]
  },
  {
   "cell_type": "code",
   "execution_count": 124,
   "metadata": {
    "execution": {
     "iopub.execute_input": "2020-10-25T04:54:29.257127Z",
     "iopub.status.busy": "2020-10-25T04:54:29.256326Z",
     "iopub.status.idle": "2020-10-25T04:54:41.923339Z",
     "shell.execute_reply": "2020-10-25T04:54:41.924010Z"
    },
    "papermill": {
     "duration": 12.929874,
     "end_time": "2020-10-25T04:54:41.924182",
     "exception": false,
     "start_time": "2020-10-25T04:54:28.994308",
     "status": "completed"
    },
    "tags": []
   },
   "outputs": [
    {
     "name": "stdout",
     "output_type": "stream",
     "text": [
      "Collecting country_converter\r\n",
      "  Downloading country_converter-0.7.1.tar.gz (47 kB)\r\n",
      "\u001b[K     |████████████████████████████████| 47 kB 665 kB/s \r\n",
      "\u001b[?25hRequirement already satisfied: pandas>=0.17.0 in /opt/conda/lib/python3.7/site-packages (from country_converter) (1.1.1)\r\n",
      "Requirement already satisfied: numpy>=1.15.4 in /opt/conda/lib/python3.7/site-packages (from pandas>=0.17.0->country_converter) (1.18.5)\r\n",
      "Requirement already satisfied: pytz>=2017.2 in /opt/conda/lib/python3.7/site-packages (from pandas>=0.17.0->country_converter) (2019.3)\r\n",
      "Requirement already satisfied: python-dateutil>=2.7.3 in /opt/conda/lib/python3.7/site-packages (from pandas>=0.17.0->country_converter) (2.8.1)\r\n",
      "Requirement already satisfied: six>=1.5 in /opt/conda/lib/python3.7/site-packages (from python-dateutil>=2.7.3->pandas>=0.17.0->country_converter) (1.14.0)\r\n",
      "Building wheels for collected packages: country-converter\r\n",
      "  Building wheel for country-converter (setup.py) ... \u001b[?25l-\b \b\\\b \bdone\r\n",
      "\u001b[?25h  Created wheel for country-converter: filename=country_converter-0.7.1-py3-none-any.whl size=50806 sha256=7d8182dafabadbde8e8e2f6f5c9502e65a49baa99704818939deaeead23d5224\r\n",
      "  Stored in directory: /root/.cache/pip/wheels/38/bd/4c/973e11855305bf1c4a35f63737b4e55ab574dfb0a7ca8a0698\r\n",
      "Successfully built country-converter\r\n",
      "Installing collected packages: country-converter\r\n",
      "Successfully installed country-converter-0.7.1\r\n",
      "\u001b[33mWARNING: You are using pip version 20.2.2; however, version 20.2.4 is available.\r\n",
      "You should consider upgrading via the '/opt/conda/bin/python3.7 -m pip install --upgrade pip' command.\u001b[0m\r\n"
     ]
    }
   ],
   "source": [
    "!pip install country_converter"
   ]
  },
  {
   "cell_type": "markdown",
   "metadata": {
    "papermill": {
     "duration": 0.272305,
     "end_time": "2020-10-25T04:54:42.484760",
     "exception": false,
     "start_time": "2020-10-25T04:54:42.212455",
     "status": "completed"
    },
    "tags": []
   },
   "source": [
    "<div style=\"\">\n",
    "    <div style=\"float: left; width: 80%;\">\n",
    "        <a id=\"120\"></a>\n",
    "        <font><b>Task 120:</b></font>\n",
    "        <br><br>\n",
    "        Convert country in Dataframe\n",
    "    </div>\n",
    "    <div style=\"float: right;\">\n",
    "        <a href=\"#top\" class=\"btn btn-primary btn-sm\" role=\"button\" aria-pressed=\"true\" style=\"color:white\" data-toggle=\"popover\" title=\"go to Top\">Go to Top</a>\n",
    "    </div>\n",
    "    <br style=\"clear: left;\" />\n",
    "</div>"
   ]
  },
  {
   "cell_type": "code",
   "execution_count": 125,
   "metadata": {
    "execution": {
     "iopub.execute_input": "2020-10-25T04:54:43.032344Z",
     "iopub.status.busy": "2020-10-25T04:54:43.031565Z",
     "iopub.status.idle": "2020-10-25T04:54:43.535752Z",
     "shell.execute_reply": "2020-10-25T04:54:43.534924Z"
    },
    "papermill": {
     "duration": 0.778168,
     "end_time": "2020-10-25T04:54:43.535892",
     "exception": false,
     "start_time": "2020-10-25T04:54:42.757724",
     "status": "completed"
    },
    "tags": []
   },
   "outputs": [
    {
     "name": "stdout",
     "output_type": "stream",
     "text": [
      "Before:\n",
      "  code\n",
      "0   IN\n",
      "1  USA\n",
      "2   BR\n",
      "3  CAN\n",
      "\n",
      "After:\n",
      "  code        country\n",
      "0   IN          India\n",
      "1  USA  United States\n",
      "2   BR         Brazil\n",
      "3  CAN         Canada\n"
     ]
    }
   ],
   "source": [
    "# 120. Convert country in Dataframe \n",
    "\n",
    "import country_converter as coco\n",
    "import pandas as pd\n",
    "\n",
    "df = pd.DataFrame({'code': ['IN', 'USA', 'BR', 'CAN']})\n",
    "\n",
    "print('Before:')\n",
    "print(df)\n",
    "\n",
    "df['country'] = df.code.apply(lambda x: coco.convert(names = x, to = 'name_short', not_found = None))\n",
    "\n",
    "print('\\nAfter:')\n",
    "print(df)"
   ]
  },
  {
   "cell_type": "markdown",
   "metadata": {
    "papermill": {
     "duration": 0.274113,
     "end_time": "2020-10-25T04:54:44.078673",
     "exception": false,
     "start_time": "2020-10-25T04:54:43.804560",
     "status": "completed"
    },
    "tags": []
   },
   "source": [
    "<div style=\"\">\n",
    "    <div style=\"float: left; width: 80%;\">\n",
    "        <a id=\"121\"></a>\n",
    "        <font><b>Task 121:</b></font>\n",
    "        <br><br>\n",
    "        Group by multiple columns\n",
    "    </div>\n",
    "    <div style=\"float: right;\">\n",
    "        <a href=\"#top\" class=\"btn btn-primary btn-sm\" role=\"button\" aria-pressed=\"true\" style=\"color:white\" data-toggle=\"popover\" title=\"go to Top\">Go to Top</a>\n",
    "    </div>\n",
    "    <br style=\"clear: left;\" />\n",
    "</div>"
   ]
  },
  {
   "cell_type": "code",
   "execution_count": 126,
   "metadata": {
    "execution": {
     "iopub.execute_input": "2020-10-25T04:54:44.637670Z",
     "iopub.status.busy": "2020-10-25T04:54:44.636286Z",
     "iopub.status.idle": "2020-10-25T04:54:45.347607Z",
     "shell.execute_reply": "2020-10-25T04:54:45.348185Z"
    },
    "papermill": {
     "duration": 1.001911,
     "end_time": "2020-10-25T04:54:45.348357",
     "exception": false,
     "start_time": "2020-10-25T04:54:44.346446",
     "status": "completed"
    },
    "tags": []
   },
   "outputs": [
    {
     "data": {
      "text/html": [
       "<div>\n",
       "<style scoped>\n",
       "    .dataframe tbody tr th:only-of-type {\n",
       "        vertical-align: middle;\n",
       "    }\n",
       "\n",
       "    .dataframe tbody tr th {\n",
       "        vertical-align: top;\n",
       "    }\n",
       "\n",
       "    .dataframe thead th {\n",
       "        text-align: right;\n",
       "    }\n",
       "</style>\n",
       "<table border=\"1\" class=\"dataframe\">\n",
       "  <thead>\n",
       "    <tr style=\"text-align: right;\">\n",
       "      <th></th>\n",
       "      <th></th>\n",
       "      <th>last_name</th>\n",
       "      <th>company_name</th>\n",
       "      <th>address</th>\n",
       "      <th>city</th>\n",
       "      <th>postal</th>\n",
       "      <th>phone1</th>\n",
       "      <th>phone2</th>\n",
       "      <th>email</th>\n",
       "      <th>web</th>\n",
       "    </tr>\n",
       "    <tr>\n",
       "      <th>county</th>\n",
       "      <th>first_name</th>\n",
       "      <th></th>\n",
       "      <th></th>\n",
       "      <th></th>\n",
       "      <th></th>\n",
       "      <th></th>\n",
       "      <th></th>\n",
       "      <th></th>\n",
       "      <th></th>\n",
       "      <th></th>\n",
       "    </tr>\n",
       "  </thead>\n",
       "  <tbody>\n",
       "    <tr>\n",
       "      <th>City of Edinburgh</th>\n",
       "      <th>Janet</th>\n",
       "      <td>Steimer</td>\n",
       "      <td>Alaska State Troopers</td>\n",
       "      <td>8899 Mere Lane</td>\n",
       "      <td>Midlothian West Ward</td>\n",
       "      <td>EH20 9SJ</td>\n",
       "      <td>01506-627051</td>\n",
       "      <td>01698-817116</td>\n",
       "      <td>janet_steimer@hotmail.com</td>\n",
       "      <td>http://www.alaskastatetroopers.co.uk</td>\n",
       "    </tr>\n",
       "    <tr>\n",
       "      <th>Cumbria</th>\n",
       "      <th>Elroy</th>\n",
       "      <td>Piehler</td>\n",
       "      <td>Jonson, Geo D Esq</td>\n",
       "      <td>821 Pembroke Place</td>\n",
       "      <td>Kirkby Stephen</td>\n",
       "      <td>CA17 4RZ</td>\n",
       "      <td>01589-654152</td>\n",
       "      <td>01586-387018</td>\n",
       "      <td>epiehler@piehler.co.uk</td>\n",
       "      <td>http://www.jonsongeodesq.co.uk</td>\n",
       "    </tr>\n",
       "    <tr>\n",
       "      <th>West Yorkshire</th>\n",
       "      <th>Carline</th>\n",
       "      <td>Bulcao</td>\n",
       "      <td>Brenner, Steven G Esq</td>\n",
       "      <td>7 Hey Green Rd #4</td>\n",
       "      <td>Rothwell Ward</td>\n",
       "      <td>LS26 8XE</td>\n",
       "      <td>01885-707109</td>\n",
       "      <td>01381-330004</td>\n",
       "      <td>carline@yahoo.com</td>\n",
       "      <td>http://www.brennerstevengesq.co.uk</td>\n",
       "    </tr>\n",
       "    <tr>\n",
       "      <th>North Ayrshire</th>\n",
       "      <th>Aleta</th>\n",
       "      <td>Ligons</td>\n",
       "      <td>Advantage Bookkeeping</td>\n",
       "      <td>4545 Victoria Rd</td>\n",
       "      <td>Kilbirnie and Beith Ward</td>\n",
       "      <td>KA15 1AT</td>\n",
       "      <td>01952-535977</td>\n",
       "      <td>01715-637895</td>\n",
       "      <td>aleta_ligons@hotmail.com</td>\n",
       "      <td>http://www.advantagebookkeeping.co.uk</td>\n",
       "    </tr>\n",
       "    <tr>\n",
       "      <th>Berkshire</th>\n",
       "      <th>Sean</th>\n",
       "      <td>Schurman</td>\n",
       "      <td>Cooper Electric Supply Co</td>\n",
       "      <td>2877 Grain St</td>\n",
       "      <td>Caversham Ward</td>\n",
       "      <td>RG4 5DE</td>\n",
       "      <td>01773-139510</td>\n",
       "      <td>01423-385669</td>\n",
       "      <td>sean.schurman@schurman.co.uk</td>\n",
       "      <td>http://www.cooperelectricsupplyco.co.uk</td>\n",
       "    </tr>\n",
       "  </tbody>\n",
       "</table>\n",
       "</div>"
      ],
      "text/plain": [
       "                             last_name               company_name  \\\n",
       "county            first_name                                        \n",
       "City of Edinburgh Janet        Steimer      Alaska State Troopers   \n",
       "Cumbria           Elroy        Piehler          Jonson, Geo D Esq   \n",
       "West Yorkshire    Carline       Bulcao      Brenner, Steven G Esq   \n",
       "North Ayrshire    Aleta         Ligons      Advantage Bookkeeping   \n",
       "Berkshire         Sean        Schurman  Cooper Electric Supply Co   \n",
       "\n",
       "                                         address                      city  \\\n",
       "county            first_name                                                 \n",
       "City of Edinburgh Janet           8899 Mere Lane      Midlothian West Ward   \n",
       "Cumbria           Elroy       821 Pembroke Place            Kirkby Stephen   \n",
       "West Yorkshire    Carline      7 Hey Green Rd #4             Rothwell Ward   \n",
       "North Ayrshire    Aleta         4545 Victoria Rd  Kilbirnie and Beith Ward   \n",
       "Berkshire         Sean             2877 Grain St            Caversham Ward   \n",
       "\n",
       "                                postal        phone1        phone2  \\\n",
       "county            first_name                                         \n",
       "City of Edinburgh Janet       EH20 9SJ  01506-627051  01698-817116   \n",
       "Cumbria           Elroy       CA17 4RZ  01589-654152  01586-387018   \n",
       "West Yorkshire    Carline     LS26 8XE  01885-707109  01381-330004   \n",
       "North Ayrshire    Aleta       KA15 1AT  01952-535977  01715-637895   \n",
       "Berkshire         Sean         RG4 5DE  01773-139510  01423-385669   \n",
       "\n",
       "                                                     email  \\\n",
       "county            first_name                                 \n",
       "City of Edinburgh Janet          janet_steimer@hotmail.com   \n",
       "Cumbria           Elroy             epiehler@piehler.co.uk   \n",
       "West Yorkshire    Carline                carline@yahoo.com   \n",
       "North Ayrshire    Aleta           aleta_ligons@hotmail.com   \n",
       "Berkshire         Sean        sean.schurman@schurman.co.uk   \n",
       "\n",
       "                                                                  web  \n",
       "county            first_name                                           \n",
       "City of Edinburgh Janet          http://www.alaskastatetroopers.co.uk  \n",
       "Cumbria           Elroy                http://www.jonsongeodesq.co.uk  \n",
       "West Yorkshire    Carline          http://www.brennerstevengesq.co.uk  \n",
       "North Ayrshire    Aleta         http://www.advantagebookkeeping.co.uk  \n",
       "Berkshire         Sean        http://www.cooperelectricsupplyco.co.uk  "
      ]
     },
     "execution_count": 126,
     "metadata": {},
     "output_type": "execute_result"
    }
   ],
   "source": [
    "# 121. Group by multiple columns\n",
    "\n",
    "df = pd.read_csv('../input/datasets-for-pandas/uk-500.csv')\n",
    "\n",
    "df.groupby(['county', 'first_name']).sum().sample(5)"
   ]
  },
  {
   "cell_type": "markdown",
   "metadata": {
    "papermill": {
     "duration": 0.266399,
     "end_time": "2020-10-25T04:54:45.878001",
     "exception": false,
     "start_time": "2020-10-25T04:54:45.611602",
     "status": "completed"
    },
    "tags": []
   },
   "source": [
    "<div style=\"\">\n",
    "    <div style=\"float: left; width: 80%;\">\n",
    "        <a id=\"122\"></a>\n",
    "        <font><b>Task 122:</b></font>\n",
    "        <br><br>\n",
    "        Compare two dataframes\n",
    "    </div>\n",
    "    <div style=\"float: right;\">\n",
    "        <a href=\"#top\" class=\"btn btn-primary btn-sm\" role=\"button\" aria-pressed=\"true\" style=\"color:white\" data-toggle=\"popover\" title=\"go to Top\">Go to Top</a>\n",
    "    </div>\n",
    "    <br style=\"clear: left;\" />\n",
    "</div>"
   ]
  },
  {
   "cell_type": "code",
   "execution_count": 127,
   "metadata": {
    "execution": {
     "iopub.execute_input": "2020-10-25T04:54:46.433209Z",
     "iopub.status.busy": "2020-10-25T04:54:46.432281Z",
     "iopub.status.idle": "2020-10-25T04:54:46.436562Z",
     "shell.execute_reply": "2020-10-25T04:54:46.435780Z"
    },
    "papermill": {
     "duration": 0.291296,
     "end_time": "2020-10-25T04:54:46.436698",
     "exception": false,
     "start_time": "2020-10-25T04:54:46.145402",
     "status": "completed"
    },
    "tags": []
   },
   "outputs": [
    {
     "name": "stdout",
     "output_type": "stream",
     "text": [
      "     a          b      \n",
      "  self other self other\n",
      "0  NaN   NaN  9.0  12.0\n",
      "1  2.0   1.0  NaN   NaN\n",
      "2  NaN   NaN  7.0  12.0\n"
     ]
    }
   ],
   "source": [
    "# 122. Compare two dataframes\n",
    "\n",
    "df1 = pd.DataFrame({\n",
    "    'a' : [1,2,3], \n",
    "    'b' : [9,8,7]\n",
    "})\n",
    "\n",
    "df2 = pd.DataFrame({\n",
    "    'a' : [1,1,3], \n",
    "    'b' : [12,8,12]\n",
    "})\n",
    "\n",
    "print(df1.compare(df2))"
   ]
  },
  {
   "cell_type": "markdown",
   "metadata": {
    "papermill": {
     "duration": 0.263629,
     "end_time": "2020-10-25T04:54:46.964178",
     "exception": false,
     "start_time": "2020-10-25T04:54:46.700549",
     "status": "completed"
    },
    "tags": []
   },
   "source": [
    "<div style=\"\">\n",
    "    <div style=\"float: left; width: 80%;\">\n",
    "        <a id=\"123\"></a>\n",
    "        <font><b>Task 123:</b></font>\n",
    "        <br><br>\n",
    "        Difference between datetime by only seconds or dates\n",
    "    </div>\n",
    "    <div style=\"float: right;\">\n",
    "        <a href=\"#top\" class=\"btn btn-primary btn-sm\" role=\"button\" aria-pressed=\"true\" style=\"color:white\" data-toggle=\"popover\" title=\"go to Top\">Go to Top</a>\n",
    "    </div>\n",
    "    <br style=\"clear: left;\" />\n",
    "</div>"
   ]
  },
  {
   "cell_type": "code",
   "execution_count": 128,
   "metadata": {
    "execution": {
     "iopub.execute_input": "2020-10-25T04:54:47.527495Z",
     "iopub.status.busy": "2020-10-25T04:54:47.526361Z",
     "iopub.status.idle": "2020-10-25T04:54:47.531503Z",
     "shell.execute_reply": "2020-10-25T04:54:47.530374Z"
    },
    "papermill": {
     "duration": 0.292026,
     "end_time": "2020-10-25T04:54:47.531774",
     "exception": false,
     "start_time": "2020-10-25T04:54:47.239748",
     "status": "completed"
    },
    "tags": []
   },
   "outputs": [
    {
     "name": "stdout",
     "output_type": "stream",
     "text": [
      "days   :  4\n",
      "seconds:  3949\n"
     ]
    }
   ],
   "source": [
    "# 123. Difference between datetime by only seconds or dates\n",
    "\n",
    "df1 = pd.to_datetime('2020-10-14 14:52:21')\n",
    "df2 = pd.to_datetime('2020-10-18 15:58:10')\n",
    "\n",
    "delta = (df2 - df1)\n",
    "\n",
    "print('days   : ', delta.days)\n",
    "print('seconds: ', delta.seconds)"
   ]
  },
  {
   "cell_type": "markdown",
   "metadata": {
    "papermill": {
     "duration": 0.265543,
     "end_time": "2020-10-25T04:54:48.069244",
     "exception": false,
     "start_time": "2020-10-25T04:54:47.803701",
     "status": "completed"
    },
    "tags": []
   },
   "source": [
    "<div style=\"\">\n",
    "    <div style=\"float: left; width: 80%;\">\n",
    "        <a id=\"124\"></a>\n",
    "        <font><b>Task 124:</b></font>\n",
    "        <br><br>\n",
    "        Get dates and delta days in Dataframe\n",
    "    </div>\n",
    "    <div style=\"float: right;\">\n",
    "        <a href=\"#top\" class=\"btn btn-primary btn-sm\" role=\"button\" aria-pressed=\"true\" style=\"color:white\" data-toggle=\"popover\" title=\"go to Top\">Go to Top</a>\n",
    "    </div>\n",
    "    <br style=\"clear: left;\" />\n",
    "</div>"
   ]
  },
  {
   "cell_type": "code",
   "execution_count": 129,
   "metadata": {
    "execution": {
     "iopub.execute_input": "2020-10-25T04:54:48.612397Z",
     "iopub.status.busy": "2020-10-25T04:54:48.611442Z",
     "iopub.status.idle": "2020-10-25T04:54:48.617065Z",
     "shell.execute_reply": "2020-10-25T04:54:48.615807Z"
    },
    "papermill": {
     "duration": 0.281737,
     "end_time": "2020-10-25T04:54:48.617267",
     "exception": false,
     "start_time": "2020-10-25T04:54:48.335530",
     "status": "completed"
    },
    "tags": []
   },
   "outputs": [
    {
     "name": "stdout",
     "output_type": "stream",
     "text": [
      "  entry_date\n",
      "0 2020-09-01\n",
      "1 2020-09-02\n",
      "2 2020-09-03\n",
      "3 2020-09-04\n",
      "4 2020-09-05\n",
      "5 2020-09-06\n"
     ]
    }
   ],
   "source": [
    "# 124. Get dates and delta days in Dataframe\n",
    "\n",
    "entries_count = 6\n",
    "\n",
    "date_series = pd.Series(pd.date_range('2020-09-01', periods = entries_count, freq = 'D'))\n",
    "\n",
    "df = pd.DataFrame({'entry_date': date_series})\n",
    "\n",
    "print(df)"
   ]
  },
  {
   "cell_type": "markdown",
   "metadata": {
    "papermill": {
     "duration": 0.272333,
     "end_time": "2020-10-25T04:54:49.159269",
     "exception": false,
     "start_time": "2020-10-25T04:54:48.886936",
     "status": "completed"
    },
    "tags": []
   },
   "source": [
    "<div style=\"\">\n",
    "    <div style=\"float: left; width: 80%;\">\n",
    "        <a id=\"125\"></a>\n",
    "        <font><b>Task 125:</b></font>\n",
    "        <br><br>\n",
    "        Get dates and delta days in Dataframe\n",
    "    </div>\n",
    "    <div style=\"float: right;\">\n",
    "        <a href=\"#top\" class=\"btn btn-primary btn-sm\" role=\"button\" aria-pressed=\"true\" style=\"color:white\" data-toggle=\"popover\" title=\"go to Top\">Go to Top</a>\n",
    "    </div>\n",
    "    <br style=\"clear: left;\" />\n",
    "</div>"
   ]
  },
  {
   "cell_type": "code",
   "execution_count": 130,
   "metadata": {
    "execution": {
     "iopub.execute_input": "2020-10-25T04:54:49.718449Z",
     "iopub.status.busy": "2020-10-25T04:54:49.717431Z",
     "iopub.status.idle": "2020-10-25T04:54:49.725742Z",
     "shell.execute_reply": "2020-10-25T04:54:49.726536Z"
    },
    "papermill": {
     "duration": 0.300268,
     "end_time": "2020-10-25T04:54:49.726763",
     "exception": false,
     "start_time": "2020-10-25T04:54:49.426495",
     "status": "completed"
    },
    "tags": []
   },
   "outputs": [
    {
     "name": "stdout",
     "output_type": "stream",
     "text": [
      "  entry_date delta_days\n",
      "0 2020-09-01     0 days\n",
      "1 2020-09-02     1 days\n",
      "2 2020-09-03     2 days\n",
      "3 2020-09-04     3 days\n",
      "4 2020-09-05     4 days\n"
     ]
    }
   ],
   "source": [
    "# 125. Get dates and delta days in Dataframe\n",
    "\n",
    "entries_count = 5\n",
    "\n",
    "date_series = pd.Series(pd.date_range('2020-09-01', periods = entries_count, freq = 'D'))\n",
    "\n",
    "time_delta_series = pd.Series([pd.Timedelta(days = i) for i in range(entries_count)])\n",
    "\n",
    "df = pd.DataFrame({'entry_date': date_series, 'delta_days': time_delta_series})\n",
    "\n",
    "print(df)"
   ]
  },
  {
   "cell_type": "markdown",
   "metadata": {
    "papermill": {
     "duration": 0.271592,
     "end_time": "2020-10-25T04:54:50.296888",
     "exception": false,
     "start_time": "2020-10-25T04:54:50.025296",
     "status": "completed"
    },
    "tags": []
   },
   "source": [
    "<div style=\"\">\n",
    "    <div style=\"float: left; width: 80%;\">\n",
    "        <a id=\"126\"></a>\n",
    "        <font><b>Task 126:</b></font>\n",
    "        <br><br>\n",
    "        Date addition with time delta\n",
    "    </div>\n",
    "    <div style=\"float: right;\">\n",
    "        <a href=\"#top\" class=\"btn btn-primary btn-sm\" role=\"button\" aria-pressed=\"true\" style=\"color:white\" data-toggle=\"popover\" title=\"go to Top\">Go to Top</a>\n",
    "    </div>\n",
    "    <br style=\"clear: left;\" />\n",
    "</div>"
   ]
  },
  {
   "cell_type": "code",
   "execution_count": 131,
   "metadata": {
    "execution": {
     "iopub.execute_input": "2020-10-25T04:54:50.845839Z",
     "iopub.status.busy": "2020-10-25T04:54:50.832737Z",
     "iopub.status.idle": "2020-10-25T04:54:50.852011Z",
     "shell.execute_reply": "2020-10-25T04:54:50.850831Z"
    },
    "papermill": {
     "duration": 0.291831,
     "end_time": "2020-10-25T04:54:50.852220",
     "exception": false,
     "start_time": "2020-10-25T04:54:50.560389",
     "status": "completed"
    },
    "tags": []
   },
   "outputs": [
    {
     "name": "stdout",
     "output_type": "stream",
     "text": [
      "\n",
      "Before:\n",
      "  entry_date delta_days\n",
      "0 2020-09-01     0 days\n",
      "1 2020-09-02     1 days\n",
      "2 2020-09-03     2 days\n",
      "\n",
      "After:\n",
      "  entry_date delta_days new_entry_date\n",
      "0 2020-09-01     0 days     2020-09-01\n",
      "1 2020-09-02     1 days     2020-09-03\n",
      "2 2020-09-03     2 days     2020-09-05\n",
      "\n",
      "Data types:\n",
      "entry_date         datetime64[ns]\n",
      "delta_days        timedelta64[ns]\n",
      "new_entry_date     datetime64[ns]\n",
      "dtype: object\n"
     ]
    }
   ],
   "source": [
    "# 126. Date addition with time delta\n",
    "\n",
    "entries_count = 3\n",
    "\n",
    "date_series = pd.Series(pd.date_range('2020-09-01', periods = entries_count, freq = 'D'))\n",
    "\n",
    "time_delta_series = pd.Series([pd.Timedelta(days = i) for i in range(entries_count)])\n",
    "\n",
    "df = pd.DataFrame({'entry_date': date_series, 'delta_days': time_delta_series})\n",
    "\n",
    "print('\\nBefore:')\n",
    "print(df)\n",
    "\n",
    "\n",
    "df['new_entry_date'] = df['entry_date'] + df['delta_days']\n",
    "print('\\nAfter:')\n",
    "print(df)\n",
    "\n",
    "print('\\nData types:')\n",
    "print(df.dtypes)"
   ]
  },
  {
   "cell_type": "markdown",
   "metadata": {
    "papermill": {
     "duration": 0.274482,
     "end_time": "2020-10-25T04:54:51.402680",
     "exception": false,
     "start_time": "2020-10-25T04:54:51.128198",
     "status": "completed"
    },
    "tags": []
   },
   "source": [
    "<div style=\"\">\n",
    "    <div style=\"float: left; width: 80%;\">\n",
    "        <a id=\"127\"></a>\n",
    "        <font><b>Task 127:</b></font>\n",
    "        <br><br>\n",
    "        Converting Pandas innner list to numpy array without the word `list`\n",
    "    </div>\n",
    "    <div style=\"float: right;\">\n",
    "        <a href=\"#top\" class=\"btn btn-primary btn-sm\" role=\"button\" aria-pressed=\"true\" style=\"color:white\" data-toggle=\"popover\" title=\"go to Top\">Go to Top</a>\n",
    "    </div>\n",
    "    <br style=\"clear: left;\" />\n",
    "</div>"
   ]
  },
  {
   "cell_type": "code",
   "execution_count": 132,
   "metadata": {
    "execution": {
     "iopub.execute_input": "2020-10-25T04:54:51.993264Z",
     "iopub.status.busy": "2020-10-25T04:54:51.992358Z",
     "iopub.status.idle": "2020-10-25T04:54:51.995879Z",
     "shell.execute_reply": "2020-10-25T04:54:51.996922Z"
    },
    "papermill": {
     "duration": 0.284396,
     "end_time": "2020-10-25T04:54:51.997294",
     "exception": false,
     "start_time": "2020-10-25T04:54:51.712898",
     "status": "completed"
    },
    "tags": []
   },
   "outputs": [
    {
     "name": "stdout",
     "output_type": "stream",
     "text": [
      "Original Series:\n",
      "0    [1, 2, 3]\n",
      "1    [1, 2, 3]\n",
      "dtype: object\n",
      "\n",
      "Series to Array:\n",
      "[list([1, 2, 3]) array([1, 2, 3])]\n",
      "\n",
      "After converting inner elements to list:\n",
      "[[1 2 3]\n",
      " [1 2 3]]\n"
     ]
    }
   ],
   "source": [
    "# 127. Converting Pandas innner list to numpy array without the word `list`\n",
    "\n",
    "s = pd.Series([[1, 2, 3], np.array([1, 2, 3])])\n",
    "    \n",
    "print('Original Series:')\n",
    "print(s)  \n",
    "\n",
    "arr = np.array(s)\n",
    "print('\\nSeries to Array:')\n",
    "print(arr)\n",
    "\n",
    "print('\\nAfter converting inner elements to list:')\n",
    "x = np.array(s[:].tolist())\n",
    "print(x)\n",
    "\n",
    "# Source: https://stackoverflow.com/questions/64089218/how-to-convert-data-frame-pandas-into-list-in-numpy-without-word-list-in-array"
   ]
  },
  {
   "cell_type": "markdown",
   "metadata": {
    "papermill": {
     "duration": 0.268738,
     "end_time": "2020-10-25T04:54:52.537789",
     "exception": false,
     "start_time": "2020-10-25T04:54:52.269051",
     "status": "completed"
    },
    "tags": []
   },
   "source": [
    "<div style=\"\">\n",
    "    <div style=\"float: left; width: 80%;\">\n",
    "        <a id=\"128\"></a>\n",
    "        <font><b>Task 128:</b></font>\n",
    "        <br><br>\n",
    "        Append series to existing Dataframe\n",
    "    </div>\n",
    "    <div style=\"float: right;\">\n",
    "        <a href=\"#top\" class=\"btn btn-primary btn-sm\" role=\"button\" aria-pressed=\"true\" style=\"color:white\" data-toggle=\"popover\" title=\"go to Top\">Go to Top</a>\n",
    "    </div>\n",
    "    <br style=\"clear: left;\" />\n",
    "</div>"
   ]
  },
  {
   "cell_type": "code",
   "execution_count": 133,
   "metadata": {
    "execution": {
     "iopub.execute_input": "2020-10-25T04:54:53.098723Z",
     "iopub.status.busy": "2020-10-25T04:54:53.097882Z",
     "iopub.status.idle": "2020-10-25T04:54:53.103396Z",
     "shell.execute_reply": "2020-10-25T04:54:53.102776Z"
    },
    "papermill": {
     "duration": 0.299944,
     "end_time": "2020-10-25T04:54:53.103550",
     "exception": false,
     "start_time": "2020-10-25T04:54:52.803606",
     "status": "completed"
    },
    "tags": []
   },
   "outputs": [
    {
     "name": "stdout",
     "output_type": "stream",
     "text": [
      "Before:\n",
      "   id\n",
      "0   1\n",
      "1   3\n",
      "2   4\n",
      "3   5\n",
      "\n",
      "After:\n",
      "   id  marks\n",
      "0   1     79\n",
      "1   3     20\n",
      "2   4     45\n",
      "3   5     99\n"
     ]
    }
   ],
   "source": [
    "# 128. Append series to existing Dataframe\n",
    "\n",
    "df = pd.DataFrame([1, 3, 4, 5], columns=[\"id\"])\n",
    "df.set_index(\"id\")\n",
    "print('Before:')\n",
    "print(df)\n",
    "\n",
    "marks = pd.Series([79, 20, 45, 99])\n",
    "df[\"marks\"] = marks\n",
    "print('\\nAfter:')\n",
    "print(df)"
   ]
  },
  {
   "cell_type": "markdown",
   "metadata": {
    "papermill": {
     "duration": 0.278711,
     "end_time": "2020-10-25T04:54:53.672514",
     "exception": false,
     "start_time": "2020-10-25T04:54:53.393803",
     "status": "completed"
    },
    "tags": []
   },
   "source": [
    "<div style=\"\">\n",
    "    <div style=\"float: left; width: 80%;\">\n",
    "        <a id=\"129\"></a>\n",
    "        <font><b>Task 129:</b></font>\n",
    "        <br><br>\n",
    "        Cumulative sum with group by with multiple values\n",
    "    </div>\n",
    "    <div style=\"float: right;\">\n",
    "        <a href=\"#top\" class=\"btn btn-primary btn-sm\" role=\"button\" aria-pressed=\"true\" style=\"color:white\" data-toggle=\"popover\" title=\"go to Top\">Go to Top</a>\n",
    "    </div>\n",
    "    <br style=\"clear: left;\" />\n",
    "</div>"
   ]
  },
  {
   "cell_type": "code",
   "execution_count": 134,
   "metadata": {
    "execution": {
     "iopub.execute_input": "2020-10-25T04:54:54.254899Z",
     "iopub.status.busy": "2020-10-25T04:54:54.253759Z",
     "iopub.status.idle": "2020-10-25T04:54:54.282386Z",
     "shell.execute_reply": "2020-10-25T04:54:54.283625Z"
    },
    "papermill": {
     "duration": 0.336844,
     "end_time": "2020-10-25T04:54:54.283874",
     "exception": false,
     "start_time": "2020-10-25T04:54:53.947030",
     "status": "completed"
    },
    "tags": []
   },
   "outputs": [
    {
     "name": "stdout",
     "output_type": "stream",
     "text": [
      "Before:\n",
      "       City  Year  Points\n",
      "0   Toronto  2020    1000\n",
      "1   Toronto  2020    2000\n",
      "2   Toronto  2018    3000\n",
      "3  Montreal  2018    3000\n",
      "4  Montreal  2018    2000\n",
      "5  Montreal  2012    1500\n",
      "6  New York  2012    1500\n",
      "7   Toronto  2012     500\n",
      "8  New York  2016     500\n",
      "9  New York  2018     300\n",
      "\n",
      "After Sorting:\n",
      "       City  Year  Points\n",
      "5  Montreal  2012    1500\n",
      "3  Montreal  2018    3000\n",
      "4  Montreal  2018    2000\n",
      "6  New York  2012    1500\n",
      "8  New York  2016     500\n",
      "9  New York  2018     300\n",
      "7   Toronto  2012     500\n",
      "2   Toronto  2018    3000\n",
      "0   Toronto  2020    1000\n",
      "1   Toronto  2020    2000\n",
      "\n",
      "After Cumulative Sum:\n",
      "       City  Year  Points  Points_cum\n",
      "5  Montreal  2012    1500        1500\n",
      "3  Montreal  2018    3000        3000\n",
      "4  Montreal  2018    2000        5000\n",
      "6  New York  2012    1500        1500\n",
      "8  New York  2016     500         500\n",
      "9  New York  2018     300         300\n",
      "7   Toronto  2012     500         500\n",
      "2   Toronto  2018    3000        3000\n",
      "0   Toronto  2020    1000        1000\n",
      "1   Toronto  2020    2000        3000\n"
     ]
    }
   ],
   "source": [
    "# 129. Cumulative sum with group by with multiple values\n",
    "\n",
    "df = pd.DataFrame({\n",
    "    'City': ['Toronto', 'Toronto', 'Toronto', 'Montreal', 'Montreal', 'Montreal', 'New York', 'Toronto', 'New York', 'New York'], \n",
    "    'Year': [2020, 2020, 2018, 2018, 2018, 2012, 2012, 2012, 2016, 2018], \n",
    "    'Points': [1000, 2000, 3000, 3000, 2000, 1500, 1500, 500, 500, 300]\n",
    "})\n",
    "\n",
    "print('Before:')\n",
    "print(df)\n",
    "\n",
    "df.sort_values(['City', 'Year'], inplace=True)\n",
    "print('\\nAfter Sorting:')\n",
    "print(df)\n",
    "\n",
    "df['Points_cum'] = df.groupby(['City', 'Year'])['Points'].cumsum()\n",
    "print('\\nAfter Cumulative Sum:')\n",
    "print(df)"
   ]
  },
  {
   "cell_type": "markdown",
   "metadata": {
    "papermill": {
     "duration": 0.279849,
     "end_time": "2020-10-25T04:54:54.856994",
     "exception": false,
     "start_time": "2020-10-25T04:54:54.577145",
     "status": "completed"
    },
    "tags": []
   },
   "source": [
    "<div style=\"\">\n",
    "    <div style=\"float: left; width: 80%;\">\n",
    "        <a id=\"130\"></a>\n",
    "        <font><b>Task 130:</b></font>\n",
    "        <br><br>\n",
    "        Clean URL in Pandas String (remove string after specific item)\n",
    "    </div>\n",
    "    <div style=\"float: right;\">\n",
    "        <a href=\"#top\" class=\"btn btn-primary btn-sm\" role=\"button\" aria-pressed=\"true\" style=\"color:white\" data-toggle=\"popover\" title=\"go to Top\">Go to Top</a>\n",
    "    </div>\n",
    "    <br style=\"clear: left;\" />\n",
    "</div>"
   ]
  },
  {
   "cell_type": "code",
   "execution_count": 135,
   "metadata": {
    "execution": {
     "iopub.execute_input": "2020-10-25T04:54:55.458952Z",
     "iopub.status.busy": "2020-10-25T04:54:55.458038Z",
     "iopub.status.idle": "2020-10-25T04:54:55.465508Z",
     "shell.execute_reply": "2020-10-25T04:54:55.464205Z"
    },
    "papermill": {
     "duration": 0.328937,
     "end_time": "2020-10-25T04:54:55.465807",
     "exception": false,
     "start_time": "2020-10-25T04:54:55.136870",
     "status": "completed"
    },
    "tags": []
   },
   "outputs": [
    {
     "name": "stdout",
     "output_type": "stream",
     "text": [
      "Original:\n",
      "                                  url\n",
      "0  https://www.abc.com/page/2/unit234\n",
      "1   https://www.abc.com/page/3/unit34\n",
      "2   https://www.abc.com/page/4/unit89\n",
      "\n",
      "Afer removing unit and future chars:\n",
      "                           url\n",
      "0  https://www.abc.com/page/2/\n",
      "1  https://www.abc.com/page/3/\n",
      "2  https://www.abc.com/page/4/\n"
     ]
    }
   ],
   "source": [
    "# 130. Clean URL in Pandas String (remove string after specific item)\n",
    "\n",
    "df = pd.DataFrame({\n",
    "    'url': ['https://www.abc.com/page/2/unit234', 'https://www.abc.com/page/3/unit34', 'https://www.abc.com/page/4/unit89']\n",
    "})\n",
    "\n",
    "print('Original:')\n",
    "print(df)\n",
    "\n",
    "df['url'] = df['url'].str.replace('\\/unit.*', '/', regex=True)\n",
    "print('\\nAfer removing unit and future chars:')\n",
    "print(df)"
   ]
  },
  {
   "cell_type": "markdown",
   "metadata": {
    "papermill": {
     "duration": 0.278881,
     "end_time": "2020-10-25T04:54:56.053826",
     "exception": false,
     "start_time": "2020-10-25T04:54:55.774945",
     "status": "completed"
    },
    "tags": []
   },
   "source": [
    "<div style=\"\">\n",
    "    <div style=\"float: left; width: 80%;\">\n",
    "        <a id=\"131\"></a>\n",
    "        <font><b>Task 131:</b></font>\n",
    "        <br><br>\n",
    "        Find any matching value\n",
    "    </div>\n",
    "    <div style=\"float: right;\">\n",
    "        <a href=\"#top\" class=\"btn btn-primary btn-sm\" role=\"button\" aria-pressed=\"true\" style=\"color:white\" data-toggle=\"popover\" title=\"go to Top\">Go to Top</a>\n",
    "    </div>\n",
    "    <br style=\"clear: left;\" />\n",
    "</div>"
   ]
  },
  {
   "cell_type": "code",
   "execution_count": 136,
   "metadata": {
    "execution": {
     "iopub.execute_input": "2020-10-25T04:54:56.627871Z",
     "iopub.status.busy": "2020-10-25T04:54:56.627031Z",
     "iopub.status.idle": "2020-10-25T04:54:56.633382Z",
     "shell.execute_reply": "2020-10-25T04:54:56.632360Z"
    },
    "papermill": {
     "duration": 0.301769,
     "end_time": "2020-10-25T04:54:56.633601",
     "exception": false,
     "start_time": "2020-10-25T04:54:56.331832",
     "status": "completed"
    },
    "tags": []
   },
   "outputs": [
    {
     "name": "stdout",
     "output_type": "stream",
     "text": [
      "Task 131:\n",
      "Original Dataframe:\n",
      "    name      city\n",
      "0  kevin   Toronto\n",
      "1  james  Montreal\n",
      "2  kumar   Calgary\n",
      "3  kevin  Montreal\n",
      "4  kevin  Montreal\n",
      "5  james    Ottawa\n",
      "\n",
      "Finding `Montreal` in any cell :\n",
      "    name      city\n",
      "1  james  Montreal\n",
      "3  kevin  Montreal\n",
      "4  kevin  Montreal\n"
     ]
    }
   ],
   "source": [
    "# 131. Find any matching value\n",
    "\n",
    "print('Task 131:')\n",
    "\n",
    "users = pd.DataFrame({\n",
    "    \"name\": ['kevin', 'james', 'kumar', 'kevin', 'kevin', 'james'], \n",
    "    \"city\": ['Toronto', 'Montreal', 'Calgary', 'Montreal', 'Montreal', 'Ottawa']\n",
    "}) \n",
    "\n",
    "print('Original Dataframe:')\n",
    "print(users)\n",
    "\n",
    "print('\\nFinding `Montreal` in any cell :')\n",
    "print(users[users.eq('Montreal').any(1)])"
   ]
  },
  {
   "cell_type": "code",
   "execution_count": 137,
   "metadata": {
    "execution": {
     "iopub.execute_input": "2020-10-25T04:54:57.217355Z",
     "iopub.status.busy": "2020-10-25T04:54:57.216369Z",
     "iopub.status.idle": "2020-10-25T04:54:57.221190Z",
     "shell.execute_reply": "2020-10-25T04:54:57.220372Z"
    },
    "papermill": {
     "duration": 0.308972,
     "end_time": "2020-10-25T04:54:57.221373",
     "exception": false,
     "start_time": "2020-10-25T04:54:56.912401",
     "status": "completed"
    },
    "tags": []
   },
   "outputs": [
    {
     "name": "stdout",
     "output_type": "stream",
     "text": [
      "   feature_0  feature_1  feature_2  feature_3  feature_4  year\n",
      "0   0.038562   0.780100   0.092704   0.632893   0.013891  2012\n",
      "1   0.936159   0.426574   0.253086   0.189965   0.414825  2012\n",
      "2   0.013421   0.648473   0.869369   0.609036   0.807993  2012\n",
      "3   0.826511   0.271683   0.836476   0.282541   0.138309  2012\n",
      "4   0.714720   0.472537   0.556588   0.385576   0.941147  2012\n",
      "30\n"
     ]
    }
   ],
   "source": [
    "# 132. Add prefix on column lables\n",
    "\n",
    "import pandas as pd\n",
    "import numpy as np\n",
    "\n",
    "np.random.seed(34)\n",
    "\n",
    "df = pd.DataFrame(np.random.rand(30, 5)).add_prefix(\"feature_\")\n",
    "df[\"year\"] = np.repeat([\"2012\", \"2013\", \"2014\"], 10)\n",
    "\n",
    "print(df.head())\n",
    "print(len(df))"
   ]
  },
  {
   "cell_type": "code",
   "execution_count": 138,
   "metadata": {
    "execution": {
     "iopub.execute_input": "2020-10-25T04:54:57.811305Z",
     "iopub.status.busy": "2020-10-25T04:54:57.802119Z",
     "iopub.status.idle": "2020-10-25T04:54:57.816830Z",
     "shell.execute_reply": "2020-10-25T04:54:57.815927Z"
    },
    "papermill": {
     "duration": 0.311931,
     "end_time": "2020-10-25T04:54:57.816994",
     "exception": false,
     "start_time": "2020-10-25T04:54:57.505063",
     "status": "completed"
    },
    "tags": []
   },
   "outputs": [
    {
     "name": "stdout",
     "output_type": "stream",
     "text": [
      "Original;\n",
      "       city  Year\n",
      "0   Toronto  2017\n",
      "1   Toronto  2018\n",
      "2  Montreal  2019\n",
      "3  Montreal  2020\n",
      "4  Montreal  2021\n",
      "\n",
      "After:\n",
      "       city  Year               airport\n",
      "0   Toronto  2017  {'airport_count': 2}\n",
      "1   Toronto  2018  {'airport_count': 2}\n",
      "2  Montreal  2019                  None\n",
      "3  Montreal  2020                  None\n",
      "4  Montreal  2021                  None\n"
     ]
    }
   ],
   "source": [
    "# 133. Set values on where condition\n",
    "\n",
    "df = pd.DataFrame({'city': ['Toronto', 'Toronto', 'Montreal', 'Montreal', 'Montreal'], 'Year': [2017, 2018, 2019, 2020, 2021]})\n",
    "\n",
    "print('Original;')\n",
    "print(df)\n",
    "\n",
    "df['airport'] = None\n",
    "df['airport'] = np.where(df['city'] == 'Toronto', {'airport_count': 2}, df['airport'])\n",
    "\n",
    "print('\\nAfter:')\n",
    "print(df)"
   ]
  },
  {
   "cell_type": "code",
   "execution_count": 139,
   "metadata": {
    "execution": {
     "iopub.execute_input": "2020-10-25T04:54:58.409226Z",
     "iopub.status.busy": "2020-10-25T04:54:58.408029Z",
     "iopub.status.idle": "2020-10-25T04:54:58.414810Z",
     "shell.execute_reply": "2020-10-25T04:54:58.414080Z"
    },
    "papermill": {
     "duration": 0.306317,
     "end_time": "2020-10-25T04:54:58.414973",
     "exception": false,
     "start_time": "2020-10-25T04:54:58.108656",
     "status": "completed"
    },
    "tags": []
   },
   "outputs": [
    {
     "name": "stdout",
     "output_type": "stream",
     "text": [
      "  country.canada.code country.canada.city.name country.canada.city.population\n",
      "0                  CA                  Toronto                             6M\n"
     ]
    }
   ],
   "source": [
    "# 134. Flatten Dictionary to Dataframe\n",
    "\n",
    "d = {\n",
    "    \"country\" : {\n",
    "        \"canada\": {\n",
    "            \"code\": 'CA',\n",
    "            \"city\": {\n",
    "                \"name\": \"Toronto\",\n",
    "                \"population\": \"6M\"\n",
    "            }\n",
    "        }\n",
    "    }\n",
    "}\n",
    "\n",
    "df = pd.json_normalize(d)\n",
    "\n",
    "print(df)"
   ]
  },
  {
   "cell_type": "code",
   "execution_count": 140,
   "metadata": {
    "execution": {
     "iopub.execute_input": "2020-10-25T04:54:58.991994Z",
     "iopub.status.busy": "2020-10-25T04:54:58.990976Z",
     "iopub.status.idle": "2020-10-25T04:54:58.996368Z",
     "shell.execute_reply": "2020-10-25T04:54:58.994767Z"
    },
    "papermill": {
     "duration": 0.29763,
     "end_time": "2020-10-25T04:54:58.996680",
     "exception": false,
     "start_time": "2020-10-25T04:54:58.699050",
     "status": "completed"
    },
    "tags": []
   },
   "outputs": [
    {
     "name": "stdout",
     "output_type": "stream",
     "text": [
      "   ID  Value  Count\n",
      "0   1     10      1\n",
      "1   2      5      2\n",
      "2   2      5      2\n",
      "3   3     10      2\n",
      "4   3      4      2\n",
      "5   4     11      2\n",
      "6   4     12      2\n"
     ]
    }
   ],
   "source": [
    "# 135. Using transform\n",
    "\n",
    "df = pd.DataFrame({\n",
    "        'ID': [1, 2, 2, 3, 3, 4, 4],\n",
    "        'Value': [10, 5, 5, 10, 4, 11, 12]\n",
    "    })\n",
    "\n",
    "df['Count'] = df.groupby('ID')['Value'].transform('count')\n",
    "print(df)"
   ]
  },
  {
   "cell_type": "code",
   "execution_count": 141,
   "metadata": {
    "execution": {
     "iopub.execute_input": "2020-10-25T04:54:59.584357Z",
     "iopub.status.busy": "2020-10-25T04:54:59.583465Z",
     "iopub.status.idle": "2020-10-25T04:54:59.587566Z",
     "shell.execute_reply": "2020-10-25T04:54:59.588235Z"
    },
    "papermill": {
     "duration": 0.301352,
     "end_time": "2020-10-25T04:54:59.588413",
     "exception": false,
     "start_time": "2020-10-25T04:54:59.287061",
     "status": "completed"
    },
    "tags": []
   },
   "outputs": [
    {
     "name": "stdout",
     "output_type": "stream",
     "text": [
      "76\n",
      "76\n"
     ]
    }
   ],
   "source": [
    "# 136. Summing all elements\n",
    "\n",
    "df = pd.DataFrame({\n",
    "        'ID': [1, 2, 2, 3, 3, 4, 4],\n",
    "        'Value': [10, 5, 5, 10, 4, 11, 12]\n",
    "    })\n",
    "\n",
    "sum1 = df.stack().sum()\n",
    "print(sum1)\n",
    "\n",
    "sum2 = df.to_numpy().sum()\n",
    "print(sum2)"
   ]
  },
  {
   "cell_type": "code",
   "execution_count": 142,
   "metadata": {
    "execution": {
     "iopub.execute_input": "2020-10-25T04:55:00.172446Z",
     "iopub.status.busy": "2020-10-25T04:55:00.171425Z",
     "iopub.status.idle": "2020-10-25T04:55:01.046800Z",
     "shell.execute_reply": "2020-10-25T04:55:01.045992Z"
    },
    "papermill": {
     "duration": 1.175343,
     "end_time": "2020-10-25T04:55:01.046931",
     "exception": false,
     "start_time": "2020-10-25T04:54:59.871588",
     "status": "completed"
    },
    "tags": []
   },
   "outputs": [
    {
     "data": {
      "text/html": [
       "<div>\n",
       "<style scoped>\n",
       "    .dataframe tbody tr th:only-of-type {\n",
       "        vertical-align: middle;\n",
       "    }\n",
       "\n",
       "    .dataframe tbody tr th {\n",
       "        vertical-align: top;\n",
       "    }\n",
       "\n",
       "    .dataframe thead th {\n",
       "        text-align: right;\n",
       "    }\n",
       "</style>\n",
       "<table border=\"1\" class=\"dataframe\">\n",
       "  <thead>\n",
       "    <tr style=\"text-align: right;\">\n",
       "      <th></th>\n",
       "      <th>Date</th>\n",
       "      <th>Description</th>\n",
       "      <th>Spent</th>\n",
       "    </tr>\n",
       "  </thead>\n",
       "  <tbody>\n",
       "    <tr>\n",
       "      <th>0</th>\n",
       "      <td>08/04/2020</td>\n",
       "      <td>GOOGLE *GSUITE_   _V</td>\n",
       "      <td>7.8</td>\n",
       "    </tr>\n",
       "    <tr>\n",
       "      <th>1</th>\n",
       "      <td>08/04/2020</td>\n",
       "      <td>GOOGLE *GSUITE_   _V</td>\n",
       "      <td>15.6</td>\n",
       "    </tr>\n",
       "  </tbody>\n",
       "</table>\n",
       "</div>"
      ],
      "text/plain": [
       "         Date           Description  Spent\n",
       "0  08/04/2020  GOOGLE *GSUITE_   _V    7.8\n",
       "1  08/04/2020  GOOGLE *GSUITE_   _V   15.6"
      ]
     },
     "execution_count": 142,
     "metadata": {},
     "output_type": "execute_result"
    }
   ],
   "source": [
    "# 137. Combine multiple CSV files by using Dask\n",
    "\n",
    "import dask.dataframe as dd\n",
    "\n",
    "df = dd.read_csv('/kaggle/input/rj-sample-datasets/transaction-*.csv')\n",
    "\n",
    "df = df.compute() \n",
    "\n",
    "df.columns = ['Date', 'Description', 'Spent']\n",
    "\n",
    "df.head(2)"
   ]
  },
  {
   "cell_type": "code",
   "execution_count": 143,
   "metadata": {
    "execution": {
     "iopub.execute_input": "2020-10-25T04:55:01.633085Z",
     "iopub.status.busy": "2020-10-25T04:55:01.628807Z",
     "iopub.status.idle": "2020-10-25T04:55:01.639447Z",
     "shell.execute_reply": "2020-10-25T04:55:01.638671Z"
    },
    "papermill": {
     "duration": 0.312974,
     "end_time": "2020-10-25T04:55:01.639624",
     "exception": false,
     "start_time": "2020-10-25T04:55:01.326650",
     "status": "completed"
    },
    "tags": []
   },
   "outputs": [
    {
     "name": "stdout",
     "output_type": "stream",
     "text": [
      "Original:\n",
      "   number\n",
      "0      80\n",
      "1      81\n",
      "2      38\n",
      "3      83\n",
      "4      47\n",
      "\n",
      "After pandas cut:\n",
      "   number       bins\n",
      "0      80   (60, 80]\n",
      "1      81  (80, 100]\n",
      "2      38   (20, 40]\n",
      "3      83  (80, 100]\n",
      "4      47   (40, 60]\n"
     ]
    }
   ],
   "source": [
    "# 138. Separate Elements into Bins\n",
    "\n",
    "df = pd.DataFrame({'number': np.random.randint(1, 100, 5)}) \n",
    "print('Original:')\n",
    "print(df)\n",
    "\n",
    "df['bins'] = pd.cut(x = df['number'], bins = [1, 20, 40, 60, 80, 100]) \n",
    "print('\\nAfter pandas cut:')\n",
    "print(df)"
   ]
  },
  {
   "cell_type": "code",
   "execution_count": 144,
   "metadata": {
    "execution": {
     "iopub.execute_input": "2020-10-25T04:55:02.210125Z",
     "iopub.status.busy": "2020-10-25T04:55:02.209186Z",
     "iopub.status.idle": "2020-10-25T04:55:02.213521Z",
     "shell.execute_reply": "2020-10-25T04:55:02.214180Z"
    },
    "papermill": {
     "duration": 0.295953,
     "end_time": "2020-10-25T04:55:02.214351",
     "exception": false,
     "start_time": "2020-10-25T04:55:01.918398",
     "status": "completed"
    },
    "tags": []
   },
   "outputs": [
    {
     "name": "stdout",
     "output_type": "stream",
     "text": [
      "[3 2 0 1 0 2]\n",
      "['CA' 'MNT' 'NY' 'TO']\n"
     ]
    }
   ],
   "source": [
    "# 139. Encode the object as enumerated or categorical\n",
    "\n",
    "codes, uniques = pd.factorize(['TO', 'NY', 'CA', 'MNT', 'CA', 'NY'], sort = True)\n",
    "\n",
    "print(codes)\n",
    "print(uniques)"
   ]
  },
  {
   "cell_type": "code",
   "execution_count": 145,
   "metadata": {
    "execution": {
     "iopub.execute_input": "2020-10-25T04:55:02.789504Z",
     "iopub.status.busy": "2020-10-25T04:55:02.788689Z",
     "iopub.status.idle": "2020-10-25T04:55:02.811262Z",
     "shell.execute_reply": "2020-10-25T04:55:02.812265Z"
    },
    "papermill": {
     "duration": 0.313945,
     "end_time": "2020-10-25T04:55:02.812525",
     "exception": false,
     "start_time": "2020-10-25T04:55:02.498580",
     "status": "completed"
    },
    "tags": []
   },
   "outputs": [
    {
     "name": "stdout",
     "output_type": "stream",
     "text": [
      "           date           description   spent spentGroup\n",
      "0    08/01/2019  SSV TO:  11686447909    6.00        low\n",
      "1    08/01/2019  GOOGLE *GSUITE_   _V   21.06        low\n",
      "2    08/01/2019  PYT TO:  19764085822   50.00        low\n",
      "3    08/01/2019  PYT TO:  11683291109   53.72        low\n",
      "4    08/01/2019  SEND E-TFR CA***YGw   700.00        low\n",
      "..          ...                   ...     ...        ...\n",
      "110  08/30/2019  AROMA ESPRESSO    _F    2.68        low\n",
      "111  08/30/2019  BAKERY ON THE G   _F   18.00        low\n",
      "112  08/30/2019  SSV TO:  11686447909    6.00        low\n",
      "113  08/30/2019  TD MUTUAL FUNDS       125.00        low\n",
      "114  08/30/2019  MONTHLY ACCOUNT FEE    15.95        low\n",
      "\n",
      "[115 rows x 4 columns]\n"
     ]
    }
   ],
   "source": [
    "# 140. \n",
    "\n",
    "\n",
    "df = pd.read_csv(\"/kaggle/input/rj-sample-datasets/sample-transaction.csv\", names = ['date', 'description', 'spent'])\n",
    "\n",
    "# df\n",
    "\n",
    "bins = np.linspace(min(df['spent']), max(df['spent']), 4)\n",
    "# print(bins)\n",
    "groupNames = [\"low\", \"med\", \"high\"]\n",
    "\n",
    "df['spentGroup'] = pd.cut(df['spent'], bins, labels = groupNames, include_lowest = True)\n",
    "print(df)"
   ]
  },
  {
   "cell_type": "code",
   "execution_count": 146,
   "metadata": {
    "execution": {
     "iopub.execute_input": "2020-10-25T04:55:03.393391Z",
     "iopub.status.busy": "2020-10-25T04:55:03.392288Z",
     "iopub.status.idle": "2020-10-25T04:55:03.398134Z",
     "shell.execute_reply": "2020-10-25T04:55:03.397353Z"
    },
    "papermill": {
     "duration": 0.303454,
     "end_time": "2020-10-25T04:55:03.398264",
     "exception": false,
     "start_time": "2020-10-25T04:55:03.094810",
     "status": "completed"
    },
    "tags": []
   },
   "outputs": [
    {
     "data": {
      "text/html": [
       "<div>\n",
       "<style scoped>\n",
       "    .dataframe tbody tr th:only-of-type {\n",
       "        vertical-align: middle;\n",
       "    }\n",
       "\n",
       "    .dataframe tbody tr th {\n",
       "        vertical-align: top;\n",
       "    }\n",
       "\n",
       "    .dataframe thead th {\n",
       "        text-align: right;\n",
       "    }\n",
       "</style>\n",
       "<table border=\"1\" class=\"dataframe\">\n",
       "  <thead>\n",
       "    <tr style=\"text-align: right;\">\n",
       "      <th></th>\n",
       "      <th>Accuracy</th>\n",
       "    </tr>\n",
       "  </thead>\n",
       "  <tbody>\n",
       "    <tr>\n",
       "      <th>Random Classifier</th>\n",
       "      <td>98.893</td>\n",
       "    </tr>\n",
       "    <tr>\n",
       "      <th>KNN</th>\n",
       "      <td>99.343</td>\n",
       "    </tr>\n",
       "  </tbody>\n",
       "</table>\n",
       "</div>"
      ],
      "text/plain": [
       "                   Accuracy\n",
       "Random Classifier    98.893\n",
       "KNN                  99.343"
      ]
     },
     "execution_count": 146,
     "metadata": {},
     "output_type": "execute_result"
    }
   ],
   "source": [
    "# 141. Simple result table with Pandas\n",
    "\n",
    "results = pd.DataFrame(columns = ['Accuracy'])\n",
    "\n",
    "results.loc['Random Classifier'] = 98.893\n",
    "results.loc['KNN'] = 99.343\n",
    "\n",
    "results"
   ]
  },
  {
   "cell_type": "code",
   "execution_count": 147,
   "metadata": {
    "execution": {
     "iopub.execute_input": "2020-10-25T04:55:03.978520Z",
     "iopub.status.busy": "2020-10-25T04:55:03.977700Z",
     "iopub.status.idle": "2020-10-25T04:55:03.982783Z",
     "shell.execute_reply": "2020-10-25T04:55:03.981697Z"
    },
    "papermill": {
     "duration": 0.301611,
     "end_time": "2020-10-25T04:55:03.982965",
     "exception": false,
     "start_time": "2020-10-25T04:55:03.681354",
     "status": "completed"
    },
    "tags": []
   },
   "outputs": [
    {
     "name": "stdout",
     "output_type": "stream",
     "text": [
      "Original:\n",
      "     order_id  year month   item_type\n",
      "0  LEhOc7XSE0  2020    03         car\n",
      "1  LEhOc7XSE0  2020    03       truck\n",
      "2  LEhOc7XSE0  2020    03        bike\n",
      "3  LEhOc7XSE0  2020    03   insurance\n",
      "4  LEhOc7XSE0  2020    03  inspection\n",
      "5  iXC5AfJMox  2020    04         car\n",
      "6  iXC5AfJMox  2020    04       truck\n",
      "7  iXC5AfJMox  2020    04  inspection\n",
      "8  XpLLAySojz  2020    01        bike\n",
      "\n",
      "After:\n",
      "     order_id  year month   item_type  bike_or_car\n",
      "0  LEhOc7XSE0  2020    03         car         True\n",
      "1  LEhOc7XSE0  2020    03       truck        False\n",
      "2  LEhOc7XSE0  2020    03        bike         True\n",
      "3  LEhOc7XSE0  2020    03   insurance        False\n",
      "4  LEhOc7XSE0  2020    03  inspection        False\n",
      "5  iXC5AfJMox  2020    04         car         True\n",
      "6  iXC5AfJMox  2020    04       truck        False\n",
      "7  iXC5AfJMox  2020    04  inspection        False\n",
      "8  XpLLAySojz  2020    01        bike         True\n"
     ]
    }
   ],
   "source": [
    "# 142. isin with multiple conditions\n",
    "\n",
    "df = pd.DataFrame([\n",
    "        ['LEhOc7XSE0','2020', '03', 'car'],\n",
    "        ['LEhOc7XSE0','2020', '03', 'truck'],\n",
    "        ['LEhOc7XSE0','2020', '03', 'bike'],\n",
    "        ['LEhOc7XSE0','2020', '03', 'insurance'],\n",
    "        ['LEhOc7XSE0','2020', '03', 'inspection'],\n",
    "        ['iXC5AfJMox','2020', '04', 'car'],\n",
    "        ['iXC5AfJMox','2020', '04', 'truck'],\n",
    "        ['iXC5AfJMox','2020', '04', 'inspection'],\n",
    "        ['XpLLAySojz','2020', '01', 'bike'],\n",
    "    ], columns=['order_id','year', 'month', 'item_type'])\n",
    "print('Original:')\n",
    "print(df)\n",
    "\n",
    "df['bike_or_car'] = df['item_type'].isin({'bike', 'car'})\n",
    "print('\\nAfter:')\n",
    "print(df)\n",
    "\n",
    "# source: https://stackoverflow.com/questions/64248872/python-pandas-count-columns-with-multiple-conditions-and-groupby"
   ]
  },
  {
   "cell_type": "code",
   "execution_count": 148,
   "metadata": {
    "execution": {
     "iopub.execute_input": "2020-10-25T04:55:04.549389Z",
     "iopub.status.busy": "2020-10-25T04:55:04.548533Z",
     "iopub.status.idle": "2020-10-25T04:55:04.842171Z",
     "shell.execute_reply": "2020-10-25T04:55:04.841306Z"
    },
    "papermill": {
     "duration": 0.577233,
     "end_time": "2020-10-25T04:55:04.842309",
     "exception": false,
     "start_time": "2020-10-25T04:55:04.265076",
     "status": "completed"
    },
    "tags": []
   },
   "outputs": [
    {
     "name": "stdout",
     "output_type": "stream",
     "text": [
      "   student  science  maths  history\n",
      "0    David       90    100       89\n",
      "20   Kevin       98     97       90\n"
     ]
    }
   ],
   "source": [
    "# 143. String to Pandas with python engine and separator\n",
    "\n",
    "from io import StringIO\n",
    "import pandas as pd\n",
    "\n",
    "data = '''            student       science   maths  history\n",
    "0     David       90          100  89\n",
    "20    Kevin       98          97  90\n",
    "'''\n",
    "df = pd.read_csv(StringIO(data), sep='\\s\\s+', engine='python')\n",
    "\n",
    "print(df)\n",
    "\n",
    "# source: https://stackoverflow.com/questions/64268344/pandas-consolidate-two-rows-in-one"
   ]
  },
  {
   "cell_type": "code",
   "execution_count": 149,
   "metadata": {
    "execution": {
     "iopub.execute_input": "2020-10-25T04:55:05.420266Z",
     "iopub.status.busy": "2020-10-25T04:55:05.414834Z",
     "iopub.status.idle": "2020-10-25T04:55:05.436512Z",
     "shell.execute_reply": "2020-10-25T04:55:05.435830Z"
    },
    "papermill": {
     "duration": 0.307569,
     "end_time": "2020-10-25T04:55:05.436652",
     "exception": false,
     "start_time": "2020-10-25T04:55:05.129083",
     "status": "completed"
    },
    "tags": []
   },
   "outputs": [
    {
     "data": {
      "text/html": [
       "<div>\n",
       "<style scoped>\n",
       "    .dataframe tbody tr th:only-of-type {\n",
       "        vertical-align: middle;\n",
       "    }\n",
       "\n",
       "    .dataframe tbody tr th {\n",
       "        vertical-align: top;\n",
       "    }\n",
       "\n",
       "    .dataframe thead th {\n",
       "        text-align: right;\n",
       "    }\n",
       "</style>\n",
       "<table border=\"1\" class=\"dataframe\">\n",
       "  <thead>\n",
       "    <tr style=\"text-align: right;\">\n",
       "      <th></th>\n",
       "      <th>name</th>\n",
       "      <th>city</th>\n",
       "      <th>count</th>\n",
       "    </tr>\n",
       "  </thead>\n",
       "  <tbody>\n",
       "    <tr>\n",
       "      <th>0</th>\n",
       "      <td>kevin</td>\n",
       "      <td>Toronto</td>\n",
       "      <td>7</td>\n",
       "    </tr>\n",
       "    <tr>\n",
       "      <th>1</th>\n",
       "      <td>james</td>\n",
       "      <td>Montreal</td>\n",
       "      <td>8</td>\n",
       "    </tr>\n",
       "    <tr>\n",
       "      <th>2</th>\n",
       "      <td>kumar</td>\n",
       "      <td>Calgary</td>\n",
       "      <td>9</td>\n",
       "    </tr>\n",
       "    <tr>\n",
       "      <th>3</th>\n",
       "      <td>-</td>\n",
       "      <td>Ottawa</td>\n",
       "      <td>2</td>\n",
       "    </tr>\n",
       "  </tbody>\n",
       "</table>\n",
       "</div>"
      ],
      "text/plain": [
       "    name      city  count\n",
       "0  kevin   Toronto      7\n",
       "1  james  Montreal      8\n",
       "2  kumar   Calgary      9\n",
       "3      -    Ottawa      2"
      ]
     },
     "execution_count": 149,
     "metadata": {},
     "output_type": "execute_result"
    }
   ],
   "source": [
    "# 144.\n",
    "\n",
    "def get_unique_items(df):\n",
    "    \n",
    "    # how many cols are there\n",
    "    cols = df.columns\n",
    "    cols_count = len(df.columns)\n",
    "    # print(cols_count)\n",
    "\n",
    "    unique_max_count = 0\n",
    "    for _col in cols:\n",
    "#         print(_col)\n",
    "        current_col_unique_values = list(df[_col].unique())\n",
    "        list_len = len(current_col_unique_values) \n",
    "        \n",
    "        if(list_len > unique_max_count):\n",
    "            unique_max_count = list_len\n",
    "    \n",
    "    # list of each_cols and unique values\n",
    "    col_unique_values = {}\n",
    "    \n",
    "    for _col in cols:\n",
    "#         print(_col)\n",
    "        current_col_unique_values = list(df[_col].unique())\n",
    "        list_len = len(current_col_unique_values) \n",
    "        \n",
    "        fill_count = 0\n",
    "        if(list_len < unique_max_count):\n",
    "            fill_count = unique_max_count - list_len\n",
    "            \n",
    "            for _ in range(fill_count):\n",
    "                current_col_unique_values.append('-')\n",
    "        \n",
    "        col_unique_values[_col] = current_col_unique_values\n",
    "        \n",
    "    df_new = pd.DataFrame(col_unique_values)\n",
    "    \n",
    "    return df_new\n",
    "\n",
    "users = pd.DataFrame({\n",
    "    \"name\": ['kevin', 'james', 'kumar', 'kevin', 'kevin', 'james'], \n",
    "    \"city\": ['Toronto', 'Montreal', 'Calgary', 'Montreal', 'Montreal', 'Ottawa'],\n",
    "    \"count\" : [7, 8, 9, 2, 7, 8] \n",
    "    \n",
    "}) \n",
    "\n",
    "unique_user_items = get_unique_items(users)\n",
    "\n",
    "unique_user_items"
   ]
  },
  {
   "cell_type": "markdown",
   "metadata": {
    "papermill": {
     "duration": 0.282035,
     "end_time": "2020-10-25T04:55:06.007011",
     "exception": false,
     "start_time": "2020-10-25T04:55:05.724976",
     "status": "completed"
    },
    "tags": []
   },
   "source": [
    "To do:\n",
    "\n",
    "* Clean up some buggy exercises\n",
    "* Remove duplicate exercises\n",
    "* Add more documentation"
   ]
  },
  {
   "cell_type": "markdown",
   "metadata": {
    "papermill": {
     "duration": 0.276647,
     "end_time": "2020-10-25T04:55:06.565263",
     "exception": false,
     "start_time": "2020-10-25T04:55:06.288616",
     "status": "completed"
    },
    "tags": []
   },
   "source": [
    "**Final Notes:**\n",
    "\n",
    "I am adding things still. You can come back and check for more information.\n",
    "\n",
    "Also, if you **like my notebook**, <font style=\"color:blue;size:14px;\">please upvote it</font> as it will motivate me to come up with better approach in the upcoming notebooks."
   ]
  },
  {
   "cell_type": "markdown",
   "metadata": {
    "papermill": {
     "duration": 0.289254,
     "end_time": "2020-10-25T04:55:07.132305",
     "exception": false,
     "start_time": "2020-10-25T04:55:06.843051",
     "status": "completed"
    },
    "tags": []
   },
   "source": [
    "<font color=\"blue\" size=+1.5><b>Check out my other kernels</b></font>\n",
    "\n",
    "<table style=\"font-family: 'Trebuchet MS', Arial, Helvetica, sans-serif;border-collapse: collapse;width: 100%;\">\t\n",
    "  <tr>\n",
    "    <th style=\"border: 1px solid #ddd;padding: 8px; padding-top: 12px;padding-bottom: 12px;text-align: left;background-color: #2987E7;color: white;\">Notebook</th>\n",
    "    <th style=\"border: 1px solid #ddd;padding: 8px; padding-top: 12px;padding-bottom: 12px;text-align: left;background-color: #2987E7;color: white;\">Tags</th>\n",
    "  </tr>\n",
    "  <tr>\n",
    "    <td style=\"text-align: left\"><a href=\"https://www.kaggle.com/rajacsp/reviews-with-nlp-wip\">Amazon Alexa Reviews with NLP</a> </td>\n",
    "    <td style=\"text-align: left\">NLP, Spacy</td>\n",
    "  </tr>\n",
    "  <tr>\n",
    "    <td style=\"text-align: left\"><a href=\"https://www.kaggle.com/rajacsp/sof-questions-eda-and-visual\">SOF Questions - EDA and Visual</a> </td>\n",
    "    <td style=\"text-align: left\">Data Visual, Plotly</td>\n",
    "  </tr>\n",
    "  <tr>\n",
    "    <td style=\"background-color: #f2f2f2;text-align: left\"><a href=\"https://www.kaggle.com/rajacsp/netflix-visualization-plotly-plots-treemap\">Netflix - Visualization, Plotly, Plots, and Treemap</a> </td>\n",
    "    <td style=\"background-color: #f2f2f2;text-align: left\">Data Visual, Data Cleaning, Plotly</td>\n",
    "  </tr>\n",
    "  <tr>\n",
    "    <td style=\"text-align: left\"><a href=\"https://www.kaggle.com/rajacsp/prediction-with-various-algorithms\">Prediction with various Algorithms</a> </td>\n",
    "    <td style=\"text-align: left\">Random Forest, Logistic Regression</td>\n",
    "  </tr>\n",
    "  <tr>\n",
    "    <td style=\"background-color: #f2f2f2;text-align: left\"><a href=\"https://www.kaggle.com/rajacsp/eda-and-visualization\">EDA and Visualization</a> </td>\n",
    "    <td style=\"background-color: #f2f2f2;text-align: left\">Data Cleaning, Data Visual</td>\n",
    "  </tr>\n",
    "  <tr>\n",
    "    <td style=\"text-align: left\"><a href=\"https://www.kaggle.com/rajacsp/job-analysis-eda-visual\">Job Analysis - EDA and Visual</a> </td>\n",
    "    <td style=\"text-align: left\">Data Visual, EDA, Plotly</td>\n",
    "  </tr>   \n",
    "  <tr>\n",
    "    <td style=\"background-color: #f2f2f2;text-align: left\"><a href=\"https://www.kaggle.com/rajacsp/estonia-disaster-visualization\">Estonia Disaster - Visualization</a> </td>\n",
    "    <td style=\"background-color: #f2f2f2;text-align: left\">Data Visual, EDA, Data Cleaning</td>\n",
    "  </tr>\n",
    "    \n",
    "  <tr>\n",
    "    <td style=\"text-align: left\"><a href=\"https://www.kaggle.com/rajacsp/pandas-dundas-challenge-100\" >Pandas 100+ exercises collection</a></td>\n",
    "    <td style=\"text-align: left\">Pandas, Data Manipulation</td>\n",
    "  </tr>   \n",
    "  <tr>\n",
    "    <td style=\"background-color: #f2f2f2;text-align: left\"><a href=\"https://www.kaggle.com/rajacsp/prediction-with-various-algorithms\">Credit Card Fraud - Prediction with various algorithms</a></td>\n",
    "    <td style=\"background-color: #f2f2f2;text-align: left\">Various ML Algorithms</td>\n",
    "  </tr>  \n",
    "  <tr>\n",
    "    <td style=\"text-align: left\"><a href=\"https://www.kaggle.com/rajacsp/linear-equations-real-time\">Linear Equations - Real Time</a> </td>\n",
    "    <td style=\"text-align: left\">Linear Equation</td>\n",
    "  </tr>  \n",
    "</table>\n",
    "\n"
   ]
  }
 ],
 "metadata": {
  "kernelspec": {
   "display_name": "Python 3",
   "language": "python",
   "name": "python3"
  },
  "language_info": {
   "codemirror_mode": {
    "name": "ipython",
    "version": 3
   },
   "file_extension": ".py",
   "mimetype": "text/x-python",
   "name": "python",
   "nbconvert_exporter": "python",
   "pygments_lexer": "ipython3",
   "version": "3.7.6"
  },
  "papermill": {
   "duration": 156.842466,
   "end_time": "2020-10-25T04:55:07.535683",
   "environment_variables": {},
   "exception": null,
   "input_path": "__notebook__.ipynb",
   "output_path": "__notebook__.ipynb",
   "parameters": {},
   "start_time": "2020-10-25T04:52:30.693217",
   "version": "2.1.0"
  }
 },
 "nbformat": 4,
 "nbformat_minor": 4
}
