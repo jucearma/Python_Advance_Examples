{
 "metadata": {
  "language_info": {
   "codemirror_mode": {
    "name": "ipython",
    "version": 3
   },
   "file_extension": ".py",
   "mimetype": "text/x-python",
   "name": "python",
   "nbconvert_exporter": "python",
   "pygments_lexer": "ipython3",
   "version": "3.8.7-final"
  },
  "orig_nbformat": 2,
  "kernelspec": {
   "name": "python3",
   "display_name": "Python 3",
   "language": "python"
  }
 },
 "nbformat": 4,
 "nbformat_minor": 2,
 "cells": [
  {
   "cell_type": "code",
   "execution_count": 11,
   "metadata": {},
   "outputs": [],
   "source": [
    "import numpy as np          #importing numpy\n",
    "import pandas as pd         #importing pandas"
   ]
  },
  {
   "cell_type": "code",
   "execution_count": 3,
   "metadata": {},
   "outputs": [
    {
     "output_type": "stream",
     "name": "stdout",
     "text": [
      "[0 1 2 3]\n<class 'numpy.ndarray'>\n1\n(4,)\n4\n"
     ]
    }
   ],
   "source": [
    "a = np.array([0, 1, 2, 3])         # Create a rank 1 array\n",
    "np.arange(15)               # generate an 1-d array from 0 to 14\n",
    "np.arange(15).reshape(3, 5) # generate array and change dimensions\n",
    "print(a)                    # Print array a\n",
    "print(type(a))              # Type of array a\n",
    "print(a.ndim)               # Dimensions of array a\n",
    "print(a.shape)              # shape(row, column) of array a\n",
    "print(len(a))               # Length of array a"
   ]
  },
  {
   "cell_type": "code",
   "execution_count": 7,
   "metadata": {},
   "outputs": [
    {
     "output_type": "execute_result",
     "data": {
      "text/plain": [
       "array([2, 3, 4])"
      ]
     },
     "metadata": {},
     "execution_count": 7
    }
   ],
   "source": [
    "#np.linespace(0,3,4)  #create 4 equally spaced points 0-3 range inclusively\n",
    "#np.linespace(0,3,4, endpoint=False) # remove endpoint and other equally spaced values.\n",
    "np.random.randint(1,100,6)  #create array of 6 random values in 0-100 range.\n",
    "np.random.randint(1,100,6).reshape(3,2) #reshape the array according to row and column vectors.\n",
    "np.random.rand(4)    #create an array of uniform distribution (0,1)\n",
    "np.eye(3)            #create a 3*3 identity matrix\n",
    "np.zeros(3)          #create array([0,0,0])\n",
    "np.zeros((5,5))      #create a 5*5 2-d array of zeros\n",
    "np.random.randn(2,2) #return standard normal distribution vcenter around zreo.\n",
    "np.empty((2,3))      # uninitialized\n",
    "np.arange(0, 2, 0.3) # from 0 to a number less than 2 with 0.3 intervals\n",
    "np.ones((2,3,4), dtype=np.int16)       # all element are 1\n",
    "np.array([[1,2],[3,4]], dtype=complex) # complex array\n",
    "np.array([(1.5,2,3),(4,5,6)])          # two-dimensional array\n",
    "np.array([2,3,4])                      # one-dimensional array"
   ]
  },
  {
   "source": [
    "Basic Operations of ndarray:"
   ],
   "cell_type": "markdown",
   "metadata": {}
  },
  {
   "cell_type": "code",
   "execution_count": null,
   "metadata": {},
   "outputs": [],
   "source": [
    "A = np.array([[1,1],[0,1]])\n",
    "B = np.array([[2,0],[3,4]])\n",
    "A+B              #addition of two array\n",
    "np.add(A,B)      #addition of two array\n",
    "A * B            # elementwise product\n",
    "A @ B            # matrix product\n",
    "A.dot(B)         # another matrix product\n",
    "B.T              #Transpose of B array\n",
    "A.flatten()      #form 1-d array\n",
    "B < 3            #Boolean of Matrix B. True for elements less than 3\n",
    "A.sum()          # sum of all elements of A\n",
    "A.sum(axis=0)    # sum of each column\n",
    "A.sum(axis=1)    # sum of each row\n",
    "A.cumsum(axis=1) # cumulative sum along each row\n",
    "A.min()          # min value of all elements\n",
    "A.max()          # max value of all elements\n",
    "np.exp(B)        # exponential\n",
    "np.sqrt(B)       # squre root\n",
    "A.argmin()       #position of min value of elements \n",
    "A.argmax()       #position of max value of elements\n",
    "A[1,1]           #member of a array in (1,1) position"
   ]
  },
  {
   "source": [
    "Indexing, Slicing and Iterating in numpy:"
   ],
   "cell_type": "markdown",
   "metadata": {}
  },
  {
   "cell_type": "code",
   "execution_count": null,
   "metadata": {},
   "outputs": [],
   "source": [
    "a = np.arange(4)**3  # create array a\n",
    "a[2]                 # member of a array in 2nd position\n",
    "a[::-1]              # reversed a\n",
    "a[0:4,1]             # each row in the second column of b\n",
    "a[1,...]             # same as a[1,:,:] or a[1]\n",
    "a[a>5]               # a with values greater than 5\n",
    "x = a[0:4]           # assign x with 4 values of a\n",
    "x[:]=99              # change the values of x to 99 which will change the 4 values of a also."
   ]
  },
  {
   "source": [
    "Pandas"
   ],
   "cell_type": "markdown",
   "metadata": {}
  },
  {
   "cell_type": "code",
   "execution_count": 12,
   "metadata": {},
   "outputs": [
    {
     "output_type": "stream",
     "name": "stdout",
     "text": [
      "0    1\n1    3\n2    5\n3    7\n4    9\ndtype: int64\n<class 'pandas.core.series.Series'>\n"
     ]
    }
   ],
   "source": [
    "arr=np.array([1,3,5,7,9])   #create arr array\n",
    "s2=pd.Series(arr)           #create pandas series s2\n",
    "print(s2)                   #print s2\n",
    "print(type(s2))             #print type of s2"
   ]
  },
  {
   "cell_type": "code",
   "execution_count": 14,
   "metadata": {},
   "outputs": [],
   "source": [
    "s4=pd.DataFrame(np.random.randn(20,7), columns=['A','B','C','D','E','F','G'])\n",
    "s4[(5<s4.index) & (s4.index<10)]  # s4 with values that satisfy both conditions \n",
    "s4.head()                 # First five rows of s4\n",
    "s4.tail()                 # Last five rows of s4\n",
    "s4.describe()             # statistical information of data\n",
    "s4['B']                   # data of the 'B' column\n",
    "s4[['B','E']]             # data of the 'B' and 'E' column\n",
    "s4[0:3]                   # data of the 1~3 rows\n",
    "s4.iloc[0:3]              # data of the 1~3 rows\n",
    "s4.loc[[2,3],['A','B']]   # value of row 2,3 column 'A' ,'B'\n",
    "s4[2 < s4]                # s4 with values matching conditions\n",
    "s4.mean()                 # means of each column\n",
    "s4.mean(1)                # mean of each row\n",
    "#s4.drop('A')              # delete row 'A'\n",
    "s4.drop('D',axis=1)       # delete 'D' column\n",
    "s4.drop('D',axis=1, inplace=True) # delete 'D' column permanently\n",
    "s4['H']=np.random.rand(20,1)      # add a new column of same length."
   ]
  },
  {
   "cell_type": "code",
   "execution_count": null,
   "metadata": {},
   "outputs": [],
   "source": [
    "df.reset_index(inplace=True)\n",
    "df.set_index('Name') #index will be 'Name' column but not permanent. \n",
    "df.set_index('Name', inplace=True)#permanent new index 'Name' column"
   ]
  },
  {
   "cell_type": "code",
   "execution_count": null,
   "metadata": {},
   "outputs": [],
   "source": [
    "df.dropna()                  # remove the rows that have Nan value\n",
    "df.dropna(inplace=True)      # remove the Nan value rows parmenently\n",
    "df.dropna(axis=1)            # remove columns that has Nan value\n",
    "df.dropna(axis=1, inplace=True) # remove the Nan valued columns parmanently. \n",
    "df.fillna(value='Arman')     # fill Nan values with 'Arman'.\n",
    "df.fillna(value='Arman', inplace=True) #fill values parmanently.\n",
    "df.fillna(value=df.mean(), inplace=True) #fill Nan value with each column mean value.\n",
    "df['A'].fillna(value=df['A'].mean()) #fill Nan value of column 'A' with its mean."
   ]
  }
 ]
}